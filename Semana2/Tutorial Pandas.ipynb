{
 "cells": [
  {
   "cell_type": "markdown",
   "metadata": {},
   "source": [
    "# Lectura de Archivos de Datos\n",
    "Primeramente obtenemos los archivos .csv mencionados como parte de la actividad. Se usarán más adelante puesto que el comando para leerlos se introduce mucho después del inicio."
   ]
  },
  {
   "cell_type": "code",
   "execution_count": 2,
   "metadata": {},
   "outputs": [],
   "source": [
    "avgtemp2018 = pd.read_csv('avgtemp2018.csv', usecols = (4,5), encoding='latin-1')\n",
    "rains2018 = pd.read_csv('rain2018.csv', usecols = (4,5), encoding='latin-1')\n",
    "\n",
    "avgtemp2019 = pd.read_csv('avgtemp2019.csv', usecols = (4,5), encoding='latin-1')\n",
    "rains2019 = pd.read_csv('rain2019.csv', usecols = (4,5), encoding='latin-1')"
   ]
  },
  {
   "cell_type": "markdown",
   "metadata": {},
   "source": [
    "# Data Manipulation with Pandas\n",
    "Importación y revisión de versión:"
   ]
  },
  {
   "cell_type": "code",
   "execution_count": 3,
   "metadata": {},
   "outputs": [
    {
     "data": {
      "text/plain": [
       "'0.23.4'"
      ]
     },
     "execution_count": 3,
     "metadata": {},
     "output_type": "execute_result"
    }
   ],
   "source": [
    "import pandas\n",
    "pandas.__version__"
   ]
  },
  {
   "cell_type": "code",
   "execution_count": 3,
   "metadata": {},
   "outputs": [],
   "source": [
    "import pandas as pd\n",
    "pd?"
   ]
  },
  {
   "cell_type": "code",
   "execution_count": 4,
   "metadata": {},
   "outputs": [],
   "source": [
    "import numpy as np"
   ]
  },
  {
   "cell_type": "markdown",
   "metadata": {},
   "source": [
    "# Series as generalized numpy array"
   ]
  },
  {
   "cell_type": "code",
   "execution_count": 8,
   "metadata": {},
   "outputs": [
    {
     "data": {
      "text/plain": [
       "0    0.25\n",
       "1    0.50\n",
       "2    0.75\n",
       "3    1.00\n",
       "dtype: float64"
      ]
     },
     "execution_count": 8,
     "metadata": {},
     "output_type": "execute_result"
    }
   ],
   "source": [
    "data = pd.Series([0.25, 0.5, 0.75, 1])\n",
    "data"
   ]
  },
  {
   "cell_type": "code",
   "execution_count": 9,
   "metadata": {},
   "outputs": [
    {
     "data": {
      "text/plain": [
       "array([0.25, 0.5 , 0.75, 1.  ])"
      ]
     },
     "execution_count": 9,
     "metadata": {},
     "output_type": "execute_result"
    }
   ],
   "source": [
    "data.values"
   ]
  },
  {
   "cell_type": "code",
   "execution_count": 10,
   "metadata": {},
   "outputs": [
    {
     "data": {
      "text/plain": [
       "RangeIndex(start=0, stop=4, step=1)"
      ]
     },
     "execution_count": 10,
     "metadata": {},
     "output_type": "execute_result"
    }
   ],
   "source": [
    "data.index"
   ]
  },
  {
   "cell_type": "code",
   "execution_count": 11,
   "metadata": {},
   "outputs": [
    {
     "data": {
      "text/plain": [
       "0      0\n",
       "1      1\n",
       "2      2\n",
       "3      3\n",
       "4      4\n",
       "5      5\n",
       "6      6\n",
       "7      7\n",
       "8      8\n",
       "9      9\n",
       "10    10\n",
       "dtype: int64"
      ]
     },
     "execution_count": 11,
     "metadata": {},
     "output_type": "execute_result"
    }
   ],
   "source": [
    "data2 = pd.Series([0, 1, 2, 3, 4, 5, 6, 7, 8, 9, 10])\n",
    "data2"
   ]
  },
  {
   "cell_type": "code",
   "execution_count": 12,
   "metadata": {},
   "outputs": [
    {
     "data": {
      "text/plain": [
       "array([ 0,  1,  2,  3,  4,  5,  6,  7,  8,  9, 10], dtype=int64)"
      ]
     },
     "execution_count": 12,
     "metadata": {},
     "output_type": "execute_result"
    }
   ],
   "source": [
    "data2.values"
   ]
  },
  {
   "cell_type": "code",
   "execution_count": 13,
   "metadata": {},
   "outputs": [
    {
     "data": {
      "text/plain": [
       "RangeIndex(start=0, stop=11, step=1)"
      ]
     },
     "execution_count": 13,
     "metadata": {},
     "output_type": "execute_result"
    }
   ],
   "source": [
    "data2.index"
   ]
  },
  {
   "cell_type": "code",
   "execution_count": 14,
   "metadata": {},
   "outputs": [
    {
     "data": {
      "text/plain": [
       "0.25"
      ]
     },
     "execution_count": 14,
     "metadata": {},
     "output_type": "execute_result"
    }
   ],
   "source": [
    "data[0]"
   ]
  },
  {
   "cell_type": "code",
   "execution_count": 15,
   "metadata": {},
   "outputs": [
    {
     "data": {
      "text/plain": [
       "4"
      ]
     },
     "execution_count": 15,
     "metadata": {},
     "output_type": "execute_result"
    }
   ],
   "source": [
    "data2[4]"
   ]
  },
  {
   "cell_type": "code",
   "execution_count": 19,
   "metadata": {},
   "outputs": [
    {
     "data": {
      "text/plain": [
       "1    0.50\n",
       "2    0.75\n",
       "dtype: float64"
      ]
     },
     "execution_count": 19,
     "metadata": {},
     "output_type": "execute_result"
    }
   ],
   "source": [
    "data[1:3]"
   ]
  },
  {
   "cell_type": "code",
   "execution_count": 20,
   "metadata": {},
   "outputs": [
    {
     "data": {
      "text/plain": [
       "a    0.25\n",
       "b    0.50\n",
       "c    0.75\n",
       "d    1.00\n",
       "dtype: float64"
      ]
     },
     "execution_count": 20,
     "metadata": {},
     "output_type": "execute_result"
    }
   ],
   "source": [
    "data = pd.Series([0.25, 0.5, 0.75, 1.0], index=['a', 'b', 'c', 'd'])\n",
    "data"
   ]
  },
  {
   "cell_type": "code",
   "execution_count": 21,
   "metadata": {},
   "outputs": [
    {
     "data": {
      "text/plain": [
       "0.25"
      ]
     },
     "execution_count": 21,
     "metadata": {},
     "output_type": "execute_result"
    }
   ],
   "source": [
    "data['a']"
   ]
  },
  {
   "cell_type": "code",
   "execution_count": 22,
   "metadata": {},
   "outputs": [
    {
     "data": {
      "text/plain": [
       "0.5"
      ]
     },
     "execution_count": 22,
     "metadata": {},
     "output_type": "execute_result"
    }
   ],
   "source": [
    "data['b']"
   ]
  },
  {
   "cell_type": "code",
   "execution_count": 23,
   "metadata": {},
   "outputs": [
    {
     "data": {
      "text/plain": [
       "2    0.25\n",
       "5    0.50\n",
       "3    0.75\n",
       "7    1.00\n",
       "dtype: float64"
      ]
     },
     "execution_count": 23,
     "metadata": {},
     "output_type": "execute_result"
    }
   ],
   "source": [
    "data = pd.Series([0.25, 0.5, 0.75, 1.0], index=[2, 5, 3, 7])\n",
    "data"
   ]
  },
  {
   "cell_type": "code",
   "execution_count": 25,
   "metadata": {},
   "outputs": [
    {
     "data": {
      "text/plain": [
       "0.25"
      ]
     },
     "execution_count": 25,
     "metadata": {},
     "output_type": "execute_result"
    }
   ],
   "source": [
    "data[2]"
   ]
  },
  {
   "cell_type": "markdown",
   "metadata": {},
   "source": [
    "# Series as specialized dictionary"
   ]
  },
  {
   "cell_type": "code",
   "execution_count": 52,
   "metadata": {},
   "outputs": [
    {
     "data": {
      "text/plain": [
       "Aguascalientes     14.02\n",
       "Baja California    16.69\n",
       "Campeche           23.37\n",
       "Chihuahua          11.68\n",
       "Durango            11.84\n",
       "dtype: float64"
      ]
     },
     "execution_count": 52,
     "metadata": {},
     "output_type": "execute_result"
    }
   ],
   "source": [
    "tempDictionary = {'Aguascalientes': 14.02,\n",
    "        'Baja California': 16.69,\n",
    "        'Campeche': 23.37,\n",
    "        'Chihuahua': 11.68,\n",
    "        'Durango': 11.84}\n",
    "temp = pd.Series(tempDictionary)\n",
    "temp"
   ]
  },
  {
   "cell_type": "code",
   "execution_count": 53,
   "metadata": {},
   "outputs": [
    {
     "data": {
      "text/plain": [
       "14.02"
      ]
     },
     "execution_count": 53,
     "metadata": {},
     "output_type": "execute_result"
    }
   ],
   "source": [
    "temp['Aguascalientes']"
   ]
  },
  {
   "cell_type": "code",
   "execution_count": 57,
   "metadata": {},
   "outputs": [
    {
     "data": {
      "text/plain": [
       "Aguascalientes     14.02\n",
       "Baja California    16.69\n",
       "Campeche           23.37\n",
       "Chihuahua          11.68\n",
       "Durango            11.84\n",
       "dtype: float64"
      ]
     },
     "execution_count": 57,
     "metadata": {},
     "output_type": "execute_result"
    }
   ],
   "source": [
    "temp['Aguascalientes':'Durango']"
   ]
  },
  {
   "cell_type": "markdown",
   "metadata": {},
   "source": [
    "# Constructing Series Objects\n",
    "Hay diversas maneras de construir un objeto Series:"
   ]
  },
  {
   "cell_type": "code",
   "execution_count": 44,
   "metadata": {},
   "outputs": [
    {
     "data": {
      "text/plain": [
       "0    1\n",
       "1    2\n",
       "2    3\n",
       "dtype: int64"
      ]
     },
     "execution_count": 44,
     "metadata": {},
     "output_type": "execute_result"
    }
   ],
   "source": [
    "pd.Series([1, 2, 3])"
   ]
  },
  {
   "cell_type": "code",
   "execution_count": 45,
   "metadata": {},
   "outputs": [
    {
     "data": {
      "text/plain": [
       "100    repeat\n",
       "200    repeat\n",
       "300    repeat\n",
       "dtype: object"
      ]
     },
     "execution_count": 45,
     "metadata": {},
     "output_type": "execute_result"
    }
   ],
   "source": [
    "pd.Series('repeat', index = [100, 200, 300])"
   ]
  },
  {
   "cell_type": "code",
   "execution_count": 46,
   "metadata": {},
   "outputs": [
    {
     "data": {
      "text/plain": [
       "a    1\n",
       "b    2\n",
       "c    3\n",
       "dtype: int64"
      ]
     },
     "execution_count": 46,
     "metadata": {},
     "output_type": "execute_result"
    }
   ],
   "source": [
    "pd.Series({'a':1, 'b':2, 'c':3})"
   ]
  },
  {
   "cell_type": "code",
   "execution_count": 50,
   "metadata": {},
   "outputs": [
    {
     "data": {
      "text/plain": [
       "b    2\n",
       "c    3\n",
       "a    1\n",
       "dtype: int64"
      ]
     },
     "execution_count": 50,
     "metadata": {},
     "output_type": "execute_result"
    }
   ],
   "source": [
    "pd.Series({'a':1, 'b':2, 'c':3}, index = ['b', 'c', 'a'])"
   ]
  },
  {
   "cell_type": "markdown",
   "metadata": {},
   "source": [
    "# The Pandas DataFrame Object"
   ]
  },
  {
   "cell_type": "code",
   "execution_count": 59,
   "metadata": {},
   "outputs": [
    {
     "data": {
      "text/plain": [
       "Aguascalientes      6.61\n",
       "Baja California    18.82\n",
       "Campeche           54.00\n",
       "Chihuahua          20.00\n",
       "Durango             1.81\n",
       "dtype: float64"
      ]
     },
     "execution_count": 59,
     "metadata": {},
     "output_type": "execute_result"
    }
   ],
   "source": [
    "rainDict = {'Aguascalientes': 6.61, 'Baja California': 18.82, 'Campeche': 54, 'Chihuahua': 20, 'Durango': 1.81}\n",
    "rain = pd.Series(rainDict)\n",
    "rain"
   ]
  },
  {
   "cell_type": "code",
   "execution_count": 60,
   "metadata": {},
   "outputs": [
    {
     "data": {
      "text/html": [
       "<div>\n",
       "<style scoped>\n",
       "    .dataframe tbody tr th:only-of-type {\n",
       "        vertical-align: middle;\n",
       "    }\n",
       "\n",
       "    .dataframe tbody tr th {\n",
       "        vertical-align: top;\n",
       "    }\n",
       "\n",
       "    .dataframe thead th {\n",
       "        text-align: right;\n",
       "    }\n",
       "</style>\n",
       "<table border=\"1\" class=\"dataframe\">\n",
       "  <thead>\n",
       "    <tr style=\"text-align: right;\">\n",
       "      <th></th>\n",
       "      <th>Rain</th>\n",
       "      <th>Temperature</th>\n",
       "    </tr>\n",
       "  </thead>\n",
       "  <tbody>\n",
       "    <tr>\n",
       "      <th>Aguascalientes</th>\n",
       "      <td>6.61</td>\n",
       "      <td>14.02</td>\n",
       "    </tr>\n",
       "    <tr>\n",
       "      <th>Baja California</th>\n",
       "      <td>18.82</td>\n",
       "      <td>16.69</td>\n",
       "    </tr>\n",
       "    <tr>\n",
       "      <th>Campeche</th>\n",
       "      <td>54.00</td>\n",
       "      <td>23.37</td>\n",
       "    </tr>\n",
       "    <tr>\n",
       "      <th>Chihuahua</th>\n",
       "      <td>20.00</td>\n",
       "      <td>11.68</td>\n",
       "    </tr>\n",
       "    <tr>\n",
       "      <th>Durango</th>\n",
       "      <td>1.81</td>\n",
       "      <td>11.84</td>\n",
       "    </tr>\n",
       "  </tbody>\n",
       "</table>\n",
       "</div>"
      ],
      "text/plain": [
       "                  Rain  Temperature\n",
       "Aguascalientes    6.61        14.02\n",
       "Baja California  18.82        16.69\n",
       "Campeche         54.00        23.37\n",
       "Chihuahua        20.00        11.68\n",
       "Durango           1.81        11.84"
      ]
     },
     "execution_count": 60,
     "metadata": {},
     "output_type": "execute_result"
    }
   ],
   "source": [
    "states = pd.DataFrame({'Rain': rain, 'Temperature': temp})\n",
    "states"
   ]
  },
  {
   "cell_type": "code",
   "execution_count": 61,
   "metadata": {},
   "outputs": [
    {
     "data": {
      "text/plain": [
       "Index(['Aguascalientes', 'Baja California', 'Campeche', 'Chihuahua',\n",
       "       'Durango'],\n",
       "      dtype='object')"
      ]
     },
     "execution_count": 61,
     "metadata": {},
     "output_type": "execute_result"
    }
   ],
   "source": [
    "states.index"
   ]
  },
  {
   "cell_type": "code",
   "execution_count": 62,
   "metadata": {},
   "outputs": [
    {
     "data": {
      "text/plain": [
       "Index(['Rain', 'Temperature'], dtype='object')"
      ]
     },
     "execution_count": 62,
     "metadata": {},
     "output_type": "execute_result"
    }
   ],
   "source": [
    "states.columns"
   ]
  },
  {
   "cell_type": "markdown",
   "metadata": {},
   "source": [
    "# DataFrame as a Specialized Dictionary "
   ]
  },
  {
   "cell_type": "code",
   "execution_count": 63,
   "metadata": {},
   "outputs": [
    {
     "data": {
      "text/plain": [
       "Aguascalientes      6.61\n",
       "Baja California    18.82\n",
       "Campeche           54.00\n",
       "Chihuahua          20.00\n",
       "Durango             1.81\n",
       "Name: Rain, dtype: float64"
      ]
     },
     "execution_count": 63,
     "metadata": {},
     "output_type": "execute_result"
    }
   ],
   "source": [
    "states['Rain']"
   ]
  },
  {
   "cell_type": "markdown",
   "metadata": {},
   "source": [
    "# Constructing DataFrame Objects\n",
    "Existen distintas formas de construir un objeto DataFrame:"
   ]
  },
  {
   "cell_type": "code",
   "execution_count": 65,
   "metadata": {},
   "outputs": [
    {
     "data": {
      "text/html": [
       "<div>\n",
       "<style scoped>\n",
       "    .dataframe tbody tr th:only-of-type {\n",
       "        vertical-align: middle;\n",
       "    }\n",
       "\n",
       "    .dataframe tbody tr th {\n",
       "        vertical-align: top;\n",
       "    }\n",
       "\n",
       "    .dataframe thead th {\n",
       "        text-align: right;\n",
       "    }\n",
       "</style>\n",
       "<table border=\"1\" class=\"dataframe\">\n",
       "  <thead>\n",
       "    <tr style=\"text-align: right;\">\n",
       "      <th></th>\n",
       "      <th>Rain</th>\n",
       "    </tr>\n",
       "  </thead>\n",
       "  <tbody>\n",
       "    <tr>\n",
       "      <th>Aguascalientes</th>\n",
       "      <td>6.61</td>\n",
       "    </tr>\n",
       "    <tr>\n",
       "      <th>Baja California</th>\n",
       "      <td>18.82</td>\n",
       "    </tr>\n",
       "    <tr>\n",
       "      <th>Campeche</th>\n",
       "      <td>54.00</td>\n",
       "    </tr>\n",
       "    <tr>\n",
       "      <th>Chihuahua</th>\n",
       "      <td>20.00</td>\n",
       "    </tr>\n",
       "    <tr>\n",
       "      <th>Durango</th>\n",
       "      <td>1.81</td>\n",
       "    </tr>\n",
       "  </tbody>\n",
       "</table>\n",
       "</div>"
      ],
      "text/plain": [
       "                  Rain\n",
       "Aguascalientes    6.61\n",
       "Baja California  18.82\n",
       "Campeche         54.00\n",
       "Chihuahua        20.00\n",
       "Durango           1.81"
      ]
     },
     "execution_count": 65,
     "metadata": {},
     "output_type": "execute_result"
    }
   ],
   "source": [
    "pd.DataFrame(rain, columns = ['Rain'])"
   ]
  },
  {
   "cell_type": "code",
   "execution_count": 68,
   "metadata": {},
   "outputs": [
    {
     "data": {
      "text/html": [
       "<div>\n",
       "<style scoped>\n",
       "    .dataframe tbody tr th:only-of-type {\n",
       "        vertical-align: middle;\n",
       "    }\n",
       "\n",
       "    .dataframe tbody tr th {\n",
       "        vertical-align: top;\n",
       "    }\n",
       "\n",
       "    .dataframe thead th {\n",
       "        text-align: right;\n",
       "    }\n",
       "</style>\n",
       "<table border=\"1\" class=\"dataframe\">\n",
       "  <thead>\n",
       "    <tr style=\"text-align: right;\">\n",
       "      <th></th>\n",
       "      <th>a</th>\n",
       "      <th>b</th>\n",
       "    </tr>\n",
       "  </thead>\n",
       "  <tbody>\n",
       "    <tr>\n",
       "      <th>0</th>\n",
       "      <td>-2</td>\n",
       "      <td>-1</td>\n",
       "    </tr>\n",
       "    <tr>\n",
       "      <th>1</th>\n",
       "      <td>-1</td>\n",
       "      <td>0</td>\n",
       "    </tr>\n",
       "    <tr>\n",
       "      <th>2</th>\n",
       "      <td>0</td>\n",
       "      <td>3</td>\n",
       "    </tr>\n",
       "    <tr>\n",
       "      <th>3</th>\n",
       "      <td>1</td>\n",
       "      <td>8</td>\n",
       "    </tr>\n",
       "  </tbody>\n",
       "</table>\n",
       "</div>"
      ],
      "text/plain": [
       "   a  b\n",
       "0 -2 -1\n",
       "1 -1  0\n",
       "2  0  3\n",
       "3  1  8"
      ]
     },
     "execution_count": 68,
     "metadata": {},
     "output_type": "execute_result"
    }
   ],
   "source": [
    "data = [{'a': i - 2, 'b': i * i - 1}\n",
    "        for i in range(4)]\n",
    "pd.DataFrame(data)"
   ]
  },
  {
   "cell_type": "code",
   "execution_count": 69,
   "metadata": {},
   "outputs": [
    {
     "data": {
      "text/html": [
       "<div>\n",
       "<style scoped>\n",
       "    .dataframe tbody tr th:only-of-type {\n",
       "        vertical-align: middle;\n",
       "    }\n",
       "\n",
       "    .dataframe tbody tr th {\n",
       "        vertical-align: top;\n",
       "    }\n",
       "\n",
       "    .dataframe thead th {\n",
       "        text-align: right;\n",
       "    }\n",
       "</style>\n",
       "<table border=\"1\" class=\"dataframe\">\n",
       "  <thead>\n",
       "    <tr style=\"text-align: right;\">\n",
       "      <th></th>\n",
       "      <th>a</th>\n",
       "      <th>b</th>\n",
       "      <th>c</th>\n",
       "    </tr>\n",
       "  </thead>\n",
       "  <tbody>\n",
       "    <tr>\n",
       "      <th>0</th>\n",
       "      <td>1.0</td>\n",
       "      <td>2</td>\n",
       "      <td>NaN</td>\n",
       "    </tr>\n",
       "    <tr>\n",
       "      <th>1</th>\n",
       "      <td>NaN</td>\n",
       "      <td>3</td>\n",
       "      <td>4.0</td>\n",
       "    </tr>\n",
       "  </tbody>\n",
       "</table>\n",
       "</div>"
      ],
      "text/plain": [
       "     a  b    c\n",
       "0  1.0  2  NaN\n",
       "1  NaN  3  4.0"
      ]
     },
     "execution_count": 69,
     "metadata": {},
     "output_type": "execute_result"
    }
   ],
   "source": [
    "pd.DataFrame([{'a': 1, 'b': 2}, {'b': 3, 'c': 4}])"
   ]
  },
  {
   "cell_type": "code",
   "execution_count": 70,
   "metadata": {},
   "outputs": [
    {
     "data": {
      "text/html": [
       "<div>\n",
       "<style scoped>\n",
       "    .dataframe tbody tr th:only-of-type {\n",
       "        vertical-align: middle;\n",
       "    }\n",
       "\n",
       "    .dataframe tbody tr th {\n",
       "        vertical-align: top;\n",
       "    }\n",
       "\n",
       "    .dataframe thead th {\n",
       "        text-align: right;\n",
       "    }\n",
       "</style>\n",
       "<table border=\"1\" class=\"dataframe\">\n",
       "  <thead>\n",
       "    <tr style=\"text-align: right;\">\n",
       "      <th></th>\n",
       "      <th>Rain</th>\n",
       "      <th>Temperature</th>\n",
       "    </tr>\n",
       "  </thead>\n",
       "  <tbody>\n",
       "    <tr>\n",
       "      <th>Aguascalientes</th>\n",
       "      <td>6.61</td>\n",
       "      <td>14.02</td>\n",
       "    </tr>\n",
       "    <tr>\n",
       "      <th>Baja California</th>\n",
       "      <td>18.82</td>\n",
       "      <td>16.69</td>\n",
       "    </tr>\n",
       "    <tr>\n",
       "      <th>Campeche</th>\n",
       "      <td>54.00</td>\n",
       "      <td>23.37</td>\n",
       "    </tr>\n",
       "    <tr>\n",
       "      <th>Chihuahua</th>\n",
       "      <td>20.00</td>\n",
       "      <td>11.68</td>\n",
       "    </tr>\n",
       "    <tr>\n",
       "      <th>Durango</th>\n",
       "      <td>1.81</td>\n",
       "      <td>11.84</td>\n",
       "    </tr>\n",
       "  </tbody>\n",
       "</table>\n",
       "</div>"
      ],
      "text/plain": [
       "                  Rain  Temperature\n",
       "Aguascalientes    6.61        14.02\n",
       "Baja California  18.82        16.69\n",
       "Campeche         54.00        23.37\n",
       "Chihuahua        20.00        11.68\n",
       "Durango           1.81        11.84"
      ]
     },
     "execution_count": 70,
     "metadata": {},
     "output_type": "execute_result"
    }
   ],
   "source": [
    "pd.DataFrame({'Rain': rain, 'Temperature': temp})"
   ]
  },
  {
   "cell_type": "code",
   "execution_count": 73,
   "metadata": {},
   "outputs": [
    {
     "data": {
      "text/html": [
       "<div>\n",
       "<style scoped>\n",
       "    .dataframe tbody tr th:only-of-type {\n",
       "        vertical-align: middle;\n",
       "    }\n",
       "\n",
       "    .dataframe tbody tr th {\n",
       "        vertical-align: top;\n",
       "    }\n",
       "\n",
       "    .dataframe thead th {\n",
       "        text-align: right;\n",
       "    }\n",
       "</style>\n",
       "<table border=\"1\" class=\"dataframe\">\n",
       "  <thead>\n",
       "    <tr style=\"text-align: right;\">\n",
       "      <th></th>\n",
       "      <th>Cool Column</th>\n",
       "      <th>Cooler Column</th>\n",
       "    </tr>\n",
       "  </thead>\n",
       "  <tbody>\n",
       "    <tr>\n",
       "      <th>0</th>\n",
       "      <td>0.859937</td>\n",
       "      <td>0.115785</td>\n",
       "    </tr>\n",
       "    <tr>\n",
       "      <th>1</th>\n",
       "      <td>0.095570</td>\n",
       "      <td>0.289857</td>\n",
       "    </tr>\n",
       "    <tr>\n",
       "      <th>2</th>\n",
       "      <td>0.875592</td>\n",
       "      <td>0.222268</td>\n",
       "    </tr>\n",
       "  </tbody>\n",
       "</table>\n",
       "</div>"
      ],
      "text/plain": [
       "   Cool Column  Cooler Column\n",
       "0     0.859937       0.115785\n",
       "1     0.095570       0.289857\n",
       "2     0.875592       0.222268"
      ]
     },
     "execution_count": 73,
     "metadata": {},
     "output_type": "execute_result"
    }
   ],
   "source": [
    "pd.DataFrame(np.random.rand(3, 2),\n",
    "             columns=['Cool Column', 'Cooler Column'])"
   ]
  },
  {
   "cell_type": "code",
   "execution_count": 75,
   "metadata": {},
   "outputs": [
    {
     "data": {
      "text/html": [
       "<div>\n",
       "<style scoped>\n",
       "    .dataframe tbody tr th:only-of-type {\n",
       "        vertical-align: middle;\n",
       "    }\n",
       "\n",
       "    .dataframe tbody tr th {\n",
       "        vertical-align: top;\n",
       "    }\n",
       "\n",
       "    .dataframe thead th {\n",
       "        text-align: right;\n",
       "    }\n",
       "</style>\n",
       "<table border=\"1\" class=\"dataframe\">\n",
       "  <thead>\n",
       "    <tr style=\"text-align: right;\">\n",
       "      <th></th>\n",
       "      <th>Cool Column</th>\n",
       "      <th>Cooler Column</th>\n",
       "    </tr>\n",
       "  </thead>\n",
       "  <tbody>\n",
       "    <tr>\n",
       "      <th>A</th>\n",
       "      <td>0.672540</td>\n",
       "      <td>0.429434</td>\n",
       "    </tr>\n",
       "    <tr>\n",
       "      <th>B</th>\n",
       "      <td>0.133868</td>\n",
       "      <td>0.499931</td>\n",
       "    </tr>\n",
       "    <tr>\n",
       "      <th>C</th>\n",
       "      <td>0.914388</td>\n",
       "      <td>0.128717</td>\n",
       "    </tr>\n",
       "  </tbody>\n",
       "</table>\n",
       "</div>"
      ],
      "text/plain": [
       "   Cool Column  Cooler Column\n",
       "A     0.672540       0.429434\n",
       "B     0.133868       0.499931\n",
       "C     0.914388       0.128717"
      ]
     },
     "execution_count": 75,
     "metadata": {},
     "output_type": "execute_result"
    }
   ],
   "source": [
    "pd.DataFrame(np.random.rand(3, 2),\n",
    "             columns=['Cool Column', 'Cooler Column'],\n",
    "             index=['A', 'B', 'C'])"
   ]
  },
  {
   "cell_type": "code",
   "execution_count": 81,
   "metadata": {},
   "outputs": [
    {
     "data": {
      "text/plain": [
       "array([(0, 0.), (0, 0.), (0, 0.), (0, 0.)],\n",
       "      dtype=[('A', '<i8'), ('B', '<f8')])"
      ]
     },
     "execution_count": 81,
     "metadata": {},
     "output_type": "execute_result"
    }
   ],
   "source": [
    "A = np.zeros(4, dtype=[('A', 'i8'), ('B', 'f8')])\n",
    "A"
   ]
  },
  {
   "cell_type": "code",
   "execution_count": 82,
   "metadata": {},
   "outputs": [
    {
     "data": {
      "text/html": [
       "<div>\n",
       "<style scoped>\n",
       "    .dataframe tbody tr th:only-of-type {\n",
       "        vertical-align: middle;\n",
       "    }\n",
       "\n",
       "    .dataframe tbody tr th {\n",
       "        vertical-align: top;\n",
       "    }\n",
       "\n",
       "    .dataframe thead th {\n",
       "        text-align: right;\n",
       "    }\n",
       "</style>\n",
       "<table border=\"1\" class=\"dataframe\">\n",
       "  <thead>\n",
       "    <tr style=\"text-align: right;\">\n",
       "      <th></th>\n",
       "      <th>A</th>\n",
       "      <th>B</th>\n",
       "    </tr>\n",
       "  </thead>\n",
       "  <tbody>\n",
       "    <tr>\n",
       "      <th>0</th>\n",
       "      <td>0</td>\n",
       "      <td>0.0</td>\n",
       "    </tr>\n",
       "    <tr>\n",
       "      <th>1</th>\n",
       "      <td>0</td>\n",
       "      <td>0.0</td>\n",
       "    </tr>\n",
       "    <tr>\n",
       "      <th>2</th>\n",
       "      <td>0</td>\n",
       "      <td>0.0</td>\n",
       "    </tr>\n",
       "    <tr>\n",
       "      <th>3</th>\n",
       "      <td>0</td>\n",
       "      <td>0.0</td>\n",
       "    </tr>\n",
       "  </tbody>\n",
       "</table>\n",
       "</div>"
      ],
      "text/plain": [
       "   A    B\n",
       "0  0  0.0\n",
       "1  0  0.0\n",
       "2  0  0.0\n",
       "3  0  0.0"
      ]
     },
     "execution_count": 82,
     "metadata": {},
     "output_type": "execute_result"
    }
   ],
   "source": [
    "pd.DataFrame(A)"
   ]
  },
  {
   "cell_type": "markdown",
   "metadata": {},
   "source": [
    "# The Pandas Index Object\n"
   ]
  },
  {
   "cell_type": "code",
   "execution_count": 85,
   "metadata": {},
   "outputs": [
    {
     "data": {
      "text/plain": [
       "Int64Index([1, 2, 3, 4, 5], dtype='int64')"
      ]
     },
     "execution_count": 85,
     "metadata": {},
     "output_type": "execute_result"
    }
   ],
   "source": [
    "i = pd.Index([1, 2, 3, 4, 5])\n",
    "i"
   ]
  },
  {
   "cell_type": "markdown",
   "metadata": {},
   "source": [
    "# Index as immutable array"
   ]
  },
  {
   "cell_type": "code",
   "execution_count": 86,
   "metadata": {},
   "outputs": [
    {
     "data": {
      "text/plain": [
       "1"
      ]
     },
     "execution_count": 86,
     "metadata": {},
     "output_type": "execute_result"
    }
   ],
   "source": [
    "i[0]"
   ]
  },
  {
   "cell_type": "code",
   "execution_count": 88,
   "metadata": {},
   "outputs": [
    {
     "data": {
      "text/plain": [
       "5"
      ]
     },
     "execution_count": 88,
     "metadata": {},
     "output_type": "execute_result"
    }
   ],
   "source": [
    "i[4]"
   ]
  },
  {
   "cell_type": "code",
   "execution_count": 94,
   "metadata": {},
   "outputs": [
    {
     "data": {
      "text/plain": [
       "Int64Index([1, 3, 5], dtype='int64')"
      ]
     },
     "execution_count": 94,
     "metadata": {},
     "output_type": "execute_result"
    }
   ],
   "source": [
    "i[::2]"
   ]
  },
  {
   "cell_type": "code",
   "execution_count": 95,
   "metadata": {},
   "outputs": [
    {
     "data": {
      "text/plain": [
       "Int64Index([1, 4], dtype='int64')"
      ]
     },
     "execution_count": 95,
     "metadata": {},
     "output_type": "execute_result"
    }
   ],
   "source": [
    "i[::3]"
   ]
  },
  {
   "cell_type": "code",
   "execution_count": 96,
   "metadata": {},
   "outputs": [
    {
     "name": "stdout",
     "output_type": "stream",
     "text": [
      "5 (5,) 1 int64\n"
     ]
    }
   ],
   "source": [
    "print(i.size, i.shape, i.ndim, i.dtype)"
   ]
  },
  {
   "cell_type": "markdown",
   "metadata": {},
   "source": [
    "La diferencia entre un objeto _Index_ y los arreglos de NumPy es que los índices son inmutables, por lo cual no es válida la sentencia (por ejemplo):"
   ]
  },
  {
   "cell_type": "raw",
   "metadata": {},
   "source": [
    "i[0] = 3"
   ]
  },
  {
   "cell_type": "markdown",
   "metadata": {},
   "source": [
    "# Index as ordered set"
   ]
  },
  {
   "cell_type": "code",
   "execution_count": 102,
   "metadata": {},
   "outputs": [],
   "source": [
    "indA = pd.Index([1, 3, 5, 7, 9, 10])\n",
    "indB = pd.Index([2, 3, 5, 7, 11])"
   ]
  },
  {
   "cell_type": "code",
   "execution_count": 103,
   "metadata": {},
   "outputs": [
    {
     "data": {
      "text/plain": [
       "Int64Index([3, 5, 7], dtype='int64')"
      ]
     },
     "execution_count": 103,
     "metadata": {},
     "output_type": "execute_result"
    }
   ],
   "source": [
    "#Intersección\n",
    "indA & indB"
   ]
  },
  {
   "cell_type": "code",
   "execution_count": 104,
   "metadata": {},
   "outputs": [
    {
     "data": {
      "text/plain": [
       "Int64Index([1, 2, 3, 5, 7, 9, 10, 11], dtype='int64')"
      ]
     },
     "execution_count": 104,
     "metadata": {},
     "output_type": "execute_result"
    }
   ],
   "source": [
    "#Unión\n",
    "indA | indB"
   ]
  },
  {
   "cell_type": "code",
   "execution_count": 105,
   "metadata": {},
   "outputs": [
    {
     "data": {
      "text/plain": [
       "Int64Index([1, 2, 9, 10, 11], dtype='int64')"
      ]
     },
     "execution_count": 105,
     "metadata": {},
     "output_type": "execute_result"
    }
   ],
   "source": [
    "#Diferencia Simétrica\n",
    "indA ^ indB"
   ]
  },
  {
   "cell_type": "markdown",
   "metadata": {},
   "source": [
    "# Data Indexing and Selection\n",
    "Data selection in Series: Series as dictionary"
   ]
  },
  {
   "cell_type": "code",
   "execution_count": 106,
   "metadata": {},
   "outputs": [
    {
     "data": {
      "text/plain": [
       "a    0.25\n",
       "b    0.50\n",
       "c    0.75\n",
       "d    1.00\n",
       "dtype: float64"
      ]
     },
     "execution_count": 106,
     "metadata": {},
     "output_type": "execute_result"
    }
   ],
   "source": [
    "data = pd.Series([0.25, 0.5, 0.75, 1.0], index=['a', 'b', 'c', 'd'])\n",
    "data"
   ]
  },
  {
   "cell_type": "code",
   "execution_count": 107,
   "metadata": {},
   "outputs": [
    {
     "data": {
      "text/plain": [
       "0.25"
      ]
     },
     "execution_count": 107,
     "metadata": {},
     "output_type": "execute_result"
    }
   ],
   "source": [
    "data['a']"
   ]
  },
  {
   "cell_type": "code",
   "execution_count": 108,
   "metadata": {},
   "outputs": [
    {
     "data": {
      "text/plain": [
       "0.75"
      ]
     },
     "execution_count": 108,
     "metadata": {},
     "output_type": "execute_result"
    }
   ],
   "source": [
    "data['c']"
   ]
  },
  {
   "cell_type": "code",
   "execution_count": 109,
   "metadata": {},
   "outputs": [
    {
     "data": {
      "text/plain": [
       "True"
      ]
     },
     "execution_count": 109,
     "metadata": {},
     "output_type": "execute_result"
    }
   ],
   "source": [
    "'a' in data"
   ]
  },
  {
   "cell_type": "code",
   "execution_count": 110,
   "metadata": {},
   "outputs": [
    {
     "data": {
      "text/plain": [
       "False"
      ]
     },
     "execution_count": 110,
     "metadata": {},
     "output_type": "execute_result"
    }
   ],
   "source": [
    "'k' in data"
   ]
  },
  {
   "cell_type": "code",
   "execution_count": 112,
   "metadata": {},
   "outputs": [
    {
     "data": {
      "text/plain": [
       "False"
      ]
     },
     "execution_count": 112,
     "metadata": {},
     "output_type": "execute_result"
    }
   ],
   "source": [
    "0.25 in data"
   ]
  },
  {
   "cell_type": "code",
   "execution_count": 113,
   "metadata": {},
   "outputs": [
    {
     "data": {
      "text/plain": [
       "Index(['a', 'b', 'c', 'd'], dtype='object')"
      ]
     },
     "execution_count": 113,
     "metadata": {},
     "output_type": "execute_result"
    }
   ],
   "source": [
    "data.keys()"
   ]
  },
  {
   "cell_type": "code",
   "execution_count": 118,
   "metadata": {},
   "outputs": [
    {
     "data": {
      "text/plain": [
       "[('a', 0.25), ('b', 0.5), ('c', 0.75), ('d', 1.0)]"
      ]
     },
     "execution_count": 118,
     "metadata": {},
     "output_type": "execute_result"
    }
   ],
   "source": [
    "list(data.items())"
   ]
  },
  {
   "cell_type": "code",
   "execution_count": 122,
   "metadata": {},
   "outputs": [
    {
     "data": {
      "text/plain": [
       "a    0.25\n",
       "b    0.50\n",
       "c    0.75\n",
       "d    1.00\n",
       "e    1.25\n",
       "f    1.50\n",
       "dtype: float64"
      ]
     },
     "execution_count": 122,
     "metadata": {},
     "output_type": "execute_result"
    }
   ],
   "source": [
    "data['e'] = 1.25\n",
    "data['f'] = 1.5\n",
    "data"
   ]
  },
  {
   "cell_type": "markdown",
   "metadata": {},
   "source": [
    "# Series as one-dimensional array"
   ]
  },
  {
   "cell_type": "code",
   "execution_count": 123,
   "metadata": {},
   "outputs": [
    {
     "data": {
      "text/plain": [
       "a    0.25\n",
       "b    0.50\n",
       "c    0.75\n",
       "dtype: float64"
      ]
     },
     "execution_count": 123,
     "metadata": {},
     "output_type": "execute_result"
    }
   ],
   "source": [
    "#Slicing\n",
    "data['a':'c']"
   ]
  },
  {
   "cell_type": "code",
   "execution_count": 124,
   "metadata": {},
   "outputs": [
    {
     "data": {
      "text/plain": [
       "c    0.75\n",
       "d    1.00\n",
       "e    1.25\n",
       "f    1.50\n",
       "dtype: float64"
      ]
     },
     "execution_count": 124,
     "metadata": {},
     "output_type": "execute_result"
    }
   ],
   "source": [
    "data['c':'f']"
   ]
  },
  {
   "cell_type": "code",
   "execution_count": 125,
   "metadata": {},
   "outputs": [
    {
     "data": {
      "text/plain": [
       "a    0.25\n",
       "b    0.50\n",
       "c    0.75\n",
       "d    1.00\n",
       "e    1.25\n",
       "dtype: float64"
      ]
     },
     "execution_count": 125,
     "metadata": {},
     "output_type": "execute_result"
    }
   ],
   "source": [
    "data[0:5]"
   ]
  },
  {
   "cell_type": "code",
   "execution_count": 126,
   "metadata": {},
   "outputs": [
    {
     "data": {
      "text/plain": [
       "b    0.50\n",
       "c    0.75\n",
       "dtype: float64"
      ]
     },
     "execution_count": 126,
     "metadata": {},
     "output_type": "execute_result"
    }
   ],
   "source": [
    "#Masking\n",
    "data[(data > 0.3) & (data < 0.8)]"
   ]
  },
  {
   "cell_type": "code",
   "execution_count": 127,
   "metadata": {},
   "outputs": [
    {
     "data": {
      "text/plain": [
       "a    0.25\n",
       "b    0.50\n",
       "c    0.75\n",
       "d    1.00\n",
       "e    1.25\n",
       "f    1.50\n",
       "dtype: float64"
      ]
     },
     "execution_count": 127,
     "metadata": {},
     "output_type": "execute_result"
    }
   ],
   "source": [
    "data[(data > 0)]"
   ]
  },
  {
   "cell_type": "code",
   "execution_count": 128,
   "metadata": {},
   "outputs": [
    {
     "data": {
      "text/plain": [
       "c    0.75\n",
       "dtype: float64"
      ]
     },
     "execution_count": 128,
     "metadata": {},
     "output_type": "execute_result"
    }
   ],
   "source": [
    "data[(data > 0.5) & (data < 1)]"
   ]
  },
  {
   "cell_type": "code",
   "execution_count": 130,
   "metadata": {},
   "outputs": [
    {
     "data": {
      "text/plain": [
       "a    0.25\n",
       "b    0.50\n",
       "c    0.75\n",
       "f    1.50\n",
       "dtype: float64"
      ]
     },
     "execution_count": 130,
     "metadata": {},
     "output_type": "execute_result"
    }
   ],
   "source": [
    "#Fancy indexing\n",
    "data[['a', 'b', 'c', 'f']]"
   ]
  },
  {
   "cell_type": "code",
   "execution_count": 133,
   "metadata": {},
   "outputs": [
    {
     "data": {
      "text/html": [
       "<div>\n",
       "<style scoped>\n",
       "    .dataframe tbody tr th:only-of-type {\n",
       "        vertical-align: middle;\n",
       "    }\n",
       "\n",
       "    .dataframe tbody tr th {\n",
       "        vertical-align: top;\n",
       "    }\n",
       "\n",
       "    .dataframe thead th {\n",
       "        text-align: right;\n",
       "    }\n",
       "</style>\n",
       "<table border=\"1\" class=\"dataframe\">\n",
       "  <thead>\n",
       "    <tr style=\"text-align: right;\">\n",
       "      <th></th>\n",
       "      <th>NOMBRE</th>\n",
       "      <th>ENE</th>\n",
       "    </tr>\n",
       "  </thead>\n",
       "  <tbody>\n",
       "    <tr>\n",
       "      <th>0</th>\n",
       "      <td>Aguascalientes, Ags.</td>\n",
       "      <td>6.61</td>\n",
       "    </tr>\n",
       "    <tr>\n",
       "      <th>1</th>\n",
       "      <td>Cincuenta Aniversario, Ags.</td>\n",
       "      <td>10.60</td>\n",
       "    </tr>\n",
       "    <tr>\n",
       "      <th>2</th>\n",
       "      <td>San Bartolo, Ags.</td>\n",
       "      <td>10.50</td>\n",
       "    </tr>\n",
       "    <tr>\n",
       "      <th>3</th>\n",
       "      <td>Calvillo, Ags. SMN*</td>\n",
       "      <td>18.17</td>\n",
       "    </tr>\n",
       "    <tr>\n",
       "      <th>4</th>\n",
       "      <td>La Codorniz, Ags.</td>\n",
       "      <td>16.70</td>\n",
       "    </tr>\n",
       "    <tr>\n",
       "      <th>5</th>\n",
       "      <td>Cañada Honda, Ags.</td>\n",
       "      <td>17.30</td>\n",
       "    </tr>\n",
       "    <tr>\n",
       "      <th>6</th>\n",
       "      <td>Calvillo, Ags.</td>\n",
       "      <td>9.20</td>\n",
       "    </tr>\n",
       "    <tr>\n",
       "      <th>7</th>\n",
       "      <td>Los Conos, Ags.</td>\n",
       "      <td>13.20</td>\n",
       "    </tr>\n",
       "    <tr>\n",
       "      <th>8</th>\n",
       "      <td>Cosío, Ags.</td>\n",
       "      <td>7.20</td>\n",
       "    </tr>\n",
       "    <tr>\n",
       "      <th>9</th>\n",
       "      <td>Jocoque, Ags.</td>\n",
       "      <td>6.30</td>\n",
       "    </tr>\n",
       "  </tbody>\n",
       "</table>\n",
       "</div>"
      ],
      "text/plain": [
       "                        NOMBRE    ENE\n",
       "0         Aguascalientes, Ags.   6.61\n",
       "1  Cincuenta Aniversario, Ags.  10.60\n",
       "2            San Bartolo, Ags.  10.50\n",
       "3          Calvillo, Ags. SMN*  18.17\n",
       "4            La Codorniz, Ags.  16.70\n",
       "5           Cañada Honda, Ags.  17.30\n",
       "6               Calvillo, Ags.   9.20\n",
       "7              Los Conos, Ags.  13.20\n",
       "8                  Cosío, Ags.   7.20\n",
       "9                Jocoque, Ags.   6.30"
      ]
     },
     "execution_count": 133,
     "metadata": {},
     "output_type": "execute_result"
    }
   ],
   "source": [
    "rains2019[0:10]"
   ]
  },
  {
   "cell_type": "code",
   "execution_count": 143,
   "metadata": {},
   "outputs": [
    {
     "data": {
      "text/html": [
       "<div>\n",
       "<style scoped>\n",
       "    .dataframe tbody tr th:only-of-type {\n",
       "        vertical-align: middle;\n",
       "    }\n",
       "\n",
       "    .dataframe tbody tr th {\n",
       "        vertical-align: top;\n",
       "    }\n",
       "\n",
       "    .dataframe thead th {\n",
       "        text-align: right;\n",
       "    }\n",
       "</style>\n",
       "<table border=\"1\" class=\"dataframe\">\n",
       "  <thead>\n",
       "    <tr style=\"text-align: right;\">\n",
       "      <th></th>\n",
       "      <th>NOMBRE</th>\n",
       "      <th>ENE</th>\n",
       "    </tr>\n",
       "  </thead>\n",
       "  <tbody>\n",
       "    <tr>\n",
       "      <th>0</th>\n",
       "      <td>Aguascalientes, Ags.</td>\n",
       "      <td>6.61</td>\n",
       "    </tr>\n",
       "    <tr>\n",
       "      <th>6</th>\n",
       "      <td>Calvillo, Ags.</td>\n",
       "      <td>9.20</td>\n",
       "    </tr>\n",
       "    <tr>\n",
       "      <th>8</th>\n",
       "      <td>Cosío, Ags.</td>\n",
       "      <td>7.20</td>\n",
       "    </tr>\n",
       "    <tr>\n",
       "      <th>9</th>\n",
       "      <td>Jocoque, Ags.</td>\n",
       "      <td>6.30</td>\n",
       "    </tr>\n",
       "    <tr>\n",
       "      <th>11</th>\n",
       "      <td>El Niagara, Ags.</td>\n",
       "      <td>5.51</td>\n",
       "    </tr>\n",
       "    <tr>\n",
       "      <th>13</th>\n",
       "      <td>Observatorio de Aguascalientes, Ags.</td>\n",
       "      <td>8.71</td>\n",
       "    </tr>\n",
       "    <tr>\n",
       "      <th>16</th>\n",
       "      <td>Pabellón, Ags.</td>\n",
       "      <td>6.80</td>\n",
       "    </tr>\n",
       "    <tr>\n",
       "      <th>17</th>\n",
       "      <td>Plutarco Elías Calles, Ags.</td>\n",
       "      <td>6.00</td>\n",
       "    </tr>\n",
       "    <tr>\n",
       "      <th>20</th>\n",
       "      <td>Sandovales, Ags.</td>\n",
       "      <td>6.00</td>\n",
       "    </tr>\n",
       "    <tr>\n",
       "      <th>29</th>\n",
       "      <td>Ejido Nuevo León, B.C.</td>\n",
       "      <td>8.90</td>\n",
       "    </tr>\n",
       "    <tr>\n",
       "      <th>31</th>\n",
       "      <td>Mexicali, B.C.</td>\n",
       "      <td>9.31</td>\n",
       "    </tr>\n",
       "    <tr>\n",
       "      <th>37</th>\n",
       "      <td>Díaz Ordaz, B.C.S.</td>\n",
       "      <td>6.40</td>\n",
       "    </tr>\n",
       "    <tr>\n",
       "      <th>38</th>\n",
       "      <td>Guerrero Negro, B.C.S.</td>\n",
       "      <td>8.00</td>\n",
       "    </tr>\n",
       "    <tr>\n",
       "      <th>39</th>\n",
       "      <td>Los Barriles, B.C.S.</td>\n",
       "      <td>8.01</td>\n",
       "    </tr>\n",
       "    <tr>\n",
       "      <th>52</th>\n",
       "      <td>Santiago, B.C.S.</td>\n",
       "      <td>9.21</td>\n",
       "    </tr>\n",
       "    <tr>\n",
       "      <th>57</th>\n",
       "      <td>El Carmen, Camp.</td>\n",
       "      <td>7.41</td>\n",
       "    </tr>\n",
       "    <tr>\n",
       "      <th>68</th>\n",
       "      <td>Noh-Yaxché, Camp.</td>\n",
       "      <td>6.10</td>\n",
       "    </tr>\n",
       "    <tr>\n",
       "      <th>71</th>\n",
       "      <td>Sabancuy, Camp.</td>\n",
       "      <td>8.00</td>\n",
       "    </tr>\n",
       "    <tr>\n",
       "      <th>84</th>\n",
       "      <td>La Mesa, Chih.</td>\n",
       "      <td>6.72</td>\n",
       "    </tr>\n",
       "    <tr>\n",
       "      <th>85</th>\n",
       "      <td>Casas Grandes, Chih.</td>\n",
       "      <td>5.30</td>\n",
       "    </tr>\n",
       "    <tr>\n",
       "      <th>88</th>\n",
       "      <td>Chihuahua, Chih.</td>\n",
       "      <td>6.40</td>\n",
       "    </tr>\n",
       "    <tr>\n",
       "      <th>90</th>\n",
       "      <td>Colina (hidrométrica), Chih.</td>\n",
       "      <td>8.01</td>\n",
       "    </tr>\n",
       "    <tr>\n",
       "      <th>91</th>\n",
       "      <td>Ing. Andrew Weiss, Chih.</td>\n",
       "      <td>7.50</td>\n",
       "    </tr>\n",
       "    <tr>\n",
       "      <th>93</th>\n",
       "      <td>El Rejón, Chih.</td>\n",
       "      <td>6.40</td>\n",
       "    </tr>\n",
       "    <tr>\n",
       "      <th>99</th>\n",
       "      <td>Jiménez, Chih.</td>\n",
       "      <td>7.40</td>\n",
       "    </tr>\n",
       "    <tr>\n",
       "      <th>102</th>\n",
       "      <td>Ing. Luis L. León, Chih.</td>\n",
       "      <td>7.51</td>\n",
       "    </tr>\n",
       "    <tr>\n",
       "      <th>105</th>\n",
       "      <td>Pico del Águila, Chih.</td>\n",
       "      <td>6.02</td>\n",
       "    </tr>\n",
       "    <tr>\n",
       "      <th>106</th>\n",
       "      <td>Presa Francisco I. Madero, Chih. SGT*</td>\n",
       "      <td>7.25</td>\n",
       "    </tr>\n",
       "    <tr>\n",
       "      <th>108</th>\n",
       "      <td>Observatorio de Chihuahua, Chih.</td>\n",
       "      <td>6.41</td>\n",
       "    </tr>\n",
       "    <tr>\n",
       "      <th>111</th>\n",
       "      <td>Temósachic, Chih.</td>\n",
       "      <td>8.36</td>\n",
       "    </tr>\n",
       "    <tr>\n",
       "      <th>...</th>\n",
       "      <td>...</td>\n",
       "      <td>...</td>\n",
       "    </tr>\n",
       "    <tr>\n",
       "      <th>969</th>\n",
       "      <td>El Oregano, Son.</td>\n",
       "      <td>9.11</td>\n",
       "    </tr>\n",
       "    <tr>\n",
       "      <th>973</th>\n",
       "      <td>Punta de Agua 2, Son.</td>\n",
       "      <td>8.82</td>\n",
       "    </tr>\n",
       "    <tr>\n",
       "      <th>979</th>\n",
       "      <td>Tepache, Son.</td>\n",
       "      <td>6.51</td>\n",
       "    </tr>\n",
       "    <tr>\n",
       "      <th>981</th>\n",
       "      <td>Vícam, Son.</td>\n",
       "      <td>9.50</td>\n",
       "    </tr>\n",
       "    <tr>\n",
       "      <th>1018</th>\n",
       "      <td>La Encantada, Tamps.</td>\n",
       "      <td>8.60</td>\n",
       "    </tr>\n",
       "    <tr>\n",
       "      <th>1020</th>\n",
       "      <td>San Fernando, Tamps. SMN*</td>\n",
       "      <td>7.37</td>\n",
       "    </tr>\n",
       "    <tr>\n",
       "      <th>1035</th>\n",
       "      <td>Nuevo Laredo, Tamps. SGT*</td>\n",
       "      <td>8.50</td>\n",
       "    </tr>\n",
       "    <tr>\n",
       "      <th>1036</th>\n",
       "      <td>Nuevo Laredo, Tamps.</td>\n",
       "      <td>8.60</td>\n",
       "    </tr>\n",
       "    <tr>\n",
       "      <th>1037</th>\n",
       "      <td>Padilla, Tamps. SGT*</td>\n",
       "      <td>8.40</td>\n",
       "    </tr>\n",
       "    <tr>\n",
       "      <th>1038</th>\n",
       "      <td>Padilla, Tamps.</td>\n",
       "      <td>8.40</td>\n",
       "    </tr>\n",
       "    <tr>\n",
       "      <th>1108</th>\n",
       "      <td>Ídolos, Ver.</td>\n",
       "      <td>6.14</td>\n",
       "    </tr>\n",
       "    <tr>\n",
       "      <th>1110</th>\n",
       "      <td>Jamapa, Ver. SGT*</td>\n",
       "      <td>9.80</td>\n",
       "    </tr>\n",
       "    <tr>\n",
       "      <th>1139</th>\n",
       "      <td>Perote, Ver.</td>\n",
       "      <td>7.09</td>\n",
       "    </tr>\n",
       "    <tr>\n",
       "      <th>1166</th>\n",
       "      <td>Villa Tejeda, Ver.</td>\n",
       "      <td>9.60</td>\n",
       "    </tr>\n",
       "    <tr>\n",
       "      <th>1199</th>\n",
       "      <td>Atolinga, Zac.</td>\n",
       "      <td>9.72</td>\n",
       "    </tr>\n",
       "    <tr>\n",
       "      <th>1203</th>\n",
       "      <td>El Cazadero, Zac.</td>\n",
       "      <td>7.51</td>\n",
       "    </tr>\n",
       "    <tr>\n",
       "      <th>1204</th>\n",
       "      <td>El Saladillo, Zac.</td>\n",
       "      <td>6.02</td>\n",
       "    </tr>\n",
       "    <tr>\n",
       "      <th>1207</th>\n",
       "      <td>Guadalupe, Zac.</td>\n",
       "      <td>8.01</td>\n",
       "    </tr>\n",
       "    <tr>\n",
       "      <th>1208</th>\n",
       "      <td>Genaro Codina, Zac.</td>\n",
       "      <td>6.02</td>\n",
       "    </tr>\n",
       "    <tr>\n",
       "      <th>1209</th>\n",
       "      <td>Juan Aldama, Zac.</td>\n",
       "      <td>5.62</td>\n",
       "    </tr>\n",
       "    <tr>\n",
       "      <th>1210</th>\n",
       "      <td>Juchipila, Zac.</td>\n",
       "      <td>9.40</td>\n",
       "    </tr>\n",
       "    <tr>\n",
       "      <th>1211</th>\n",
       "      <td>Jerez, Zac.</td>\n",
       "      <td>6.60</td>\n",
       "    </tr>\n",
       "    <tr>\n",
       "      <th>1212</th>\n",
       "      <td>La Bufa, Zac.</td>\n",
       "      <td>7.70</td>\n",
       "    </tr>\n",
       "    <tr>\n",
       "      <th>1217</th>\n",
       "      <td>Gobernador Leobardo Reynoso, Zac.</td>\n",
       "      <td>8.00</td>\n",
       "    </tr>\n",
       "    <tr>\n",
       "      <th>1219</th>\n",
       "      <td>Monte Escobedo, Zac.</td>\n",
       "      <td>6.02</td>\n",
       "    </tr>\n",
       "    <tr>\n",
       "      <th>1222</th>\n",
       "      <td>Palomas, Zac.</td>\n",
       "      <td>9.80</td>\n",
       "    </tr>\n",
       "    <tr>\n",
       "      <th>1226</th>\n",
       "      <td>San Francisco, Zac.</td>\n",
       "      <td>9.70</td>\n",
       "    </tr>\n",
       "    <tr>\n",
       "      <th>1229</th>\n",
       "      <td>Santa Teresa (Independencia Nacional), Zac.</td>\n",
       "      <td>6.00</td>\n",
       "    </tr>\n",
       "    <tr>\n",
       "      <th>1236</th>\n",
       "      <td>Villa de Cos, Zac.</td>\n",
       "      <td>7.00</td>\n",
       "    </tr>\n",
       "    <tr>\n",
       "      <th>1238</th>\n",
       "      <td>Villa Hidalgo, Zac.</td>\n",
       "      <td>9.70</td>\n",
       "    </tr>\n",
       "  </tbody>\n",
       "</table>\n",
       "<p>188 rows × 2 columns</p>\n",
       "</div>"
      ],
      "text/plain": [
       "                                           NOMBRE   ENE\n",
       "0                            Aguascalientes, Ags.  6.61\n",
       "6                                  Calvillo, Ags.  9.20\n",
       "8                                     Cosío, Ags.  7.20\n",
       "9                                   Jocoque, Ags.  6.30\n",
       "11                               El Niagara, Ags.  5.51\n",
       "13           Observatorio de Aguascalientes, Ags.  8.71\n",
       "16                                 Pabellón, Ags.  6.80\n",
       "17                    Plutarco Elías Calles, Ags.  6.00\n",
       "20                               Sandovales, Ags.  6.00\n",
       "29                         Ejido Nuevo León, B.C.  8.90\n",
       "31                                 Mexicali, B.C.  9.31\n",
       "37                             Díaz Ordaz, B.C.S.  6.40\n",
       "38                         Guerrero Negro, B.C.S.  8.00\n",
       "39                           Los Barriles, B.C.S.  8.01\n",
       "52                               Santiago, B.C.S.  9.21\n",
       "57                               El Carmen, Camp.  7.41\n",
       "68                              Noh-Yaxché, Camp.  6.10\n",
       "71                                Sabancuy, Camp.  8.00\n",
       "84                                 La Mesa, Chih.  6.72\n",
       "85                           Casas Grandes, Chih.  5.30\n",
       "88                               Chihuahua, Chih.  6.40\n",
       "90                   Colina (hidrométrica), Chih.  8.01\n",
       "91                       Ing. Andrew Weiss, Chih.  7.50\n",
       "93                                El Rejón, Chih.  6.40\n",
       "99                                 Jiménez, Chih.  7.40\n",
       "102                      Ing. Luis L. León, Chih.  7.51\n",
       "105                        Pico del Águila, Chih.  6.02\n",
       "106         Presa Francisco I. Madero, Chih. SGT*  7.25\n",
       "108              Observatorio de Chihuahua, Chih.  6.41\n",
       "111                             Temósachic, Chih.  8.36\n",
       "...                                           ...   ...\n",
       "969                              El Oregano, Son.  9.11\n",
       "973                         Punta de Agua 2, Son.  8.82\n",
       "979                                 Tepache, Son.  6.51\n",
       "981                                   Vícam, Son.  9.50\n",
       "1018                         La Encantada, Tamps.  8.60\n",
       "1020                    San Fernando, Tamps. SMN*  7.37\n",
       "1035                    Nuevo Laredo, Tamps. SGT*  8.50\n",
       "1036                         Nuevo Laredo, Tamps.  8.60\n",
       "1037                         Padilla, Tamps. SGT*  8.40\n",
       "1038                              Padilla, Tamps.  8.40\n",
       "1108                                 Ídolos, Ver.  6.14\n",
       "1110                            Jamapa, Ver. SGT*  9.80\n",
       "1139                                 Perote, Ver.  7.09\n",
       "1166                           Villa Tejeda, Ver.  9.60\n",
       "1199                               Atolinga, Zac.  9.72\n",
       "1203                            El Cazadero, Zac.  7.51\n",
       "1204                           El Saladillo, Zac.  6.02\n",
       "1207                              Guadalupe, Zac.  8.01\n",
       "1208                          Genaro Codina, Zac.  6.02\n",
       "1209                            Juan Aldama, Zac.  5.62\n",
       "1210                              Juchipila, Zac.  9.40\n",
       "1211                                  Jerez, Zac.  6.60\n",
       "1212                                La Bufa, Zac.  7.70\n",
       "1217            Gobernador Leobardo Reynoso, Zac.  8.00\n",
       "1219                         Monte Escobedo, Zac.  6.02\n",
       "1222                                Palomas, Zac.  9.80\n",
       "1226                          San Francisco, Zac.  9.70\n",
       "1229  Santa Teresa (Independencia Nacional), Zac.  6.00\n",
       "1236                           Villa de Cos, Zac.  7.00\n",
       "1238                          Villa Hidalgo, Zac.  9.70\n",
       "\n",
       "[188 rows x 2 columns]"
      ]
     },
     "execution_count": 143,
     "metadata": {},
     "output_type": "execute_result"
    }
   ],
   "source": [
    "rains2019[(rains2019['ENE'] > 5) & (rains2019['ENE'] < 10)]"
   ]
  },
  {
   "cell_type": "markdown",
   "metadata": {},
   "source": [
    "# Indexers: loc, iloc and ix"
   ]
  },
  {
   "cell_type": "code",
   "execution_count": 142,
   "metadata": {},
   "outputs": [
    {
     "data": {
      "text/plain": [
       "0        6.61\n",
       "1       10.60\n",
       "2       10.50\n",
       "3       18.17\n",
       "4       16.70\n",
       "5       17.30\n",
       "6        9.20\n",
       "7       13.20\n",
       "8        7.20\n",
       "9        6.30\n",
       "10      24.30\n",
       "11       5.51\n",
       "12      15.50\n",
       "13       8.71\n",
       "14      10.40\n",
       "15      11.00\n",
       "16       6.80\n",
       "17       6.00\n",
       "18      11.53\n",
       "19      17.41\n",
       "20       6.00\n",
       "21      11.00\n",
       "22      22.20\n",
       "23      18.82\n",
       "24      48.20\n",
       "25      11.31\n",
       "26      58.70\n",
       "27      20.60\n",
       "28      48.42\n",
       "29       8.90\n",
       "        ...  \n",
       "1211     6.60\n",
       "1212     7.70\n",
       "1213     2.51\n",
       "1214    20.80\n",
       "1215    13.50\n",
       "1216    13.61\n",
       "1217     8.00\n",
       "1218    22.02\n",
       "1219     6.02\n",
       "1220    29.70\n",
       "1221     4.80\n",
       "1222     9.80\n",
       "1223     3.50\n",
       "1224    15.70\n",
       "1225     3.61\n",
       "1226     9.70\n",
       "1227     5.00\n",
       "1228     1.60\n",
       "1229     6.00\n",
       "1230    18.52\n",
       "1231    13.50\n",
       "1232     3.00\n",
       "1233    30.10\n",
       "1234    25.01\n",
       "1235    14.02\n",
       "1236     7.00\n",
       "1237    32.32\n",
       "1238     9.70\n",
       "1239    15.20\n",
       "1240    12.02\n",
       "Name: ENE, Length: 1241, dtype: float64"
      ]
     },
     "execution_count": 142,
     "metadata": {},
     "output_type": "execute_result"
    }
   ],
   "source": [
    "rains2019['ENE']"
   ]
  },
  {
   "cell_type": "code",
   "execution_count": 144,
   "metadata": {},
   "outputs": [
    {
     "data": {
      "text/html": [
       "<div>\n",
       "<style scoped>\n",
       "    .dataframe tbody tr th:only-of-type {\n",
       "        vertical-align: middle;\n",
       "    }\n",
       "\n",
       "    .dataframe tbody tr th {\n",
       "        vertical-align: top;\n",
       "    }\n",
       "\n",
       "    .dataframe thead th {\n",
       "        text-align: right;\n",
       "    }\n",
       "</style>\n",
       "<table border=\"1\" class=\"dataframe\">\n",
       "  <thead>\n",
       "    <tr style=\"text-align: right;\">\n",
       "      <th></th>\n",
       "      <th>NOMBRE</th>\n",
       "      <th>ENE</th>\n",
       "    </tr>\n",
       "  </thead>\n",
       "  <tbody>\n",
       "    <tr>\n",
       "      <th>1</th>\n",
       "      <td>Cincuenta Aniversario, Ags.</td>\n",
       "      <td>10.6</td>\n",
       "    </tr>\n",
       "    <tr>\n",
       "      <th>2</th>\n",
       "      <td>San Bartolo, Ags.</td>\n",
       "      <td>10.5</td>\n",
       "    </tr>\n",
       "  </tbody>\n",
       "</table>\n",
       "</div>"
      ],
      "text/plain": [
       "                        NOMBRE   ENE\n",
       "1  Cincuenta Aniversario, Ags.  10.6\n",
       "2            San Bartolo, Ags.  10.5"
      ]
     },
     "execution_count": 144,
     "metadata": {},
     "output_type": "execute_result"
    }
   ],
   "source": [
    "rains2019[1:3]"
   ]
  },
  {
   "cell_type": "code",
   "execution_count": 145,
   "metadata": {},
   "outputs": [
    {
     "data": {
      "text/plain": [
       "NOMBRE    Cincuenta Aniversario, Ags.\n",
       "ENE                              10.6\n",
       "Name: 1, dtype: object"
      ]
     },
     "execution_count": 145,
     "metadata": {},
     "output_type": "execute_result"
    }
   ],
   "source": [
    "rains2019.loc[1]"
   ]
  },
  {
   "cell_type": "code",
   "execution_count": 146,
   "metadata": {},
   "outputs": [
    {
     "data": {
      "text/plain": [
       "NOMBRE    La Fragua, Coah.\n",
       "ENE                      0\n",
       "Name: 200, dtype: object"
      ]
     },
     "execution_count": 146,
     "metadata": {},
     "output_type": "execute_result"
    }
   ],
   "source": [
    "rains2019.loc[200]"
   ]
  },
  {
   "cell_type": "code",
   "execution_count": 148,
   "metadata": {},
   "outputs": [
    {
     "data": {
      "text/html": [
       "<div>\n",
       "<style scoped>\n",
       "    .dataframe tbody tr th:only-of-type {\n",
       "        vertical-align: middle;\n",
       "    }\n",
       "\n",
       "    .dataframe tbody tr th {\n",
       "        vertical-align: top;\n",
       "    }\n",
       "\n",
       "    .dataframe thead th {\n",
       "        text-align: right;\n",
       "    }\n",
       "</style>\n",
       "<table border=\"1\" class=\"dataframe\">\n",
       "  <thead>\n",
       "    <tr style=\"text-align: right;\">\n",
       "      <th></th>\n",
       "      <th>NOMBRE</th>\n",
       "      <th>ENE</th>\n",
       "    </tr>\n",
       "  </thead>\n",
       "  <tbody>\n",
       "    <tr>\n",
       "      <th>90</th>\n",
       "      <td>Colina (hidrométrica), Chih.</td>\n",
       "      <td>8.01</td>\n",
       "    </tr>\n",
       "    <tr>\n",
       "      <th>91</th>\n",
       "      <td>Ing. Andrew Weiss, Chih.</td>\n",
       "      <td>7.50</td>\n",
       "    </tr>\n",
       "    <tr>\n",
       "      <th>92</th>\n",
       "      <td>Chinipas, Chih.</td>\n",
       "      <td>44.01</td>\n",
       "    </tr>\n",
       "    <tr>\n",
       "      <th>93</th>\n",
       "      <td>El Rejón, Chih.</td>\n",
       "      <td>6.40</td>\n",
       "    </tr>\n",
       "    <tr>\n",
       "      <th>94</th>\n",
       "      <td>Francisco I. Madero, Chih.</td>\n",
       "      <td>10.02</td>\n",
       "    </tr>\n",
       "    <tr>\n",
       "      <th>95</th>\n",
       "      <td>Guachochi, Chih. SMN*</td>\n",
       "      <td>34.00</td>\n",
       "    </tr>\n",
       "    <tr>\n",
       "      <th>96</th>\n",
       "      <td>Guapoca, Chih.</td>\n",
       "      <td>25.40</td>\n",
       "    </tr>\n",
       "    <tr>\n",
       "      <th>97</th>\n",
       "      <td>Guerachi, Chih.</td>\n",
       "      <td>38.40</td>\n",
       "    </tr>\n",
       "    <tr>\n",
       "      <th>98</th>\n",
       "      <td>San Ignacio, Chih.</td>\n",
       "      <td>25.00</td>\n",
       "    </tr>\n",
       "    <tr>\n",
       "      <th>99</th>\n",
       "      <td>Jiménez, Chih.</td>\n",
       "      <td>7.40</td>\n",
       "    </tr>\n",
       "    <tr>\n",
       "      <th>100</th>\n",
       "      <td>La Boquilla, Chih.</td>\n",
       "      <td>10.51</td>\n",
       "    </tr>\n",
       "  </tbody>\n",
       "</table>\n",
       "</div>"
      ],
      "text/plain": [
       "                           NOMBRE    ENE\n",
       "90   Colina (hidrométrica), Chih.   8.01\n",
       "91       Ing. Andrew Weiss, Chih.   7.50\n",
       "92                Chinipas, Chih.  44.01\n",
       "93                El Rejón, Chih.   6.40\n",
       "94     Francisco I. Madero, Chih.  10.02\n",
       "95          Guachochi, Chih. SMN*  34.00\n",
       "96                 Guapoca, Chih.  25.40\n",
       "97                Guerachi, Chih.  38.40\n",
       "98             San Ignacio, Chih.  25.00\n",
       "99                 Jiménez, Chih.   7.40\n",
       "100            La Boquilla, Chih.  10.51"
      ]
     },
     "execution_count": 148,
     "metadata": {},
     "output_type": "execute_result"
    }
   ],
   "source": [
    "rains2019.loc[90:100]"
   ]
  },
  {
   "cell_type": "code",
   "execution_count": 149,
   "metadata": {},
   "outputs": [
    {
     "data": {
      "text/plain": [
       "NOMBRE    La Fragua, Coah.\n",
       "ENE                      0\n",
       "Name: 200, dtype: object"
      ]
     },
     "execution_count": 149,
     "metadata": {},
     "output_type": "execute_result"
    }
   ],
   "source": [
    "rains2019.iloc[200]"
   ]
  },
  {
   "cell_type": "code",
   "execution_count": 150,
   "metadata": {},
   "outputs": [
    {
     "data": {
      "text/html": [
       "<div>\n",
       "<style scoped>\n",
       "    .dataframe tbody tr th:only-of-type {\n",
       "        vertical-align: middle;\n",
       "    }\n",
       "\n",
       "    .dataframe tbody tr th {\n",
       "        vertical-align: top;\n",
       "    }\n",
       "\n",
       "    .dataframe thead th {\n",
       "        text-align: right;\n",
       "    }\n",
       "</style>\n",
       "<table border=\"1\" class=\"dataframe\">\n",
       "  <thead>\n",
       "    <tr style=\"text-align: right;\">\n",
       "      <th></th>\n",
       "      <th>NOMBRE</th>\n",
       "      <th>ENE</th>\n",
       "    </tr>\n",
       "  </thead>\n",
       "  <tbody>\n",
       "    <tr>\n",
       "      <th>90</th>\n",
       "      <td>Colina (hidrométrica), Chih.</td>\n",
       "      <td>8.01</td>\n",
       "    </tr>\n",
       "    <tr>\n",
       "      <th>91</th>\n",
       "      <td>Ing. Andrew Weiss, Chih.</td>\n",
       "      <td>7.50</td>\n",
       "    </tr>\n",
       "    <tr>\n",
       "      <th>92</th>\n",
       "      <td>Chinipas, Chih.</td>\n",
       "      <td>44.01</td>\n",
       "    </tr>\n",
       "    <tr>\n",
       "      <th>93</th>\n",
       "      <td>El Rejón, Chih.</td>\n",
       "      <td>6.40</td>\n",
       "    </tr>\n",
       "    <tr>\n",
       "      <th>94</th>\n",
       "      <td>Francisco I. Madero, Chih.</td>\n",
       "      <td>10.02</td>\n",
       "    </tr>\n",
       "    <tr>\n",
       "      <th>95</th>\n",
       "      <td>Guachochi, Chih. SMN*</td>\n",
       "      <td>34.00</td>\n",
       "    </tr>\n",
       "    <tr>\n",
       "      <th>96</th>\n",
       "      <td>Guapoca, Chih.</td>\n",
       "      <td>25.40</td>\n",
       "    </tr>\n",
       "    <tr>\n",
       "      <th>97</th>\n",
       "      <td>Guerachi, Chih.</td>\n",
       "      <td>38.40</td>\n",
       "    </tr>\n",
       "    <tr>\n",
       "      <th>98</th>\n",
       "      <td>San Ignacio, Chih.</td>\n",
       "      <td>25.00</td>\n",
       "    </tr>\n",
       "    <tr>\n",
       "      <th>99</th>\n",
       "      <td>Jiménez, Chih.</td>\n",
       "      <td>7.40</td>\n",
       "    </tr>\n",
       "  </tbody>\n",
       "</table>\n",
       "</div>"
      ],
      "text/plain": [
       "                          NOMBRE    ENE\n",
       "90  Colina (hidrométrica), Chih.   8.01\n",
       "91      Ing. Andrew Weiss, Chih.   7.50\n",
       "92               Chinipas, Chih.  44.01\n",
       "93               El Rejón, Chih.   6.40\n",
       "94    Francisco I. Madero, Chih.  10.02\n",
       "95         Guachochi, Chih. SMN*  34.00\n",
       "96                Guapoca, Chih.  25.40\n",
       "97               Guerachi, Chih.  38.40\n",
       "98            San Ignacio, Chih.  25.00\n",
       "99                Jiménez, Chih.   7.40"
      ]
     },
     "execution_count": 150,
     "metadata": {},
     "output_type": "execute_result"
    }
   ],
   "source": [
    "rains2019.iloc[90:100]"
   ]
  },
  {
   "cell_type": "markdown",
   "metadata": {},
   "source": [
    "# Data Selection in DataFrame"
   ]
  },
  {
   "cell_type": "code",
   "execution_count": 151,
   "metadata": {},
   "outputs": [
    {
     "data": {
      "text/plain": [
       "0        6.61\n",
       "1       10.60\n",
       "2       10.50\n",
       "3       18.17\n",
       "4       16.70\n",
       "5       17.30\n",
       "6        9.20\n",
       "7       13.20\n",
       "8        7.20\n",
       "9        6.30\n",
       "10      24.30\n",
       "11       5.51\n",
       "12      15.50\n",
       "13       8.71\n",
       "14      10.40\n",
       "15      11.00\n",
       "16       6.80\n",
       "17       6.00\n",
       "18      11.53\n",
       "19      17.41\n",
       "20       6.00\n",
       "21      11.00\n",
       "22      22.20\n",
       "23      18.82\n",
       "24      48.20\n",
       "25      11.31\n",
       "26      58.70\n",
       "27      20.60\n",
       "28      48.42\n",
       "29       8.90\n",
       "        ...  \n",
       "1211     6.60\n",
       "1212     7.70\n",
       "1213     2.51\n",
       "1214    20.80\n",
       "1215    13.50\n",
       "1216    13.61\n",
       "1217     8.00\n",
       "1218    22.02\n",
       "1219     6.02\n",
       "1220    29.70\n",
       "1221     4.80\n",
       "1222     9.80\n",
       "1223     3.50\n",
       "1224    15.70\n",
       "1225     3.61\n",
       "1226     9.70\n",
       "1227     5.00\n",
       "1228     1.60\n",
       "1229     6.00\n",
       "1230    18.52\n",
       "1231    13.50\n",
       "1232     3.00\n",
       "1233    30.10\n",
       "1234    25.01\n",
       "1235    14.02\n",
       "1236     7.00\n",
       "1237    32.32\n",
       "1238     9.70\n",
       "1239    15.20\n",
       "1240    12.02\n",
       "Name: ENE, Length: 1241, dtype: float64"
      ]
     },
     "execution_count": 151,
     "metadata": {},
     "output_type": "execute_result"
    }
   ],
   "source": [
    "rains2019['ENE']"
   ]
  },
  {
   "cell_type": "code",
   "execution_count": 154,
   "metadata": {},
   "outputs": [
    {
     "data": {
      "text/plain": [
       "0                              Aguascalientes, Ags.\n",
       "1                       Cincuenta Aniversario, Ags.\n",
       "2                                 San Bartolo, Ags.\n",
       "3                               Calvillo, Ags. SMN*\n",
       "4                                 La Codorniz, Ags.\n",
       "5                                Cañada Honda, Ags.\n",
       "6                                    Calvillo, Ags.\n",
       "7                                   Los Conos, Ags.\n",
       "8                                       Cosío, Ags.\n",
       "9                                     Jocoque, Ags.\n",
       "10                                 Media Luna, Ags.\n",
       "11                                 El Niagara, Ags.\n",
       "12                                 El Novillo, Ags.\n",
       "13             Observatorio de Aguascalientes, Ags.\n",
       "14           Presa Cincuenta Aniversario, Ags. SMN*\n",
       "15                                  Palo Alto, Ags.\n",
       "16                                   Pabellón, Ags.\n",
       "17                      Plutarco Elías Calles, Ags.\n",
       "18                    Puerto de la Concepción, Ags.\n",
       "19                        Derivadora Pabellón, Ags.\n",
       "20                                 Sandovales, Ags.\n",
       "21                                La Tinaja 2, Ags.\n",
       "22                               Villa Juárez, Ags.\n",
       "23                             Agua Hechicera, B.C.\n",
       "24                      Abelardo L. Rodríguez, B.C.\n",
       "25                              Cataviña, B.C. SMN*\n",
       "26                                 El Carrizo, B.C.\n",
       "27                                 El Florido, B.C.\n",
       "28                        Emilio López Zamora, B.C.\n",
       "29                           Ejido Nuevo León, B.C.\n",
       "                           ...                     \n",
       "1211                                    Jerez, Zac.\n",
       "1212                                  La Bufa, Zac.\n",
       "1213                               La Florida, Zac.\n",
       "1214                             Llano Blanco, Zac.\n",
       "1215                         Manuel Felgueres, Zac.\n",
       "1216                                   Loreto, Zac.\n",
       "1217              Gobernador Leobardo Reynoso, Zac.\n",
       "1218                        Mezquital del Oro, Zac.\n",
       "1219                           Monte Escobedo, Zac.\n",
       "1220                               Nochistlán, Zac.\n",
       "1221                            Nuevo Tampico, Zac.\n",
       "1222                                  Palomas, Zac.\n",
       "1223                              Pino Suárez, Zac.\n",
       "1224                                Moraleños, Zac.\n",
       "1225                               Río Grande, Zac.\n",
       "1226                            San Francisco, Zac.\n",
       "1227                                 Santiago, Zac.\n",
       "1228                               Sombrerete, Zac.\n",
       "1229    Santa Teresa (Independencia Nacional), Zac.\n",
       "1230                               Santa Rosa, Zac.\n",
       "1231               Ing. Julián Adame Alatorre, Zac.\n",
       "1232                            Chalchihuites, Zac.\n",
       "1233                  Teúl de González Ortega, Zac.\n",
       "1234                             Tlalchichila, Zac.\n",
       "1235                              Tlaltenango, Zac.\n",
       "1236                             Villa de Cos, Zac.\n",
       "1237                    Villa González Ortega, Zac.\n",
       "1238                            Villa Hidalgo, Zac.\n",
       "1239                       José María Morelos, Zac.\n",
       "1240                                Zacatecas, Zac.\n",
       "Name: NOMBRE, Length: 1241, dtype: object"
      ]
     },
     "execution_count": 154,
     "metadata": {},
     "output_type": "execute_result"
    }
   ],
   "source": [
    "rains2019['NOMBRE']"
   ]
  },
  {
   "cell_type": "code",
   "execution_count": 155,
   "metadata": {},
   "outputs": [
    {
     "data": {
      "text/plain": [
       "0      27.441935\n",
       "1      13.462069\n",
       "2      28.088710\n",
       "3      23.374074\n",
       "4      17.987097\n",
       "5      14.730357\n",
       "6      16.614000\n",
       "7      15.850000\n",
       "8      24.151613\n",
       "9      11.682258\n",
       "10     16.250000\n",
       "11     23.260000\n",
       "12     17.741935\n",
       "13     18.038889\n",
       "14     14.440323\n",
       "15     17.670968\n",
       "16     15.238889\n",
       "17     12.630645\n",
       "18     15.437500\n",
       "19     20.096667\n",
       "20     27.137097\n",
       "21     18.395238\n",
       "22     22.087097\n",
       "23     23.881034\n",
       "24     14.698276\n",
       "25     16.029032\n",
       "26      8.104839\n",
       "27     16.546296\n",
       "28     12.815000\n",
       "29     23.403846\n",
       "         ...    \n",
       "605    19.931034\n",
       "606    19.451613\n",
       "607    20.338710\n",
       "608    19.870968\n",
       "609    19.319355\n",
       "610    17.080000\n",
       "611    17.018519\n",
       "612    16.151786\n",
       "613    16.050000\n",
       "614    19.508065\n",
       "615    23.337931\n",
       "616    21.467742\n",
       "617    13.669355\n",
       "618    16.294828\n",
       "619    15.079032\n",
       "620    22.241071\n",
       "621    20.737500\n",
       "622    19.508621\n",
       "623    21.975806\n",
       "624     7.629032\n",
       "625    15.000000\n",
       "626    14.838710\n",
       "627    22.967742\n",
       "628    13.532258\n",
       "629    12.388710\n",
       "630    15.232258\n",
       "631    11.161290\n",
       "632    16.697917\n",
       "633    22.269231\n",
       "634    20.870968\n",
       "Name: Tmed, Length: 635, dtype: float64"
      ]
     },
     "execution_count": 155,
     "metadata": {},
     "output_type": "execute_result"
    }
   ],
   "source": [
    "avgtemp2019['Tmed']"
   ]
  },
  {
   "cell_type": "code",
   "execution_count": 163,
   "metadata": {},
   "outputs": [
    {
     "data": {
      "text/plain": [
       "0      27.441935\n",
       "1      13.462069\n",
       "2      28.088710\n",
       "3      23.374074\n",
       "4      17.987097\n",
       "5      14.730357\n",
       "6      16.614000\n",
       "7      15.850000\n",
       "8      24.151613\n",
       "9      11.682258\n",
       "10     16.250000\n",
       "11     23.260000\n",
       "12     17.741935\n",
       "13     18.038889\n",
       "14     14.440323\n",
       "15     17.670968\n",
       "16     15.238889\n",
       "17     12.630645\n",
       "18     15.437500\n",
       "19     20.096667\n",
       "20     27.137097\n",
       "21     18.395238\n",
       "22     22.087097\n",
       "23     23.881034\n",
       "24     14.698276\n",
       "25     16.029032\n",
       "26      8.104839\n",
       "27     16.546296\n",
       "28     12.815000\n",
       "29     23.403846\n",
       "         ...    \n",
       "605    19.931034\n",
       "606    19.451613\n",
       "607    20.338710\n",
       "608    19.870968\n",
       "609    19.319355\n",
       "610    17.080000\n",
       "611    17.018519\n",
       "612    16.151786\n",
       "613    16.050000\n",
       "614    19.508065\n",
       "615    23.337931\n",
       "616    21.467742\n",
       "617    13.669355\n",
       "618    16.294828\n",
       "619    15.079032\n",
       "620    22.241071\n",
       "621    20.737500\n",
       "622    19.508621\n",
       "623    21.975806\n",
       "624     7.629032\n",
       "625    15.000000\n",
       "626    14.838710\n",
       "627    22.967742\n",
       "628    13.532258\n",
       "629    12.388710\n",
       "630    15.232258\n",
       "631    11.161290\n",
       "632    16.697917\n",
       "633    22.269231\n",
       "634    20.870968\n",
       "Name: Tmed, Length: 635, dtype: float64"
      ]
     },
     "execution_count": 163,
     "metadata": {},
     "output_type": "execute_result"
    }
   ],
   "source": [
    "avgtemp2019.Tmed"
   ]
  },
  {
   "cell_type": "code",
   "execution_count": 165,
   "metadata": {},
   "outputs": [
    {
     "data": {
      "text/plain": [
       "0                                              ACAPULCO\n",
       "1                                                 ALTAR\n",
       "2                                               ARRIAGA\n",
       "3                                              CAMPECHE\n",
       "4                                      CD. CONSTITUCIÓN\n",
       "5                                           CD. OBREGON\n",
       "6                                          CD. VICTORIA\n",
       "7                                      CENTRAL TACUBAYA\n",
       "8                                              CHETUMAL\n",
       "9                                             CHIHUAHUA\n",
       "10                                        CIUDAD GUZMÁN\n",
       "11                                        COATZACOALCOS\n",
       "12                                              COMITAN\n",
       "13                                           CUERNAVACA\n",
       "14                                              DURANGO\n",
       "15                                              EMPALME\n",
       "16                                           GUANAJUATO\n",
       "17                                      HGO. DEL PARRAL\n",
       "18                                               JALAPA\n",
       "19                                               LA PAZ\n",
       "20                                           MANZANILLO\n",
       "21                                              MATLAPA\n",
       "22                                             MAZATLAN\n",
       "23                                               MERIDA\n",
       "24                                             MONCLOVA\n",
       "25                                              MORELIA\n",
       "26                                  NUEVO CASAS GRANDES\n",
       "27                                              ORIZABA\n",
       "28                                       PIEDRAS NEGRAS\n",
       "29                                             PROGRESO\n",
       "                             ...                       \n",
       "605                                   Rancho Nuevo Pue.\n",
       "606                          Sanalona hidrométrica Sin.\n",
       "607    Bacurato hidrométrica de Gustavo Diaz Ordáz Sin.\n",
       "608                        El Sabinal hidrométrica Sin.\n",
       "609                                               CHOIX\n",
       "610               Presa Plutarco Elías Calles Son. SGT*\n",
       "611                              Ciudad Victoria Tamps.\n",
       "612                            Barretal Dos Tamps. SGT*\n",
       "613                         Cándido Aguilar Tamps. SGT*\n",
       "614                                          Abalá Yuc.\n",
       "615                                  Celestún Yuc. SMN*\n",
       "616                                        Mocochá Yuc.\n",
       "617                                   Santa Teresa Zac.\n",
       "618                               Motozintla Chis. SGT*\n",
       "619                                    CCH Azcapotzalco\n",
       "620                                  Tierra Morada Ver.\n",
       "621                                 Siltepec Chis. SGT*\n",
       "622                                    Ahualulco Tamps.\n",
       "623                                       Carrizal Ver.\n",
       "624                                     Bachíniva Chih.\n",
       "625                                      Gabino Barreda\n",
       "626                                          Bocas Jal.\n",
       "627                                Colonia Hidalgo Mex.\n",
       "628                                  Porfirio Díaz Méx.\n",
       "629                                       Rectoría Méx.\n",
       "630                                       CCH Naucalpan\n",
       "631                          Santa María del Llano Méx.\n",
       "632                                      Zacatepec Oax.\n",
       "633                       Naranjal Lerdo de Tejada Ver.\n",
       "634                                         Conkal Yuc.\n",
       "Name: Est, Length: 635, dtype: object"
      ]
     },
     "execution_count": 165,
     "metadata": {},
     "output_type": "execute_result"
    }
   ],
   "source": [
    "avgtemp2019.Est"
   ]
  },
  {
   "cell_type": "code",
   "execution_count": 170,
   "metadata": {},
   "outputs": [
    {
     "data": {
      "text/plain": [
       "True"
      ]
     },
     "execution_count": 170,
     "metadata": {},
     "output_type": "execute_result"
    }
   ],
   "source": [
    "avgtemp2019.Est is avgtemp2019['Est']"
   ]
  },
  {
   "cell_type": "code",
   "execution_count": 171,
   "metadata": {},
   "outputs": [
    {
     "data": {
      "text/plain": [
       "True"
      ]
     },
     "execution_count": 171,
     "metadata": {},
     "output_type": "execute_result"
    }
   ],
   "source": [
    "rains2019.ENE is rains2019['ENE']"
   ]
  },
  {
   "cell_type": "code",
   "execution_count": 176,
   "metadata": {},
   "outputs": [
    {
     "data": {
      "text/plain": [
       "0       0.240872\n",
       "1       0.787398\n",
       "2       0.373816\n",
       "3       0.777357\n",
       "4       0.928443\n",
       "5       1.174445\n",
       "6       0.553750\n",
       "7       0.832808\n",
       "8       0.298117\n",
       "9       0.539279\n",
       "10      1.495385\n",
       "11      0.236887\n",
       "12      0.873636\n",
       "13      0.482846\n",
       "14      0.720206\n",
       "15      0.622490\n",
       "16      0.446227\n",
       "17      0.475035\n",
       "18      0.746883\n",
       "19      0.866313\n",
       "20      0.221100\n",
       "21      0.597981\n",
       "22      1.005112\n",
       "23      0.788073\n",
       "24      3.279296\n",
       "25      0.705595\n",
       "26      7.242587\n",
       "27      1.244992\n",
       "28      3.778385\n",
       "29      0.380279\n",
       "          ...   \n",
       "1211         NaN\n",
       "1212         NaN\n",
       "1213         NaN\n",
       "1214         NaN\n",
       "1215         NaN\n",
       "1216         NaN\n",
       "1217         NaN\n",
       "1218         NaN\n",
       "1219         NaN\n",
       "1220         NaN\n",
       "1221         NaN\n",
       "1222         NaN\n",
       "1223         NaN\n",
       "1224         NaN\n",
       "1225         NaN\n",
       "1226         NaN\n",
       "1227         NaN\n",
       "1228         NaN\n",
       "1229         NaN\n",
       "1230         NaN\n",
       "1231         NaN\n",
       "1232         NaN\n",
       "1233         NaN\n",
       "1234         NaN\n",
       "1235         NaN\n",
       "1236         NaN\n",
       "1237         NaN\n",
       "1238         NaN\n",
       "1239         NaN\n",
       "1240         NaN\n",
       "Name: Ratio, Length: 1241, dtype: float64"
      ]
     },
     "execution_count": 176,
     "metadata": {},
     "output_type": "execute_result"
    }
   ],
   "source": [
    "rains2019['Ratio'] = rains2019.ENE / avgtemp2019.Tmed\n",
    "rains2019['Ratio']"
   ]
  },
  {
   "cell_type": "code",
   "execution_count": 177,
   "metadata": {},
   "outputs": [
    {
     "data": {
      "text/html": [
       "<div>\n",
       "<style scoped>\n",
       "    .dataframe tbody tr th:only-of-type {\n",
       "        vertical-align: middle;\n",
       "    }\n",
       "\n",
       "    .dataframe tbody tr th {\n",
       "        vertical-align: top;\n",
       "    }\n",
       "\n",
       "    .dataframe thead th {\n",
       "        text-align: right;\n",
       "    }\n",
       "</style>\n",
       "<table border=\"1\" class=\"dataframe\">\n",
       "  <thead>\n",
       "    <tr style=\"text-align: right;\">\n",
       "      <th></th>\n",
       "      <th>NOMBRE</th>\n",
       "      <th>ENE</th>\n",
       "      <th>Rain/Temp Ratio</th>\n",
       "      <th>Ratio</th>\n",
       "    </tr>\n",
       "  </thead>\n",
       "  <tbody>\n",
       "    <tr>\n",
       "      <th>0</th>\n",
       "      <td>Aguascalientes, Ags.</td>\n",
       "      <td>6.61</td>\n",
       "      <td>0.240872</td>\n",
       "      <td>0.240872</td>\n",
       "    </tr>\n",
       "    <tr>\n",
       "      <th>1</th>\n",
       "      <td>Cincuenta Aniversario, Ags.</td>\n",
       "      <td>10.60</td>\n",
       "      <td>0.787398</td>\n",
       "      <td>0.787398</td>\n",
       "    </tr>\n",
       "    <tr>\n",
       "      <th>2</th>\n",
       "      <td>San Bartolo, Ags.</td>\n",
       "      <td>10.50</td>\n",
       "      <td>0.373816</td>\n",
       "      <td>0.373816</td>\n",
       "    </tr>\n",
       "    <tr>\n",
       "      <th>3</th>\n",
       "      <td>Calvillo, Ags. SMN*</td>\n",
       "      <td>18.17</td>\n",
       "      <td>0.777357</td>\n",
       "      <td>0.777357</td>\n",
       "    </tr>\n",
       "    <tr>\n",
       "      <th>4</th>\n",
       "      <td>La Codorniz, Ags.</td>\n",
       "      <td>16.70</td>\n",
       "      <td>0.928443</td>\n",
       "      <td>0.928443</td>\n",
       "    </tr>\n",
       "    <tr>\n",
       "      <th>5</th>\n",
       "      <td>Cañada Honda, Ags.</td>\n",
       "      <td>17.30</td>\n",
       "      <td>1.174445</td>\n",
       "      <td>1.174445</td>\n",
       "    </tr>\n",
       "    <tr>\n",
       "      <th>6</th>\n",
       "      <td>Calvillo, Ags.</td>\n",
       "      <td>9.20</td>\n",
       "      <td>0.553750</td>\n",
       "      <td>0.553750</td>\n",
       "    </tr>\n",
       "    <tr>\n",
       "      <th>7</th>\n",
       "      <td>Los Conos, Ags.</td>\n",
       "      <td>13.20</td>\n",
       "      <td>0.832808</td>\n",
       "      <td>0.832808</td>\n",
       "    </tr>\n",
       "    <tr>\n",
       "      <th>8</th>\n",
       "      <td>Cosío, Ags.</td>\n",
       "      <td>7.20</td>\n",
       "      <td>0.298117</td>\n",
       "      <td>0.298117</td>\n",
       "    </tr>\n",
       "    <tr>\n",
       "      <th>9</th>\n",
       "      <td>Jocoque, Ags.</td>\n",
       "      <td>6.30</td>\n",
       "      <td>0.539279</td>\n",
       "      <td>0.539279</td>\n",
       "    </tr>\n",
       "    <tr>\n",
       "      <th>10</th>\n",
       "      <td>Media Luna, Ags.</td>\n",
       "      <td>24.30</td>\n",
       "      <td>1.495385</td>\n",
       "      <td>1.495385</td>\n",
       "    </tr>\n",
       "    <tr>\n",
       "      <th>11</th>\n",
       "      <td>El Niagara, Ags.</td>\n",
       "      <td>5.51</td>\n",
       "      <td>0.236887</td>\n",
       "      <td>0.236887</td>\n",
       "    </tr>\n",
       "    <tr>\n",
       "      <th>12</th>\n",
       "      <td>El Novillo, Ags.</td>\n",
       "      <td>15.50</td>\n",
       "      <td>0.873636</td>\n",
       "      <td>0.873636</td>\n",
       "    </tr>\n",
       "    <tr>\n",
       "      <th>13</th>\n",
       "      <td>Observatorio de Aguascalientes, Ags.</td>\n",
       "      <td>8.71</td>\n",
       "      <td>0.482846</td>\n",
       "      <td>0.482846</td>\n",
       "    </tr>\n",
       "    <tr>\n",
       "      <th>14</th>\n",
       "      <td>Presa Cincuenta Aniversario, Ags. SMN*</td>\n",
       "      <td>10.40</td>\n",
       "      <td>0.720206</td>\n",
       "      <td>0.720206</td>\n",
       "    </tr>\n",
       "    <tr>\n",
       "      <th>15</th>\n",
       "      <td>Palo Alto, Ags.</td>\n",
       "      <td>11.00</td>\n",
       "      <td>0.622490</td>\n",
       "      <td>0.622490</td>\n",
       "    </tr>\n",
       "    <tr>\n",
       "      <th>16</th>\n",
       "      <td>Pabellón, Ags.</td>\n",
       "      <td>6.80</td>\n",
       "      <td>0.446227</td>\n",
       "      <td>0.446227</td>\n",
       "    </tr>\n",
       "    <tr>\n",
       "      <th>17</th>\n",
       "      <td>Plutarco Elías Calles, Ags.</td>\n",
       "      <td>6.00</td>\n",
       "      <td>0.475035</td>\n",
       "      <td>0.475035</td>\n",
       "    </tr>\n",
       "    <tr>\n",
       "      <th>18</th>\n",
       "      <td>Puerto de la Concepción, Ags.</td>\n",
       "      <td>11.53</td>\n",
       "      <td>0.746883</td>\n",
       "      <td>0.746883</td>\n",
       "    </tr>\n",
       "    <tr>\n",
       "      <th>19</th>\n",
       "      <td>Derivadora Pabellón, Ags.</td>\n",
       "      <td>17.41</td>\n",
       "      <td>0.866313</td>\n",
       "      <td>0.866313</td>\n",
       "    </tr>\n",
       "    <tr>\n",
       "      <th>20</th>\n",
       "      <td>Sandovales, Ags.</td>\n",
       "      <td>6.00</td>\n",
       "      <td>0.221100</td>\n",
       "      <td>0.221100</td>\n",
       "    </tr>\n",
       "    <tr>\n",
       "      <th>21</th>\n",
       "      <td>La Tinaja 2, Ags.</td>\n",
       "      <td>11.00</td>\n",
       "      <td>0.597981</td>\n",
       "      <td>0.597981</td>\n",
       "    </tr>\n",
       "    <tr>\n",
       "      <th>22</th>\n",
       "      <td>Villa Juárez, Ags.</td>\n",
       "      <td>22.20</td>\n",
       "      <td>1.005112</td>\n",
       "      <td>1.005112</td>\n",
       "    </tr>\n",
       "    <tr>\n",
       "      <th>23</th>\n",
       "      <td>Agua Hechicera, B.C.</td>\n",
       "      <td>18.82</td>\n",
       "      <td>0.788073</td>\n",
       "      <td>0.788073</td>\n",
       "    </tr>\n",
       "    <tr>\n",
       "      <th>24</th>\n",
       "      <td>Abelardo L. Rodríguez, B.C.</td>\n",
       "      <td>48.20</td>\n",
       "      <td>3.279296</td>\n",
       "      <td>3.279296</td>\n",
       "    </tr>\n",
       "    <tr>\n",
       "      <th>25</th>\n",
       "      <td>Cataviña, B.C. SMN*</td>\n",
       "      <td>11.31</td>\n",
       "      <td>0.705595</td>\n",
       "      <td>0.705595</td>\n",
       "    </tr>\n",
       "    <tr>\n",
       "      <th>26</th>\n",
       "      <td>El Carrizo, B.C.</td>\n",
       "      <td>58.70</td>\n",
       "      <td>7.242587</td>\n",
       "      <td>7.242587</td>\n",
       "    </tr>\n",
       "    <tr>\n",
       "      <th>27</th>\n",
       "      <td>El Florido, B.C.</td>\n",
       "      <td>20.60</td>\n",
       "      <td>1.244992</td>\n",
       "      <td>1.244992</td>\n",
       "    </tr>\n",
       "    <tr>\n",
       "      <th>28</th>\n",
       "      <td>Emilio López Zamora, B.C.</td>\n",
       "      <td>48.42</td>\n",
       "      <td>3.778385</td>\n",
       "      <td>3.778385</td>\n",
       "    </tr>\n",
       "    <tr>\n",
       "      <th>29</th>\n",
       "      <td>Ejido Nuevo León, B.C.</td>\n",
       "      <td>8.90</td>\n",
       "      <td>0.380279</td>\n",
       "      <td>0.380279</td>\n",
       "    </tr>\n",
       "    <tr>\n",
       "      <th>...</th>\n",
       "      <td>...</td>\n",
       "      <td>...</td>\n",
       "      <td>...</td>\n",
       "      <td>...</td>\n",
       "    </tr>\n",
       "    <tr>\n",
       "      <th>1211</th>\n",
       "      <td>Jerez, Zac.</td>\n",
       "      <td>6.60</td>\n",
       "      <td>NaN</td>\n",
       "      <td>NaN</td>\n",
       "    </tr>\n",
       "    <tr>\n",
       "      <th>1212</th>\n",
       "      <td>La Bufa, Zac.</td>\n",
       "      <td>7.70</td>\n",
       "      <td>NaN</td>\n",
       "      <td>NaN</td>\n",
       "    </tr>\n",
       "    <tr>\n",
       "      <th>1213</th>\n",
       "      <td>La Florida, Zac.</td>\n",
       "      <td>2.51</td>\n",
       "      <td>NaN</td>\n",
       "      <td>NaN</td>\n",
       "    </tr>\n",
       "    <tr>\n",
       "      <th>1214</th>\n",
       "      <td>Llano Blanco, Zac.</td>\n",
       "      <td>20.80</td>\n",
       "      <td>NaN</td>\n",
       "      <td>NaN</td>\n",
       "    </tr>\n",
       "    <tr>\n",
       "      <th>1215</th>\n",
       "      <td>Manuel Felgueres, Zac.</td>\n",
       "      <td>13.50</td>\n",
       "      <td>NaN</td>\n",
       "      <td>NaN</td>\n",
       "    </tr>\n",
       "    <tr>\n",
       "      <th>1216</th>\n",
       "      <td>Loreto, Zac.</td>\n",
       "      <td>13.61</td>\n",
       "      <td>NaN</td>\n",
       "      <td>NaN</td>\n",
       "    </tr>\n",
       "    <tr>\n",
       "      <th>1217</th>\n",
       "      <td>Gobernador Leobardo Reynoso, Zac.</td>\n",
       "      <td>8.00</td>\n",
       "      <td>NaN</td>\n",
       "      <td>NaN</td>\n",
       "    </tr>\n",
       "    <tr>\n",
       "      <th>1218</th>\n",
       "      <td>Mezquital del Oro, Zac.</td>\n",
       "      <td>22.02</td>\n",
       "      <td>NaN</td>\n",
       "      <td>NaN</td>\n",
       "    </tr>\n",
       "    <tr>\n",
       "      <th>1219</th>\n",
       "      <td>Monte Escobedo, Zac.</td>\n",
       "      <td>6.02</td>\n",
       "      <td>NaN</td>\n",
       "      <td>NaN</td>\n",
       "    </tr>\n",
       "    <tr>\n",
       "      <th>1220</th>\n",
       "      <td>Nochistlán, Zac.</td>\n",
       "      <td>29.70</td>\n",
       "      <td>NaN</td>\n",
       "      <td>NaN</td>\n",
       "    </tr>\n",
       "    <tr>\n",
       "      <th>1221</th>\n",
       "      <td>Nuevo Tampico, Zac.</td>\n",
       "      <td>4.80</td>\n",
       "      <td>NaN</td>\n",
       "      <td>NaN</td>\n",
       "    </tr>\n",
       "    <tr>\n",
       "      <th>1222</th>\n",
       "      <td>Palomas, Zac.</td>\n",
       "      <td>9.80</td>\n",
       "      <td>NaN</td>\n",
       "      <td>NaN</td>\n",
       "    </tr>\n",
       "    <tr>\n",
       "      <th>1223</th>\n",
       "      <td>Pino Suárez, Zac.</td>\n",
       "      <td>3.50</td>\n",
       "      <td>NaN</td>\n",
       "      <td>NaN</td>\n",
       "    </tr>\n",
       "    <tr>\n",
       "      <th>1224</th>\n",
       "      <td>Moraleños, Zac.</td>\n",
       "      <td>15.70</td>\n",
       "      <td>NaN</td>\n",
       "      <td>NaN</td>\n",
       "    </tr>\n",
       "    <tr>\n",
       "      <th>1225</th>\n",
       "      <td>Río Grande, Zac.</td>\n",
       "      <td>3.61</td>\n",
       "      <td>NaN</td>\n",
       "      <td>NaN</td>\n",
       "    </tr>\n",
       "    <tr>\n",
       "      <th>1226</th>\n",
       "      <td>San Francisco, Zac.</td>\n",
       "      <td>9.70</td>\n",
       "      <td>NaN</td>\n",
       "      <td>NaN</td>\n",
       "    </tr>\n",
       "    <tr>\n",
       "      <th>1227</th>\n",
       "      <td>Santiago, Zac.</td>\n",
       "      <td>5.00</td>\n",
       "      <td>NaN</td>\n",
       "      <td>NaN</td>\n",
       "    </tr>\n",
       "    <tr>\n",
       "      <th>1228</th>\n",
       "      <td>Sombrerete, Zac.</td>\n",
       "      <td>1.60</td>\n",
       "      <td>NaN</td>\n",
       "      <td>NaN</td>\n",
       "    </tr>\n",
       "    <tr>\n",
       "      <th>1229</th>\n",
       "      <td>Santa Teresa (Independencia Nacional), Zac.</td>\n",
       "      <td>6.00</td>\n",
       "      <td>NaN</td>\n",
       "      <td>NaN</td>\n",
       "    </tr>\n",
       "    <tr>\n",
       "      <th>1230</th>\n",
       "      <td>Santa Rosa, Zac.</td>\n",
       "      <td>18.52</td>\n",
       "      <td>NaN</td>\n",
       "      <td>NaN</td>\n",
       "    </tr>\n",
       "    <tr>\n",
       "      <th>1231</th>\n",
       "      <td>Ing. Julián Adame Alatorre, Zac.</td>\n",
       "      <td>13.50</td>\n",
       "      <td>NaN</td>\n",
       "      <td>NaN</td>\n",
       "    </tr>\n",
       "    <tr>\n",
       "      <th>1232</th>\n",
       "      <td>Chalchihuites, Zac.</td>\n",
       "      <td>3.00</td>\n",
       "      <td>NaN</td>\n",
       "      <td>NaN</td>\n",
       "    </tr>\n",
       "    <tr>\n",
       "      <th>1233</th>\n",
       "      <td>Teúl de González Ortega, Zac.</td>\n",
       "      <td>30.10</td>\n",
       "      <td>NaN</td>\n",
       "      <td>NaN</td>\n",
       "    </tr>\n",
       "    <tr>\n",
       "      <th>1234</th>\n",
       "      <td>Tlalchichila, Zac.</td>\n",
       "      <td>25.01</td>\n",
       "      <td>NaN</td>\n",
       "      <td>NaN</td>\n",
       "    </tr>\n",
       "    <tr>\n",
       "      <th>1235</th>\n",
       "      <td>Tlaltenango, Zac.</td>\n",
       "      <td>14.02</td>\n",
       "      <td>NaN</td>\n",
       "      <td>NaN</td>\n",
       "    </tr>\n",
       "    <tr>\n",
       "      <th>1236</th>\n",
       "      <td>Villa de Cos, Zac.</td>\n",
       "      <td>7.00</td>\n",
       "      <td>NaN</td>\n",
       "      <td>NaN</td>\n",
       "    </tr>\n",
       "    <tr>\n",
       "      <th>1237</th>\n",
       "      <td>Villa González Ortega, Zac.</td>\n",
       "      <td>32.32</td>\n",
       "      <td>NaN</td>\n",
       "      <td>NaN</td>\n",
       "    </tr>\n",
       "    <tr>\n",
       "      <th>1238</th>\n",
       "      <td>Villa Hidalgo, Zac.</td>\n",
       "      <td>9.70</td>\n",
       "      <td>NaN</td>\n",
       "      <td>NaN</td>\n",
       "    </tr>\n",
       "    <tr>\n",
       "      <th>1239</th>\n",
       "      <td>José María Morelos, Zac.</td>\n",
       "      <td>15.20</td>\n",
       "      <td>NaN</td>\n",
       "      <td>NaN</td>\n",
       "    </tr>\n",
       "    <tr>\n",
       "      <th>1240</th>\n",
       "      <td>Zacatecas, Zac.</td>\n",
       "      <td>12.02</td>\n",
       "      <td>NaN</td>\n",
       "      <td>NaN</td>\n",
       "    </tr>\n",
       "  </tbody>\n",
       "</table>\n",
       "<p>1241 rows × 4 columns</p>\n",
       "</div>"
      ],
      "text/plain": [
       "                                           NOMBRE    ENE  Rain/Temp Ratio  \\\n",
       "0                            Aguascalientes, Ags.   6.61         0.240872   \n",
       "1                     Cincuenta Aniversario, Ags.  10.60         0.787398   \n",
       "2                               San Bartolo, Ags.  10.50         0.373816   \n",
       "3                             Calvillo, Ags. SMN*  18.17         0.777357   \n",
       "4                               La Codorniz, Ags.  16.70         0.928443   \n",
       "5                              Cañada Honda, Ags.  17.30         1.174445   \n",
       "6                                  Calvillo, Ags.   9.20         0.553750   \n",
       "7                                 Los Conos, Ags.  13.20         0.832808   \n",
       "8                                     Cosío, Ags.   7.20         0.298117   \n",
       "9                                   Jocoque, Ags.   6.30         0.539279   \n",
       "10                               Media Luna, Ags.  24.30         1.495385   \n",
       "11                               El Niagara, Ags.   5.51         0.236887   \n",
       "12                               El Novillo, Ags.  15.50         0.873636   \n",
       "13           Observatorio de Aguascalientes, Ags.   8.71         0.482846   \n",
       "14         Presa Cincuenta Aniversario, Ags. SMN*  10.40         0.720206   \n",
       "15                                Palo Alto, Ags.  11.00         0.622490   \n",
       "16                                 Pabellón, Ags.   6.80         0.446227   \n",
       "17                    Plutarco Elías Calles, Ags.   6.00         0.475035   \n",
       "18                  Puerto de la Concepción, Ags.  11.53         0.746883   \n",
       "19                      Derivadora Pabellón, Ags.  17.41         0.866313   \n",
       "20                               Sandovales, Ags.   6.00         0.221100   \n",
       "21                              La Tinaja 2, Ags.  11.00         0.597981   \n",
       "22                             Villa Juárez, Ags.  22.20         1.005112   \n",
       "23                           Agua Hechicera, B.C.  18.82         0.788073   \n",
       "24                    Abelardo L. Rodríguez, B.C.  48.20         3.279296   \n",
       "25                            Cataviña, B.C. SMN*  11.31         0.705595   \n",
       "26                               El Carrizo, B.C.  58.70         7.242587   \n",
       "27                               El Florido, B.C.  20.60         1.244992   \n",
       "28                      Emilio López Zamora, B.C.  48.42         3.778385   \n",
       "29                         Ejido Nuevo León, B.C.   8.90         0.380279   \n",
       "...                                           ...    ...              ...   \n",
       "1211                                  Jerez, Zac.   6.60              NaN   \n",
       "1212                                La Bufa, Zac.   7.70              NaN   \n",
       "1213                             La Florida, Zac.   2.51              NaN   \n",
       "1214                           Llano Blanco, Zac.  20.80              NaN   \n",
       "1215                       Manuel Felgueres, Zac.  13.50              NaN   \n",
       "1216                                 Loreto, Zac.  13.61              NaN   \n",
       "1217            Gobernador Leobardo Reynoso, Zac.   8.00              NaN   \n",
       "1218                      Mezquital del Oro, Zac.  22.02              NaN   \n",
       "1219                         Monte Escobedo, Zac.   6.02              NaN   \n",
       "1220                             Nochistlán, Zac.  29.70              NaN   \n",
       "1221                          Nuevo Tampico, Zac.   4.80              NaN   \n",
       "1222                                Palomas, Zac.   9.80              NaN   \n",
       "1223                            Pino Suárez, Zac.   3.50              NaN   \n",
       "1224                              Moraleños, Zac.  15.70              NaN   \n",
       "1225                             Río Grande, Zac.   3.61              NaN   \n",
       "1226                          San Francisco, Zac.   9.70              NaN   \n",
       "1227                               Santiago, Zac.   5.00              NaN   \n",
       "1228                             Sombrerete, Zac.   1.60              NaN   \n",
       "1229  Santa Teresa (Independencia Nacional), Zac.   6.00              NaN   \n",
       "1230                             Santa Rosa, Zac.  18.52              NaN   \n",
       "1231             Ing. Julián Adame Alatorre, Zac.  13.50              NaN   \n",
       "1232                          Chalchihuites, Zac.   3.00              NaN   \n",
       "1233                Teúl de González Ortega, Zac.  30.10              NaN   \n",
       "1234                           Tlalchichila, Zac.  25.01              NaN   \n",
       "1235                            Tlaltenango, Zac.  14.02              NaN   \n",
       "1236                           Villa de Cos, Zac.   7.00              NaN   \n",
       "1237                  Villa González Ortega, Zac.  32.32              NaN   \n",
       "1238                          Villa Hidalgo, Zac.   9.70              NaN   \n",
       "1239                     José María Morelos, Zac.  15.20              NaN   \n",
       "1240                              Zacatecas, Zac.  12.02              NaN   \n",
       "\n",
       "         Ratio  \n",
       "0     0.240872  \n",
       "1     0.787398  \n",
       "2     0.373816  \n",
       "3     0.777357  \n",
       "4     0.928443  \n",
       "5     1.174445  \n",
       "6     0.553750  \n",
       "7     0.832808  \n",
       "8     0.298117  \n",
       "9     0.539279  \n",
       "10    1.495385  \n",
       "11    0.236887  \n",
       "12    0.873636  \n",
       "13    0.482846  \n",
       "14    0.720206  \n",
       "15    0.622490  \n",
       "16    0.446227  \n",
       "17    0.475035  \n",
       "18    0.746883  \n",
       "19    0.866313  \n",
       "20    0.221100  \n",
       "21    0.597981  \n",
       "22    1.005112  \n",
       "23    0.788073  \n",
       "24    3.279296  \n",
       "25    0.705595  \n",
       "26    7.242587  \n",
       "27    1.244992  \n",
       "28    3.778385  \n",
       "29    0.380279  \n",
       "...        ...  \n",
       "1211       NaN  \n",
       "1212       NaN  \n",
       "1213       NaN  \n",
       "1214       NaN  \n",
       "1215       NaN  \n",
       "1216       NaN  \n",
       "1217       NaN  \n",
       "1218       NaN  \n",
       "1219       NaN  \n",
       "1220       NaN  \n",
       "1221       NaN  \n",
       "1222       NaN  \n",
       "1223       NaN  \n",
       "1224       NaN  \n",
       "1225       NaN  \n",
       "1226       NaN  \n",
       "1227       NaN  \n",
       "1228       NaN  \n",
       "1229       NaN  \n",
       "1230       NaN  \n",
       "1231       NaN  \n",
       "1232       NaN  \n",
       "1233       NaN  \n",
       "1234       NaN  \n",
       "1235       NaN  \n",
       "1236       NaN  \n",
       "1237       NaN  \n",
       "1238       NaN  \n",
       "1239       NaN  \n",
       "1240       NaN  \n",
       "\n",
       "[1241 rows x 4 columns]"
      ]
     },
     "execution_count": 177,
     "metadata": {},
     "output_type": "execute_result"
    }
   ],
   "source": [
    "rains2019"
   ]
  },
  {
   "cell_type": "markdown",
   "metadata": {},
   "source": [
    "# DataFrame as two-dimensional array"
   ]
  },
  {
   "cell_type": "code",
   "execution_count": 179,
   "metadata": {},
   "outputs": [
    {
     "data": {
      "text/plain": [
       "array([['Aguascalientes, Ags.', 25.8],\n",
       "       ['Cincuenta Aniversario, Ags.', 58.6],\n",
       "       ['Calvillo, Ags. SMN*', 56.0],\n",
       "       ...,\n",
       "       ['Coyuca de Catalán', 0.4],\n",
       "       ['Zihuatanejo de Azueta', 2.2],\n",
       "       ['Zimapán', 9.8]], dtype=object)"
      ]
     },
     "execution_count": 179,
     "metadata": {},
     "output_type": "execute_result"
    }
   ],
   "source": [
    "rains2018.values"
   ]
  },
  {
   "cell_type": "code",
   "execution_count": 180,
   "metadata": {},
   "outputs": [
    {
     "data": {
      "text/html": [
       "<div>\n",
       "<style scoped>\n",
       "    .dataframe tbody tr th:only-of-type {\n",
       "        vertical-align: middle;\n",
       "    }\n",
       "\n",
       "    .dataframe tbody tr th {\n",
       "        vertical-align: top;\n",
       "    }\n",
       "\n",
       "    .dataframe thead th {\n",
       "        text-align: right;\n",
       "    }\n",
       "</style>\n",
       "<table border=\"1\" class=\"dataframe\">\n",
       "  <thead>\n",
       "    <tr style=\"text-align: right;\">\n",
       "      <th></th>\n",
       "      <th>0</th>\n",
       "      <th>1</th>\n",
       "      <th>2</th>\n",
       "      <th>3</th>\n",
       "      <th>4</th>\n",
       "      <th>5</th>\n",
       "      <th>6</th>\n",
       "      <th>7</th>\n",
       "      <th>8</th>\n",
       "      <th>9</th>\n",
       "      <th>...</th>\n",
       "      <th>1874</th>\n",
       "      <th>1875</th>\n",
       "      <th>1876</th>\n",
       "      <th>1877</th>\n",
       "      <th>1878</th>\n",
       "      <th>1879</th>\n",
       "      <th>1880</th>\n",
       "      <th>1881</th>\n",
       "      <th>1882</th>\n",
       "      <th>1883</th>\n",
       "    </tr>\n",
       "  </thead>\n",
       "  <tbody>\n",
       "    <tr>\n",
       "      <th>NOMBRE</th>\n",
       "      <td>Aguascalientes, Ags.</td>\n",
       "      <td>Cincuenta Aniversario, Ags.</td>\n",
       "      <td>Calvillo, Ags. SMN*</td>\n",
       "      <td>La Codorniz, Ags.</td>\n",
       "      <td>Cañada Honda, Ags.</td>\n",
       "      <td>Calvillito, Ags.</td>\n",
       "      <td>Los Conos, Ags.</td>\n",
       "      <td>Cosio, Ags.</td>\n",
       "      <td>Media Luna, Ags.</td>\n",
       "      <td>El Niagara, Ags.</td>\n",
       "      <td>...</td>\n",
       "      <td>Villa de Ramos</td>\n",
       "      <td>Guadalupe</td>\n",
       "      <td>Zacatecas</td>\n",
       "      <td>Zacatepec</td>\n",
       "      <td>Zacualtipán de Ángeles</td>\n",
       "      <td>Zapotlán de Juárez</td>\n",
       "      <td>Ocoyoacac</td>\n",
       "      <td>Coyuca de Catalán</td>\n",
       "      <td>Zihuatanejo de Azueta</td>\n",
       "      <td>Zimapán</td>\n",
       "    </tr>\n",
       "    <tr>\n",
       "      <th>ENE</th>\n",
       "      <td>25.8</td>\n",
       "      <td>58.6</td>\n",
       "      <td>56</td>\n",
       "      <td>50</td>\n",
       "      <td>17.2</td>\n",
       "      <td>13.5</td>\n",
       "      <td>51.5</td>\n",
       "      <td>35.5</td>\n",
       "      <td>48.9</td>\n",
       "      <td>25.4</td>\n",
       "      <td>...</td>\n",
       "      <td>3.6</td>\n",
       "      <td>42.5</td>\n",
       "      <td>21.4</td>\n",
       "      <td>0</td>\n",
       "      <td>94.4</td>\n",
       "      <td>4.4</td>\n",
       "      <td>20.4</td>\n",
       "      <td>0.4</td>\n",
       "      <td>2.2</td>\n",
       "      <td>9.8</td>\n",
       "    </tr>\n",
       "  </tbody>\n",
       "</table>\n",
       "<p>2 rows × 1884 columns</p>\n",
       "</div>"
      ],
      "text/plain": [
       "                        0                            1     \\\n",
       "NOMBRE  Aguascalientes, Ags.  Cincuenta Aniversario, Ags.   \n",
       "ENE                     25.8                         58.6   \n",
       "\n",
       "                       2                  3                   4     \\\n",
       "NOMBRE  Calvillo, Ags. SMN*  La Codorniz, Ags.  Cañada Honda, Ags.   \n",
       "ENE                      56                 50                17.2   \n",
       "\n",
       "                    5                6            7                 8     \\\n",
       "NOMBRE  Calvillito, Ags.  Los Conos, Ags.  Cosio, Ags.  Media Luna, Ags.   \n",
       "ENE                 13.5             51.5         35.5              48.9   \n",
       "\n",
       "                    9      ...               1874       1875       1876  \\\n",
       "NOMBRE  El Niagara, Ags.   ...     Villa de Ramos  Guadalupe  Zacatecas   \n",
       "ENE                 25.4   ...                3.6       42.5       21.4   \n",
       "\n",
       "             1877                    1878                1879       1880  \\\n",
       "NOMBRE  Zacatepec  Zacualtipán de Ángeles  Zapotlán de Juárez  Ocoyoacac   \n",
       "ENE             0                    94.4                 4.4       20.4   \n",
       "\n",
       "                     1881                   1882     1883  \n",
       "NOMBRE  Coyuca de Catalán  Zihuatanejo de Azueta  Zimapán  \n",
       "ENE                   0.4                    2.2      9.8  \n",
       "\n",
       "[2 rows x 1884 columns]"
      ]
     },
     "execution_count": 180,
     "metadata": {},
     "output_type": "execute_result"
    }
   ],
   "source": [
    "rains2018.T"
   ]
  },
  {
   "cell_type": "code",
   "execution_count": 182,
   "metadata": {},
   "outputs": [
    {
     "data": {
      "text/plain": [
       "array(['Aguascalientes, Ags.', 25.8], dtype=object)"
      ]
     },
     "execution_count": 182,
     "metadata": {},
     "output_type": "execute_result"
    }
   ],
   "source": [
    "rains2018.values[0]"
   ]
  },
  {
   "cell_type": "code",
   "execution_count": 183,
   "metadata": {},
   "outputs": [
    {
     "data": {
      "text/plain": [
       "0        25.8\n",
       "1        58.6\n",
       "2        56.0\n",
       "3        50.0\n",
       "4        17.2\n",
       "5        13.5\n",
       "6        51.5\n",
       "7        35.5\n",
       "8        48.9\n",
       "9        25.4\n",
       "10       20.9\n",
       "11       57.2\n",
       "12       19.0\n",
       "13       22.0\n",
       "14       50.0\n",
       "15       26.7\n",
       "16       52.8\n",
       "17        8.0\n",
       "18       10.0\n",
       "19       16.9\n",
       "20        1.4\n",
       "21       53.6\n",
       "22        0.5\n",
       "23       47.6\n",
       "24       44.6\n",
       "25       24.0\n",
       "26        7.6\n",
       "27        0.0\n",
       "28       35.9\n",
       "29        0.0\n",
       "        ...  \n",
       "1854      0.0\n",
       "1855     24.3\n",
       "1856      0.5\n",
       "1857      5.8\n",
       "1858      0.0\n",
       "1859     32.2\n",
       "1860      0.2\n",
       "1861     23.2\n",
       "1862      0.2\n",
       "1863      3.6\n",
       "1864     12.4\n",
       "1865    403.2\n",
       "1866     15.8\n",
       "1867     43.8\n",
       "1868      3.8\n",
       "1869     10.2\n",
       "1870    219.4\n",
       "1871      8.1\n",
       "1872      0.0\n",
       "1873     69.6\n",
       "1874      3.6\n",
       "1875     42.5\n",
       "1876     21.4\n",
       "1877      0.0\n",
       "1878     94.4\n",
       "1879      4.4\n",
       "1880     20.4\n",
       "1881      0.4\n",
       "1882      2.2\n",
       "1883      9.8\n",
       "Name: ENE, Length: 1884, dtype: float64"
      ]
     },
     "execution_count": 183,
     "metadata": {},
     "output_type": "execute_result"
    }
   ],
   "source": [
    "rains2018['ENE']"
   ]
  },
  {
   "cell_type": "code",
   "execution_count": 189,
   "metadata": {},
   "outputs": [
    {
     "data": {
      "text/html": [
       "<div>\n",
       "<style scoped>\n",
       "    .dataframe tbody tr th:only-of-type {\n",
       "        vertical-align: middle;\n",
       "    }\n",
       "\n",
       "    .dataframe tbody tr th {\n",
       "        vertical-align: top;\n",
       "    }\n",
       "\n",
       "    .dataframe thead th {\n",
       "        text-align: right;\n",
       "    }\n",
       "</style>\n",
       "<table border=\"1\" class=\"dataframe\">\n",
       "  <thead>\n",
       "    <tr style=\"text-align: right;\">\n",
       "      <th></th>\n",
       "      <th>NOMBRE</th>\n",
       "      <th>ENE</th>\n",
       "    </tr>\n",
       "  </thead>\n",
       "  <tbody>\n",
       "    <tr>\n",
       "      <th>0</th>\n",
       "      <td>Aguascalientes, Ags.</td>\n",
       "      <td>25.8</td>\n",
       "    </tr>\n",
       "    <tr>\n",
       "      <th>1</th>\n",
       "      <td>Cincuenta Aniversario, Ags.</td>\n",
       "      <td>58.6</td>\n",
       "    </tr>\n",
       "    <tr>\n",
       "      <th>2</th>\n",
       "      <td>Calvillo, Ags. SMN*</td>\n",
       "      <td>56.0</td>\n",
       "    </tr>\n",
       "  </tbody>\n",
       "</table>\n",
       "</div>"
      ],
      "text/plain": [
       "                        NOMBRE   ENE\n",
       "0         Aguascalientes, Ags.  25.8\n",
       "1  Cincuenta Aniversario, Ags.  58.6\n",
       "2          Calvillo, Ags. SMN*  56.0"
      ]
     },
     "execution_count": 189,
     "metadata": {},
     "output_type": "execute_result"
    }
   ],
   "source": [
    "rains2018.iloc[:3, :2]"
   ]
  },
  {
   "cell_type": "code",
   "execution_count": 191,
   "metadata": {},
   "outputs": [
    {
     "data": {
      "text/html": [
       "<div>\n",
       "<style scoped>\n",
       "    .dataframe tbody tr th:only-of-type {\n",
       "        vertical-align: middle;\n",
       "    }\n",
       "\n",
       "    .dataframe tbody tr th {\n",
       "        vertical-align: top;\n",
       "    }\n",
       "\n",
       "    .dataframe thead th {\n",
       "        text-align: right;\n",
       "    }\n",
       "</style>\n",
       "<table border=\"1\" class=\"dataframe\">\n",
       "  <thead>\n",
       "    <tr style=\"text-align: right;\">\n",
       "      <th></th>\n",
       "      <th>NOMBRE</th>\n",
       "    </tr>\n",
       "  </thead>\n",
       "  <tbody>\n",
       "    <tr>\n",
       "      <th>0</th>\n",
       "      <td>Aguascalientes, Ags.</td>\n",
       "    </tr>\n",
       "    <tr>\n",
       "      <th>1</th>\n",
       "      <td>Cincuenta Aniversario, Ags.</td>\n",
       "    </tr>\n",
       "    <tr>\n",
       "      <th>2</th>\n",
       "      <td>Calvillo, Ags. SMN*</td>\n",
       "    </tr>\n",
       "    <tr>\n",
       "      <th>3</th>\n",
       "      <td>La Codorniz, Ags.</td>\n",
       "    </tr>\n",
       "    <tr>\n",
       "      <th>4</th>\n",
       "      <td>Cañada Honda, Ags.</td>\n",
       "    </tr>\n",
       "  </tbody>\n",
       "</table>\n",
       "</div>"
      ],
      "text/plain": [
       "                        NOMBRE\n",
       "0         Aguascalientes, Ags.\n",
       "1  Cincuenta Aniversario, Ags.\n",
       "2          Calvillo, Ags. SMN*\n",
       "3            La Codorniz, Ags.\n",
       "4           Cañada Honda, Ags."
      ]
     },
     "execution_count": 191,
     "metadata": {},
     "output_type": "execute_result"
    }
   ],
   "source": [
    "rains2018.iloc[:5, :1]"
   ]
  },
  {
   "cell_type": "code",
   "execution_count": 194,
   "metadata": {},
   "outputs": [
    {
     "data": {
      "text/html": [
       "<div>\n",
       "<style scoped>\n",
       "    .dataframe tbody tr th:only-of-type {\n",
       "        vertical-align: middle;\n",
       "    }\n",
       "\n",
       "    .dataframe tbody tr th {\n",
       "        vertical-align: top;\n",
       "    }\n",
       "\n",
       "    .dataframe thead th {\n",
       "        text-align: right;\n",
       "    }\n",
       "</style>\n",
       "<table border=\"1\" class=\"dataframe\">\n",
       "  <thead>\n",
       "    <tr style=\"text-align: right;\">\n",
       "      <th></th>\n",
       "      <th>NOMBRE</th>\n",
       "      <th>ENE</th>\n",
       "    </tr>\n",
       "  </thead>\n",
       "  <tbody>\n",
       "    <tr>\n",
       "      <th>0</th>\n",
       "      <td>Aguascalientes, Ags.</td>\n",
       "      <td>25.8</td>\n",
       "    </tr>\n",
       "    <tr>\n",
       "      <th>1</th>\n",
       "      <td>Cincuenta Aniversario, Ags.</td>\n",
       "      <td>58.6</td>\n",
       "    </tr>\n",
       "    <tr>\n",
       "      <th>2</th>\n",
       "      <td>Calvillo, Ags. SMN*</td>\n",
       "      <td>56.0</td>\n",
       "    </tr>\n",
       "    <tr>\n",
       "      <th>3</th>\n",
       "      <td>La Codorniz, Ags.</td>\n",
       "      <td>50.0</td>\n",
       "    </tr>\n",
       "    <tr>\n",
       "      <th>4</th>\n",
       "      <td>Cañada Honda, Ags.</td>\n",
       "      <td>17.2</td>\n",
       "    </tr>\n",
       "    <tr>\n",
       "      <th>5</th>\n",
       "      <td>Calvillito, Ags.</td>\n",
       "      <td>13.5</td>\n",
       "    </tr>\n",
       "    <tr>\n",
       "      <th>6</th>\n",
       "      <td>Los Conos, Ags.</td>\n",
       "      <td>51.5</td>\n",
       "    </tr>\n",
       "    <tr>\n",
       "      <th>7</th>\n",
       "      <td>Cosio, Ags.</td>\n",
       "      <td>35.5</td>\n",
       "    </tr>\n",
       "    <tr>\n",
       "      <th>8</th>\n",
       "      <td>Media Luna, Ags.</td>\n",
       "      <td>48.9</td>\n",
       "    </tr>\n",
       "    <tr>\n",
       "      <th>9</th>\n",
       "      <td>El Niagara, Ags.</td>\n",
       "      <td>25.4</td>\n",
       "    </tr>\n",
       "    <tr>\n",
       "      <th>10</th>\n",
       "      <td>Observatorio, Ags.</td>\n",
       "      <td>20.9</td>\n",
       "    </tr>\n",
       "  </tbody>\n",
       "</table>\n",
       "</div>"
      ],
      "text/plain": [
       "                         NOMBRE   ENE\n",
       "0          Aguascalientes, Ags.  25.8\n",
       "1   Cincuenta Aniversario, Ags.  58.6\n",
       "2           Calvillo, Ags. SMN*  56.0\n",
       "3             La Codorniz, Ags.  50.0\n",
       "4            Cañada Honda, Ags.  17.2\n",
       "5              Calvillito, Ags.  13.5\n",
       "6               Los Conos, Ags.  51.5\n",
       "7                   Cosio, Ags.  35.5\n",
       "8              Media Luna, Ags.  48.9\n",
       "9              El Niagara, Ags.  25.4\n",
       "10           Observatorio, Ags.  20.9"
      ]
     },
     "execution_count": 194,
     "metadata": {},
     "output_type": "execute_result"
    }
   ],
   "source": [
    "rains2018.loc[:10, :'ENE']"
   ]
  },
  {
   "cell_type": "code",
   "execution_count": 195,
   "metadata": {},
   "outputs": [
    {
     "name": "stderr",
     "output_type": "stream",
     "text": [
      "C:\\Users\\Test\\Anaconda3\\lib\\site-packages\\ipykernel_launcher.py:1: DeprecationWarning: \n",
      ".ix is deprecated. Please use\n",
      ".loc for label based indexing or\n",
      ".iloc for positional indexing\n",
      "\n",
      "See the documentation here:\n",
      "http://pandas.pydata.org/pandas-docs/stable/indexing.html#ix-indexer-is-deprecated\n",
      "  \"\"\"Entry point for launching an IPython kernel.\n"
     ]
    },
    {
     "data": {
      "text/html": [
       "<div>\n",
       "<style scoped>\n",
       "    .dataframe tbody tr th:only-of-type {\n",
       "        vertical-align: middle;\n",
       "    }\n",
       "\n",
       "    .dataframe tbody tr th {\n",
       "        vertical-align: top;\n",
       "    }\n",
       "\n",
       "    .dataframe thead th {\n",
       "        text-align: right;\n",
       "    }\n",
       "</style>\n",
       "<table border=\"1\" class=\"dataframe\">\n",
       "  <thead>\n",
       "    <tr style=\"text-align: right;\">\n",
       "      <th></th>\n",
       "      <th>NOMBRE</th>\n",
       "      <th>ENE</th>\n",
       "    </tr>\n",
       "  </thead>\n",
       "  <tbody>\n",
       "    <tr>\n",
       "      <th>0</th>\n",
       "      <td>Aguascalientes, Ags.</td>\n",
       "      <td>25.8</td>\n",
       "    </tr>\n",
       "    <tr>\n",
       "      <th>1</th>\n",
       "      <td>Cincuenta Aniversario, Ags.</td>\n",
       "      <td>58.6</td>\n",
       "    </tr>\n",
       "    <tr>\n",
       "      <th>2</th>\n",
       "      <td>Calvillo, Ags. SMN*</td>\n",
       "      <td>56.0</td>\n",
       "    </tr>\n",
       "    <tr>\n",
       "      <th>3</th>\n",
       "      <td>La Codorniz, Ags.</td>\n",
       "      <td>50.0</td>\n",
       "    </tr>\n",
       "    <tr>\n",
       "      <th>4</th>\n",
       "      <td>Cañada Honda, Ags.</td>\n",
       "      <td>17.2</td>\n",
       "    </tr>\n",
       "    <tr>\n",
       "      <th>5</th>\n",
       "      <td>Calvillito, Ags.</td>\n",
       "      <td>13.5</td>\n",
       "    </tr>\n",
       "    <tr>\n",
       "      <th>6</th>\n",
       "      <td>Los Conos, Ags.</td>\n",
       "      <td>51.5</td>\n",
       "    </tr>\n",
       "    <tr>\n",
       "      <th>7</th>\n",
       "      <td>Cosio, Ags.</td>\n",
       "      <td>35.5</td>\n",
       "    </tr>\n",
       "    <tr>\n",
       "      <th>8</th>\n",
       "      <td>Media Luna, Ags.</td>\n",
       "      <td>48.9</td>\n",
       "    </tr>\n",
       "    <tr>\n",
       "      <th>9</th>\n",
       "      <td>El Niagara, Ags.</td>\n",
       "      <td>25.4</td>\n",
       "    </tr>\n",
       "    <tr>\n",
       "      <th>10</th>\n",
       "      <td>Observatorio, Ags.</td>\n",
       "      <td>20.9</td>\n",
       "    </tr>\n",
       "  </tbody>\n",
       "</table>\n",
       "</div>"
      ],
      "text/plain": [
       "                         NOMBRE   ENE\n",
       "0          Aguascalientes, Ags.  25.8\n",
       "1   Cincuenta Aniversario, Ags.  58.6\n",
       "2           Calvillo, Ags. SMN*  56.0\n",
       "3             La Codorniz, Ags.  50.0\n",
       "4            Cañada Honda, Ags.  17.2\n",
       "5              Calvillito, Ags.  13.5\n",
       "6               Los Conos, Ags.  51.5\n",
       "7                   Cosio, Ags.  35.5\n",
       "8              Media Luna, Ags.  48.9\n",
       "9              El Niagara, Ags.  25.4\n",
       "10           Observatorio, Ags.  20.9"
      ]
     },
     "execution_count": 195,
     "metadata": {},
     "output_type": "execute_result"
    }
   ],
   "source": [
    "rains2018.ix[:10, :'ENE']"
   ]
  },
  {
   "cell_type": "code",
   "execution_count": 199,
   "metadata": {},
   "outputs": [
    {
     "data": {
      "text/html": [
       "<div>\n",
       "<style scoped>\n",
       "    .dataframe tbody tr th:only-of-type {\n",
       "        vertical-align: middle;\n",
       "    }\n",
       "\n",
       "    .dataframe tbody tr th {\n",
       "        vertical-align: top;\n",
       "    }\n",
       "\n",
       "    .dataframe thead th {\n",
       "        text-align: right;\n",
       "    }\n",
       "</style>\n",
       "<table border=\"1\" class=\"dataframe\">\n",
       "  <thead>\n",
       "    <tr style=\"text-align: right;\">\n",
       "      <th></th>\n",
       "      <th>NOMBRE</th>\n",
       "      <th>ENE</th>\n",
       "    </tr>\n",
       "  </thead>\n",
       "  <tbody>\n",
       "    <tr>\n",
       "      <th>173</th>\n",
       "      <td>El Refugio, Chis. SGT*</td>\n",
       "      <td>650.0</td>\n",
       "    </tr>\n",
       "    <tr>\n",
       "      <th>176</th>\n",
       "      <td>Salto de Agua, Chis.</td>\n",
       "      <td>582.5</td>\n",
       "    </tr>\n",
       "    <tr>\n",
       "      <th>181</th>\n",
       "      <td>Sayula</td>\n",
       "      <td>818.6</td>\n",
       "    </tr>\n",
       "    <tr>\n",
       "      <th>182</th>\n",
       "      <td>Sayula CFE</td>\n",
       "      <td>704.2</td>\n",
       "    </tr>\n",
       "    <tr>\n",
       "      <th>190</th>\n",
       "      <td>San Joaquín, Chis.</td>\n",
       "      <td>569.0</td>\n",
       "    </tr>\n",
       "    <tr>\n",
       "      <th>982</th>\n",
       "      <td>Oxolotan, Tab.</td>\n",
       "      <td>513.0</td>\n",
       "    </tr>\n",
       "    <tr>\n",
       "      <th>990</th>\n",
       "      <td>Tapijulapa, Tab.</td>\n",
       "      <td>663.3</td>\n",
       "    </tr>\n",
       "    <tr>\n",
       "      <th>1097</th>\n",
       "      <td>La Cangrejera, Ver.</td>\n",
       "      <td>600.5</td>\n",
       "    </tr>\n",
       "    <tr>\n",
       "      <th>1119</th>\n",
       "      <td>PB3 de la Cangrejera, Ver.</td>\n",
       "      <td>533.3</td>\n",
       "    </tr>\n",
       "    <tr>\n",
       "      <th>1120</th>\n",
       "      <td>PB1- La Cangrejera, Ver.</td>\n",
       "      <td>512.5</td>\n",
       "    </tr>\n",
       "    <tr>\n",
       "      <th>1766</th>\n",
       "      <td>Ostuacán</td>\n",
       "      <td>739.1</td>\n",
       "    </tr>\n",
       "  </tbody>\n",
       "</table>\n",
       "</div>"
      ],
      "text/plain": [
       "                          NOMBRE    ENE\n",
       "173       El Refugio, Chis. SGT*  650.0\n",
       "176         Salto de Agua, Chis.  582.5\n",
       "181                       Sayula  818.6\n",
       "182                   Sayula CFE  704.2\n",
       "190           San Joaquín, Chis.  569.0\n",
       "982               Oxolotan, Tab.  513.0\n",
       "990             Tapijulapa, Tab.  663.3\n",
       "1097         La Cangrejera, Ver.  600.5\n",
       "1119  PB3 de la Cangrejera, Ver.  533.3\n",
       "1120    PB1- La Cangrejera, Ver.  512.5\n",
       "1766                    Ostuacán  739.1"
      ]
     },
     "execution_count": 199,
     "metadata": {},
     "output_type": "execute_result"
    }
   ],
   "source": [
    "rains2018.loc[rains2018.ENE > 500]"
   ]
  },
  {
   "cell_type": "code",
   "execution_count": 202,
   "metadata": {},
   "outputs": [
    {
     "data": {
      "text/html": [
       "<div>\n",
       "<style scoped>\n",
       "    .dataframe tbody tr th:only-of-type {\n",
       "        vertical-align: middle;\n",
       "    }\n",
       "\n",
       "    .dataframe tbody tr th {\n",
       "        vertical-align: top;\n",
       "    }\n",
       "\n",
       "    .dataframe thead th {\n",
       "        text-align: right;\n",
       "    }\n",
       "</style>\n",
       "<table border=\"1\" class=\"dataframe\">\n",
       "  <thead>\n",
       "    <tr style=\"text-align: right;\">\n",
       "      <th></th>\n",
       "      <th>NOMBRE</th>\n",
       "      <th>ENE</th>\n",
       "    </tr>\n",
       "  </thead>\n",
       "  <tbody>\n",
       "    <tr>\n",
       "      <th>173</th>\n",
       "      <td>El Refugio, Chis. SGT*</td>\n",
       "      <td>650.0</td>\n",
       "    </tr>\n",
       "    <tr>\n",
       "      <th>176</th>\n",
       "      <td>Salto de Agua, Chis.</td>\n",
       "      <td>582.5</td>\n",
       "    </tr>\n",
       "    <tr>\n",
       "      <th>181</th>\n",
       "      <td>Sayula</td>\n",
       "      <td>818.6</td>\n",
       "    </tr>\n",
       "    <tr>\n",
       "      <th>182</th>\n",
       "      <td>Sayula CFE</td>\n",
       "      <td>704.2</td>\n",
       "    </tr>\n",
       "    <tr>\n",
       "      <th>190</th>\n",
       "      <td>San Joaquín, Chis.</td>\n",
       "      <td>569.0</td>\n",
       "    </tr>\n",
       "    <tr>\n",
       "      <th>982</th>\n",
       "      <td>Oxolotan, Tab.</td>\n",
       "      <td>513.0</td>\n",
       "    </tr>\n",
       "    <tr>\n",
       "      <th>990</th>\n",
       "      <td>Tapijulapa, Tab.</td>\n",
       "      <td>663.3</td>\n",
       "    </tr>\n",
       "    <tr>\n",
       "      <th>1097</th>\n",
       "      <td>La Cangrejera, Ver.</td>\n",
       "      <td>600.5</td>\n",
       "    </tr>\n",
       "    <tr>\n",
       "      <th>1119</th>\n",
       "      <td>PB3 de la Cangrejera, Ver.</td>\n",
       "      <td>533.3</td>\n",
       "    </tr>\n",
       "    <tr>\n",
       "      <th>1120</th>\n",
       "      <td>PB1- La Cangrejera, Ver.</td>\n",
       "      <td>512.5</td>\n",
       "    </tr>\n",
       "    <tr>\n",
       "      <th>1766</th>\n",
       "      <td>Ostuacán</td>\n",
       "      <td>739.1</td>\n",
       "    </tr>\n",
       "  </tbody>\n",
       "</table>\n",
       "</div>"
      ],
      "text/plain": [
       "                          NOMBRE    ENE\n",
       "173       El Refugio, Chis. SGT*  650.0\n",
       "176         Salto de Agua, Chis.  582.5\n",
       "181                       Sayula  818.6\n",
       "182                   Sayula CFE  704.2\n",
       "190           San Joaquín, Chis.  569.0\n",
       "982               Oxolotan, Tab.  513.0\n",
       "990             Tapijulapa, Tab.  663.3\n",
       "1097         La Cangrejera, Ver.  600.5\n",
       "1119  PB3 de la Cangrejera, Ver.  533.3\n",
       "1120    PB1- La Cangrejera, Ver.  512.5\n",
       "1766                    Ostuacán  739.1"
      ]
     },
     "execution_count": 202,
     "metadata": {},
     "output_type": "execute_result"
    }
   ],
   "source": [
    "rains2018.loc[rains2018.ENE > 500, ['NOMBRE', 'ENE']]"
   ]
  },
  {
   "cell_type": "code",
   "execution_count": 204,
   "metadata": {},
   "outputs": [
    {
     "data": {
      "text/plain": [
       "array(['Aguascalientes, Ags.', 100.0], dtype=object)"
      ]
     },
     "execution_count": 204,
     "metadata": {},
     "output_type": "execute_result"
    }
   ],
   "source": [
    "rains2018.iloc[0, 1] = 100\n",
    "rains2018.values[0]"
   ]
  },
  {
   "cell_type": "markdown",
   "metadata": {},
   "source": [
    "# Additional Indexing Conventions"
   ]
  },
  {
   "cell_type": "code",
   "execution_count": 206,
   "metadata": {},
   "outputs": [
    {
     "data": {
      "text/html": [
       "<div>\n",
       "<style scoped>\n",
       "    .dataframe tbody tr th:only-of-type {\n",
       "        vertical-align: middle;\n",
       "    }\n",
       "\n",
       "    .dataframe tbody tr th {\n",
       "        vertical-align: top;\n",
       "    }\n",
       "\n",
       "    .dataframe thead th {\n",
       "        text-align: right;\n",
       "    }\n",
       "</style>\n",
       "<table border=\"1\" class=\"dataframe\">\n",
       "  <thead>\n",
       "    <tr style=\"text-align: right;\">\n",
       "      <th></th>\n",
       "      <th>NOMBRE</th>\n",
       "      <th>ENE</th>\n",
       "    </tr>\n",
       "  </thead>\n",
       "  <tbody>\n",
       "    <tr>\n",
       "      <th>1</th>\n",
       "      <td>Cincuenta Aniversario, Ags.</td>\n",
       "      <td>58.6</td>\n",
       "    </tr>\n",
       "    <tr>\n",
       "      <th>2</th>\n",
       "      <td>Calvillo, Ags. SMN*</td>\n",
       "      <td>56.0</td>\n",
       "    </tr>\n",
       "  </tbody>\n",
       "</table>\n",
       "</div>"
      ],
      "text/plain": [
       "                        NOMBRE   ENE\n",
       "1  Cincuenta Aniversario, Ags.  58.6\n",
       "2          Calvillo, Ags. SMN*  56.0"
      ]
     },
     "execution_count": 206,
     "metadata": {},
     "output_type": "execute_result"
    }
   ],
   "source": [
    "rains2018[1:3]"
   ]
  },
  {
   "cell_type": "code",
   "execution_count": 208,
   "metadata": {},
   "outputs": [
    {
     "data": {
      "text/html": [
       "<div>\n",
       "<style scoped>\n",
       "    .dataframe tbody tr th:only-of-type {\n",
       "        vertical-align: middle;\n",
       "    }\n",
       "\n",
       "    .dataframe tbody tr th {\n",
       "        vertical-align: top;\n",
       "    }\n",
       "\n",
       "    .dataframe thead th {\n",
       "        text-align: right;\n",
       "    }\n",
       "</style>\n",
       "<table border=\"1\" class=\"dataframe\">\n",
       "  <thead>\n",
       "    <tr style=\"text-align: right;\">\n",
       "      <th></th>\n",
       "      <th>NOMBRE</th>\n",
       "      <th>ENE</th>\n",
       "    </tr>\n",
       "  </thead>\n",
       "  <tbody>\n",
       "    <tr>\n",
       "      <th>20</th>\n",
       "      <td>OBSERVATORIO DE ALGODONES SMN</td>\n",
       "      <td>1.4</td>\n",
       "    </tr>\n",
       "    <tr>\n",
       "      <th>22</th>\n",
       "      <td>Cataviña, B.C. SMN*</td>\n",
       "      <td>0.5</td>\n",
       "    </tr>\n",
       "    <tr>\n",
       "      <th>27</th>\n",
       "      <td>Ejido Nuevo León, B.C.</td>\n",
       "      <td>0.0</td>\n",
       "    </tr>\n",
       "    <tr>\n",
       "      <th>29</th>\n",
       "      <td>La Misión, B.C.</td>\n",
       "      <td>0.0</td>\n",
       "    </tr>\n",
       "    <tr>\n",
       "      <th>30</th>\n",
       "      <td>MEXICALI</td>\n",
       "      <td>0.0</td>\n",
       "    </tr>\n",
       "    <tr>\n",
       "      <th>31</th>\n",
       "      <td>Derivadora MOR, B.C.</td>\n",
       "      <td>1.5</td>\n",
       "    </tr>\n",
       "    <tr>\n",
       "      <th>33</th>\n",
       "      <td>OBSERVATORIO DE SAN FELIPE SMN</td>\n",
       "      <td>0.0</td>\n",
       "    </tr>\n",
       "    <tr>\n",
       "      <th>34</th>\n",
       "      <td>San Felipe, B.C.</td>\n",
       "      <td>0.0</td>\n",
       "    </tr>\n",
       "    <tr>\n",
       "      <th>35</th>\n",
       "      <td>Cd. Constitución, B.C.S.</td>\n",
       "      <td>0.6</td>\n",
       "    </tr>\n",
       "    <tr>\n",
       "      <th>36</th>\n",
       "      <td>Cabo San Lucas, B.C.S.</td>\n",
       "      <td>1.0</td>\n",
       "    </tr>\n",
       "    <tr>\n",
       "      <th>37</th>\n",
       "      <td>Díaz Ordaz, B.C.S.</td>\n",
       "      <td>0.0</td>\n",
       "    </tr>\n",
       "    <tr>\n",
       "      <th>38</th>\n",
       "      <td>Guerrero Negro, B.C.S.</td>\n",
       "      <td>0.0</td>\n",
       "    </tr>\n",
       "    <tr>\n",
       "      <th>40</th>\n",
       "      <td>La Paz, B.C.S.</td>\n",
       "      <td>0.9</td>\n",
       "    </tr>\n",
       "    <tr>\n",
       "      <th>41</th>\n",
       "      <td>Loreto, B.C.S.</td>\n",
       "      <td>0.0</td>\n",
       "    </tr>\n",
       "    <tr>\n",
       "      <th>42</th>\n",
       "      <td>Mulege, B.C.S.</td>\n",
       "      <td>0.0</td>\n",
       "    </tr>\n",
       "    <tr>\n",
       "      <th>43</th>\n",
       "      <td>Los Planes, B.C.S.</td>\n",
       "      <td>0.0</td>\n",
       "    </tr>\n",
       "    <tr>\n",
       "      <th>44</th>\n",
       "      <td>La Ribera, B.C.S.</td>\n",
       "      <td>0.5</td>\n",
       "    </tr>\n",
       "    <tr>\n",
       "      <th>47</th>\n",
       "      <td>San José del Cabo, B.C.S.</td>\n",
       "      <td>0.0</td>\n",
       "    </tr>\n",
       "    <tr>\n",
       "      <th>50</th>\n",
       "      <td>Santa Rosalía, B.C.S.</td>\n",
       "      <td>0.0</td>\n",
       "    </tr>\n",
       "    <tr>\n",
       "      <th>51</th>\n",
       "      <td>Todos Santos, B.C.S.</td>\n",
       "      <td>1.0</td>\n",
       "    </tr>\n",
       "    <tr>\n",
       "      <th>55</th>\n",
       "      <td>Cayo Arenas, Camp. SEMAR*</td>\n",
       "      <td>1.3</td>\n",
       "    </tr>\n",
       "    <tr>\n",
       "      <th>69</th>\n",
       "      <td>Abraham González, Chih.</td>\n",
       "      <td>0.0</td>\n",
       "    </tr>\n",
       "    <tr>\n",
       "      <th>70</th>\n",
       "      <td>BABISAS SMN</td>\n",
       "      <td>0.0</td>\n",
       "    </tr>\n",
       "    <tr>\n",
       "      <th>71</th>\n",
       "      <td>BOCA DEL RIO SMN</td>\n",
       "      <td>0.0</td>\n",
       "    </tr>\n",
       "    <tr>\n",
       "      <th>72</th>\n",
       "      <td>Bassaseachic, Chih.</td>\n",
       "      <td>0.0</td>\n",
       "    </tr>\n",
       "    <tr>\n",
       "      <th>73</th>\n",
       "      <td>Batopilas, Chih.</td>\n",
       "      <td>0.0</td>\n",
       "    </tr>\n",
       "    <tr>\n",
       "      <th>74</th>\n",
       "      <td>Batovira, Chih.</td>\n",
       "      <td>0.0</td>\n",
       "    </tr>\n",
       "    <tr>\n",
       "      <th>75</th>\n",
       "      <td>Peñitas</td>\n",
       "      <td>0.0</td>\n",
       "    </tr>\n",
       "    <tr>\n",
       "      <th>76</th>\n",
       "      <td>Tejolocachi (DGE)</td>\n",
       "      <td>0.0</td>\n",
       "    </tr>\n",
       "    <tr>\n",
       "      <th>77</th>\n",
       "      <td>La Mesa</td>\n",
       "      <td>0.0</td>\n",
       "    </tr>\n",
       "    <tr>\n",
       "      <th>...</th>\n",
       "      <td>...</td>\n",
       "      <td>...</td>\n",
       "    </tr>\n",
       "    <tr>\n",
       "      <th>1809</th>\n",
       "      <td>Tepelmeme Villa de MOR</td>\n",
       "      <td>0.0</td>\n",
       "    </tr>\n",
       "    <tr>\n",
       "      <th>1813</th>\n",
       "      <td>Tepoztlán</td>\n",
       "      <td>0.2</td>\n",
       "    </tr>\n",
       "    <tr>\n",
       "      <th>1814</th>\n",
       "      <td>Tepoztlán</td>\n",
       "      <td>0.0</td>\n",
       "    </tr>\n",
       "    <tr>\n",
       "      <th>1815</th>\n",
       "      <td>Navojoa</td>\n",
       "      <td>0.1</td>\n",
       "    </tr>\n",
       "    <tr>\n",
       "      <th>1822</th>\n",
       "      <td>Tizapán el Alto</td>\n",
       "      <td>1.8</td>\n",
       "    </tr>\n",
       "    <tr>\n",
       "      <th>1823</th>\n",
       "      <td>Tizimín</td>\n",
       "      <td>0.0</td>\n",
       "    </tr>\n",
       "    <tr>\n",
       "      <th>1826</th>\n",
       "      <td>Tlajomulco de Zúñiga</td>\n",
       "      <td>0.2</td>\n",
       "    </tr>\n",
       "    <tr>\n",
       "      <th>1827</th>\n",
       "      <td>Tlalnepantla</td>\n",
       "      <td>0.0</td>\n",
       "    </tr>\n",
       "    <tr>\n",
       "      <th>1828</th>\n",
       "      <td>Tlaquiltenango</td>\n",
       "      <td>0.0</td>\n",
       "    </tr>\n",
       "    <tr>\n",
       "      <th>1829</th>\n",
       "      <td>Tlaltizapán de Zapata</td>\n",
       "      <td>0.0</td>\n",
       "    </tr>\n",
       "    <tr>\n",
       "      <th>1830</th>\n",
       "      <td>TLAX</td>\n",
       "      <td>0.4</td>\n",
       "    </tr>\n",
       "    <tr>\n",
       "      <th>1831</th>\n",
       "      <td>Heroica Ciudad de Tlaxiaco</td>\n",
       "      <td>0.2</td>\n",
       "    </tr>\n",
       "    <tr>\n",
       "      <th>1832</th>\n",
       "      <td>La Paz</td>\n",
       "      <td>0.0</td>\n",
       "    </tr>\n",
       "    <tr>\n",
       "      <th>1834</th>\n",
       "      <td>Carmen</td>\n",
       "      <td>0.0</td>\n",
       "    </tr>\n",
       "    <tr>\n",
       "      <th>1837</th>\n",
       "      <td>Ahome</td>\n",
       "      <td>1.5</td>\n",
       "    </tr>\n",
       "    <tr>\n",
       "      <th>1838</th>\n",
       "      <td>Mapimí</td>\n",
       "      <td>0.0</td>\n",
       "    </tr>\n",
       "    <tr>\n",
       "      <th>1841</th>\n",
       "      <td>Urique</td>\n",
       "      <td>0.0</td>\n",
       "    </tr>\n",
       "    <tr>\n",
       "      <th>1842</th>\n",
       "      <td>Tepeapulco</td>\n",
       "      <td>0.0</td>\n",
       "    </tr>\n",
       "    <tr>\n",
       "      <th>1844</th>\n",
       "      <td>Tuxtla Gutiérrez</td>\n",
       "      <td>1.6</td>\n",
       "    </tr>\n",
       "    <tr>\n",
       "      <th>1848</th>\n",
       "      <td>Múzquiz</td>\n",
       "      <td>0.0</td>\n",
       "    </tr>\n",
       "    <tr>\n",
       "      <th>1850</th>\n",
       "      <td>Pueblo Nuevo Solistahuacán</td>\n",
       "      <td>0.0</td>\n",
       "    </tr>\n",
       "    <tr>\n",
       "      <th>1853</th>\n",
       "      <td>Urique</td>\n",
       "      <td>0.0</td>\n",
       "    </tr>\n",
       "    <tr>\n",
       "      <th>1854</th>\n",
       "      <td>Urique</td>\n",
       "      <td>0.0</td>\n",
       "    </tr>\n",
       "    <tr>\n",
       "      <th>1856</th>\n",
       "      <td>San Juan Bautista Valle Nacional</td>\n",
       "      <td>0.5</td>\n",
       "    </tr>\n",
       "    <tr>\n",
       "      <th>1858</th>\n",
       "      <td>Mulegé</td>\n",
       "      <td>0.0</td>\n",
       "    </tr>\n",
       "    <tr>\n",
       "      <th>1860</th>\n",
       "      <td>Juárez</td>\n",
       "      <td>0.2</td>\n",
       "    </tr>\n",
       "    <tr>\n",
       "      <th>1862</th>\n",
       "      <td>Ahumada</td>\n",
       "      <td>0.2</td>\n",
       "    </tr>\n",
       "    <tr>\n",
       "      <th>1872</th>\n",
       "      <td>Yécora</td>\n",
       "      <td>0.0</td>\n",
       "    </tr>\n",
       "    <tr>\n",
       "      <th>1877</th>\n",
       "      <td>Zacatepec</td>\n",
       "      <td>0.0</td>\n",
       "    </tr>\n",
       "    <tr>\n",
       "      <th>1881</th>\n",
       "      <td>Coyuca de Catalán</td>\n",
       "      <td>0.4</td>\n",
       "    </tr>\n",
       "  </tbody>\n",
       "</table>\n",
       "<p>813 rows × 2 columns</p>\n",
       "</div>"
      ],
      "text/plain": [
       "                                NOMBRE  ENE\n",
       "20       OBSERVATORIO DE ALGODONES SMN  1.4\n",
       "22                 Cataviña, B.C. SMN*  0.5\n",
       "27              Ejido Nuevo León, B.C.  0.0\n",
       "29                     La Misión, B.C.  0.0\n",
       "30                            MEXICALI  0.0\n",
       "31                Derivadora MOR, B.C.  1.5\n",
       "33      OBSERVATORIO DE SAN FELIPE SMN  0.0\n",
       "34                    San Felipe, B.C.  0.0\n",
       "35            Cd. Constitución, B.C.S.  0.6\n",
       "36              Cabo San Lucas, B.C.S.  1.0\n",
       "37                  Díaz Ordaz, B.C.S.  0.0\n",
       "38              Guerrero Negro, B.C.S.  0.0\n",
       "40                      La Paz, B.C.S.  0.9\n",
       "41                      Loreto, B.C.S.  0.0\n",
       "42                      Mulege, B.C.S.  0.0\n",
       "43                  Los Planes, B.C.S.  0.0\n",
       "44                   La Ribera, B.C.S.  0.5\n",
       "47           San José del Cabo, B.C.S.  0.0\n",
       "50               Santa Rosalía, B.C.S.  0.0\n",
       "51                Todos Santos, B.C.S.  1.0\n",
       "55           Cayo Arenas, Camp. SEMAR*  1.3\n",
       "69             Abraham González, Chih.  0.0\n",
       "70                         BABISAS SMN  0.0\n",
       "71                    BOCA DEL RIO SMN  0.0\n",
       "72                 Bassaseachic, Chih.  0.0\n",
       "73                    Batopilas, Chih.  0.0\n",
       "74                     Batovira, Chih.  0.0\n",
       "75                             Peñitas  0.0\n",
       "76                   Tejolocachi (DGE)  0.0\n",
       "77                             La Mesa  0.0\n",
       "...                                ...  ...\n",
       "1809            Tepelmeme Villa de MOR  0.0\n",
       "1813                         Tepoztlán  0.2\n",
       "1814                         Tepoztlán  0.0\n",
       "1815                           Navojoa  0.1\n",
       "1822                   Tizapán el Alto  1.8\n",
       "1823                           Tizimín  0.0\n",
       "1826              Tlajomulco de Zúñiga  0.2\n",
       "1827                      Tlalnepantla  0.0\n",
       "1828                    Tlaquiltenango  0.0\n",
       "1829             Tlaltizapán de Zapata  0.0\n",
       "1830                              TLAX  0.4\n",
       "1831        Heroica Ciudad de Tlaxiaco  0.2\n",
       "1832                            La Paz  0.0\n",
       "1834                            Carmen  0.0\n",
       "1837                             Ahome  1.5\n",
       "1838                            Mapimí  0.0\n",
       "1841                            Urique  0.0\n",
       "1842                        Tepeapulco  0.0\n",
       "1844                  Tuxtla Gutiérrez  1.6\n",
       "1848                           Múzquiz  0.0\n",
       "1850        Pueblo Nuevo Solistahuacán  0.0\n",
       "1853                            Urique  0.0\n",
       "1854                            Urique  0.0\n",
       "1856  San Juan Bautista Valle Nacional  0.5\n",
       "1858                            Mulegé  0.0\n",
       "1860                            Juárez  0.2\n",
       "1862                           Ahumada  0.2\n",
       "1872                            Yécora  0.0\n",
       "1877                         Zacatepec  0.0\n",
       "1881                 Coyuca de Catalán  0.4\n",
       "\n",
       "[813 rows x 2 columns]"
      ]
     },
     "execution_count": 208,
     "metadata": {},
     "output_type": "execute_result"
    }
   ],
   "source": [
    "rains2018[rains2018.ENE < 2]"
   ]
  },
  {
   "cell_type": "markdown",
   "metadata": {},
   "source": [
    "# Operating on Data in Pandas\n",
    "# Ufuncs: Index Preservation"
   ]
  },
  {
   "cell_type": "code",
   "execution_count": 213,
   "metadata": {},
   "outputs": [
    {
     "data": {
      "text/plain": [
       "NOMBRE\n",
       "Aguascalientes, Ags.           100.0\n",
       "Cincuenta Aniversario, Ags.     58.6\n",
       "Calvillo, Ags. SMN*             56.0\n",
       "La Codorniz, Ags.               50.0\n",
       "Cañada Honda, Ags.              17.2\n",
       "Calvillito, Ags.                13.5\n",
       "Los Conos, Ags.                 51.5\n",
       "Cosio, Ags.                     35.5\n",
       "Media Luna, Ags.                48.9\n",
       "El Niagara, Ags.                25.4\n",
       "Name: ENE, dtype: float64"
      ]
     },
     "execution_count": 213,
     "metadata": {},
     "output_type": "execute_result"
    }
   ],
   "source": [
    "rainSer2018 = pd.Series(rains2018.ENE[0:10])\n",
    "rainSer2018.index = rains2018.NOMBRE[0:10]\n",
    "rainSer2018"
   ]
  },
  {
   "cell_type": "code",
   "execution_count": 216,
   "metadata": {},
   "outputs": [
    {
     "data": {
      "text/plain": [
       "NOMBRE\n",
       "Aguascalientes, Ags.            6.61\n",
       "Cincuenta Aniversario, Ags.    10.60\n",
       "San Bartolo, Ags.              10.50\n",
       "Calvillo, Ags. SMN*            18.17\n",
       "La Codorniz, Ags.              16.70\n",
       "Cañada Honda, Ags.             17.30\n",
       "Calvillo, Ags.                  9.20\n",
       "Los Conos, Ags.                13.20\n",
       "Cosío, Ags.                     7.20\n",
       "Jocoque, Ags.                   6.30\n",
       "Name: ENE, dtype: float64"
      ]
     },
     "execution_count": 216,
     "metadata": {},
     "output_type": "execute_result"
    }
   ],
   "source": [
    "rainSer2019 = pd.Series(rains2019.ENE[0:10])\n",
    "rainSer2019.index = rains2019.NOMBRE[0:10]\n",
    "rainSer2019"
   ]
  },
  {
   "cell_type": "code",
   "execution_count": 220,
   "metadata": {},
   "outputs": [
    {
     "data": {
      "text/html": [
       "<div>\n",
       "<style scoped>\n",
       "    .dataframe tbody tr th:only-of-type {\n",
       "        vertical-align: middle;\n",
       "    }\n",
       "\n",
       "    .dataframe tbody tr th {\n",
       "        vertical-align: top;\n",
       "    }\n",
       "\n",
       "    .dataframe thead th {\n",
       "        text-align: right;\n",
       "    }\n",
       "</style>\n",
       "<table border=\"1\" class=\"dataframe\">\n",
       "  <thead>\n",
       "    <tr style=\"text-align: right;\">\n",
       "      <th></th>\n",
       "      <th>2018</th>\n",
       "      <th>2019</th>\n",
       "    </tr>\n",
       "  </thead>\n",
       "  <tbody>\n",
       "    <tr>\n",
       "      <th>Aguascalientes, Ags.</th>\n",
       "      <td>100.0</td>\n",
       "      <td>6.61</td>\n",
       "    </tr>\n",
       "    <tr>\n",
       "      <th>Calvillito, Ags.</th>\n",
       "      <td>13.5</td>\n",
       "      <td>NaN</td>\n",
       "    </tr>\n",
       "    <tr>\n",
       "      <th>Calvillo, Ags.</th>\n",
       "      <td>NaN</td>\n",
       "      <td>9.20</td>\n",
       "    </tr>\n",
       "    <tr>\n",
       "      <th>Calvillo, Ags. SMN*</th>\n",
       "      <td>56.0</td>\n",
       "      <td>18.17</td>\n",
       "    </tr>\n",
       "    <tr>\n",
       "      <th>Cañada Honda, Ags.</th>\n",
       "      <td>17.2</td>\n",
       "      <td>17.30</td>\n",
       "    </tr>\n",
       "    <tr>\n",
       "      <th>Cincuenta Aniversario, Ags.</th>\n",
       "      <td>58.6</td>\n",
       "      <td>10.60</td>\n",
       "    </tr>\n",
       "    <tr>\n",
       "      <th>Cosio, Ags.</th>\n",
       "      <td>35.5</td>\n",
       "      <td>NaN</td>\n",
       "    </tr>\n",
       "    <tr>\n",
       "      <th>Cosío, Ags.</th>\n",
       "      <td>NaN</td>\n",
       "      <td>7.20</td>\n",
       "    </tr>\n",
       "    <tr>\n",
       "      <th>El Niagara, Ags.</th>\n",
       "      <td>25.4</td>\n",
       "      <td>NaN</td>\n",
       "    </tr>\n",
       "    <tr>\n",
       "      <th>Jocoque, Ags.</th>\n",
       "      <td>NaN</td>\n",
       "      <td>6.30</td>\n",
       "    </tr>\n",
       "    <tr>\n",
       "      <th>La Codorniz, Ags.</th>\n",
       "      <td>50.0</td>\n",
       "      <td>16.70</td>\n",
       "    </tr>\n",
       "    <tr>\n",
       "      <th>Los Conos, Ags.</th>\n",
       "      <td>51.5</td>\n",
       "      <td>13.20</td>\n",
       "    </tr>\n",
       "    <tr>\n",
       "      <th>Media Luna, Ags.</th>\n",
       "      <td>48.9</td>\n",
       "      <td>NaN</td>\n",
       "    </tr>\n",
       "    <tr>\n",
       "      <th>San Bartolo, Ags.</th>\n",
       "      <td>NaN</td>\n",
       "      <td>10.50</td>\n",
       "    </tr>\n",
       "  </tbody>\n",
       "</table>\n",
       "</div>"
      ],
      "text/plain": [
       "                              2018   2019\n",
       "Aguascalientes, Ags.         100.0   6.61\n",
       "Calvillito, Ags.              13.5    NaN\n",
       "Calvillo, Ags.                 NaN   9.20\n",
       "Calvillo, Ags. SMN*           56.0  18.17\n",
       "Cañada Honda, Ags.            17.2  17.30\n",
       "Cincuenta Aniversario, Ags.   58.6  10.60\n",
       "Cosio, Ags.                   35.5    NaN\n",
       "Cosío, Ags.                    NaN   7.20\n",
       "El Niagara, Ags.              25.4    NaN\n",
       "Jocoque, Ags.                  NaN   6.30\n",
       "La Codorniz, Ags.             50.0  16.70\n",
       "Los Conos, Ags.               51.5  13.20\n",
       "Media Luna, Ags.              48.9    NaN\n",
       "San Bartolo, Ags.              NaN  10.50"
      ]
     },
     "execution_count": 220,
     "metadata": {},
     "output_type": "execute_result"
    }
   ],
   "source": [
    "df = pd.DataFrame({'2018': rainSer2018, '2019': rainSer2019})\n",
    "df"
   ]
  },
  {
   "cell_type": "code",
   "execution_count": 221,
   "metadata": {},
   "outputs": [
    {
     "data": {
      "text/plain": [
       "NOMBRE\n",
       "Aguascalientes, Ags.           2.688117e+43\n",
       "Cincuenta Aniversario, Ags.    2.816156e+25\n",
       "Calvillo, Ags. SMN*            2.091659e+24\n",
       "La Codorniz, Ags.              5.184706e+21\n",
       "Cañada Honda, Ags.             2.950293e+07\n",
       "Calvillito, Ags.               7.294164e+05\n",
       "Los Conos, Ags.                2.323624e+22\n",
       "Cosio, Ags.                    2.614894e+15\n",
       "Media Luna, Ags.               1.725839e+21\n",
       "El Niagara, Ags.               1.074187e+11\n",
       "Name: ENE, dtype: float64"
      ]
     },
     "execution_count": 221,
     "metadata": {},
     "output_type": "execute_result"
    }
   ],
   "source": [
    "np.exp(rainSer2018)"
   ]
  },
  {
   "cell_type": "code",
   "execution_count": 222,
   "metadata": {},
   "outputs": [
    {
     "data": {
      "text/html": [
       "<div>\n",
       "<style scoped>\n",
       "    .dataframe tbody tr th:only-of-type {\n",
       "        vertical-align: middle;\n",
       "    }\n",
       "\n",
       "    .dataframe tbody tr th {\n",
       "        vertical-align: top;\n",
       "    }\n",
       "\n",
       "    .dataframe thead th {\n",
       "        text-align: right;\n",
       "    }\n",
       "</style>\n",
       "<table border=\"1\" class=\"dataframe\">\n",
       "  <thead>\n",
       "    <tr style=\"text-align: right;\">\n",
       "      <th></th>\n",
       "      <th>2018</th>\n",
       "      <th>2019</th>\n",
       "    </tr>\n",
       "  </thead>\n",
       "  <tbody>\n",
       "    <tr>\n",
       "      <th>Aguascalientes, Ags.</th>\n",
       "      <td>-4.910967e-16</td>\n",
       "      <td>-0.887413</td>\n",
       "    </tr>\n",
       "    <tr>\n",
       "      <th>Calvillito, Ags.</th>\n",
       "      <td>-9.238795e-01</td>\n",
       "      <td>NaN</td>\n",
       "    </tr>\n",
       "    <tr>\n",
       "      <th>Calvillo, Ags.</th>\n",
       "      <td>NaN</td>\n",
       "      <td>0.809017</td>\n",
       "    </tr>\n",
       "    <tr>\n",
       "      <th>Calvillo, Ags. SMN*</th>\n",
       "      <td>-1.714506e-15</td>\n",
       "      <td>0.991100</td>\n",
       "    </tr>\n",
       "    <tr>\n",
       "      <th>Cañada Honda, Ags.</th>\n",
       "      <td>8.090170e-01</td>\n",
       "      <td>0.852640</td>\n",
       "    </tr>\n",
       "    <tr>\n",
       "      <th>Cincuenta Aniversario, Ags.</th>\n",
       "      <td>8.910065e-01</td>\n",
       "      <td>0.891007</td>\n",
       "    </tr>\n",
       "    <tr>\n",
       "      <th>Cosio, Ags.</th>\n",
       "      <td>3.826834e-01</td>\n",
       "      <td>NaN</td>\n",
       "    </tr>\n",
       "    <tr>\n",
       "      <th>Cosío, Ags.</th>\n",
       "      <td>NaN</td>\n",
       "      <td>-0.587785</td>\n",
       "    </tr>\n",
       "    <tr>\n",
       "      <th>El Niagara, Ags.</th>\n",
       "      <td>8.910065e-01</td>\n",
       "      <td>NaN</td>\n",
       "    </tr>\n",
       "    <tr>\n",
       "      <th>Jocoque, Ags.</th>\n",
       "      <td>NaN</td>\n",
       "      <td>-0.972370</td>\n",
       "    </tr>\n",
       "    <tr>\n",
       "      <th>La Codorniz, Ags.</th>\n",
       "      <td>1.000000e+00</td>\n",
       "      <td>0.522499</td>\n",
       "    </tr>\n",
       "    <tr>\n",
       "      <th>Los Conos, Ags.</th>\n",
       "      <td>3.826834e-01</td>\n",
       "      <td>-0.809017</td>\n",
       "    </tr>\n",
       "    <tr>\n",
       "      <th>Media Luna, Ags.</th>\n",
       "      <td>6.494480e-01</td>\n",
       "      <td>NaN</td>\n",
       "    </tr>\n",
       "    <tr>\n",
       "      <th>San Bartolo, Ags.</th>\n",
       "      <td>NaN</td>\n",
       "      <td>0.923880</td>\n",
       "    </tr>\n",
       "  </tbody>\n",
       "</table>\n",
       "</div>"
      ],
      "text/plain": [
       "                                     2018      2019\n",
       "Aguascalientes, Ags.        -4.910967e-16 -0.887413\n",
       "Calvillito, Ags.            -9.238795e-01       NaN\n",
       "Calvillo, Ags.                        NaN  0.809017\n",
       "Calvillo, Ags. SMN*         -1.714506e-15  0.991100\n",
       "Cañada Honda, Ags.           8.090170e-01  0.852640\n",
       "Cincuenta Aniversario, Ags.  8.910065e-01  0.891007\n",
       "Cosio, Ags.                  3.826834e-01       NaN\n",
       "Cosío, Ags.                           NaN -0.587785\n",
       "El Niagara, Ags.             8.910065e-01       NaN\n",
       "Jocoque, Ags.                         NaN -0.972370\n",
       "La Codorniz, Ags.            1.000000e+00  0.522499\n",
       "Los Conos, Ags.              3.826834e-01 -0.809017\n",
       "Media Luna, Ags.             6.494480e-01       NaN\n",
       "San Bartolo, Ags.                     NaN  0.923880"
      ]
     },
     "execution_count": 222,
     "metadata": {},
     "output_type": "execute_result"
    }
   ],
   "source": [
    "np.sin(df * np.pi/4)"
   ]
  },
  {
   "cell_type": "markdown",
   "metadata": {},
   "source": [
    "# UFuncs: Index Alignment\n",
    "## Index Alignment in Series"
   ]
  },
  {
   "cell_type": "code",
   "execution_count": 223,
   "metadata": {},
   "outputs": [
    {
     "data": {
      "text/plain": [
       "NOMBRE\n",
       "Aguascalientes, Ags.           15.128593\n",
       "Calvillito, Ags.                     NaN\n",
       "Calvillo, Ags.                       NaN\n",
       "Calvillo, Ags. SMN*             3.082003\n",
       "Cañada Honda, Ags.              0.994220\n",
       "Cincuenta Aniversario, Ags.     5.528302\n",
       "Cosio, Ags.                          NaN\n",
       "Cosío, Ags.                          NaN\n",
       "El Niagara, Ags.                     NaN\n",
       "Jocoque, Ags.                        NaN\n",
       "La Codorniz, Ags.               2.994012\n",
       "Los Conos, Ags.                 3.901515\n",
       "Media Luna, Ags.                     NaN\n",
       "San Bartolo, Ags.                    NaN\n",
       "Name: ENE, dtype: float64"
      ]
     },
     "execution_count": 223,
     "metadata": {},
     "output_type": "execute_result"
    }
   ],
   "source": [
    "rainSer2018 / rainSer2019"
   ]
  },
  {
   "cell_type": "code",
   "execution_count": 224,
   "metadata": {},
   "outputs": [
    {
     "data": {
      "text/plain": [
       "Index(['Aguascalientes, Ags.', 'Calvillito, Ags.', 'Calvillo, Ags.',\n",
       "       'Calvillo, Ags. SMN*', 'Cañada Honda, Ags.',\n",
       "       'Cincuenta Aniversario, Ags.', 'Cosio, Ags.', 'Cosío, Ags.',\n",
       "       'El Niagara, Ags.', 'Jocoque, Ags.', 'La Codorniz, Ags.',\n",
       "       'Los Conos, Ags.', 'Media Luna, Ags.', 'San Bartolo, Ags.'],\n",
       "      dtype='object', name='NOMBRE')"
      ]
     },
     "execution_count": 224,
     "metadata": {},
     "output_type": "execute_result"
    }
   ],
   "source": [
    "rainSer2018.index | rainSer2019.index"
   ]
  },
  {
   "cell_type": "code",
   "execution_count": 225,
   "metadata": {},
   "outputs": [
    {
     "data": {
      "text/plain": [
       "NOMBRE\n",
       "Aguascalientes, Ags.           106.61\n",
       "Calvillito, Ags.                  NaN\n",
       "Calvillo, Ags.                    NaN\n",
       "Calvillo, Ags. SMN*             74.17\n",
       "Cañada Honda, Ags.              34.50\n",
       "Cincuenta Aniversario, Ags.     69.20\n",
       "Cosio, Ags.                       NaN\n",
       "Cosío, Ags.                       NaN\n",
       "El Niagara, Ags.                  NaN\n",
       "Jocoque, Ags.                     NaN\n",
       "La Codorniz, Ags.               66.70\n",
       "Los Conos, Ags.                 64.70\n",
       "Media Luna, Ags.                  NaN\n",
       "San Bartolo, Ags.                 NaN\n",
       "Name: ENE, dtype: float64"
      ]
     },
     "execution_count": 225,
     "metadata": {},
     "output_type": "execute_result"
    }
   ],
   "source": [
    "rainSer2018 + rainSer2019"
   ]
  },
  {
   "cell_type": "code",
   "execution_count": 226,
   "metadata": {},
   "outputs": [
    {
     "data": {
      "text/plain": [
       "NOMBRE\n",
       "Aguascalientes, Ags.           106.61\n",
       "Calvillito, Ags.                14.50\n",
       "Calvillo, Ags.                  10.20\n",
       "Calvillo, Ags. SMN*             74.17\n",
       "Cañada Honda, Ags.              34.50\n",
       "Cincuenta Aniversario, Ags.     69.20\n",
       "Cosio, Ags.                     36.50\n",
       "Cosío, Ags.                      8.20\n",
       "El Niagara, Ags.                26.40\n",
       "Jocoque, Ags.                    7.30\n",
       "La Codorniz, Ags.               66.70\n",
       "Los Conos, Ags.                 64.70\n",
       "Media Luna, Ags.                49.90\n",
       "San Bartolo, Ags.               11.50\n",
       "Name: ENE, dtype: float64"
      ]
     },
     "execution_count": 226,
     "metadata": {},
     "output_type": "execute_result"
    }
   ],
   "source": [
    "rainSer2018.add(rainSer2019, fill_value = 1)"
   ]
  },
  {
   "cell_type": "markdown",
   "metadata": {},
   "source": [
    "## Index Alignment in Data Frame"
   ]
  },
  {
   "cell_type": "code",
   "execution_count": 15,
   "metadata": {},
   "outputs": [
    {
     "data": {
      "text/html": [
       "<div>\n",
       "<style scoped>\n",
       "    .dataframe tbody tr th:only-of-type {\n",
       "        vertical-align: middle;\n",
       "    }\n",
       "\n",
       "    .dataframe tbody tr th {\n",
       "        vertical-align: top;\n",
       "    }\n",
       "\n",
       "    .dataframe thead th {\n",
       "        text-align: right;\n",
       "    }\n",
       "</style>\n",
       "<table border=\"1\" class=\"dataframe\">\n",
       "  <thead>\n",
       "    <tr style=\"text-align: right;\">\n",
       "      <th></th>\n",
       "      <th>2018</th>\n",
       "      <th>2019</th>\n",
       "    </tr>\n",
       "  </thead>\n",
       "  <tbody>\n",
       "    <tr>\n",
       "      <td>Aguascalientes, Ags.</td>\n",
       "      <td>25.8</td>\n",
       "      <td>6.61</td>\n",
       "    </tr>\n",
       "    <tr>\n",
       "      <td>Calvillo, Ags. SMN*</td>\n",
       "      <td>56.0</td>\n",
       "      <td>18.17</td>\n",
       "    </tr>\n",
       "    <tr>\n",
       "      <td>Cañada Honda, Ags.</td>\n",
       "      <td>17.2</td>\n",
       "      <td>NaN</td>\n",
       "    </tr>\n",
       "    <tr>\n",
       "      <td>Cincuenta Aniversario, Ags.</td>\n",
       "      <td>58.6</td>\n",
       "      <td>10.60</td>\n",
       "    </tr>\n",
       "    <tr>\n",
       "      <td>La Codorniz, Ags.</td>\n",
       "      <td>50.0</td>\n",
       "      <td>16.70</td>\n",
       "    </tr>\n",
       "    <tr>\n",
       "      <td>San Bartolo, Ags.</td>\n",
       "      <td>NaN</td>\n",
       "      <td>10.50</td>\n",
       "    </tr>\n",
       "  </tbody>\n",
       "</table>\n",
       "</div>"
      ],
      "text/plain": [
       "                             2018   2019\n",
       "Aguascalientes, Ags.         25.8   6.61\n",
       "Calvillo, Ags. SMN*          56.0  18.17\n",
       "Cañada Honda, Ags.           17.2    NaN\n",
       "Cincuenta Aniversario, Ags.  58.6  10.60\n",
       "La Codorniz, Ags.            50.0  16.70\n",
       "San Bartolo, Ags.             NaN  10.50"
      ]
     },
     "execution_count": 15,
     "metadata": {},
     "output_type": "execute_result"
    }
   ],
   "source": [
    "newRainSer2018 = pd.Series(rains2018.ENE[0:5])\n",
    "newRainSer2018.index = rains2018.NOMBRE[0:5]\n",
    "newRainSer2019 = pd.Series(rains2019.ENE[0:5])\n",
    "newRainSer2019.index = rains2019.NOMBRE[0:5]\n",
    "\n",
    "rainDf = pd.DataFrame({'2018': newRainSer2018, '2019': newRainSer2019})\n",
    "rainDf"
   ]
  },
  {
   "cell_type": "code",
   "execution_count": 237,
   "metadata": {},
   "outputs": [
    {
     "data": {
      "text/plain": [
       "(NOMBRE\n",
       " Aguascalientes, Ags.           100.0\n",
       " Cincuenta Aniversario, Ags.     58.6\n",
       " Calvillo, Ags. SMN*             56.0\n",
       " La Codorniz, Ags.               50.0\n",
       " Cañada Honda, Ags.              17.2\n",
       " Name: ENE, dtype: float64, NOMBRE\n",
       " Aguascalientes, Ags.            6.61\n",
       " Cincuenta Aniversario, Ags.    10.60\n",
       " San Bartolo, Ags.              10.50\n",
       " Calvillo, Ags. SMN*            18.17\n",
       " La Codorniz, Ags.              16.70\n",
       " Name: ENE, dtype: float64)"
      ]
     },
     "execution_count": 237,
     "metadata": {},
     "output_type": "execute_result"
    }
   ],
   "source": [
    "newRainSer2018, newRainSer2019"
   ]
  },
  {
   "cell_type": "code",
   "execution_count": 241,
   "metadata": {},
   "outputs": [
    {
     "data": {
      "text/html": [
       "<div>\n",
       "<style scoped>\n",
       "    .dataframe tbody tr th:only-of-type {\n",
       "        vertical-align: middle;\n",
       "    }\n",
       "\n",
       "    .dataframe tbody tr th {\n",
       "        vertical-align: top;\n",
       "    }\n",
       "\n",
       "    .dataframe thead th {\n",
       "        text-align: right;\n",
       "    }\n",
       "</style>\n",
       "<table border=\"1\" class=\"dataframe\">\n",
       "  <thead>\n",
       "    <tr style=\"text-align: right;\">\n",
       "      <th></th>\n",
       "      <th>2019</th>\n",
       "      <th>2018</th>\n",
       "    </tr>\n",
       "    <tr>\n",
       "      <th>Est</th>\n",
       "      <th></th>\n",
       "      <th></th>\n",
       "    </tr>\n",
       "  </thead>\n",
       "  <tbody>\n",
       "    <tr>\n",
       "      <th>ABASOLO</th>\n",
       "      <td>27.441935</td>\n",
       "      <td>16.2</td>\n",
       "    </tr>\n",
       "    <tr>\n",
       "      <th>ABASOLO</th>\n",
       "      <td>13.462069</td>\n",
       "      <td>15.0</td>\n",
       "    </tr>\n",
       "    <tr>\n",
       "      <th>ABELARDO L. RODRIGUEZ</th>\n",
       "      <td>28.088710</td>\n",
       "      <td>16.7</td>\n",
       "    </tr>\n",
       "    <tr>\n",
       "      <th>ACAJETE                           *</th>\n",
       "      <td>23.374074</td>\n",
       "      <td>12.3</td>\n",
       "    </tr>\n",
       "    <tr>\n",
       "      <th>ACALA</th>\n",
       "      <td>17.987097</td>\n",
       "      <td>21.2</td>\n",
       "    </tr>\n",
       "  </tbody>\n",
       "</table>\n",
       "</div>"
      ],
      "text/plain": [
       "                                          2019  2018\n",
       "Est                                                 \n",
       "ABASOLO                              27.441935  16.2\n",
       "ABASOLO                              13.462069  15.0\n",
       "ABELARDO L. RODRIGUEZ                28.088710  16.7\n",
       "ACAJETE                           *  23.374074  12.3\n",
       "ACALA                                17.987097  21.2"
      ]
     },
     "execution_count": 241,
     "metadata": {},
     "output_type": "execute_result"
    }
   ],
   "source": [
    "newTempSer2018 = pd.Series(avgtemp2018.Tmed[0:5])\n",
    "newTempSer2018.index = avgtemp2018.Est[0:5]\n",
    "\n",
    "newTempSer2019 = pd.Series(avgtemp2019.Tmed[0:5])\n",
    "newTempSer2019.index = avgtemp2018.Est[0:5]\n",
    "\n",
    "tempDf = pd.DataFrame({'2019': newTempSer2019, '2018': newTempSer2018})\n",
    "tempDf"
   ]
  },
  {
   "cell_type": "code",
   "execution_count": 242,
   "metadata": {},
   "outputs": [
    {
     "data": {
      "text/html": [
       "<div>\n",
       "<style scoped>\n",
       "    .dataframe tbody tr th:only-of-type {\n",
       "        vertical-align: middle;\n",
       "    }\n",
       "\n",
       "    .dataframe tbody tr th {\n",
       "        vertical-align: top;\n",
       "    }\n",
       "\n",
       "    .dataframe thead th {\n",
       "        text-align: right;\n",
       "    }\n",
       "</style>\n",
       "<table border=\"1\" class=\"dataframe\">\n",
       "  <thead>\n",
       "    <tr style=\"text-align: right;\">\n",
       "      <th></th>\n",
       "      <th>2018</th>\n",
       "      <th>2019</th>\n",
       "    </tr>\n",
       "  </thead>\n",
       "  <tbody>\n",
       "    <tr>\n",
       "      <th>ABASOLO</th>\n",
       "      <td>NaN</td>\n",
       "      <td>NaN</td>\n",
       "    </tr>\n",
       "    <tr>\n",
       "      <th>ABASOLO</th>\n",
       "      <td>NaN</td>\n",
       "      <td>NaN</td>\n",
       "    </tr>\n",
       "    <tr>\n",
       "      <th>ABELARDO L. RODRIGUEZ</th>\n",
       "      <td>NaN</td>\n",
       "      <td>NaN</td>\n",
       "    </tr>\n",
       "    <tr>\n",
       "      <th>ACAJETE                           *</th>\n",
       "      <td>NaN</td>\n",
       "      <td>NaN</td>\n",
       "    </tr>\n",
       "    <tr>\n",
       "      <th>ACALA</th>\n",
       "      <td>NaN</td>\n",
       "      <td>NaN</td>\n",
       "    </tr>\n",
       "    <tr>\n",
       "      <th>Aguascalientes, Ags.</th>\n",
       "      <td>NaN</td>\n",
       "      <td>NaN</td>\n",
       "    </tr>\n",
       "    <tr>\n",
       "      <th>Calvillo, Ags. SMN*</th>\n",
       "      <td>NaN</td>\n",
       "      <td>NaN</td>\n",
       "    </tr>\n",
       "    <tr>\n",
       "      <th>Cañada Honda, Ags.</th>\n",
       "      <td>NaN</td>\n",
       "      <td>NaN</td>\n",
       "    </tr>\n",
       "    <tr>\n",
       "      <th>Cincuenta Aniversario, Ags.</th>\n",
       "      <td>NaN</td>\n",
       "      <td>NaN</td>\n",
       "    </tr>\n",
       "    <tr>\n",
       "      <th>La Codorniz, Ags.</th>\n",
       "      <td>NaN</td>\n",
       "      <td>NaN</td>\n",
       "    </tr>\n",
       "    <tr>\n",
       "      <th>San Bartolo, Ags.</th>\n",
       "      <td>NaN</td>\n",
       "      <td>NaN</td>\n",
       "    </tr>\n",
       "  </tbody>\n",
       "</table>\n",
       "</div>"
      ],
      "text/plain": [
       "                                     2018  2019\n",
       "ABASOLO                               NaN   NaN\n",
       "ABASOLO                               NaN   NaN\n",
       "ABELARDO L. RODRIGUEZ                 NaN   NaN\n",
       "ACAJETE                           *   NaN   NaN\n",
       "ACALA                                 NaN   NaN\n",
       "Aguascalientes, Ags.                  NaN   NaN\n",
       "Calvillo, Ags. SMN*                   NaN   NaN\n",
       "Cañada Honda, Ags.                    NaN   NaN\n",
       "Cincuenta Aniversario, Ags.           NaN   NaN\n",
       "La Codorniz, Ags.                     NaN   NaN\n",
       "San Bartolo, Ags.                     NaN   NaN"
      ]
     },
     "execution_count": 242,
     "metadata": {},
     "output_type": "execute_result"
    }
   ],
   "source": [
    "rainDf + tempDf"
   ]
  },
  {
   "cell_type": "code",
   "execution_count": 244,
   "metadata": {},
   "outputs": [
    {
     "data": {
      "text/html": [
       "<div>\n",
       "<style scoped>\n",
       "    .dataframe tbody tr th:only-of-type {\n",
       "        vertical-align: middle;\n",
       "    }\n",
       "\n",
       "    .dataframe tbody tr th {\n",
       "        vertical-align: top;\n",
       "    }\n",
       "\n",
       "    .dataframe thead th {\n",
       "        text-align: right;\n",
       "    }\n",
       "</style>\n",
       "<table border=\"1\" class=\"dataframe\">\n",
       "  <thead>\n",
       "    <tr style=\"text-align: right;\">\n",
       "      <th></th>\n",
       "      <th>2018</th>\n",
       "      <th>2019</th>\n",
       "    </tr>\n",
       "  </thead>\n",
       "  <tbody>\n",
       "    <tr>\n",
       "      <th>ABASOLO</th>\n",
       "      <td>50.638</td>\n",
       "      <td>61.879935</td>\n",
       "    </tr>\n",
       "    <tr>\n",
       "      <th>ABASOLO</th>\n",
       "      <td>49.438</td>\n",
       "      <td>47.900069</td>\n",
       "    </tr>\n",
       "    <tr>\n",
       "      <th>ABELARDO L. RODRIGUEZ</th>\n",
       "      <td>51.138</td>\n",
       "      <td>62.526710</td>\n",
       "    </tr>\n",
       "    <tr>\n",
       "      <th>ACAJETE                           *</th>\n",
       "      <td>46.738</td>\n",
       "      <td>57.812074</td>\n",
       "    </tr>\n",
       "    <tr>\n",
       "      <th>ACALA</th>\n",
       "      <td>55.638</td>\n",
       "      <td>52.425097</td>\n",
       "    </tr>\n",
       "    <tr>\n",
       "      <th>Aguascalientes, Ags.</th>\n",
       "      <td>134.438</td>\n",
       "      <td>41.048000</td>\n",
       "    </tr>\n",
       "    <tr>\n",
       "      <th>Calvillo, Ags. SMN*</th>\n",
       "      <td>90.438</td>\n",
       "      <td>52.608000</td>\n",
       "    </tr>\n",
       "    <tr>\n",
       "      <th>Cañada Honda, Ags.</th>\n",
       "      <td>51.638</td>\n",
       "      <td>NaN</td>\n",
       "    </tr>\n",
       "    <tr>\n",
       "      <th>Cincuenta Aniversario, Ags.</th>\n",
       "      <td>93.038</td>\n",
       "      <td>45.038000</td>\n",
       "    </tr>\n",
       "    <tr>\n",
       "      <th>La Codorniz, Ags.</th>\n",
       "      <td>84.438</td>\n",
       "      <td>51.138000</td>\n",
       "    </tr>\n",
       "    <tr>\n",
       "      <th>San Bartolo, Ags.</th>\n",
       "      <td>NaN</td>\n",
       "      <td>44.938000</td>\n",
       "    </tr>\n",
       "  </tbody>\n",
       "</table>\n",
       "</div>"
      ],
      "text/plain": [
       "                                        2018       2019\n",
       "ABASOLO                               50.638  61.879935\n",
       "ABASOLO                               49.438  47.900069\n",
       "ABELARDO L. RODRIGUEZ                 51.138  62.526710\n",
       "ACAJETE                           *   46.738  57.812074\n",
       "ACALA                                 55.638  52.425097\n",
       "Aguascalientes, Ags.                 134.438  41.048000\n",
       "Calvillo, Ags. SMN*                   90.438  52.608000\n",
       "Cañada Honda, Ags.                    51.638        NaN\n",
       "Cincuenta Aniversario, Ags.           93.038  45.038000\n",
       "La Codorniz, Ags.                     84.438  51.138000\n",
       "San Bartolo, Ags.                        NaN  44.938000"
      ]
     },
     "execution_count": 244,
     "metadata": {},
     "output_type": "execute_result"
    }
   ],
   "source": [
    "fill = rainDf.stack().mean()\n",
    "rainDf.add(tempDf, fill_value = fill)"
   ]
  },
  {
   "cell_type": "markdown",
   "metadata": {},
   "source": [
    "## Ufuncs: Operations between DataFrame and Series "
   ]
  },
  {
   "cell_type": "code",
   "execution_count": 245,
   "metadata": {},
   "outputs": [
    {
     "data": {
      "text/plain": [
       "array([[2, 5, 1, 3],\n",
       "       [9, 7, 7, 1],\n",
       "       [1, 3, 2, 2]])"
      ]
     },
     "execution_count": 245,
     "metadata": {},
     "output_type": "execute_result"
    }
   ],
   "source": [
    "A = rng.randint(10, size=(3, 4))\n",
    "A"
   ]
  },
  {
   "cell_type": "code",
   "execution_count": 246,
   "metadata": {},
   "outputs": [
    {
     "data": {
      "text/plain": [
       "array([[ 0,  0,  0,  0],\n",
       "       [ 7,  2,  6, -2],\n",
       "       [-1, -2,  1, -1]])"
      ]
     },
     "execution_count": 246,
     "metadata": {},
     "output_type": "execute_result"
    }
   ],
   "source": [
    "A - A[0]"
   ]
  },
  {
   "cell_type": "code",
   "execution_count": 248,
   "metadata": {},
   "outputs": [
    {
     "data": {
      "text/plain": [
       "array([[-16,  -9, -13,   1],\n",
       "       [ -9,  -7,  -7,  -1],\n",
       "       [-17, -11, -12,   0]])"
      ]
     },
     "execution_count": 248,
     "metadata": {},
     "output_type": "execute_result"
    }
   ],
   "source": [
    "A - 2*A[1]"
   ]
  },
  {
   "cell_type": "code",
   "execution_count": 249,
   "metadata": {},
   "outputs": [
    {
     "data": {
      "text/html": [
       "<div>\n",
       "<style scoped>\n",
       "    .dataframe tbody tr th:only-of-type {\n",
       "        vertical-align: middle;\n",
       "    }\n",
       "\n",
       "    .dataframe tbody tr th {\n",
       "        vertical-align: top;\n",
       "    }\n",
       "\n",
       "    .dataframe thead th {\n",
       "        text-align: right;\n",
       "    }\n",
       "</style>\n",
       "<table border=\"1\" class=\"dataframe\">\n",
       "  <thead>\n",
       "    <tr style=\"text-align: right;\">\n",
       "      <th></th>\n",
       "      <th>2018</th>\n",
       "      <th>2019</th>\n",
       "    </tr>\n",
       "  </thead>\n",
       "  <tbody>\n",
       "    <tr>\n",
       "      <th>Aguascalientes, Ags.</th>\n",
       "      <td>0.0</td>\n",
       "      <td>0.00</td>\n",
       "    </tr>\n",
       "    <tr>\n",
       "      <th>Calvillo, Ags. SMN*</th>\n",
       "      <td>-44.0</td>\n",
       "      <td>11.56</td>\n",
       "    </tr>\n",
       "    <tr>\n",
       "      <th>Cañada Honda, Ags.</th>\n",
       "      <td>-82.8</td>\n",
       "      <td>NaN</td>\n",
       "    </tr>\n",
       "    <tr>\n",
       "      <th>Cincuenta Aniversario, Ags.</th>\n",
       "      <td>-41.4</td>\n",
       "      <td>3.99</td>\n",
       "    </tr>\n",
       "    <tr>\n",
       "      <th>La Codorniz, Ags.</th>\n",
       "      <td>-50.0</td>\n",
       "      <td>10.09</td>\n",
       "    </tr>\n",
       "    <tr>\n",
       "      <th>San Bartolo, Ags.</th>\n",
       "      <td>NaN</td>\n",
       "      <td>3.89</td>\n",
       "    </tr>\n",
       "  </tbody>\n",
       "</table>\n",
       "</div>"
      ],
      "text/plain": [
       "                             2018   2019\n",
       "Aguascalientes, Ags.          0.0   0.00\n",
       "Calvillo, Ags. SMN*         -44.0  11.56\n",
       "Cañada Honda, Ags.          -82.8    NaN\n",
       "Cincuenta Aniversario, Ags. -41.4   3.99\n",
       "La Codorniz, Ags.           -50.0  10.09\n",
       "San Bartolo, Ags.             NaN   3.89"
      ]
     },
     "execution_count": 249,
     "metadata": {},
     "output_type": "execute_result"
    }
   ],
   "source": [
    "rainDf - rainDf.iloc[0]"
   ]
  },
  {
   "cell_type": "code",
   "execution_count": 251,
   "metadata": {},
   "outputs": [
    {
     "data": {
      "text/html": [
       "<div>\n",
       "<style scoped>\n",
       "    .dataframe tbody tr th:only-of-type {\n",
       "        vertical-align: middle;\n",
       "    }\n",
       "\n",
       "    .dataframe tbody tr th {\n",
       "        vertical-align: top;\n",
       "    }\n",
       "\n",
       "    .dataframe thead th {\n",
       "        text-align: right;\n",
       "    }\n",
       "</style>\n",
       "<table border=\"1\" class=\"dataframe\">\n",
       "  <thead>\n",
       "    <tr style=\"text-align: right;\">\n",
       "      <th></th>\n",
       "      <th>2018</th>\n",
       "      <th>2019</th>\n",
       "    </tr>\n",
       "  </thead>\n",
       "  <tbody>\n",
       "    <tr>\n",
       "      <th>Aguascalientes, Ags.</th>\n",
       "      <td>0.0</td>\n",
       "      <td>-93.39</td>\n",
       "    </tr>\n",
       "    <tr>\n",
       "      <th>Calvillo, Ags. SMN*</th>\n",
       "      <td>0.0</td>\n",
       "      <td>-37.83</td>\n",
       "    </tr>\n",
       "    <tr>\n",
       "      <th>Cañada Honda, Ags.</th>\n",
       "      <td>0.0</td>\n",
       "      <td>NaN</td>\n",
       "    </tr>\n",
       "    <tr>\n",
       "      <th>Cincuenta Aniversario, Ags.</th>\n",
       "      <td>0.0</td>\n",
       "      <td>-48.00</td>\n",
       "    </tr>\n",
       "    <tr>\n",
       "      <th>La Codorniz, Ags.</th>\n",
       "      <td>0.0</td>\n",
       "      <td>-33.30</td>\n",
       "    </tr>\n",
       "    <tr>\n",
       "      <th>San Bartolo, Ags.</th>\n",
       "      <td>NaN</td>\n",
       "      <td>NaN</td>\n",
       "    </tr>\n",
       "  </tbody>\n",
       "</table>\n",
       "</div>"
      ],
      "text/plain": [
       "                             2018   2019\n",
       "Aguascalientes, Ags.          0.0 -93.39\n",
       "Calvillo, Ags. SMN*           0.0 -37.83\n",
       "Cañada Honda, Ags.            0.0    NaN\n",
       "Cincuenta Aniversario, Ags.   0.0 -48.00\n",
       "La Codorniz, Ags.             0.0 -33.30\n",
       "San Bartolo, Ags.             NaN    NaN"
      ]
     },
     "execution_count": 251,
     "metadata": {},
     "output_type": "execute_result"
    }
   ],
   "source": [
    "rainDf.sub(rainDf['2018'], axis = 0)"
   ]
  },
  {
   "cell_type": "code",
   "execution_count": 256,
   "metadata": {},
   "outputs": [
    {
     "data": {
      "text/plain": [
       "2018    56.0\n",
       "Name: Calvillo, Ags. SMN*, dtype: float64"
      ]
     },
     "execution_count": 256,
     "metadata": {},
     "output_type": "execute_result"
    }
   ],
   "source": [
    "halfrow = rainDf.iloc[:1, ::2]\n",
    "halfrow"
   ]
  },
  {
   "cell_type": "markdown",
   "metadata": {},
   "source": [
    "# Handling Missing Data \n",
    "## Pythonic Missing Data"
   ]
  },
  {
   "cell_type": "code",
   "execution_count": 4,
   "metadata": {},
   "outputs": [
    {
     "data": {
      "text/plain": [
       "array([1, None, 3, 4], dtype=object)"
      ]
     },
     "execution_count": 4,
     "metadata": {},
     "output_type": "execute_result"
    }
   ],
   "source": [
    "vals1 = np.array([1, None, 3, 4])\n",
    "vals1"
   ]
  },
  {
   "cell_type": "code",
   "execution_count": 7,
   "metadata": {},
   "outputs": [
    {
     "name": "stdout",
     "output_type": "stream",
     "text": [
      "dtype = object\n",
      "121 ms ± 1.62 ms per loop (mean ± std. dev. of 7 runs, 10 loops each)\n",
      "\n",
      "dtype = int\n",
      "4.4 ms ± 8.67 µs per loop (mean ± std. dev. of 7 runs, 100 loops each)\n",
      "\n"
     ]
    }
   ],
   "source": [
    "for dtype in ['object', 'int']:\n",
    "    print(\"dtype =\", dtype)\n",
    "    %timeit np.arange(1E6, dtype=dtype).sum()\n",
    "    print()"
   ]
  },
  {
   "cell_type": "code",
   "execution_count": 8,
   "metadata": {},
   "outputs": [
    {
     "name": "stdout",
     "output_type": "stream",
     "text": [
      "dtype = object\n",
      "121 ms ± 1.5 ms per loop (mean ± std. dev. of 7 runs, 10 loops each)\n",
      "\n",
      "dtype = int\n",
      "4.44 ms ± 15.5 µs per loop (mean ± std. dev. of 7 runs, 100 loops each)\n",
      "\n",
      "dtype = float\n",
      "8.04 ms ± 77.8 µs per loop (mean ± std. dev. of 7 runs, 100 loops each)\n",
      "\n"
     ]
    }
   ],
   "source": [
    "for dtype in ['object', 'int', 'float']:\n",
    "    print(\"dtype =\", dtype)\n",
    "    %timeit np.arange(1E6, dtype=dtype).sum()\n",
    "    print()"
   ]
  },
  {
   "cell_type": "markdown",
   "metadata": {},
   "source": [
    "# NaN: Missing Numerical Data"
   ]
  },
  {
   "cell_type": "code",
   "execution_count": 16,
   "metadata": {},
   "outputs": [
    {
     "data": {
      "text/plain": [
       "dtype('float64')"
      ]
     },
     "execution_count": 16,
     "metadata": {},
     "output_type": "execute_result"
    }
   ],
   "source": [
    "vals2 = np.array([1, np.nan, 3, 4]) \n",
    "vals2.dtype"
   ]
  },
  {
   "cell_type": "code",
   "execution_count": 10,
   "metadata": {},
   "outputs": [
    {
     "data": {
      "text/plain": [
       "nan"
      ]
     },
     "execution_count": 10,
     "metadata": {},
     "output_type": "execute_result"
    }
   ],
   "source": [
    "1 + np.nan"
   ]
  },
  {
   "cell_type": "code",
   "execution_count": 11,
   "metadata": {},
   "outputs": [
    {
     "data": {
      "text/plain": [
       "nan"
      ]
     },
     "execution_count": 11,
     "metadata": {},
     "output_type": "execute_result"
    }
   ],
   "source": [
    "0 * np.nan"
   ]
  },
  {
   "cell_type": "code",
   "execution_count": 17,
   "metadata": {},
   "outputs": [
    {
     "data": {
      "text/plain": [
       "(nan, nan, nan)"
      ]
     },
     "execution_count": 17,
     "metadata": {},
     "output_type": "execute_result"
    }
   ],
   "source": [
    "vals2.sum(), vals2.min(), vals2.max()"
   ]
  },
  {
   "cell_type": "code",
   "execution_count": 18,
   "metadata": {},
   "outputs": [
    {
     "data": {
      "text/plain": [
       "(8.0, 1.0, 4.0)"
      ]
     },
     "execution_count": 18,
     "metadata": {},
     "output_type": "execute_result"
    }
   ],
   "source": [
    "np.nansum(vals2), np.nanmin(vals2), np.nanmax(vals2)"
   ]
  },
  {
   "cell_type": "markdown",
   "metadata": {},
   "source": [
    "# NaN and None in Pandas"
   ]
  },
  {
   "cell_type": "code",
   "execution_count": 3,
   "metadata": {},
   "outputs": [
    {
     "data": {
      "text/plain": [
       "0    1.0\n",
       "1    2.0\n",
       "2    3.0\n",
       "3    NaN\n",
       "dtype: float64"
      ]
     },
     "execution_count": 3,
     "metadata": {},
     "output_type": "execute_result"
    }
   ],
   "source": [
    "pd.Series([1, 2, 3, np.nan])"
   ]
  },
  {
   "cell_type": "code",
   "execution_count": 10,
   "metadata": {},
   "outputs": [
    {
     "data": {
      "text/plain": [
       "0    0\n",
       "1    1\n",
       "2    2\n",
       "3    3\n",
       "4    4\n",
       "dtype: int32"
      ]
     },
     "execution_count": 10,
     "metadata": {},
     "output_type": "execute_result"
    }
   ],
   "source": [
    "ser = pd.Series(range(5), dtype = int)\n",
    "ser"
   ]
  },
  {
   "cell_type": "code",
   "execution_count": 9,
   "metadata": {},
   "outputs": [
    {
     "data": {
      "text/plain": [
       "0    NaN\n",
       "1    1.0\n",
       "2    2.0\n",
       "3    3.0\n",
       "4    4.0\n",
       "dtype: float64"
      ]
     },
     "execution_count": 9,
     "metadata": {},
     "output_type": "execute_result"
    }
   ],
   "source": [
    "ser[0] = None\n",
    "ser"
   ]
  },
  {
   "cell_type": "markdown",
   "metadata": {},
   "source": [
    "# Operating on Null Values\n",
    "## Detecting Null Values"
   ]
  },
  {
   "cell_type": "code",
   "execution_count": 16,
   "metadata": {},
   "outputs": [
    {
     "data": {
      "text/html": [
       "<div>\n",
       "<style scoped>\n",
       "    .dataframe tbody tr th:only-of-type {\n",
       "        vertical-align: middle;\n",
       "    }\n",
       "\n",
       "    .dataframe tbody tr th {\n",
       "        vertical-align: top;\n",
       "    }\n",
       "\n",
       "    .dataframe thead th {\n",
       "        text-align: right;\n",
       "    }\n",
       "</style>\n",
       "<table border=\"1\" class=\"dataframe\">\n",
       "  <thead>\n",
       "    <tr style=\"text-align: right;\">\n",
       "      <th></th>\n",
       "      <th>2018</th>\n",
       "      <th>2019</th>\n",
       "    </tr>\n",
       "  </thead>\n",
       "  <tbody>\n",
       "    <tr>\n",
       "      <td>Aguascalientes, Ags.</td>\n",
       "      <td>False</td>\n",
       "      <td>False</td>\n",
       "    </tr>\n",
       "    <tr>\n",
       "      <td>Calvillo, Ags. SMN*</td>\n",
       "      <td>False</td>\n",
       "      <td>False</td>\n",
       "    </tr>\n",
       "    <tr>\n",
       "      <td>Cañada Honda, Ags.</td>\n",
       "      <td>False</td>\n",
       "      <td>True</td>\n",
       "    </tr>\n",
       "    <tr>\n",
       "      <td>Cincuenta Aniversario, Ags.</td>\n",
       "      <td>False</td>\n",
       "      <td>False</td>\n",
       "    </tr>\n",
       "    <tr>\n",
       "      <td>La Codorniz, Ags.</td>\n",
       "      <td>False</td>\n",
       "      <td>False</td>\n",
       "    </tr>\n",
       "    <tr>\n",
       "      <td>San Bartolo, Ags.</td>\n",
       "      <td>True</td>\n",
       "      <td>False</td>\n",
       "    </tr>\n",
       "  </tbody>\n",
       "</table>\n",
       "</div>"
      ],
      "text/plain": [
       "                              2018   2019\n",
       "Aguascalientes, Ags.         False  False\n",
       "Calvillo, Ags. SMN*          False  False\n",
       "Cañada Honda, Ags.           False   True\n",
       "Cincuenta Aniversario, Ags.  False  False\n",
       "La Codorniz, Ags.            False  False\n",
       "San Bartolo, Ags.             True  False"
      ]
     },
     "execution_count": 16,
     "metadata": {},
     "output_type": "execute_result"
    }
   ],
   "source": [
    "rainDf.isnull()"
   ]
  },
  {
   "cell_type": "code",
   "execution_count": 17,
   "metadata": {},
   "outputs": [
    {
     "data": {
      "text/html": [
       "<div>\n",
       "<style scoped>\n",
       "    .dataframe tbody tr th:only-of-type {\n",
       "        vertical-align: middle;\n",
       "    }\n",
       "\n",
       "    .dataframe tbody tr th {\n",
       "        vertical-align: top;\n",
       "    }\n",
       "\n",
       "    .dataframe thead th {\n",
       "        text-align: right;\n",
       "    }\n",
       "</style>\n",
       "<table border=\"1\" class=\"dataframe\">\n",
       "  <thead>\n",
       "    <tr style=\"text-align: right;\">\n",
       "      <th></th>\n",
       "      <th>2018</th>\n",
       "      <th>2019</th>\n",
       "    </tr>\n",
       "  </thead>\n",
       "  <tbody>\n",
       "    <tr>\n",
       "      <td>Aguascalientes, Ags.</td>\n",
       "      <td>True</td>\n",
       "      <td>True</td>\n",
       "    </tr>\n",
       "    <tr>\n",
       "      <td>Calvillo, Ags. SMN*</td>\n",
       "      <td>True</td>\n",
       "      <td>True</td>\n",
       "    </tr>\n",
       "    <tr>\n",
       "      <td>Cañada Honda, Ags.</td>\n",
       "      <td>True</td>\n",
       "      <td>False</td>\n",
       "    </tr>\n",
       "    <tr>\n",
       "      <td>Cincuenta Aniversario, Ags.</td>\n",
       "      <td>True</td>\n",
       "      <td>True</td>\n",
       "    </tr>\n",
       "    <tr>\n",
       "      <td>La Codorniz, Ags.</td>\n",
       "      <td>True</td>\n",
       "      <td>True</td>\n",
       "    </tr>\n",
       "    <tr>\n",
       "      <td>San Bartolo, Ags.</td>\n",
       "      <td>False</td>\n",
       "      <td>True</td>\n",
       "    </tr>\n",
       "  </tbody>\n",
       "</table>\n",
       "</div>"
      ],
      "text/plain": [
       "                              2018   2019\n",
       "Aguascalientes, Ags.          True   True\n",
       "Calvillo, Ags. SMN*           True   True\n",
       "Cañada Honda, Ags.            True  False\n",
       "Cincuenta Aniversario, Ags.   True   True\n",
       "La Codorniz, Ags.             True   True\n",
       "San Bartolo, Ags.            False   True"
      ]
     },
     "execution_count": 17,
     "metadata": {},
     "output_type": "execute_result"
    }
   ],
   "source": [
    "rainDf.notnull()"
   ]
  },
  {
   "cell_type": "code",
   "execution_count": 19,
   "metadata": {},
   "outputs": [
    {
     "data": {
      "text/html": [
       "<div>\n",
       "<style scoped>\n",
       "    .dataframe tbody tr th:only-of-type {\n",
       "        vertical-align: middle;\n",
       "    }\n",
       "\n",
       "    .dataframe tbody tr th {\n",
       "        vertical-align: top;\n",
       "    }\n",
       "\n",
       "    .dataframe thead th {\n",
       "        text-align: right;\n",
       "    }\n",
       "</style>\n",
       "<table border=\"1\" class=\"dataframe\">\n",
       "  <thead>\n",
       "    <tr style=\"text-align: right;\">\n",
       "      <th></th>\n",
       "      <th>2018</th>\n",
       "      <th>2019</th>\n",
       "    </tr>\n",
       "  </thead>\n",
       "  <tbody>\n",
       "    <tr>\n",
       "      <td>Aguascalientes, Ags.</td>\n",
       "      <td>25.8</td>\n",
       "      <td>6.61</td>\n",
       "    </tr>\n",
       "    <tr>\n",
       "      <td>Calvillo, Ags. SMN*</td>\n",
       "      <td>56.0</td>\n",
       "      <td>18.17</td>\n",
       "    </tr>\n",
       "    <tr>\n",
       "      <td>Cañada Honda, Ags.</td>\n",
       "      <td>17.2</td>\n",
       "      <td>NaN</td>\n",
       "    </tr>\n",
       "    <tr>\n",
       "      <td>Cincuenta Aniversario, Ags.</td>\n",
       "      <td>58.6</td>\n",
       "      <td>10.60</td>\n",
       "    </tr>\n",
       "    <tr>\n",
       "      <td>La Codorniz, Ags.</td>\n",
       "      <td>50.0</td>\n",
       "      <td>16.70</td>\n",
       "    </tr>\n",
       "    <tr>\n",
       "      <td>San Bartolo, Ags.</td>\n",
       "      <td>NaN</td>\n",
       "      <td>10.50</td>\n",
       "    </tr>\n",
       "  </tbody>\n",
       "</table>\n",
       "</div>"
      ],
      "text/plain": [
       "                             2018   2019\n",
       "Aguascalientes, Ags.         25.8   6.61\n",
       "Calvillo, Ags. SMN*          56.0  18.17\n",
       "Cañada Honda, Ags.           17.2    NaN\n",
       "Cincuenta Aniversario, Ags.  58.6  10.60\n",
       "La Codorniz, Ags.            50.0  16.70\n",
       "San Bartolo, Ags.             NaN  10.50"
      ]
     },
     "execution_count": 19,
     "metadata": {},
     "output_type": "execute_result"
    }
   ],
   "source": [
    "rainDf[rainDf.notnull()]"
   ]
  },
  {
   "cell_type": "markdown",
   "metadata": {},
   "source": [
    "# Dropping null values"
   ]
  },
  {
   "cell_type": "code",
   "execution_count": 24,
   "metadata": {},
   "outputs": [
    {
     "data": {
      "text/html": [
       "<div>\n",
       "<style scoped>\n",
       "    .dataframe tbody tr th:only-of-type {\n",
       "        vertical-align: middle;\n",
       "    }\n",
       "\n",
       "    .dataframe tbody tr th {\n",
       "        vertical-align: top;\n",
       "    }\n",
       "\n",
       "    .dataframe thead th {\n",
       "        text-align: right;\n",
       "    }\n",
       "</style>\n",
       "<table border=\"1\" class=\"dataframe\">\n",
       "  <thead>\n",
       "    <tr style=\"text-align: right;\">\n",
       "      <th></th>\n",
       "      <th>2018</th>\n",
       "      <th>2019</th>\n",
       "    </tr>\n",
       "  </thead>\n",
       "  <tbody>\n",
       "    <tr>\n",
       "      <td>Aguascalientes, Ags.</td>\n",
       "      <td>25.8</td>\n",
       "      <td>6.61</td>\n",
       "    </tr>\n",
       "    <tr>\n",
       "      <td>Calvillo, Ags. SMN*</td>\n",
       "      <td>56.0</td>\n",
       "      <td>18.17</td>\n",
       "    </tr>\n",
       "    <tr>\n",
       "      <td>Cañada Honda, Ags.</td>\n",
       "      <td>17.2</td>\n",
       "      <td>NaN</td>\n",
       "    </tr>\n",
       "    <tr>\n",
       "      <td>Cincuenta Aniversario, Ags.</td>\n",
       "      <td>58.6</td>\n",
       "      <td>10.60</td>\n",
       "    </tr>\n",
       "    <tr>\n",
       "      <td>La Codorniz, Ags.</td>\n",
       "      <td>50.0</td>\n",
       "      <td>16.70</td>\n",
       "    </tr>\n",
       "    <tr>\n",
       "      <td>San Bartolo, Ags.</td>\n",
       "      <td>NaN</td>\n",
       "      <td>10.50</td>\n",
       "    </tr>\n",
       "  </tbody>\n",
       "</table>\n",
       "</div>"
      ],
      "text/plain": [
       "                             2018   2019\n",
       "Aguascalientes, Ags.         25.8   6.61\n",
       "Calvillo, Ags. SMN*          56.0  18.17\n",
       "Cañada Honda, Ags.           17.2    NaN\n",
       "Cincuenta Aniversario, Ags.  58.6  10.60\n",
       "La Codorniz, Ags.            50.0  16.70\n",
       "San Bartolo, Ags.             NaN  10.50"
      ]
     },
     "execution_count": 24,
     "metadata": {},
     "output_type": "execute_result"
    }
   ],
   "source": [
    "rainDf"
   ]
  },
  {
   "cell_type": "code",
   "execution_count": 20,
   "metadata": {},
   "outputs": [
    {
     "data": {
      "text/html": [
       "<div>\n",
       "<style scoped>\n",
       "    .dataframe tbody tr th:only-of-type {\n",
       "        vertical-align: middle;\n",
       "    }\n",
       "\n",
       "    .dataframe tbody tr th {\n",
       "        vertical-align: top;\n",
       "    }\n",
       "\n",
       "    .dataframe thead th {\n",
       "        text-align: right;\n",
       "    }\n",
       "</style>\n",
       "<table border=\"1\" class=\"dataframe\">\n",
       "  <thead>\n",
       "    <tr style=\"text-align: right;\">\n",
       "      <th></th>\n",
       "      <th>2018</th>\n",
       "      <th>2019</th>\n",
       "    </tr>\n",
       "  </thead>\n",
       "  <tbody>\n",
       "    <tr>\n",
       "      <td>Aguascalientes, Ags.</td>\n",
       "      <td>25.8</td>\n",
       "      <td>6.61</td>\n",
       "    </tr>\n",
       "    <tr>\n",
       "      <td>Calvillo, Ags. SMN*</td>\n",
       "      <td>56.0</td>\n",
       "      <td>18.17</td>\n",
       "    </tr>\n",
       "    <tr>\n",
       "      <td>Cincuenta Aniversario, Ags.</td>\n",
       "      <td>58.6</td>\n",
       "      <td>10.60</td>\n",
       "    </tr>\n",
       "    <tr>\n",
       "      <td>La Codorniz, Ags.</td>\n",
       "      <td>50.0</td>\n",
       "      <td>16.70</td>\n",
       "    </tr>\n",
       "  </tbody>\n",
       "</table>\n",
       "</div>"
      ],
      "text/plain": [
       "                             2018   2019\n",
       "Aguascalientes, Ags.         25.8   6.61\n",
       "Calvillo, Ags. SMN*          56.0  18.17\n",
       "Cincuenta Aniversario, Ags.  58.6  10.60\n",
       "La Codorniz, Ags.            50.0  16.70"
      ]
     },
     "execution_count": 20,
     "metadata": {},
     "output_type": "execute_result"
    }
   ],
   "source": [
    "rainDf.dropna()"
   ]
  },
  {
   "cell_type": "code",
   "execution_count": 23,
   "metadata": {},
   "outputs": [
    {
     "data": {
      "text/html": [
       "<div>\n",
       "<style scoped>\n",
       "    .dataframe tbody tr th:only-of-type {\n",
       "        vertical-align: middle;\n",
       "    }\n",
       "\n",
       "    .dataframe tbody tr th {\n",
       "        vertical-align: top;\n",
       "    }\n",
       "\n",
       "    .dataframe thead th {\n",
       "        text-align: right;\n",
       "    }\n",
       "</style>\n",
       "<table border=\"1\" class=\"dataframe\">\n",
       "  <thead>\n",
       "    <tr style=\"text-align: right;\">\n",
       "      <th></th>\n",
       "    </tr>\n",
       "  </thead>\n",
       "  <tbody>\n",
       "    <tr>\n",
       "      <td>Aguascalientes, Ags.</td>\n",
       "    </tr>\n",
       "    <tr>\n",
       "      <td>Calvillo, Ags. SMN*</td>\n",
       "    </tr>\n",
       "    <tr>\n",
       "      <td>Cañada Honda, Ags.</td>\n",
       "    </tr>\n",
       "    <tr>\n",
       "      <td>Cincuenta Aniversario, Ags.</td>\n",
       "    </tr>\n",
       "    <tr>\n",
       "      <td>La Codorniz, Ags.</td>\n",
       "    </tr>\n",
       "    <tr>\n",
       "      <td>San Bartolo, Ags.</td>\n",
       "    </tr>\n",
       "  </tbody>\n",
       "</table>\n",
       "</div>"
      ],
      "text/plain": [
       "Empty DataFrame\n",
       "Columns: []\n",
       "Index: [Aguascalientes, Ags., Calvillo, Ags. SMN*, Cañada Honda, Ags., Cincuenta Aniversario, Ags., La Codorniz, Ags., San Bartolo, Ags.]"
      ]
     },
     "execution_count": 23,
     "metadata": {},
     "output_type": "execute_result"
    }
   ],
   "source": [
    "rainDf.dropna(axis = 'columns')"
   ]
  },
  {
   "cell_type": "code",
   "execution_count": 25,
   "metadata": {},
   "outputs": [
    {
     "data": {
      "text/html": [
       "<div>\n",
       "<style scoped>\n",
       "    .dataframe tbody tr th:only-of-type {\n",
       "        vertical-align: middle;\n",
       "    }\n",
       "\n",
       "    .dataframe tbody tr th {\n",
       "        vertical-align: top;\n",
       "    }\n",
       "\n",
       "    .dataframe thead th {\n",
       "        text-align: right;\n",
       "    }\n",
       "</style>\n",
       "<table border=\"1\" class=\"dataframe\">\n",
       "  <thead>\n",
       "    <tr style=\"text-align: right;\">\n",
       "      <th></th>\n",
       "      <th>2018</th>\n",
       "      <th>2019</th>\n",
       "    </tr>\n",
       "  </thead>\n",
       "  <tbody>\n",
       "    <tr>\n",
       "      <td>Aguascalientes, Ags.</td>\n",
       "      <td>25.8</td>\n",
       "      <td>6.61</td>\n",
       "    </tr>\n",
       "    <tr>\n",
       "      <td>Calvillo, Ags. SMN*</td>\n",
       "      <td>56.0</td>\n",
       "      <td>18.17</td>\n",
       "    </tr>\n",
       "    <tr>\n",
       "      <td>Cincuenta Aniversario, Ags.</td>\n",
       "      <td>58.6</td>\n",
       "      <td>10.60</td>\n",
       "    </tr>\n",
       "    <tr>\n",
       "      <td>La Codorniz, Ags.</td>\n",
       "      <td>50.0</td>\n",
       "      <td>16.70</td>\n",
       "    </tr>\n",
       "  </tbody>\n",
       "</table>\n",
       "</div>"
      ],
      "text/plain": [
       "                             2018   2019\n",
       "Aguascalientes, Ags.         25.8   6.61\n",
       "Calvillo, Ags. SMN*          56.0  18.17\n",
       "Cincuenta Aniversario, Ags.  58.6  10.60\n",
       "La Codorniz, Ags.            50.0  16.70"
      ]
     },
     "execution_count": 25,
     "metadata": {},
     "output_type": "execute_result"
    }
   ],
   "source": [
    "rainDf.dropna(axis = 'rows')"
   ]
  },
  {
   "cell_type": "code",
   "execution_count": 30,
   "metadata": {},
   "outputs": [
    {
     "data": {
      "text/html": [
       "<div>\n",
       "<style scoped>\n",
       "    .dataframe tbody tr th:only-of-type {\n",
       "        vertical-align: middle;\n",
       "    }\n",
       "\n",
       "    .dataframe tbody tr th {\n",
       "        vertical-align: top;\n",
       "    }\n",
       "\n",
       "    .dataframe thead th {\n",
       "        text-align: right;\n",
       "    }\n",
       "</style>\n",
       "<table border=\"1\" class=\"dataframe\">\n",
       "  <thead>\n",
       "    <tr style=\"text-align: right;\">\n",
       "      <th></th>\n",
       "      <th>2018</th>\n",
       "      <th>2019</th>\n",
       "      <th>3</th>\n",
       "      <th>2020</th>\n",
       "    </tr>\n",
       "  </thead>\n",
       "  <tbody>\n",
       "    <tr>\n",
       "      <td>Aguascalientes, Ags.</td>\n",
       "      <td>25.8</td>\n",
       "      <td>6.61</td>\n",
       "      <td>NaN</td>\n",
       "      <td>NaN</td>\n",
       "    </tr>\n",
       "    <tr>\n",
       "      <td>Calvillo, Ags. SMN*</td>\n",
       "      <td>56.0</td>\n",
       "      <td>18.17</td>\n",
       "      <td>NaN</td>\n",
       "      <td>NaN</td>\n",
       "    </tr>\n",
       "    <tr>\n",
       "      <td>Cañada Honda, Ags.</td>\n",
       "      <td>17.2</td>\n",
       "      <td>NaN</td>\n",
       "      <td>NaN</td>\n",
       "      <td>NaN</td>\n",
       "    </tr>\n",
       "    <tr>\n",
       "      <td>Cincuenta Aniversario, Ags.</td>\n",
       "      <td>58.6</td>\n",
       "      <td>10.60</td>\n",
       "      <td>NaN</td>\n",
       "      <td>NaN</td>\n",
       "    </tr>\n",
       "    <tr>\n",
       "      <td>La Codorniz, Ags.</td>\n",
       "      <td>50.0</td>\n",
       "      <td>16.70</td>\n",
       "      <td>NaN</td>\n",
       "      <td>NaN</td>\n",
       "    </tr>\n",
       "    <tr>\n",
       "      <td>San Bartolo, Ags.</td>\n",
       "      <td>NaN</td>\n",
       "      <td>10.50</td>\n",
       "      <td>NaN</td>\n",
       "      <td>NaN</td>\n",
       "    </tr>\n",
       "  </tbody>\n",
       "</table>\n",
       "</div>"
      ],
      "text/plain": [
       "                             2018   2019   3  2020\n",
       "Aguascalientes, Ags.         25.8   6.61 NaN   NaN\n",
       "Calvillo, Ags. SMN*          56.0  18.17 NaN   NaN\n",
       "Cañada Honda, Ags.           17.2    NaN NaN   NaN\n",
       "Cincuenta Aniversario, Ags.  58.6  10.60 NaN   NaN\n",
       "La Codorniz, Ags.            50.0  16.70 NaN   NaN\n",
       "San Bartolo, Ags.             NaN  10.50 NaN   NaN"
      ]
     },
     "execution_count": 30,
     "metadata": {},
     "output_type": "execute_result"
    }
   ],
   "source": [
    "rainDf['2020'] = np.nan\n",
    "rainDf"
   ]
  },
  {
   "cell_type": "code",
   "execution_count": 31,
   "metadata": {},
   "outputs": [
    {
     "data": {
      "text/html": [
       "<div>\n",
       "<style scoped>\n",
       "    .dataframe tbody tr th:only-of-type {\n",
       "        vertical-align: middle;\n",
       "    }\n",
       "\n",
       "    .dataframe tbody tr th {\n",
       "        vertical-align: top;\n",
       "    }\n",
       "\n",
       "    .dataframe thead th {\n",
       "        text-align: right;\n",
       "    }\n",
       "</style>\n",
       "<table border=\"1\" class=\"dataframe\">\n",
       "  <thead>\n",
       "    <tr style=\"text-align: right;\">\n",
       "      <th></th>\n",
       "      <th>2018</th>\n",
       "      <th>2019</th>\n",
       "    </tr>\n",
       "  </thead>\n",
       "  <tbody>\n",
       "    <tr>\n",
       "      <td>Aguascalientes, Ags.</td>\n",
       "      <td>25.8</td>\n",
       "      <td>6.61</td>\n",
       "    </tr>\n",
       "    <tr>\n",
       "      <td>Calvillo, Ags. SMN*</td>\n",
       "      <td>56.0</td>\n",
       "      <td>18.17</td>\n",
       "    </tr>\n",
       "    <tr>\n",
       "      <td>Cañada Honda, Ags.</td>\n",
       "      <td>17.2</td>\n",
       "      <td>NaN</td>\n",
       "    </tr>\n",
       "    <tr>\n",
       "      <td>Cincuenta Aniversario, Ags.</td>\n",
       "      <td>58.6</td>\n",
       "      <td>10.60</td>\n",
       "    </tr>\n",
       "    <tr>\n",
       "      <td>La Codorniz, Ags.</td>\n",
       "      <td>50.0</td>\n",
       "      <td>16.70</td>\n",
       "    </tr>\n",
       "    <tr>\n",
       "      <td>San Bartolo, Ags.</td>\n",
       "      <td>NaN</td>\n",
       "      <td>10.50</td>\n",
       "    </tr>\n",
       "  </tbody>\n",
       "</table>\n",
       "</div>"
      ],
      "text/plain": [
       "                             2018   2019\n",
       "Aguascalientes, Ags.         25.8   6.61\n",
       "Calvillo, Ags. SMN*          56.0  18.17\n",
       "Cañada Honda, Ags.           17.2    NaN\n",
       "Cincuenta Aniversario, Ags.  58.6  10.60\n",
       "La Codorniz, Ags.            50.0  16.70\n",
       "San Bartolo, Ags.             NaN  10.50"
      ]
     },
     "execution_count": 31,
     "metadata": {},
     "output_type": "execute_result"
    }
   ],
   "source": [
    "rainDf.dropna(axis = 'columns', how = 'all')"
   ]
  },
  {
   "cell_type": "code",
   "execution_count": 32,
   "metadata": {},
   "outputs": [
    {
     "data": {
      "text/html": [
       "<div>\n",
       "<style scoped>\n",
       "    .dataframe tbody tr th:only-of-type {\n",
       "        vertical-align: middle;\n",
       "    }\n",
       "\n",
       "    .dataframe tbody tr th {\n",
       "        vertical-align: top;\n",
       "    }\n",
       "\n",
       "    .dataframe thead th {\n",
       "        text-align: right;\n",
       "    }\n",
       "</style>\n",
       "<table border=\"1\" class=\"dataframe\">\n",
       "  <thead>\n",
       "    <tr style=\"text-align: right;\">\n",
       "      <th></th>\n",
       "      <th>2018</th>\n",
       "      <th>2019</th>\n",
       "      <th>3</th>\n",
       "      <th>2020</th>\n",
       "    </tr>\n",
       "  </thead>\n",
       "  <tbody>\n",
       "    <tr>\n",
       "      <td>Aguascalientes, Ags.</td>\n",
       "      <td>25.8</td>\n",
       "      <td>6.61</td>\n",
       "      <td>NaN</td>\n",
       "      <td>NaN</td>\n",
       "    </tr>\n",
       "    <tr>\n",
       "      <td>Calvillo, Ags. SMN*</td>\n",
       "      <td>56.0</td>\n",
       "      <td>18.17</td>\n",
       "      <td>NaN</td>\n",
       "      <td>NaN</td>\n",
       "    </tr>\n",
       "    <tr>\n",
       "      <td>Cañada Honda, Ags.</td>\n",
       "      <td>17.2</td>\n",
       "      <td>NaN</td>\n",
       "      <td>NaN</td>\n",
       "      <td>NaN</td>\n",
       "    </tr>\n",
       "    <tr>\n",
       "      <td>Cincuenta Aniversario, Ags.</td>\n",
       "      <td>58.6</td>\n",
       "      <td>10.60</td>\n",
       "      <td>NaN</td>\n",
       "      <td>NaN</td>\n",
       "    </tr>\n",
       "    <tr>\n",
       "      <td>La Codorniz, Ags.</td>\n",
       "      <td>50.0</td>\n",
       "      <td>16.70</td>\n",
       "      <td>NaN</td>\n",
       "      <td>NaN</td>\n",
       "    </tr>\n",
       "    <tr>\n",
       "      <td>San Bartolo, Ags.</td>\n",
       "      <td>NaN</td>\n",
       "      <td>10.50</td>\n",
       "      <td>NaN</td>\n",
       "      <td>NaN</td>\n",
       "    </tr>\n",
       "  </tbody>\n",
       "</table>\n",
       "</div>"
      ],
      "text/plain": [
       "                             2018   2019   3  2020\n",
       "Aguascalientes, Ags.         25.8   6.61 NaN   NaN\n",
       "Calvillo, Ags. SMN*          56.0  18.17 NaN   NaN\n",
       "Cañada Honda, Ags.           17.2    NaN NaN   NaN\n",
       "Cincuenta Aniversario, Ags.  58.6  10.60 NaN   NaN\n",
       "La Codorniz, Ags.            50.0  16.70 NaN   NaN\n",
       "San Bartolo, Ags.             NaN  10.50 NaN   NaN"
      ]
     },
     "execution_count": 32,
     "metadata": {},
     "output_type": "execute_result"
    }
   ],
   "source": [
    "rainDf.dropna(axis = 'rows', thresh = 1)"
   ]
  },
  {
   "cell_type": "code",
   "execution_count": 33,
   "metadata": {},
   "outputs": [
    {
     "data": {
      "text/html": [
       "<div>\n",
       "<style scoped>\n",
       "    .dataframe tbody tr th:only-of-type {\n",
       "        vertical-align: middle;\n",
       "    }\n",
       "\n",
       "    .dataframe tbody tr th {\n",
       "        vertical-align: top;\n",
       "    }\n",
       "\n",
       "    .dataframe thead th {\n",
       "        text-align: right;\n",
       "    }\n",
       "</style>\n",
       "<table border=\"1\" class=\"dataframe\">\n",
       "  <thead>\n",
       "    <tr style=\"text-align: right;\">\n",
       "      <th></th>\n",
       "      <th>2018</th>\n",
       "      <th>2019</th>\n",
       "      <th>3</th>\n",
       "      <th>2020</th>\n",
       "    </tr>\n",
       "  </thead>\n",
       "  <tbody>\n",
       "    <tr>\n",
       "      <td>Aguascalientes, Ags.</td>\n",
       "      <td>25.8</td>\n",
       "      <td>6.61</td>\n",
       "      <td>NaN</td>\n",
       "      <td>NaN</td>\n",
       "    </tr>\n",
       "    <tr>\n",
       "      <td>Calvillo, Ags. SMN*</td>\n",
       "      <td>56.0</td>\n",
       "      <td>18.17</td>\n",
       "      <td>NaN</td>\n",
       "      <td>NaN</td>\n",
       "    </tr>\n",
       "    <tr>\n",
       "      <td>Cincuenta Aniversario, Ags.</td>\n",
       "      <td>58.6</td>\n",
       "      <td>10.60</td>\n",
       "      <td>NaN</td>\n",
       "      <td>NaN</td>\n",
       "    </tr>\n",
       "    <tr>\n",
       "      <td>La Codorniz, Ags.</td>\n",
       "      <td>50.0</td>\n",
       "      <td>16.70</td>\n",
       "      <td>NaN</td>\n",
       "      <td>NaN</td>\n",
       "    </tr>\n",
       "  </tbody>\n",
       "</table>\n",
       "</div>"
      ],
      "text/plain": [
       "                             2018   2019   3  2020\n",
       "Aguascalientes, Ags.         25.8   6.61 NaN   NaN\n",
       "Calvillo, Ags. SMN*          56.0  18.17 NaN   NaN\n",
       "Cincuenta Aniversario, Ags.  58.6  10.60 NaN   NaN\n",
       "La Codorniz, Ags.            50.0  16.70 NaN   NaN"
      ]
     },
     "execution_count": 33,
     "metadata": {},
     "output_type": "execute_result"
    }
   ],
   "source": [
    "rainDf.dropna(axis = 'rows', thresh = 2)"
   ]
  },
  {
   "cell_type": "code",
   "execution_count": 34,
   "metadata": {},
   "outputs": [
    {
     "data": {
      "text/html": [
       "<div>\n",
       "<style scoped>\n",
       "    .dataframe tbody tr th:only-of-type {\n",
       "        vertical-align: middle;\n",
       "    }\n",
       "\n",
       "    .dataframe tbody tr th {\n",
       "        vertical-align: top;\n",
       "    }\n",
       "\n",
       "    .dataframe thead th {\n",
       "        text-align: right;\n",
       "    }\n",
       "</style>\n",
       "<table border=\"1\" class=\"dataframe\">\n",
       "  <thead>\n",
       "    <tr style=\"text-align: right;\">\n",
       "      <th></th>\n",
       "      <th>2018</th>\n",
       "      <th>2019</th>\n",
       "      <th>3</th>\n",
       "      <th>2020</th>\n",
       "    </tr>\n",
       "  </thead>\n",
       "  <tbody>\n",
       "  </tbody>\n",
       "</table>\n",
       "</div>"
      ],
      "text/plain": [
       "Empty DataFrame\n",
       "Columns: [2018, 2019, 3, 2020]\n",
       "Index: []"
      ]
     },
     "execution_count": 34,
     "metadata": {},
     "output_type": "execute_result"
    }
   ],
   "source": [
    "rainDf.dropna(axis = 'rows', thresh = 3)"
   ]
  },
  {
   "cell_type": "markdown",
   "metadata": {},
   "source": [
    "## Filling null values"
   ]
  },
  {
   "cell_type": "code",
   "execution_count": 43,
   "metadata": {},
   "outputs": [
    {
     "data": {
      "text/plain": [
       "NOMBRE\n",
       "Puerto de la Concepción, Ags.    26.7\n",
       "Potrerillos, Ags.                52.8\n",
       "Sandovales, Ags.                  8.0\n",
       "La Tinaja II, Ags.               10.0\n",
       "Villa Juárez, Ags.               16.9\n",
       "OBSERVATORIO DE ALGODONES SMN     1.4\n",
       "Abelardo L. Rodríguez, B.C.      53.6\n",
       "Cataviña, B.C. SMN*               0.5\n",
       "Name: ENE, dtype: float64"
      ]
     },
     "execution_count": 43,
     "metadata": {},
     "output_type": "execute_result"
    }
   ],
   "source": [
    "rainSer2018 = pd.Series(rains2018.ENE[15:23])\n",
    "rainSer2018.index = rains2018.NOMBRE[15:23]\n",
    "rainSer2018"
   ]
  },
  {
   "cell_type": "code",
   "execution_count": 47,
   "metadata": {},
   "outputs": [
    {
     "data": {
      "text/plain": [
       "NOMBRE\n",
       "Puerto de la Concepción, Ags.     NaN\n",
       "Potrerillos, Ags.                52.8\n",
       "Sandovales, Ags.                  8.0\n",
       "La Tinaja II, Ags.                NaN\n",
       "Villa Juárez, Ags.               16.9\n",
       "OBSERVATORIO DE ALGODONES SMN     NaN\n",
       "Abelardo L. Rodríguez, B.C.      53.6\n",
       "Cataviña, B.C. SMN*               0.5\n",
       "Name: ENE, dtype: float64"
      ]
     },
     "execution_count": 47,
     "metadata": {},
     "output_type": "execute_result"
    }
   ],
   "source": [
    "rainSer2018[0] = np.nan\n",
    "rainSer2018[3] = np.nan\n",
    "rainSer2018[5] = np.nan\n",
    "rainSer2018"
   ]
  },
  {
   "cell_type": "code",
   "execution_count": 48,
   "metadata": {},
   "outputs": [
    {
     "data": {
      "text/plain": [
       "NOMBRE\n",
       "Puerto de la Concepción, Ags.     0.0\n",
       "Potrerillos, Ags.                52.8\n",
       "Sandovales, Ags.                  8.0\n",
       "La Tinaja II, Ags.                0.0\n",
       "Villa Juárez, Ags.               16.9\n",
       "OBSERVATORIO DE ALGODONES SMN     0.0\n",
       "Abelardo L. Rodríguez, B.C.      53.6\n",
       "Cataviña, B.C. SMN*               0.5\n",
       "Name: ENE, dtype: float64"
      ]
     },
     "execution_count": 48,
     "metadata": {},
     "output_type": "execute_result"
    }
   ],
   "source": [
    "rainSer2018.fillna(0)"
   ]
  },
  {
   "cell_type": "code",
   "execution_count": 49,
   "metadata": {},
   "outputs": [
    {
     "data": {
      "text/plain": [
       "NOMBRE\n",
       "Puerto de la Concepción, Ags.    10.0\n",
       "Potrerillos, Ags.                52.8\n",
       "Sandovales, Ags.                  8.0\n",
       "La Tinaja II, Ags.               10.0\n",
       "Villa Juárez, Ags.               16.9\n",
       "OBSERVATORIO DE ALGODONES SMN    10.0\n",
       "Abelardo L. Rodríguez, B.C.      53.6\n",
       "Cataviña, B.C. SMN*               0.5\n",
       "Name: ENE, dtype: float64"
      ]
     },
     "execution_count": 49,
     "metadata": {},
     "output_type": "execute_result"
    }
   ],
   "source": [
    "rainSer2018.fillna(10)"
   ]
  },
  {
   "cell_type": "code",
   "execution_count": 51,
   "metadata": {},
   "outputs": [
    {
     "data": {
      "text/plain": [
       "NOMBRE\n",
       "Puerto de la Concepción, Ags.     NaN\n",
       "Potrerillos, Ags.                52.8\n",
       "Sandovales, Ags.                  8.0\n",
       "La Tinaja II, Ags.                8.0\n",
       "Villa Juárez, Ags.               16.9\n",
       "OBSERVATORIO DE ALGODONES SMN    16.9\n",
       "Abelardo L. Rodríguez, B.C.      53.6\n",
       "Cataviña, B.C. SMN*               0.5\n",
       "Name: ENE, dtype: float64"
      ]
     },
     "execution_count": 51,
     "metadata": {},
     "output_type": "execute_result"
    }
   ],
   "source": [
    "rainSer2018.fillna(method = 'ffill')"
   ]
  },
  {
   "cell_type": "code",
   "execution_count": 52,
   "metadata": {},
   "outputs": [
    {
     "data": {
      "text/plain": [
       "NOMBRE\n",
       "Puerto de la Concepción, Ags.    52.8\n",
       "Potrerillos, Ags.                52.8\n",
       "Sandovales, Ags.                  8.0\n",
       "La Tinaja II, Ags.               16.9\n",
       "Villa Juárez, Ags.               16.9\n",
       "OBSERVATORIO DE ALGODONES SMN    53.6\n",
       "Abelardo L. Rodríguez, B.C.      53.6\n",
       "Cataviña, B.C. SMN*               0.5\n",
       "Name: ENE, dtype: float64"
      ]
     },
     "execution_count": 52,
     "metadata": {},
     "output_type": "execute_result"
    }
   ],
   "source": [
    "rainSer2018.fillna(method = 'bfill')"
   ]
  },
  {
   "cell_type": "code",
   "execution_count": 53,
   "metadata": {},
   "outputs": [
    {
     "data": {
      "text/html": [
       "<div>\n",
       "<style scoped>\n",
       "    .dataframe tbody tr th:only-of-type {\n",
       "        vertical-align: middle;\n",
       "    }\n",
       "\n",
       "    .dataframe tbody tr th {\n",
       "        vertical-align: top;\n",
       "    }\n",
       "\n",
       "    .dataframe thead th {\n",
       "        text-align: right;\n",
       "    }\n",
       "</style>\n",
       "<table border=\"1\" class=\"dataframe\">\n",
       "  <thead>\n",
       "    <tr style=\"text-align: right;\">\n",
       "      <th></th>\n",
       "      <th>2018</th>\n",
       "      <th>2019</th>\n",
       "      <th>3</th>\n",
       "      <th>2020</th>\n",
       "    </tr>\n",
       "  </thead>\n",
       "  <tbody>\n",
       "    <tr>\n",
       "      <td>Aguascalientes, Ags.</td>\n",
       "      <td>25.8</td>\n",
       "      <td>6.61</td>\n",
       "      <td>NaN</td>\n",
       "      <td>NaN</td>\n",
       "    </tr>\n",
       "    <tr>\n",
       "      <td>Calvillo, Ags. SMN*</td>\n",
       "      <td>56.0</td>\n",
       "      <td>18.17</td>\n",
       "      <td>NaN</td>\n",
       "      <td>NaN</td>\n",
       "    </tr>\n",
       "    <tr>\n",
       "      <td>Cañada Honda, Ags.</td>\n",
       "      <td>17.2</td>\n",
       "      <td>NaN</td>\n",
       "      <td>NaN</td>\n",
       "      <td>NaN</td>\n",
       "    </tr>\n",
       "    <tr>\n",
       "      <td>Cincuenta Aniversario, Ags.</td>\n",
       "      <td>58.6</td>\n",
       "      <td>10.60</td>\n",
       "      <td>NaN</td>\n",
       "      <td>NaN</td>\n",
       "    </tr>\n",
       "    <tr>\n",
       "      <td>La Codorniz, Ags.</td>\n",
       "      <td>50.0</td>\n",
       "      <td>16.70</td>\n",
       "      <td>NaN</td>\n",
       "      <td>NaN</td>\n",
       "    </tr>\n",
       "    <tr>\n",
       "      <td>San Bartolo, Ags.</td>\n",
       "      <td>NaN</td>\n",
       "      <td>10.50</td>\n",
       "      <td>NaN</td>\n",
       "      <td>NaN</td>\n",
       "    </tr>\n",
       "  </tbody>\n",
       "</table>\n",
       "</div>"
      ],
      "text/plain": [
       "                             2018   2019   3  2020\n",
       "Aguascalientes, Ags.         25.8   6.61 NaN   NaN\n",
       "Calvillo, Ags. SMN*          56.0  18.17 NaN   NaN\n",
       "Cañada Honda, Ags.           17.2    NaN NaN   NaN\n",
       "Cincuenta Aniversario, Ags.  58.6  10.60 NaN   NaN\n",
       "La Codorniz, Ags.            50.0  16.70 NaN   NaN\n",
       "San Bartolo, Ags.             NaN  10.50 NaN   NaN"
      ]
     },
     "execution_count": 53,
     "metadata": {},
     "output_type": "execute_result"
    }
   ],
   "source": [
    "rainDf"
   ]
  },
  {
   "cell_type": "code",
   "execution_count": 54,
   "metadata": {},
   "outputs": [
    {
     "data": {
      "text/html": [
       "<div>\n",
       "<style scoped>\n",
       "    .dataframe tbody tr th:only-of-type {\n",
       "        vertical-align: middle;\n",
       "    }\n",
       "\n",
       "    .dataframe tbody tr th {\n",
       "        vertical-align: top;\n",
       "    }\n",
       "\n",
       "    .dataframe thead th {\n",
       "        text-align: right;\n",
       "    }\n",
       "</style>\n",
       "<table border=\"1\" class=\"dataframe\">\n",
       "  <thead>\n",
       "    <tr style=\"text-align: right;\">\n",
       "      <th></th>\n",
       "      <th>2018</th>\n",
       "      <th>2019</th>\n",
       "      <th>3</th>\n",
       "      <th>2020</th>\n",
       "    </tr>\n",
       "  </thead>\n",
       "  <tbody>\n",
       "    <tr>\n",
       "      <td>Aguascalientes, Ags.</td>\n",
       "      <td>25.8</td>\n",
       "      <td>6.61</td>\n",
       "      <td>6.61</td>\n",
       "      <td>6.61</td>\n",
       "    </tr>\n",
       "    <tr>\n",
       "      <td>Calvillo, Ags. SMN*</td>\n",
       "      <td>56.0</td>\n",
       "      <td>18.17</td>\n",
       "      <td>18.17</td>\n",
       "      <td>18.17</td>\n",
       "    </tr>\n",
       "    <tr>\n",
       "      <td>Cañada Honda, Ags.</td>\n",
       "      <td>17.2</td>\n",
       "      <td>17.20</td>\n",
       "      <td>17.20</td>\n",
       "      <td>17.20</td>\n",
       "    </tr>\n",
       "    <tr>\n",
       "      <td>Cincuenta Aniversario, Ags.</td>\n",
       "      <td>58.6</td>\n",
       "      <td>10.60</td>\n",
       "      <td>10.60</td>\n",
       "      <td>10.60</td>\n",
       "    </tr>\n",
       "    <tr>\n",
       "      <td>La Codorniz, Ags.</td>\n",
       "      <td>50.0</td>\n",
       "      <td>16.70</td>\n",
       "      <td>16.70</td>\n",
       "      <td>16.70</td>\n",
       "    </tr>\n",
       "    <tr>\n",
       "      <td>San Bartolo, Ags.</td>\n",
       "      <td>NaN</td>\n",
       "      <td>10.50</td>\n",
       "      <td>10.50</td>\n",
       "      <td>10.50</td>\n",
       "    </tr>\n",
       "  </tbody>\n",
       "</table>\n",
       "</div>"
      ],
      "text/plain": [
       "                             2018   2019      3   2020\n",
       "Aguascalientes, Ags.         25.8   6.61   6.61   6.61\n",
       "Calvillo, Ags. SMN*          56.0  18.17  18.17  18.17\n",
       "Cañada Honda, Ags.           17.2  17.20  17.20  17.20\n",
       "Cincuenta Aniversario, Ags.  58.6  10.60  10.60  10.60\n",
       "La Codorniz, Ags.            50.0  16.70  16.70  16.70\n",
       "San Bartolo, Ags.             NaN  10.50  10.50  10.50"
      ]
     },
     "execution_count": 54,
     "metadata": {},
     "output_type": "execute_result"
    }
   ],
   "source": [
    "rainDf.fillna(method = 'ffill', axis = 1)"
   ]
  },
  {
   "cell_type": "markdown",
   "metadata": {},
   "source": [
    "# Hierarchical Indexing"
   ]
  },
  {
   "cell_type": "code",
   "execution_count": 15,
   "metadata": {},
   "outputs": [],
   "source": [
    "#Nueva lectura de archivos para empezar con ellos desde 0.\n",
    "avgtemp8 = pd.read_csv('avgtemp2018.csv', usecols = (4,5), encoding='latin-1')\n",
    "rains8 = pd.read_csv('rain2018.csv', usecols = (4,5), encoding='latin-1')\n",
    "\n",
    "avgtemp9 = pd.read_csv('avgtemp2019.csv', usecols = (4,5), encoding='latin-1')\n",
    "rains9 = pd.read_csv('rain2019.csv', usecols = (4,5), encoding='latin-1')"
   ]
  },
  {
   "cell_type": "markdown",
   "metadata": {},
   "source": [
    "## A Multiply Indexed Series"
   ]
  },
  {
   "cell_type": "markdown",
   "metadata": {},
   "source": [
    "### The bad way"
   ]
  },
  {
   "cell_type": "code",
   "execution_count": 8,
   "metadata": {},
   "outputs": [
    {
     "data": {
      "text/plain": [
       "(Guanajuato, 2000)    33871648\n",
       "(Guanajuato, 2010)    37253956\n",
       "(León, 2000)          18976457\n",
       "(León, 2010)          19378102\n",
       "(Silao, 2000)         20851820\n",
       "(Silao, 2010)         25145561\n",
       "dtype: int64"
      ]
     },
     "execution_count": 8,
     "metadata": {},
     "output_type": "execute_result"
    }
   ],
   "source": [
    "index = [('Guanajuato', 2000), ('Guanajuato', 2010),\n",
    "         ('León', 2000), ('León', 2010),\n",
    "         ('Silao', 2000), ('Silao', 2010)]\n",
    "populations = [33871648, 37253956,\n",
    "               18976457, 19378102,\n",
    "               20851820, 25145561]\n",
    "pop = pd.Series(populations, index = index)\n",
    "pop"
   ]
  },
  {
   "cell_type": "code",
   "execution_count": 9,
   "metadata": {},
   "outputs": [
    {
     "data": {
      "text/plain": [
       "(Guanajuato, 2010)    37253956\n",
       "(León, 2000)          18976457\n",
       "(León, 2010)          19378102\n",
       "(Silao, 2000)         20851820\n",
       "dtype: int64"
      ]
     },
     "execution_count": 9,
     "metadata": {},
     "output_type": "execute_result"
    }
   ],
   "source": [
    "pop[('Guanajuato', 2010):('Silao', 2000)]"
   ]
  },
  {
   "cell_type": "code",
   "execution_count": 10,
   "metadata": {},
   "outputs": [
    {
     "data": {
      "text/plain": [
       "(Guanajuato, 2010)    37253956\n",
       "(León, 2010)          19378102\n",
       "(Silao, 2010)         25145561\n",
       "dtype: int64"
      ]
     },
     "execution_count": 10,
     "metadata": {},
     "output_type": "execute_result"
    }
   ],
   "source": [
    "pop[[i for i in pop.index if i[1] == 2010]]"
   ]
  },
  {
   "cell_type": "markdown",
   "metadata": {},
   "source": [
    "### The Better Way: Pandas MultiIndex"
   ]
  },
  {
   "cell_type": "code",
   "execution_count": 24,
   "metadata": {},
   "outputs": [
    {
     "data": {
      "text/plain": [
       "MultiIndex([('Guanajuato', 2000),\n",
       "            ('Guanajuato', 2010),\n",
       "            (      'León', 2000),\n",
       "            (      'León', 2010),\n",
       "            (     'Silao', 2000),\n",
       "            (     'Silao', 2010)],\n",
       "           )"
      ]
     },
     "execution_count": 24,
     "metadata": {},
     "output_type": "execute_result"
    }
   ],
   "source": [
    "index = pd.MultiIndex.from_tuples(index)\n",
    "index"
   ]
  },
  {
   "cell_type": "code",
   "execution_count": 26,
   "metadata": {},
   "outputs": [
    {
     "data": {
      "text/plain": [
       "Guanajuato  2000    33871648\n",
       "            2010    37253956\n",
       "León        2000    18976457\n",
       "            2010    19378102\n",
       "Silao       2000    20851820\n",
       "            2010    25145561\n",
       "dtype: int64"
      ]
     },
     "execution_count": 26,
     "metadata": {},
     "output_type": "execute_result"
    }
   ],
   "source": [
    "pop = pop.reindex(index)\n",
    "pop"
   ]
  },
  {
   "cell_type": "code",
   "execution_count": 27,
   "metadata": {},
   "outputs": [
    {
     "data": {
      "text/plain": [
       "Guanajuato    37253956\n",
       "León          19378102\n",
       "Silao         25145561\n",
       "dtype: int64"
      ]
     },
     "execution_count": 27,
     "metadata": {},
     "output_type": "execute_result"
    }
   ],
   "source": [
    "pop[:, 2010]"
   ]
  },
  {
   "cell_type": "code",
   "execution_count": 31,
   "metadata": {},
   "outputs": [
    {
     "data": {
      "text/plain": [
       "Guanajuato    33871648\n",
       "León          18976457\n",
       "Silao         20851820\n",
       "dtype: int64"
      ]
     },
     "execution_count": 31,
     "metadata": {},
     "output_type": "execute_result"
    }
   ],
   "source": [
    "pop[:, 2000]"
   ]
  },
  {
   "cell_type": "markdown",
   "metadata": {},
   "source": [
    "## MultiIndex as Extra Dimension"
   ]
  },
  {
   "cell_type": "code",
   "execution_count": 33,
   "metadata": {},
   "outputs": [
    {
     "data": {
      "text/html": [
       "<div>\n",
       "<style scoped>\n",
       "    .dataframe tbody tr th:only-of-type {\n",
       "        vertical-align: middle;\n",
       "    }\n",
       "\n",
       "    .dataframe tbody tr th {\n",
       "        vertical-align: top;\n",
       "    }\n",
       "\n",
       "    .dataframe thead th {\n",
       "        text-align: right;\n",
       "    }\n",
       "</style>\n",
       "<table border=\"1\" class=\"dataframe\">\n",
       "  <thead>\n",
       "    <tr style=\"text-align: right;\">\n",
       "      <th></th>\n",
       "      <th>2000</th>\n",
       "      <th>2010</th>\n",
       "    </tr>\n",
       "  </thead>\n",
       "  <tbody>\n",
       "    <tr>\n",
       "      <td>Guanajuato</td>\n",
       "      <td>33871648</td>\n",
       "      <td>37253956</td>\n",
       "    </tr>\n",
       "    <tr>\n",
       "      <td>León</td>\n",
       "      <td>18976457</td>\n",
       "      <td>19378102</td>\n",
       "    </tr>\n",
       "    <tr>\n",
       "      <td>Silao</td>\n",
       "      <td>20851820</td>\n",
       "      <td>25145561</td>\n",
       "    </tr>\n",
       "  </tbody>\n",
       "</table>\n",
       "</div>"
      ],
      "text/plain": [
       "                2000      2010\n",
       "Guanajuato  33871648  37253956\n",
       "León        18976457  19378102\n",
       "Silao       20851820  25145561"
      ]
     },
     "execution_count": 33,
     "metadata": {},
     "output_type": "execute_result"
    }
   ],
   "source": [
    "pop_df = pop.unstack()\n",
    "pop_df"
   ]
  },
  {
   "cell_type": "code",
   "execution_count": 34,
   "metadata": {},
   "outputs": [
    {
     "data": {
      "text/plain": [
       "Guanajuato  2000    33871648\n",
       "            2010    37253956\n",
       "León        2000    18976457\n",
       "            2010    19378102\n",
       "Silao       2000    20851820\n",
       "            2010    25145561\n",
       "dtype: int64"
      ]
     },
     "execution_count": 34,
     "metadata": {},
     "output_type": "execute_result"
    }
   ],
   "source": [
    "pop_df.stack()"
   ]
  },
  {
   "cell_type": "code",
   "execution_count": 36,
   "metadata": {},
   "outputs": [
    {
     "data": {
      "text/html": [
       "<div>\n",
       "<style scoped>\n",
       "    .dataframe tbody tr th:only-of-type {\n",
       "        vertical-align: middle;\n",
       "    }\n",
       "\n",
       "    .dataframe tbody tr th {\n",
       "        vertical-align: top;\n",
       "    }\n",
       "\n",
       "    .dataframe thead th {\n",
       "        text-align: right;\n",
       "    }\n",
       "</style>\n",
       "<table border=\"1\" class=\"dataframe\">\n",
       "  <thead>\n",
       "    <tr style=\"text-align: right;\">\n",
       "      <th></th>\n",
       "      <th></th>\n",
       "      <th>Total</th>\n",
       "      <th>Menores de 18</th>\n",
       "    </tr>\n",
       "  </thead>\n",
       "  <tbody>\n",
       "    <tr>\n",
       "      <td rowspan=\"2\" valign=\"top\">Guanajuato</td>\n",
       "      <td>2000</td>\n",
       "      <td>33871648</td>\n",
       "      <td>9267089</td>\n",
       "    </tr>\n",
       "    <tr>\n",
       "      <td>2010</td>\n",
       "      <td>37253956</td>\n",
       "      <td>9284094</td>\n",
       "    </tr>\n",
       "    <tr>\n",
       "      <td rowspan=\"2\" valign=\"top\">León</td>\n",
       "      <td>2000</td>\n",
       "      <td>18976457</td>\n",
       "      <td>4687374</td>\n",
       "    </tr>\n",
       "    <tr>\n",
       "      <td>2010</td>\n",
       "      <td>19378102</td>\n",
       "      <td>4318033</td>\n",
       "    </tr>\n",
       "    <tr>\n",
       "      <td rowspan=\"2\" valign=\"top\">Silao</td>\n",
       "      <td>2000</td>\n",
       "      <td>20851820</td>\n",
       "      <td>5906301</td>\n",
       "    </tr>\n",
       "    <tr>\n",
       "      <td>2010</td>\n",
       "      <td>25145561</td>\n",
       "      <td>6879014</td>\n",
       "    </tr>\n",
       "  </tbody>\n",
       "</table>\n",
       "</div>"
      ],
      "text/plain": [
       "                    Total  Menores de 18\n",
       "Guanajuato 2000  33871648        9267089\n",
       "           2010  37253956        9284094\n",
       "León       2000  18976457        4687374\n",
       "           2010  19378102        4318033\n",
       "Silao      2000  20851820        5906301\n",
       "           2010  25145561        6879014"
      ]
     },
     "execution_count": 36,
     "metadata": {},
     "output_type": "execute_result"
    }
   ],
   "source": [
    "pop_df = pd.DataFrame({'Total': pop,\n",
    "                       'Menores de 18': [9267089, 9284094,\n",
    "                                   4687374, 4318033,\n",
    "                                   5906301, 6879014]})\n",
    "pop_df"
   ]
  },
  {
   "cell_type": "code",
   "execution_count": 40,
   "metadata": {},
   "outputs": [
    {
     "data": {
      "text/html": [
       "<div>\n",
       "<style scoped>\n",
       "    .dataframe tbody tr th:only-of-type {\n",
       "        vertical-align: middle;\n",
       "    }\n",
       "\n",
       "    .dataframe tbody tr th {\n",
       "        vertical-align: top;\n",
       "    }\n",
       "\n",
       "    .dataframe thead th {\n",
       "        text-align: right;\n",
       "    }\n",
       "</style>\n",
       "<table border=\"1\" class=\"dataframe\">\n",
       "  <thead>\n",
       "    <tr style=\"text-align: right;\">\n",
       "      <th></th>\n",
       "      <th>2000</th>\n",
       "      <th>2010</th>\n",
       "    </tr>\n",
       "  </thead>\n",
       "  <tbody>\n",
       "    <tr>\n",
       "      <td>Guanajuato</td>\n",
       "      <td>0.273594</td>\n",
       "      <td>0.249211</td>\n",
       "    </tr>\n",
       "    <tr>\n",
       "      <td>León</td>\n",
       "      <td>0.247010</td>\n",
       "      <td>0.222831</td>\n",
       "    </tr>\n",
       "    <tr>\n",
       "      <td>Silao</td>\n",
       "      <td>0.283251</td>\n",
       "      <td>0.273568</td>\n",
       "    </tr>\n",
       "  </tbody>\n",
       "</table>\n",
       "</div>"
      ],
      "text/plain": [
       "                2000      2010\n",
       "Guanajuato  0.273594  0.249211\n",
       "León        0.247010  0.222831\n",
       "Silao       0.283251  0.273568"
      ]
     },
     "execution_count": 40,
     "metadata": {},
     "output_type": "execute_result"
    }
   ],
   "source": [
    "f_u18 = pop_df['Menores de 18'] / pop_df['Total']\n",
    "f_u18.unstack()"
   ]
  },
  {
   "cell_type": "markdown",
   "metadata": {},
   "source": [
    "# Methods of MultiIndex Creation"
   ]
  },
  {
   "cell_type": "code",
   "execution_count": 48,
   "metadata": {},
   "outputs": [
    {
     "data": {
      "text/html": [
       "<div>\n",
       "<style scoped>\n",
       "    .dataframe tbody tr th:only-of-type {\n",
       "        vertical-align: middle;\n",
       "    }\n",
       "\n",
       "    .dataframe tbody tr th {\n",
       "        vertical-align: top;\n",
       "    }\n",
       "\n",
       "    .dataframe thead th {\n",
       "        text-align: right;\n",
       "    }\n",
       "</style>\n",
       "<table border=\"1\" class=\"dataframe\">\n",
       "  <thead>\n",
       "    <tr style=\"text-align: right;\">\n",
       "      <th></th>\n",
       "      <th></th>\n",
       "      <th>Data 1</th>\n",
       "      <th>Data 2</th>\n",
       "    </tr>\n",
       "  </thead>\n",
       "  <tbody>\n",
       "    <tr>\n",
       "      <td rowspan=\"2\" valign=\"top\">a</td>\n",
       "      <td>1</td>\n",
       "      <td>0.504889</td>\n",
       "      <td>0.987323</td>\n",
       "    </tr>\n",
       "    <tr>\n",
       "      <td>2</td>\n",
       "      <td>0.044104</td>\n",
       "      <td>0.976429</td>\n",
       "    </tr>\n",
       "    <tr>\n",
       "      <td rowspan=\"2\" valign=\"top\">b</td>\n",
       "      <td>1</td>\n",
       "      <td>0.382337</td>\n",
       "      <td>0.697497</td>\n",
       "    </tr>\n",
       "    <tr>\n",
       "      <td>2</td>\n",
       "      <td>0.620164</td>\n",
       "      <td>0.503381</td>\n",
       "    </tr>\n",
       "  </tbody>\n",
       "</table>\n",
       "</div>"
      ],
      "text/plain": [
       "       Data 1    Data 2\n",
       "a 1  0.504889  0.987323\n",
       "  2  0.044104  0.976429\n",
       "b 1  0.382337  0.697497\n",
       "  2  0.620164  0.503381"
      ]
     },
     "execution_count": 48,
     "metadata": {},
     "output_type": "execute_result"
    }
   ],
   "source": [
    "df = pd.DataFrame(np.random.rand(4, 2),\n",
    "                  index=[['a', 'a', 'b', 'b'], [1, 2, 1, 2]],\n",
    "                  columns=['Data 1', 'Data 2'])\n",
    "df"
   ]
  },
  {
   "cell_type": "code",
   "execution_count": 53,
   "metadata": {},
   "outputs": [
    {
     "data": {
      "text/plain": [
       "Guanajuato  2000    33871648\n",
       "            2010    37253956\n",
       "León        2000    20851820\n",
       "            2010    25145561\n",
       "Silao       2000    18976457\n",
       "            2010    19378102\n",
       "dtype: int64"
      ]
     },
     "execution_count": 53,
     "metadata": {},
     "output_type": "execute_result"
    }
   ],
   "source": [
    "data = {('Guanajuato', 2000): 33871648,\n",
    "        ('Guanajuato', 2010): 37253956,\n",
    "        ('León', 2000): 20851820,\n",
    "        ('León', 2010): 25145561,\n",
    "        ('Silao', 2000): 18976457,\n",
    "        ('Silao', 2010): 19378102}\n",
    "pd.Series(data)"
   ]
  },
  {
   "cell_type": "markdown",
   "metadata": {},
   "source": [
    "## Explicit MultiIndex Constructors"
   ]
  },
  {
   "cell_type": "code",
   "execution_count": 54,
   "metadata": {},
   "outputs": [
    {
     "data": {
      "text/plain": [
       "MultiIndex([('a', 1),\n",
       "            ('a', 2),\n",
       "            ('b', 1),\n",
       "            ('b', 2)],\n",
       "           )"
      ]
     },
     "execution_count": 54,
     "metadata": {},
     "output_type": "execute_result"
    }
   ],
   "source": [
    "pd.MultiIndex.from_arrays([['a', 'a', 'b', 'b'], [1, 2, 1, 2]])"
   ]
  },
  {
   "cell_type": "code",
   "execution_count": 55,
   "metadata": {},
   "outputs": [
    {
     "data": {
      "text/plain": [
       "MultiIndex([('a', 1),\n",
       "            ('a', 2),\n",
       "            ('b', 1),\n",
       "            ('b', 2)],\n",
       "           )"
      ]
     },
     "execution_count": 55,
     "metadata": {},
     "output_type": "execute_result"
    }
   ],
   "source": [
    "pd.MultiIndex.from_arrays([['a', 'a', 'b', 'b'], [1, 2, 1, 2]])"
   ]
  },
  {
   "cell_type": "code",
   "execution_count": 57,
   "metadata": {},
   "outputs": [
    {
     "data": {
      "text/plain": [
       "MultiIndex([('a', 1),\n",
       "            ('a', 2),\n",
       "            ('b', 1),\n",
       "            ('b', 2)],\n",
       "           )"
      ]
     },
     "execution_count": 57,
     "metadata": {},
     "output_type": "execute_result"
    }
   ],
   "source": [
    "pd.MultiIndex.from_arrays([['a', 'a', 'b', 'b'], [1, 2, 1, 2]])"
   ]
  },
  {
   "cell_type": "code",
   "execution_count": 58,
   "metadata": {},
   "outputs": [
    {
     "data": {
      "text/plain": [
       "MultiIndex([('a', 1),\n",
       "            ('a', 2),\n",
       "            ('b', 1),\n",
       "            ('b', 2)],\n",
       "           )"
      ]
     },
     "execution_count": 58,
     "metadata": {},
     "output_type": "execute_result"
    }
   ],
   "source": [
    "pd.MultiIndex.from_tuples([('a', 1), ('a', 2), ('b', 1), ('b', 2)])"
   ]
  },
  {
   "cell_type": "code",
   "execution_count": 59,
   "metadata": {},
   "outputs": [
    {
     "data": {
      "text/plain": [
       "MultiIndex([('a', 1),\n",
       "            ('a', 2),\n",
       "            ('b', 1),\n",
       "            ('b', 2)],\n",
       "           )"
      ]
     },
     "execution_count": 59,
     "metadata": {},
     "output_type": "execute_result"
    }
   ],
   "source": [
    "pd.MultiIndex.from_product([['a', 'b'], [1, 2]])"
   ]
  },
  {
   "cell_type": "code",
   "execution_count": 61,
   "metadata": {},
   "outputs": [
    {
     "data": {
      "text/plain": [
       "MultiIndex([('a', 1),\n",
       "            ('a', 2),\n",
       "            ('b', 1),\n",
       "            ('b', 2)],\n",
       "           )"
      ]
     },
     "execution_count": 61,
     "metadata": {},
     "output_type": "execute_result"
    }
   ],
   "source": [
    "pd.MultiIndex(levels = [['a', 'b'], [1, 2]], codes = [[0, 0, 1, 1], [0, 1, 0, 1]])"
   ]
  },
  {
   "cell_type": "markdown",
   "metadata": {},
   "source": [
    "## MultiIndex level names"
   ]
  },
  {
   "cell_type": "code",
   "execution_count": 62,
   "metadata": {},
   "outputs": [
    {
     "data": {
      "text/plain": [
       "Guanajuato  2000    33871648\n",
       "            2010    37253956\n",
       "León        2000    18976457\n",
       "            2010    19378102\n",
       "Silao       2000    20851820\n",
       "            2010    25145561\n",
       "dtype: int64"
      ]
     },
     "execution_count": 62,
     "metadata": {},
     "output_type": "execute_result"
    }
   ],
   "source": [
    "pop"
   ]
  },
  {
   "cell_type": "code",
   "execution_count": 64,
   "metadata": {},
   "outputs": [
    {
     "data": {
      "text/plain": [
       "Estado      Año \n",
       "Guanajuato  2000    33871648\n",
       "            2010    37253956\n",
       "León        2000    18976457\n",
       "            2010    19378102\n",
       "Silao       2000    20851820\n",
       "            2010    25145561\n",
       "dtype: int64"
      ]
     },
     "execution_count": 64,
     "metadata": {},
     "output_type": "execute_result"
    }
   ],
   "source": [
    "pop.index.names = ('Estado', 'Año')\n",
    "pop"
   ]
  },
  {
   "cell_type": "markdown",
   "metadata": {},
   "source": [
    "## MultiIndex for columns"
   ]
  },
  {
   "cell_type": "code",
   "execution_count": 66,
   "metadata": {},
   "outputs": [
    {
     "data": {
      "text/html": [
       "<div>\n",
       "<style scoped>\n",
       "    .dataframe tbody tr th:only-of-type {\n",
       "        vertical-align: middle;\n",
       "    }\n",
       "\n",
       "    .dataframe tbody tr th {\n",
       "        vertical-align: top;\n",
       "    }\n",
       "\n",
       "    .dataframe thead tr th {\n",
       "        text-align: left;\n",
       "    }\n",
       "\n",
       "    .dataframe thead tr:last-of-type th {\n",
       "        text-align: right;\n",
       "    }\n",
       "</style>\n",
       "<table border=\"1\" class=\"dataframe\">\n",
       "  <thead>\n",
       "    <tr>\n",
       "      <th></th>\n",
       "      <th>subject</th>\n",
       "      <th colspan=\"2\" halign=\"left\">Bob</th>\n",
       "      <th colspan=\"2\" halign=\"left\">Guido</th>\n",
       "      <th colspan=\"2\" halign=\"left\">Sue</th>\n",
       "    </tr>\n",
       "    <tr>\n",
       "      <th></th>\n",
       "      <th>type</th>\n",
       "      <th>HR</th>\n",
       "      <th>Temp</th>\n",
       "      <th>HR</th>\n",
       "      <th>Temp</th>\n",
       "      <th>HR</th>\n",
       "      <th>Temp</th>\n",
       "    </tr>\n",
       "    <tr>\n",
       "      <th>year</th>\n",
       "      <th>visit</th>\n",
       "      <th></th>\n",
       "      <th></th>\n",
       "      <th></th>\n",
       "      <th></th>\n",
       "      <th></th>\n",
       "      <th></th>\n",
       "    </tr>\n",
       "  </thead>\n",
       "  <tbody>\n",
       "    <tr>\n",
       "      <td rowspan=\"2\" valign=\"top\">2013</td>\n",
       "      <td>1</td>\n",
       "      <td>25.0</td>\n",
       "      <td>36.6</td>\n",
       "      <td>19.0</td>\n",
       "      <td>37.1</td>\n",
       "      <td>33.0</td>\n",
       "      <td>37.6</td>\n",
       "    </tr>\n",
       "    <tr>\n",
       "      <td>2</td>\n",
       "      <td>27.0</td>\n",
       "      <td>37.9</td>\n",
       "      <td>53.0</td>\n",
       "      <td>37.0</td>\n",
       "      <td>33.0</td>\n",
       "      <td>39.3</td>\n",
       "    </tr>\n",
       "    <tr>\n",
       "      <td rowspan=\"2\" valign=\"top\">2014</td>\n",
       "      <td>1</td>\n",
       "      <td>34.0</td>\n",
       "      <td>37.4</td>\n",
       "      <td>43.0</td>\n",
       "      <td>37.3</td>\n",
       "      <td>36.0</td>\n",
       "      <td>36.6</td>\n",
       "    </tr>\n",
       "    <tr>\n",
       "      <td>2</td>\n",
       "      <td>36.0</td>\n",
       "      <td>37.3</td>\n",
       "      <td>41.0</td>\n",
       "      <td>35.7</td>\n",
       "      <td>44.0</td>\n",
       "      <td>37.9</td>\n",
       "    </tr>\n",
       "  </tbody>\n",
       "</table>\n",
       "</div>"
      ],
      "text/plain": [
       "subject      Bob       Guido         Sue      \n",
       "type          HR  Temp    HR  Temp    HR  Temp\n",
       "year visit                                    \n",
       "2013 1      25.0  36.6  19.0  37.1  33.0  37.6\n",
       "     2      27.0  37.9  53.0  37.0  33.0  39.3\n",
       "2014 1      34.0  37.4  43.0  37.3  36.0  36.6\n",
       "     2      36.0  37.3  41.0  35.7  44.0  37.9"
      ]
     },
     "execution_count": 66,
     "metadata": {},
     "output_type": "execute_result"
    }
   ],
   "source": [
    "# hierarchical indices and columns\n",
    "index = pd.MultiIndex.from_product([[2013, 2014], [1, 2]],\n",
    "                                   names=['year', 'visit'])\n",
    "columns = pd.MultiIndex.from_product([['Bob', 'Guido', 'Sue'], ['HR', 'Temp']],\n",
    "                                     names=['subject', 'type'])\n",
    "\n",
    "# mock some data\n",
    "data = np.round(np.random.randn(4, 6), 1)\n",
    "data[:, ::2] *= 10\n",
    "data += 37\n",
    "\n",
    "# create the DataFrame\n",
    "health_data = pd.DataFrame(data, index = index, columns = columns)\n",
    "health_data"
   ]
  },
  {
   "cell_type": "code",
   "execution_count": 67,
   "metadata": {},
   "outputs": [
    {
     "data": {
      "text/html": [
       "<div>\n",
       "<style scoped>\n",
       "    .dataframe tbody tr th:only-of-type {\n",
       "        vertical-align: middle;\n",
       "    }\n",
       "\n",
       "    .dataframe tbody tr th {\n",
       "        vertical-align: top;\n",
       "    }\n",
       "\n",
       "    .dataframe thead th {\n",
       "        text-align: right;\n",
       "    }\n",
       "</style>\n",
       "<table border=\"1\" class=\"dataframe\">\n",
       "  <thead>\n",
       "    <tr style=\"text-align: right;\">\n",
       "      <th></th>\n",
       "      <th>type</th>\n",
       "      <th>HR</th>\n",
       "      <th>Temp</th>\n",
       "    </tr>\n",
       "    <tr>\n",
       "      <th>year</th>\n",
       "      <th>visit</th>\n",
       "      <th></th>\n",
       "      <th></th>\n",
       "    </tr>\n",
       "  </thead>\n",
       "  <tbody>\n",
       "    <tr>\n",
       "      <td rowspan=\"2\" valign=\"top\">2013</td>\n",
       "      <td>1</td>\n",
       "      <td>19.0</td>\n",
       "      <td>37.1</td>\n",
       "    </tr>\n",
       "    <tr>\n",
       "      <td>2</td>\n",
       "      <td>53.0</td>\n",
       "      <td>37.0</td>\n",
       "    </tr>\n",
       "    <tr>\n",
       "      <td rowspan=\"2\" valign=\"top\">2014</td>\n",
       "      <td>1</td>\n",
       "      <td>43.0</td>\n",
       "      <td>37.3</td>\n",
       "    </tr>\n",
       "    <tr>\n",
       "      <td>2</td>\n",
       "      <td>41.0</td>\n",
       "      <td>35.7</td>\n",
       "    </tr>\n",
       "  </tbody>\n",
       "</table>\n",
       "</div>"
      ],
      "text/plain": [
       "type          HR  Temp\n",
       "year visit            \n",
       "2013 1      19.0  37.1\n",
       "     2      53.0  37.0\n",
       "2014 1      43.0  37.3\n",
       "     2      41.0  35.7"
      ]
     },
     "execution_count": 67,
     "metadata": {},
     "output_type": "execute_result"
    }
   ],
   "source": [
    "health_data['Guido']"
   ]
  },
  {
   "cell_type": "markdown",
   "metadata": {},
   "source": [
    "# Indexing and Slicing a MultiIndex\n",
    "## Multiply indexed Series"
   ]
  },
  {
   "cell_type": "code",
   "execution_count": 68,
   "metadata": {},
   "outputs": [
    {
     "data": {
      "text/plain": [
       "Estado      Año \n",
       "Guanajuato  2000    33871648\n",
       "            2010    37253956\n",
       "León        2000    18976457\n",
       "            2010    19378102\n",
       "Silao       2000    20851820\n",
       "            2010    25145561\n",
       "dtype: int64"
      ]
     },
     "execution_count": 68,
     "metadata": {},
     "output_type": "execute_result"
    }
   ],
   "source": [
    "pop"
   ]
  },
  {
   "cell_type": "code",
   "execution_count": 69,
   "metadata": {},
   "outputs": [
    {
     "data": {
      "text/plain": [
       "33871648"
      ]
     },
     "execution_count": 69,
     "metadata": {},
     "output_type": "execute_result"
    }
   ],
   "source": [
    "pop['Guanajuato', 2000]"
   ]
  },
  {
   "cell_type": "code",
   "execution_count": 71,
   "metadata": {},
   "outputs": [
    {
     "data": {
      "text/plain": [
       "37253956"
      ]
     },
     "execution_count": 71,
     "metadata": {},
     "output_type": "execute_result"
    }
   ],
   "source": [
    "pop['Guanajuato', 2010]"
   ]
  },
  {
   "cell_type": "code",
   "execution_count": 72,
   "metadata": {},
   "outputs": [
    {
     "data": {
      "text/plain": [
       "Estado      Año \n",
       "Guanajuato  2000    33871648\n",
       "            2010    37253956\n",
       "León        2000    18976457\n",
       "            2010    19378102\n",
       "dtype: int64"
      ]
     },
     "execution_count": 72,
     "metadata": {},
     "output_type": "execute_result"
    }
   ],
   "source": [
    "pop.loc['Guanajuato':'León']"
   ]
  },
  {
   "cell_type": "code",
   "execution_count": 73,
   "metadata": {},
   "outputs": [
    {
     "data": {
      "text/plain": [
       "Estado\n",
       "Guanajuato    33871648\n",
       "León          18976457\n",
       "Silao         20851820\n",
       "dtype: int64"
      ]
     },
     "execution_count": 73,
     "metadata": {},
     "output_type": "execute_result"
    }
   ],
   "source": [
    "pop[:, 2000]"
   ]
  },
  {
   "cell_type": "code",
   "execution_count": 74,
   "metadata": {},
   "outputs": [
    {
     "data": {
      "text/plain": [
       "Estado      Año \n",
       "Guanajuato  2000    33871648\n",
       "            2010    37253956\n",
       "Silao       2010    25145561\n",
       "dtype: int64"
      ]
     },
     "execution_count": 74,
     "metadata": {},
     "output_type": "execute_result"
    }
   ],
   "source": [
    "pop[pop > 22000000]"
   ]
  },
  {
   "cell_type": "code",
   "execution_count": 75,
   "metadata": {},
   "outputs": [
    {
     "data": {
      "text/plain": [
       "Estado      Año \n",
       "Guanajuato  2000    33871648\n",
       "            2010    37253956\n",
       "Silao       2000    20851820\n",
       "            2010    25145561\n",
       "dtype: int64"
      ]
     },
     "execution_count": 75,
     "metadata": {},
     "output_type": "execute_result"
    }
   ],
   "source": [
    "pop[['Guanajuato', 'Silao']]"
   ]
  },
  {
   "cell_type": "code",
   "execution_count": 77,
   "metadata": {},
   "outputs": [
    {
     "data": {
      "text/plain": [
       "Estado  Año \n",
       "León    2000    18976457\n",
       "        2010    19378102\n",
       "Silao   2000    20851820\n",
       "        2010    25145561\n",
       "dtype: int64"
      ]
     },
     "execution_count": 77,
     "metadata": {},
     "output_type": "execute_result"
    }
   ],
   "source": [
    "pop[['Silao', 'León']]"
   ]
  },
  {
   "cell_type": "markdown",
   "metadata": {},
   "source": [
    "# Multiply Indexed DataFrames"
   ]
  },
  {
   "cell_type": "code",
   "execution_count": 78,
   "metadata": {},
   "outputs": [
    {
     "data": {
      "text/html": [
       "<div>\n",
       "<style scoped>\n",
       "    .dataframe tbody tr th:only-of-type {\n",
       "        vertical-align: middle;\n",
       "    }\n",
       "\n",
       "    .dataframe tbody tr th {\n",
       "        vertical-align: top;\n",
       "    }\n",
       "\n",
       "    .dataframe thead tr th {\n",
       "        text-align: left;\n",
       "    }\n",
       "\n",
       "    .dataframe thead tr:last-of-type th {\n",
       "        text-align: right;\n",
       "    }\n",
       "</style>\n",
       "<table border=\"1\" class=\"dataframe\">\n",
       "  <thead>\n",
       "    <tr>\n",
       "      <th></th>\n",
       "      <th>subject</th>\n",
       "      <th colspan=\"2\" halign=\"left\">Bob</th>\n",
       "      <th colspan=\"2\" halign=\"left\">Guido</th>\n",
       "      <th colspan=\"2\" halign=\"left\">Sue</th>\n",
       "    </tr>\n",
       "    <tr>\n",
       "      <th></th>\n",
       "      <th>type</th>\n",
       "      <th>HR</th>\n",
       "      <th>Temp</th>\n",
       "      <th>HR</th>\n",
       "      <th>Temp</th>\n",
       "      <th>HR</th>\n",
       "      <th>Temp</th>\n",
       "    </tr>\n",
       "    <tr>\n",
       "      <th>year</th>\n",
       "      <th>visit</th>\n",
       "      <th></th>\n",
       "      <th></th>\n",
       "      <th></th>\n",
       "      <th></th>\n",
       "      <th></th>\n",
       "      <th></th>\n",
       "    </tr>\n",
       "  </thead>\n",
       "  <tbody>\n",
       "    <tr>\n",
       "      <td rowspan=\"2\" valign=\"top\">2013</td>\n",
       "      <td>1</td>\n",
       "      <td>25.0</td>\n",
       "      <td>36.6</td>\n",
       "      <td>19.0</td>\n",
       "      <td>37.1</td>\n",
       "      <td>33.0</td>\n",
       "      <td>37.6</td>\n",
       "    </tr>\n",
       "    <tr>\n",
       "      <td>2</td>\n",
       "      <td>27.0</td>\n",
       "      <td>37.9</td>\n",
       "      <td>53.0</td>\n",
       "      <td>37.0</td>\n",
       "      <td>33.0</td>\n",
       "      <td>39.3</td>\n",
       "    </tr>\n",
       "    <tr>\n",
       "      <td rowspan=\"2\" valign=\"top\">2014</td>\n",
       "      <td>1</td>\n",
       "      <td>34.0</td>\n",
       "      <td>37.4</td>\n",
       "      <td>43.0</td>\n",
       "      <td>37.3</td>\n",
       "      <td>36.0</td>\n",
       "      <td>36.6</td>\n",
       "    </tr>\n",
       "    <tr>\n",
       "      <td>2</td>\n",
       "      <td>36.0</td>\n",
       "      <td>37.3</td>\n",
       "      <td>41.0</td>\n",
       "      <td>35.7</td>\n",
       "      <td>44.0</td>\n",
       "      <td>37.9</td>\n",
       "    </tr>\n",
       "  </tbody>\n",
       "</table>\n",
       "</div>"
      ],
      "text/plain": [
       "subject      Bob       Guido         Sue      \n",
       "type          HR  Temp    HR  Temp    HR  Temp\n",
       "year visit                                    \n",
       "2013 1      25.0  36.6  19.0  37.1  33.0  37.6\n",
       "     2      27.0  37.9  53.0  37.0  33.0  39.3\n",
       "2014 1      34.0  37.4  43.0  37.3  36.0  36.6\n",
       "     2      36.0  37.3  41.0  35.7  44.0  37.9"
      ]
     },
     "execution_count": 78,
     "metadata": {},
     "output_type": "execute_result"
    }
   ],
   "source": [
    "health_data"
   ]
  },
  {
   "cell_type": "code",
   "execution_count": 79,
   "metadata": {},
   "outputs": [
    {
     "data": {
      "text/plain": [
       "year  visit\n",
       "2013  1        19.0\n",
       "      2        53.0\n",
       "2014  1        43.0\n",
       "      2        41.0\n",
       "Name: (Guido, HR), dtype: float64"
      ]
     },
     "execution_count": 79,
     "metadata": {},
     "output_type": "execute_result"
    }
   ],
   "source": [
    "health_data['Guido', 'HR']"
   ]
  },
  {
   "cell_type": "code",
   "execution_count": 80,
   "metadata": {},
   "outputs": [
    {
     "data": {
      "text/html": [
       "<div>\n",
       "<style scoped>\n",
       "    .dataframe tbody tr th:only-of-type {\n",
       "        vertical-align: middle;\n",
       "    }\n",
       "\n",
       "    .dataframe tbody tr th {\n",
       "        vertical-align: top;\n",
       "    }\n",
       "\n",
       "    .dataframe thead tr th {\n",
       "        text-align: left;\n",
       "    }\n",
       "\n",
       "    .dataframe thead tr:last-of-type th {\n",
       "        text-align: right;\n",
       "    }\n",
       "</style>\n",
       "<table border=\"1\" class=\"dataframe\">\n",
       "  <thead>\n",
       "    <tr>\n",
       "      <th></th>\n",
       "      <th>subject</th>\n",
       "      <th colspan=\"2\" halign=\"left\">Bob</th>\n",
       "    </tr>\n",
       "    <tr>\n",
       "      <th></th>\n",
       "      <th>type</th>\n",
       "      <th>HR</th>\n",
       "      <th>Temp</th>\n",
       "    </tr>\n",
       "    <tr>\n",
       "      <th>year</th>\n",
       "      <th>visit</th>\n",
       "      <th></th>\n",
       "      <th></th>\n",
       "    </tr>\n",
       "  </thead>\n",
       "  <tbody>\n",
       "    <tr>\n",
       "      <td rowspan=\"2\" valign=\"top\">2013</td>\n",
       "      <td>1</td>\n",
       "      <td>25.0</td>\n",
       "      <td>36.6</td>\n",
       "    </tr>\n",
       "    <tr>\n",
       "      <td>2</td>\n",
       "      <td>27.0</td>\n",
       "      <td>37.9</td>\n",
       "    </tr>\n",
       "  </tbody>\n",
       "</table>\n",
       "</div>"
      ],
      "text/plain": [
       "subject      Bob      \n",
       "type          HR  Temp\n",
       "year visit            \n",
       "2013 1      25.0  36.6\n",
       "     2      27.0  37.9"
      ]
     },
     "execution_count": 80,
     "metadata": {},
     "output_type": "execute_result"
    }
   ],
   "source": [
    "health_data.iloc[:2, :2]"
   ]
  },
  {
   "cell_type": "code",
   "execution_count": 82,
   "metadata": {},
   "outputs": [
    {
     "data": {
      "text/plain": [
       "year  visit\n",
       "2013  1        25.0\n",
       "      2        27.0\n",
       "2014  1        34.0\n",
       "      2        36.0\n",
       "Name: (Bob, HR), dtype: float64"
      ]
     },
     "execution_count": 82,
     "metadata": {},
     "output_type": "execute_result"
    }
   ],
   "source": [
    "health_data.loc[:, ('Bob', 'HR')]"
   ]
  },
  {
   "cell_type": "code",
   "execution_count": 84,
   "metadata": {},
   "outputs": [
    {
     "data": {
      "text/html": [
       "<div>\n",
       "<style scoped>\n",
       "    .dataframe tbody tr th:only-of-type {\n",
       "        vertical-align: middle;\n",
       "    }\n",
       "\n",
       "    .dataframe tbody tr th {\n",
       "        vertical-align: top;\n",
       "    }\n",
       "\n",
       "    .dataframe thead tr th {\n",
       "        text-align: left;\n",
       "    }\n",
       "\n",
       "    .dataframe thead tr:last-of-type th {\n",
       "        text-align: right;\n",
       "    }\n",
       "</style>\n",
       "<table border=\"1\" class=\"dataframe\">\n",
       "  <thead>\n",
       "    <tr>\n",
       "      <th></th>\n",
       "      <th>subject</th>\n",
       "      <th>Bob</th>\n",
       "      <th>Guido</th>\n",
       "      <th>Sue</th>\n",
       "    </tr>\n",
       "    <tr>\n",
       "      <th></th>\n",
       "      <th>type</th>\n",
       "      <th>HR</th>\n",
       "      <th>HR</th>\n",
       "      <th>HR</th>\n",
       "    </tr>\n",
       "    <tr>\n",
       "      <th>year</th>\n",
       "      <th>visit</th>\n",
       "      <th></th>\n",
       "      <th></th>\n",
       "      <th></th>\n",
       "    </tr>\n",
       "  </thead>\n",
       "  <tbody>\n",
       "    <tr>\n",
       "      <td>2013</td>\n",
       "      <td>1</td>\n",
       "      <td>25.0</td>\n",
       "      <td>19.0</td>\n",
       "      <td>33.0</td>\n",
       "    </tr>\n",
       "    <tr>\n",
       "      <td>2014</td>\n",
       "      <td>1</td>\n",
       "      <td>34.0</td>\n",
       "      <td>43.0</td>\n",
       "      <td>36.0</td>\n",
       "    </tr>\n",
       "  </tbody>\n",
       "</table>\n",
       "</div>"
      ],
      "text/plain": [
       "subject      Bob Guido   Sue\n",
       "type          HR    HR    HR\n",
       "year visit                  \n",
       "2013 1      25.0  19.0  33.0\n",
       "2014 1      34.0  43.0  36.0"
      ]
     },
     "execution_count": 84,
     "metadata": {},
     "output_type": "execute_result"
    }
   ],
   "source": [
    "idx = pd.IndexSlice\n",
    "health_data.loc[idx[:, 1], idx[:, 'HR']]"
   ]
  },
  {
   "cell_type": "markdown",
   "metadata": {},
   "source": [
    "# Rearranging Multi-Indices"
   ]
  },
  {
   "cell_type": "markdown",
   "metadata": {},
   "source": [
    "## Sorted and unsorted indices"
   ]
  },
  {
   "cell_type": "code",
   "execution_count": 92,
   "metadata": {},
   "outputs": [
    {
     "data": {
      "text/plain": [
       "char  int\n",
       "a     1      0.965846\n",
       "      2      0.933467\n",
       "c     1      0.106248\n",
       "      2      0.660888\n",
       "b     1      0.146728\n",
       "      2      0.418799\n",
       "dtype: float64"
      ]
     },
     "execution_count": 92,
     "metadata": {},
     "output_type": "execute_result"
    }
   ],
   "source": [
    "index = pd.MultiIndex.from_product([['a', 'c', 'b'], [1, 2]])\n",
    "data = pd.Series(np.random.rand(6), index=index)\n",
    "data.index.names = ['char', 'int']\n",
    "data"
   ]
  },
  {
   "cell_type": "markdown",
   "metadata": {},
   "source": [
    "# try:\n",
    "    data['a':'b']\n",
    "except KeyError as e:\n",
    "    print(type(e))\n",
    "    print(e)"
   ]
  },
  {
   "cell_type": "code",
   "execution_count": 94,
   "metadata": {},
   "outputs": [
    {
     "data": {
      "text/plain": [
       "char  int\n",
       "a     1      0.965846\n",
       "      2      0.933467\n",
       "b     1      0.146728\n",
       "      2      0.418799\n",
       "c     1      0.106248\n",
       "      2      0.660888\n",
       "dtype: float64"
      ]
     },
     "execution_count": 94,
     "metadata": {},
     "output_type": "execute_result"
    }
   ],
   "source": [
    "data = data.sort_index()\n",
    "data"
   ]
  },
  {
   "cell_type": "code",
   "execution_count": 95,
   "metadata": {},
   "outputs": [
    {
     "data": {
      "text/plain": [
       "char  int\n",
       "a     1      0.965846\n",
       "      2      0.933467\n",
       "b     1      0.146728\n",
       "      2      0.418799\n",
       "dtype: float64"
      ]
     },
     "execution_count": 95,
     "metadata": {},
     "output_type": "execute_result"
    }
   ],
   "source": [
    "data['a':'b']"
   ]
  },
  {
   "cell_type": "markdown",
   "metadata": {},
   "source": [
    "# Stacking and unstacking indices"
   ]
  },
  {
   "cell_type": "code",
   "execution_count": 96,
   "metadata": {},
   "outputs": [
    {
     "data": {
      "text/html": [
       "<div>\n",
       "<style scoped>\n",
       "    .dataframe tbody tr th:only-of-type {\n",
       "        vertical-align: middle;\n",
       "    }\n",
       "\n",
       "    .dataframe tbody tr th {\n",
       "        vertical-align: top;\n",
       "    }\n",
       "\n",
       "    .dataframe thead th {\n",
       "        text-align: right;\n",
       "    }\n",
       "</style>\n",
       "<table border=\"1\" class=\"dataframe\">\n",
       "  <thead>\n",
       "    <tr style=\"text-align: right;\">\n",
       "      <th>Estado</th>\n",
       "      <th>Guanajuato</th>\n",
       "      <th>León</th>\n",
       "      <th>Silao</th>\n",
       "    </tr>\n",
       "    <tr>\n",
       "      <th>Año</th>\n",
       "      <th></th>\n",
       "      <th></th>\n",
       "      <th></th>\n",
       "    </tr>\n",
       "  </thead>\n",
       "  <tbody>\n",
       "    <tr>\n",
       "      <td>2000</td>\n",
       "      <td>33871648</td>\n",
       "      <td>18976457</td>\n",
       "      <td>20851820</td>\n",
       "    </tr>\n",
       "    <tr>\n",
       "      <td>2010</td>\n",
       "      <td>37253956</td>\n",
       "      <td>19378102</td>\n",
       "      <td>25145561</td>\n",
       "    </tr>\n",
       "  </tbody>\n",
       "</table>\n",
       "</div>"
      ],
      "text/plain": [
       "Estado  Guanajuato      León     Silao\n",
       "Año                                   \n",
       "2000      33871648  18976457  20851820\n",
       "2010      37253956  19378102  25145561"
      ]
     },
     "execution_count": 96,
     "metadata": {},
     "output_type": "execute_result"
    }
   ],
   "source": [
    "pop.unstack(level=0)"
   ]
  },
  {
   "cell_type": "code",
   "execution_count": 98,
   "metadata": {},
   "outputs": [
    {
     "data": {
      "text/html": [
       "<div>\n",
       "<style scoped>\n",
       "    .dataframe tbody tr th:only-of-type {\n",
       "        vertical-align: middle;\n",
       "    }\n",
       "\n",
       "    .dataframe tbody tr th {\n",
       "        vertical-align: top;\n",
       "    }\n",
       "\n",
       "    .dataframe thead th {\n",
       "        text-align: right;\n",
       "    }\n",
       "</style>\n",
       "<table border=\"1\" class=\"dataframe\">\n",
       "  <thead>\n",
       "    <tr style=\"text-align: right;\">\n",
       "      <th>Año</th>\n",
       "      <th>2000</th>\n",
       "      <th>2010</th>\n",
       "    </tr>\n",
       "    <tr>\n",
       "      <th>Estado</th>\n",
       "      <th></th>\n",
       "      <th></th>\n",
       "    </tr>\n",
       "  </thead>\n",
       "  <tbody>\n",
       "    <tr>\n",
       "      <td>Guanajuato</td>\n",
       "      <td>33871648</td>\n",
       "      <td>37253956</td>\n",
       "    </tr>\n",
       "    <tr>\n",
       "      <td>León</td>\n",
       "      <td>18976457</td>\n",
       "      <td>19378102</td>\n",
       "    </tr>\n",
       "    <tr>\n",
       "      <td>Silao</td>\n",
       "      <td>20851820</td>\n",
       "      <td>25145561</td>\n",
       "    </tr>\n",
       "  </tbody>\n",
       "</table>\n",
       "</div>"
      ],
      "text/plain": [
       "Año             2000      2010\n",
       "Estado                        \n",
       "Guanajuato  33871648  37253956\n",
       "León        18976457  19378102\n",
       "Silao       20851820  25145561"
      ]
     },
     "execution_count": 98,
     "metadata": {},
     "output_type": "execute_result"
    }
   ],
   "source": [
    "pop.unstack(level=1)"
   ]
  },
  {
   "cell_type": "code",
   "execution_count": 99,
   "metadata": {},
   "outputs": [
    {
     "data": {
      "text/plain": [
       "Estado      Año \n",
       "Guanajuato  2000    33871648\n",
       "            2010    37253956\n",
       "León        2000    18976457\n",
       "            2010    19378102\n",
       "Silao       2000    20851820\n",
       "            2010    25145561\n",
       "dtype: int64"
      ]
     },
     "execution_count": 99,
     "metadata": {},
     "output_type": "execute_result"
    }
   ],
   "source": [
    "pop.unstack().stack()"
   ]
  },
  {
   "cell_type": "code",
   "execution_count": 100,
   "metadata": {},
   "outputs": [
    {
     "data": {
      "text/plain": [
       "Estado      Año \n",
       "Guanajuato  2000    33871648\n",
       "            2010    37253956\n",
       "León        2000    18976457\n",
       "            2010    19378102\n",
       "Silao       2000    20851820\n",
       "            2010    25145561\n",
       "dtype: int64"
      ]
     },
     "execution_count": 100,
     "metadata": {},
     "output_type": "execute_result"
    }
   ],
   "source": [
    "pop"
   ]
  },
  {
   "cell_type": "markdown",
   "metadata": {},
   "source": [
    "# Index setting and resetting"
   ]
  },
  {
   "cell_type": "code",
   "execution_count": 101,
   "metadata": {},
   "outputs": [
    {
     "data": {
      "text/html": [
       "<div>\n",
       "<style scoped>\n",
       "    .dataframe tbody tr th:only-of-type {\n",
       "        vertical-align: middle;\n",
       "    }\n",
       "\n",
       "    .dataframe tbody tr th {\n",
       "        vertical-align: top;\n",
       "    }\n",
       "\n",
       "    .dataframe thead th {\n",
       "        text-align: right;\n",
       "    }\n",
       "</style>\n",
       "<table border=\"1\" class=\"dataframe\">\n",
       "  <thead>\n",
       "    <tr style=\"text-align: right;\">\n",
       "      <th></th>\n",
       "      <th>Estado</th>\n",
       "      <th>Año</th>\n",
       "      <th>0</th>\n",
       "    </tr>\n",
       "  </thead>\n",
       "  <tbody>\n",
       "    <tr>\n",
       "      <td>0</td>\n",
       "      <td>Guanajuato</td>\n",
       "      <td>2000</td>\n",
       "      <td>33871648</td>\n",
       "    </tr>\n",
       "    <tr>\n",
       "      <td>1</td>\n",
       "      <td>Guanajuato</td>\n",
       "      <td>2010</td>\n",
       "      <td>37253956</td>\n",
       "    </tr>\n",
       "    <tr>\n",
       "      <td>2</td>\n",
       "      <td>León</td>\n",
       "      <td>2000</td>\n",
       "      <td>18976457</td>\n",
       "    </tr>\n",
       "    <tr>\n",
       "      <td>3</td>\n",
       "      <td>León</td>\n",
       "      <td>2010</td>\n",
       "      <td>19378102</td>\n",
       "    </tr>\n",
       "    <tr>\n",
       "      <td>4</td>\n",
       "      <td>Silao</td>\n",
       "      <td>2000</td>\n",
       "      <td>20851820</td>\n",
       "    </tr>\n",
       "    <tr>\n",
       "      <td>5</td>\n",
       "      <td>Silao</td>\n",
       "      <td>2010</td>\n",
       "      <td>25145561</td>\n",
       "    </tr>\n",
       "  </tbody>\n",
       "</table>\n",
       "</div>"
      ],
      "text/plain": [
       "       Estado   Año         0\n",
       "0  Guanajuato  2000  33871648\n",
       "1  Guanajuato  2010  37253956\n",
       "2        León  2000  18976457\n",
       "3        León  2010  19378102\n",
       "4       Silao  2000  20851820\n",
       "5       Silao  2010  25145561"
      ]
     },
     "execution_count": 101,
     "metadata": {},
     "output_type": "execute_result"
    }
   ],
   "source": [
    "pop_flat = pop.reset_index()\n",
    "pop_flat"
   ]
  },
  {
   "cell_type": "code",
   "execution_count": 103,
   "metadata": {},
   "outputs": [
    {
     "data": {
      "text/html": [
       "<div>\n",
       "<style scoped>\n",
       "    .dataframe tbody tr th:only-of-type {\n",
       "        vertical-align: middle;\n",
       "    }\n",
       "\n",
       "    .dataframe tbody tr th {\n",
       "        vertical-align: top;\n",
       "    }\n",
       "\n",
       "    .dataframe thead th {\n",
       "        text-align: right;\n",
       "    }\n",
       "</style>\n",
       "<table border=\"1\" class=\"dataframe\">\n",
       "  <thead>\n",
       "    <tr style=\"text-align: right;\">\n",
       "      <th></th>\n",
       "      <th>Estado</th>\n",
       "      <th>Año</th>\n",
       "      <th>Población</th>\n",
       "    </tr>\n",
       "  </thead>\n",
       "  <tbody>\n",
       "    <tr>\n",
       "      <td>0</td>\n",
       "      <td>Guanajuato</td>\n",
       "      <td>2000</td>\n",
       "      <td>33871648</td>\n",
       "    </tr>\n",
       "    <tr>\n",
       "      <td>1</td>\n",
       "      <td>Guanajuato</td>\n",
       "      <td>2010</td>\n",
       "      <td>37253956</td>\n",
       "    </tr>\n",
       "    <tr>\n",
       "      <td>2</td>\n",
       "      <td>León</td>\n",
       "      <td>2000</td>\n",
       "      <td>18976457</td>\n",
       "    </tr>\n",
       "    <tr>\n",
       "      <td>3</td>\n",
       "      <td>León</td>\n",
       "      <td>2010</td>\n",
       "      <td>19378102</td>\n",
       "    </tr>\n",
       "    <tr>\n",
       "      <td>4</td>\n",
       "      <td>Silao</td>\n",
       "      <td>2000</td>\n",
       "      <td>20851820</td>\n",
       "    </tr>\n",
       "    <tr>\n",
       "      <td>5</td>\n",
       "      <td>Silao</td>\n",
       "      <td>2010</td>\n",
       "      <td>25145561</td>\n",
       "    </tr>\n",
       "  </tbody>\n",
       "</table>\n",
       "</div>"
      ],
      "text/plain": [
       "       Estado   Año  Población\n",
       "0  Guanajuato  2000   33871648\n",
       "1  Guanajuato  2010   37253956\n",
       "2        León  2000   18976457\n",
       "3        León  2010   19378102\n",
       "4       Silao  2000   20851820\n",
       "5       Silao  2010   25145561"
      ]
     },
     "execution_count": 103,
     "metadata": {},
     "output_type": "execute_result"
    }
   ],
   "source": [
    "pop_flat = pop.reset_index(name='Población')\n",
    "pop_flat"
   ]
  },
  {
   "cell_type": "code",
   "execution_count": 105,
   "metadata": {},
   "outputs": [
    {
     "data": {
      "text/html": [
       "<div>\n",
       "<style scoped>\n",
       "    .dataframe tbody tr th:only-of-type {\n",
       "        vertical-align: middle;\n",
       "    }\n",
       "\n",
       "    .dataframe tbody tr th {\n",
       "        vertical-align: top;\n",
       "    }\n",
       "\n",
       "    .dataframe thead th {\n",
       "        text-align: right;\n",
       "    }\n",
       "</style>\n",
       "<table border=\"1\" class=\"dataframe\">\n",
       "  <thead>\n",
       "    <tr style=\"text-align: right;\">\n",
       "      <th></th>\n",
       "      <th></th>\n",
       "      <th>Población</th>\n",
       "    </tr>\n",
       "    <tr>\n",
       "      <th>Estado</th>\n",
       "      <th>Año</th>\n",
       "      <th></th>\n",
       "    </tr>\n",
       "  </thead>\n",
       "  <tbody>\n",
       "    <tr>\n",
       "      <td rowspan=\"2\" valign=\"top\">Guanajuato</td>\n",
       "      <td>2000</td>\n",
       "      <td>33871648</td>\n",
       "    </tr>\n",
       "    <tr>\n",
       "      <td>2010</td>\n",
       "      <td>37253956</td>\n",
       "    </tr>\n",
       "    <tr>\n",
       "      <td rowspan=\"2\" valign=\"top\">León</td>\n",
       "      <td>2000</td>\n",
       "      <td>18976457</td>\n",
       "    </tr>\n",
       "    <tr>\n",
       "      <td>2010</td>\n",
       "      <td>19378102</td>\n",
       "    </tr>\n",
       "    <tr>\n",
       "      <td rowspan=\"2\" valign=\"top\">Silao</td>\n",
       "      <td>2000</td>\n",
       "      <td>20851820</td>\n",
       "    </tr>\n",
       "    <tr>\n",
       "      <td>2010</td>\n",
       "      <td>25145561</td>\n",
       "    </tr>\n",
       "  </tbody>\n",
       "</table>\n",
       "</div>"
      ],
      "text/plain": [
       "                 Población\n",
       "Estado     Año            \n",
       "Guanajuato 2000   33871648\n",
       "           2010   37253956\n",
       "León       2000   18976457\n",
       "           2010   19378102\n",
       "Silao      2000   20851820\n",
       "           2010   25145561"
      ]
     },
     "execution_count": 105,
     "metadata": {},
     "output_type": "execute_result"
    }
   ],
   "source": [
    "pop_flat.set_index(['Estado', 'Año'])"
   ]
  },
  {
   "cell_type": "markdown",
   "metadata": {},
   "source": [
    "# Data Aggregation on Multi-Indices "
   ]
  },
  {
   "cell_type": "code",
   "execution_count": 106,
   "metadata": {},
   "outputs": [
    {
     "data": {
      "text/html": [
       "<div>\n",
       "<style scoped>\n",
       "    .dataframe tbody tr th:only-of-type {\n",
       "        vertical-align: middle;\n",
       "    }\n",
       "\n",
       "    .dataframe tbody tr th {\n",
       "        vertical-align: top;\n",
       "    }\n",
       "\n",
       "    .dataframe thead tr th {\n",
       "        text-align: left;\n",
       "    }\n",
       "\n",
       "    .dataframe thead tr:last-of-type th {\n",
       "        text-align: right;\n",
       "    }\n",
       "</style>\n",
       "<table border=\"1\" class=\"dataframe\">\n",
       "  <thead>\n",
       "    <tr>\n",
       "      <th></th>\n",
       "      <th>subject</th>\n",
       "      <th colspan=\"2\" halign=\"left\">Bob</th>\n",
       "      <th colspan=\"2\" halign=\"left\">Guido</th>\n",
       "      <th colspan=\"2\" halign=\"left\">Sue</th>\n",
       "    </tr>\n",
       "    <tr>\n",
       "      <th></th>\n",
       "      <th>type</th>\n",
       "      <th>HR</th>\n",
       "      <th>Temp</th>\n",
       "      <th>HR</th>\n",
       "      <th>Temp</th>\n",
       "      <th>HR</th>\n",
       "      <th>Temp</th>\n",
       "    </tr>\n",
       "    <tr>\n",
       "      <th>year</th>\n",
       "      <th>visit</th>\n",
       "      <th></th>\n",
       "      <th></th>\n",
       "      <th></th>\n",
       "      <th></th>\n",
       "      <th></th>\n",
       "      <th></th>\n",
       "    </tr>\n",
       "  </thead>\n",
       "  <tbody>\n",
       "    <tr>\n",
       "      <td rowspan=\"2\" valign=\"top\">2013</td>\n",
       "      <td>1</td>\n",
       "      <td>25.0</td>\n",
       "      <td>36.6</td>\n",
       "      <td>19.0</td>\n",
       "      <td>37.1</td>\n",
       "      <td>33.0</td>\n",
       "      <td>37.6</td>\n",
       "    </tr>\n",
       "    <tr>\n",
       "      <td>2</td>\n",
       "      <td>27.0</td>\n",
       "      <td>37.9</td>\n",
       "      <td>53.0</td>\n",
       "      <td>37.0</td>\n",
       "      <td>33.0</td>\n",
       "      <td>39.3</td>\n",
       "    </tr>\n",
       "    <tr>\n",
       "      <td rowspan=\"2\" valign=\"top\">2014</td>\n",
       "      <td>1</td>\n",
       "      <td>34.0</td>\n",
       "      <td>37.4</td>\n",
       "      <td>43.0</td>\n",
       "      <td>37.3</td>\n",
       "      <td>36.0</td>\n",
       "      <td>36.6</td>\n",
       "    </tr>\n",
       "    <tr>\n",
       "      <td>2</td>\n",
       "      <td>36.0</td>\n",
       "      <td>37.3</td>\n",
       "      <td>41.0</td>\n",
       "      <td>35.7</td>\n",
       "      <td>44.0</td>\n",
       "      <td>37.9</td>\n",
       "    </tr>\n",
       "  </tbody>\n",
       "</table>\n",
       "</div>"
      ],
      "text/plain": [
       "subject      Bob       Guido         Sue      \n",
       "type          HR  Temp    HR  Temp    HR  Temp\n",
       "year visit                                    \n",
       "2013 1      25.0  36.6  19.0  37.1  33.0  37.6\n",
       "     2      27.0  37.9  53.0  37.0  33.0  39.3\n",
       "2014 1      34.0  37.4  43.0  37.3  36.0  36.6\n",
       "     2      36.0  37.3  41.0  35.7  44.0  37.9"
      ]
     },
     "execution_count": 106,
     "metadata": {},
     "output_type": "execute_result"
    }
   ],
   "source": [
    "health_data"
   ]
  },
  {
   "cell_type": "code",
   "execution_count": 108,
   "metadata": {},
   "outputs": [
    {
     "data": {
      "text/html": [
       "<div>\n",
       "<style scoped>\n",
       "    .dataframe tbody tr th:only-of-type {\n",
       "        vertical-align: middle;\n",
       "    }\n",
       "\n",
       "    .dataframe tbody tr th {\n",
       "        vertical-align: top;\n",
       "    }\n",
       "\n",
       "    .dataframe thead tr th {\n",
       "        text-align: left;\n",
       "    }\n",
       "\n",
       "    .dataframe thead tr:last-of-type th {\n",
       "        text-align: right;\n",
       "    }\n",
       "</style>\n",
       "<table border=\"1\" class=\"dataframe\">\n",
       "  <thead>\n",
       "    <tr>\n",
       "      <th>subject</th>\n",
       "      <th colspan=\"2\" halign=\"left\">Bob</th>\n",
       "      <th colspan=\"2\" halign=\"left\">Guido</th>\n",
       "      <th colspan=\"2\" halign=\"left\">Sue</th>\n",
       "    </tr>\n",
       "    <tr>\n",
       "      <th>type</th>\n",
       "      <th>HR</th>\n",
       "      <th>Temp</th>\n",
       "      <th>HR</th>\n",
       "      <th>Temp</th>\n",
       "      <th>HR</th>\n",
       "      <th>Temp</th>\n",
       "    </tr>\n",
       "    <tr>\n",
       "      <th>year</th>\n",
       "      <th></th>\n",
       "      <th></th>\n",
       "      <th></th>\n",
       "      <th></th>\n",
       "      <th></th>\n",
       "      <th></th>\n",
       "    </tr>\n",
       "  </thead>\n",
       "  <tbody>\n",
       "    <tr>\n",
       "      <td>2013</td>\n",
       "      <td>26.0</td>\n",
       "      <td>37.25</td>\n",
       "      <td>36.0</td>\n",
       "      <td>37.05</td>\n",
       "      <td>33.0</td>\n",
       "      <td>38.45</td>\n",
       "    </tr>\n",
       "    <tr>\n",
       "      <td>2014</td>\n",
       "      <td>35.0</td>\n",
       "      <td>37.35</td>\n",
       "      <td>42.0</td>\n",
       "      <td>36.50</td>\n",
       "      <td>40.0</td>\n",
       "      <td>37.25</td>\n",
       "    </tr>\n",
       "  </tbody>\n",
       "</table>\n",
       "</div>"
      ],
      "text/plain": [
       "subject   Bob        Guido          Sue       \n",
       "type       HR   Temp    HR   Temp    HR   Temp\n",
       "year                                          \n",
       "2013     26.0  37.25  36.0  37.05  33.0  38.45\n",
       "2014     35.0  37.35  42.0  36.50  40.0  37.25"
      ]
     },
     "execution_count": 108,
     "metadata": {},
     "output_type": "execute_result"
    }
   ],
   "source": [
    "data_mean = health_data.mean(level = 'year')\n",
    "data_mean"
   ]
  },
  {
   "cell_type": "code",
   "execution_count": 109,
   "metadata": {},
   "outputs": [
    {
     "data": {
      "text/html": [
       "<div>\n",
       "<style scoped>\n",
       "    .dataframe tbody tr th:only-of-type {\n",
       "        vertical-align: middle;\n",
       "    }\n",
       "\n",
       "    .dataframe tbody tr th {\n",
       "        vertical-align: top;\n",
       "    }\n",
       "\n",
       "    .dataframe thead th {\n",
       "        text-align: right;\n",
       "    }\n",
       "</style>\n",
       "<table border=\"1\" class=\"dataframe\">\n",
       "  <thead>\n",
       "    <tr style=\"text-align: right;\">\n",
       "      <th>type</th>\n",
       "      <th>HR</th>\n",
       "      <th>Temp</th>\n",
       "    </tr>\n",
       "    <tr>\n",
       "      <th>year</th>\n",
       "      <th></th>\n",
       "      <th></th>\n",
       "    </tr>\n",
       "  </thead>\n",
       "  <tbody>\n",
       "    <tr>\n",
       "      <td>2013</td>\n",
       "      <td>31.666667</td>\n",
       "      <td>37.583333</td>\n",
       "    </tr>\n",
       "    <tr>\n",
       "      <td>2014</td>\n",
       "      <td>39.000000</td>\n",
       "      <td>37.033333</td>\n",
       "    </tr>\n",
       "  </tbody>\n",
       "</table>\n",
       "</div>"
      ],
      "text/plain": [
       "type         HR       Temp\n",
       "year                      \n",
       "2013  31.666667  37.583333\n",
       "2014  39.000000  37.033333"
      ]
     },
     "execution_count": 109,
     "metadata": {},
     "output_type": "execute_result"
    }
   ],
   "source": [
    "data_mean.mean(axis=1, level='type')"
   ]
  },
  {
   "cell_type": "markdown",
   "metadata": {},
   "source": [
    "# Combining Datasets: Concant and Append"
   ]
  },
  {
   "cell_type": "code",
   "execution_count": 110,
   "metadata": {},
   "outputs": [],
   "source": [
    "import pandas as pd\n",
    "import numpy as np"
   ]
  },
  {
   "cell_type": "code",
   "execution_count": 111,
   "metadata": {},
   "outputs": [
    {
     "data": {
      "text/html": [
       "<div>\n",
       "<style scoped>\n",
       "    .dataframe tbody tr th:only-of-type {\n",
       "        vertical-align: middle;\n",
       "    }\n",
       "\n",
       "    .dataframe tbody tr th {\n",
       "        vertical-align: top;\n",
       "    }\n",
       "\n",
       "    .dataframe thead th {\n",
       "        text-align: right;\n",
       "    }\n",
       "</style>\n",
       "<table border=\"1\" class=\"dataframe\">\n",
       "  <thead>\n",
       "    <tr style=\"text-align: right;\">\n",
       "      <th></th>\n",
       "      <th>A</th>\n",
       "      <th>B</th>\n",
       "      <th>C</th>\n",
       "    </tr>\n",
       "  </thead>\n",
       "  <tbody>\n",
       "    <tr>\n",
       "      <td>0</td>\n",
       "      <td>A0</td>\n",
       "      <td>B0</td>\n",
       "      <td>C0</td>\n",
       "    </tr>\n",
       "    <tr>\n",
       "      <td>1</td>\n",
       "      <td>A1</td>\n",
       "      <td>B1</td>\n",
       "      <td>C1</td>\n",
       "    </tr>\n",
       "    <tr>\n",
       "      <td>2</td>\n",
       "      <td>A2</td>\n",
       "      <td>B2</td>\n",
       "      <td>C2</td>\n",
       "    </tr>\n",
       "  </tbody>\n",
       "</table>\n",
       "</div>"
      ],
      "text/plain": [
       "    A   B   C\n",
       "0  A0  B0  C0\n",
       "1  A1  B1  C1\n",
       "2  A2  B2  C2"
      ]
     },
     "execution_count": 111,
     "metadata": {},
     "output_type": "execute_result"
    }
   ],
   "source": [
    "def make_df(cols, ind):\n",
    "    \"\"\"Quickly make a DataFrame\"\"\"\n",
    "    data = {c: [str(c) + str(i) for i in ind]\n",
    "            for c in cols}\n",
    "    return pd.DataFrame(data, ind)\n",
    "\n",
    "# example DataFrame\n",
    "make_df('ABC', range(3))"
   ]
  },
  {
   "cell_type": "code",
   "execution_count": 112,
   "metadata": {},
   "outputs": [],
   "source": [
    "class display(object):\n",
    "    \"\"\"Display HTML representation of multiple objects\"\"\"\n",
    "    template = \"\"\"<div style=\"float: left; padding: 10px;\">\n",
    "    <p style='font-family:\"Courier New\", Courier, monospace'>{0}</p>{1}\n",
    "    </div>\"\"\"\n",
    "    def __init__(self, *args):\n",
    "        self.args = args\n",
    "        \n",
    "    def _repr_html_(self):\n",
    "        return '\\n'.join(self.template.format(a, eval(a)._repr_html_())\n",
    "                         for a in self.args)\n",
    "    \n",
    "    def __repr__(self):\n",
    "        return '\\n\\n'.join(a + '\\n' + repr(eval(a))\n",
    "                           for a in self.args)"
   ]
  },
  {
   "cell_type": "markdown",
   "metadata": {},
   "source": [
    "# Recall: Concatenation of NumPy Arrays"
   ]
  },
  {
   "cell_type": "code",
   "execution_count": 113,
   "metadata": {},
   "outputs": [
    {
     "data": {
      "text/plain": [
       "array([1, 2, 3, 4, 5, 6, 7, 8, 9])"
      ]
     },
     "execution_count": 113,
     "metadata": {},
     "output_type": "execute_result"
    }
   ],
   "source": [
    "x = [1, 2, 3]\n",
    "y = [4, 5, 6]\n",
    "z = [7, 8, 9]\n",
    "np.concatenate([x, y, z])"
   ]
  },
  {
   "cell_type": "code",
   "execution_count": 115,
   "metadata": {},
   "outputs": [
    {
     "data": {
      "text/plain": [
       "array([[1, 2, 1, 2],\n",
       "       [3, 4, 3, 4]])"
      ]
     },
     "execution_count": 115,
     "metadata": {},
     "output_type": "execute_result"
    }
   ],
   "source": [
    "x = [[1, 2],\n",
    "     [3, 4]]\n",
    "np.concatenate([x, x], axis=1)"
   ]
  },
  {
   "cell_type": "markdown",
   "metadata": {},
   "source": [
    "## Simple Concatenation with pd.concat()"
   ]
  },
  {
   "cell_type": "code",
   "execution_count": 121,
   "metadata": {},
   "outputs": [
    {
     "data": {
      "text/plain": [
       "1    A\n",
       "2    B\n",
       "3    C\n",
       "4    D\n",
       "5    E\n",
       "6    F\n",
       "dtype: object"
      ]
     },
     "execution_count": 121,
     "metadata": {},
     "output_type": "execute_result"
    }
   ],
   "source": [
    "ser1 = pd.Series(['A', 'B', 'C'], index=[1, 2, 3])\n",
    "ser2 = pd.Series(['D', 'E', 'F'], index=[4, 5, 6])\n",
    "pd.concat([ser1, ser2])"
   ]
  },
  {
   "cell_type": "code",
   "execution_count": 122,
   "metadata": {},
   "outputs": [
    {
     "data": {
      "text/html": [
       "<div style=\"float: left; padding: 10px;\">\n",
       "    <p style='font-family:\"Courier New\", Courier, monospace'>df1</p><div>\n",
       "<style scoped>\n",
       "    .dataframe tbody tr th:only-of-type {\n",
       "        vertical-align: middle;\n",
       "    }\n",
       "\n",
       "    .dataframe tbody tr th {\n",
       "        vertical-align: top;\n",
       "    }\n",
       "\n",
       "    .dataframe thead th {\n",
       "        text-align: right;\n",
       "    }\n",
       "</style>\n",
       "<table border=\"1\" class=\"dataframe\">\n",
       "  <thead>\n",
       "    <tr style=\"text-align: right;\">\n",
       "      <th></th>\n",
       "      <th>A</th>\n",
       "      <th>B</th>\n",
       "    </tr>\n",
       "  </thead>\n",
       "  <tbody>\n",
       "    <tr>\n",
       "      <td>1</td>\n",
       "      <td>A1</td>\n",
       "      <td>B1</td>\n",
       "    </tr>\n",
       "    <tr>\n",
       "      <td>2</td>\n",
       "      <td>A2</td>\n",
       "      <td>B2</td>\n",
       "    </tr>\n",
       "  </tbody>\n",
       "</table>\n",
       "</div>\n",
       "    </div>\n",
       "<div style=\"float: left; padding: 10px;\">\n",
       "    <p style='font-family:\"Courier New\", Courier, monospace'>df2</p><div>\n",
       "<style scoped>\n",
       "    .dataframe tbody tr th:only-of-type {\n",
       "        vertical-align: middle;\n",
       "    }\n",
       "\n",
       "    .dataframe tbody tr th {\n",
       "        vertical-align: top;\n",
       "    }\n",
       "\n",
       "    .dataframe thead th {\n",
       "        text-align: right;\n",
       "    }\n",
       "</style>\n",
       "<table border=\"1\" class=\"dataframe\">\n",
       "  <thead>\n",
       "    <tr style=\"text-align: right;\">\n",
       "      <th></th>\n",
       "      <th>A</th>\n",
       "      <th>B</th>\n",
       "    </tr>\n",
       "  </thead>\n",
       "  <tbody>\n",
       "    <tr>\n",
       "      <td>3</td>\n",
       "      <td>A3</td>\n",
       "      <td>B3</td>\n",
       "    </tr>\n",
       "    <tr>\n",
       "      <td>4</td>\n",
       "      <td>A4</td>\n",
       "      <td>B4</td>\n",
       "    </tr>\n",
       "  </tbody>\n",
       "</table>\n",
       "</div>\n",
       "    </div>\n",
       "<div style=\"float: left; padding: 10px;\">\n",
       "    <p style='font-family:\"Courier New\", Courier, monospace'>pd.concat([df1, df2])</p><div>\n",
       "<style scoped>\n",
       "    .dataframe tbody tr th:only-of-type {\n",
       "        vertical-align: middle;\n",
       "    }\n",
       "\n",
       "    .dataframe tbody tr th {\n",
       "        vertical-align: top;\n",
       "    }\n",
       "\n",
       "    .dataframe thead th {\n",
       "        text-align: right;\n",
       "    }\n",
       "</style>\n",
       "<table border=\"1\" class=\"dataframe\">\n",
       "  <thead>\n",
       "    <tr style=\"text-align: right;\">\n",
       "      <th></th>\n",
       "      <th>A</th>\n",
       "      <th>B</th>\n",
       "    </tr>\n",
       "  </thead>\n",
       "  <tbody>\n",
       "    <tr>\n",
       "      <td>1</td>\n",
       "      <td>A1</td>\n",
       "      <td>B1</td>\n",
       "    </tr>\n",
       "    <tr>\n",
       "      <td>2</td>\n",
       "      <td>A2</td>\n",
       "      <td>B2</td>\n",
       "    </tr>\n",
       "    <tr>\n",
       "      <td>3</td>\n",
       "      <td>A3</td>\n",
       "      <td>B3</td>\n",
       "    </tr>\n",
       "    <tr>\n",
       "      <td>4</td>\n",
       "      <td>A4</td>\n",
       "      <td>B4</td>\n",
       "    </tr>\n",
       "  </tbody>\n",
       "</table>\n",
       "</div>\n",
       "    </div>"
      ],
      "text/plain": [
       "df1\n",
       "    A   B\n",
       "1  A1  B1\n",
       "2  A2  B2\n",
       "\n",
       "df2\n",
       "    A   B\n",
       "3  A3  B3\n",
       "4  A4  B4\n",
       "\n",
       "pd.concat([df1, df2])\n",
       "    A   B\n",
       "1  A1  B1\n",
       "2  A2  B2\n",
       "3  A3  B3\n",
       "4  A4  B4"
      ]
     },
     "execution_count": 122,
     "metadata": {},
     "output_type": "execute_result"
    }
   ],
   "source": [
    "df1 = make_df('AB', [1, 2])\n",
    "df2 = make_df('AB', [3, 4])\n",
    "display('df1', 'df2', 'pd.concat([df1, df2])')"
   ]
  },
  {
   "cell_type": "code",
   "execution_count": 129,
   "metadata": {},
   "outputs": [
    {
     "data": {
      "text/html": [
       "<div style=\"float: left; padding: 10px;\">\n",
       "    <p style='font-family:\"Courier New\", Courier, monospace'>df3</p><div>\n",
       "<style scoped>\n",
       "    .dataframe tbody tr th:only-of-type {\n",
       "        vertical-align: middle;\n",
       "    }\n",
       "\n",
       "    .dataframe tbody tr th {\n",
       "        vertical-align: top;\n",
       "    }\n",
       "\n",
       "    .dataframe thead th {\n",
       "        text-align: right;\n",
       "    }\n",
       "</style>\n",
       "<table border=\"1\" class=\"dataframe\">\n",
       "  <thead>\n",
       "    <tr style=\"text-align: right;\">\n",
       "      <th></th>\n",
       "      <th>A</th>\n",
       "      <th>B</th>\n",
       "    </tr>\n",
       "  </thead>\n",
       "  <tbody>\n",
       "    <tr>\n",
       "      <td>0</td>\n",
       "      <td>A0</td>\n",
       "      <td>B0</td>\n",
       "    </tr>\n",
       "    <tr>\n",
       "      <td>1</td>\n",
       "      <td>A1</td>\n",
       "      <td>B1</td>\n",
       "    </tr>\n",
       "  </tbody>\n",
       "</table>\n",
       "</div>\n",
       "    </div>\n",
       "<div style=\"float: left; padding: 10px;\">\n",
       "    <p style='font-family:\"Courier New\", Courier, monospace'>df4</p><div>\n",
       "<style scoped>\n",
       "    .dataframe tbody tr th:only-of-type {\n",
       "        vertical-align: middle;\n",
       "    }\n",
       "\n",
       "    .dataframe tbody tr th {\n",
       "        vertical-align: top;\n",
       "    }\n",
       "\n",
       "    .dataframe thead th {\n",
       "        text-align: right;\n",
       "    }\n",
       "</style>\n",
       "<table border=\"1\" class=\"dataframe\">\n",
       "  <thead>\n",
       "    <tr style=\"text-align: right;\">\n",
       "      <th></th>\n",
       "      <th>C</th>\n",
       "      <th>D</th>\n",
       "    </tr>\n",
       "  </thead>\n",
       "  <tbody>\n",
       "    <tr>\n",
       "      <td>0</td>\n",
       "      <td>C0</td>\n",
       "      <td>D0</td>\n",
       "    </tr>\n",
       "    <tr>\n",
       "      <td>1</td>\n",
       "      <td>C1</td>\n",
       "      <td>D1</td>\n",
       "    </tr>\n",
       "  </tbody>\n",
       "</table>\n",
       "</div>\n",
       "    </div>\n",
       "<div style=\"float: left; padding: 10px;\">\n",
       "    <p style='font-family:\"Courier New\", Courier, monospace'>pd.concat([df3, df4], axis=1)</p><div>\n",
       "<style scoped>\n",
       "    .dataframe tbody tr th:only-of-type {\n",
       "        vertical-align: middle;\n",
       "    }\n",
       "\n",
       "    .dataframe tbody tr th {\n",
       "        vertical-align: top;\n",
       "    }\n",
       "\n",
       "    .dataframe thead th {\n",
       "        text-align: right;\n",
       "    }\n",
       "</style>\n",
       "<table border=\"1\" class=\"dataframe\">\n",
       "  <thead>\n",
       "    <tr style=\"text-align: right;\">\n",
       "      <th></th>\n",
       "      <th>A</th>\n",
       "      <th>B</th>\n",
       "      <th>C</th>\n",
       "      <th>D</th>\n",
       "    </tr>\n",
       "  </thead>\n",
       "  <tbody>\n",
       "    <tr>\n",
       "      <td>0</td>\n",
       "      <td>A0</td>\n",
       "      <td>B0</td>\n",
       "      <td>C0</td>\n",
       "      <td>D0</td>\n",
       "    </tr>\n",
       "    <tr>\n",
       "      <td>1</td>\n",
       "      <td>A1</td>\n",
       "      <td>B1</td>\n",
       "      <td>C1</td>\n",
       "      <td>D1</td>\n",
       "    </tr>\n",
       "  </tbody>\n",
       "</table>\n",
       "</div>\n",
       "    </div>"
      ],
      "text/plain": [
       "df3\n",
       "    A   B\n",
       "0  A0  B0\n",
       "1  A1  B1\n",
       "\n",
       "df4\n",
       "    C   D\n",
       "0  C0  D0\n",
       "1  C1  D1\n",
       "\n",
       "pd.concat([df3, df4], axis=1)\n",
       "    A   B   C   D\n",
       "0  A0  B0  C0  D0\n",
       "1  A1  B1  C1  D1"
      ]
     },
     "execution_count": 129,
     "metadata": {},
     "output_type": "execute_result"
    }
   ],
   "source": [
    "df3 = make_df('AB', [0, 1])\n",
    "df4 = make_df('CD', [0, 1])\n",
    "display('df3', 'df4', \"pd.concat([df3, df4], axis=1)\")"
   ]
  },
  {
   "cell_type": "code",
   "execution_count": 132,
   "metadata": {},
   "outputs": [
    {
     "data": {
      "text/html": [
       "<div style=\"float: left; padding: 10px;\">\n",
       "    <p style='font-family:\"Courier New\", Courier, monospace'>df3</p><div>\n",
       "<style scoped>\n",
       "    .dataframe tbody tr th:only-of-type {\n",
       "        vertical-align: middle;\n",
       "    }\n",
       "\n",
       "    .dataframe tbody tr th {\n",
       "        vertical-align: top;\n",
       "    }\n",
       "\n",
       "    .dataframe thead th {\n",
       "        text-align: right;\n",
       "    }\n",
       "</style>\n",
       "<table border=\"1\" class=\"dataframe\">\n",
       "  <thead>\n",
       "    <tr style=\"text-align: right;\">\n",
       "      <th></th>\n",
       "      <th>A</th>\n",
       "      <th>B</th>\n",
       "    </tr>\n",
       "  </thead>\n",
       "  <tbody>\n",
       "    <tr>\n",
       "      <td>1</td>\n",
       "      <td>A1</td>\n",
       "      <td>B1</td>\n",
       "    </tr>\n",
       "    <tr>\n",
       "      <td>0</td>\n",
       "      <td>A0</td>\n",
       "      <td>B0</td>\n",
       "    </tr>\n",
       "  </tbody>\n",
       "</table>\n",
       "</div>\n",
       "    </div>\n",
       "<div style=\"float: left; padding: 10px;\">\n",
       "    <p style='font-family:\"Courier New\", Courier, monospace'>df4</p><div>\n",
       "<style scoped>\n",
       "    .dataframe tbody tr th:only-of-type {\n",
       "        vertical-align: middle;\n",
       "    }\n",
       "\n",
       "    .dataframe tbody tr th {\n",
       "        vertical-align: top;\n",
       "    }\n",
       "\n",
       "    .dataframe thead th {\n",
       "        text-align: right;\n",
       "    }\n",
       "</style>\n",
       "<table border=\"1\" class=\"dataframe\">\n",
       "  <thead>\n",
       "    <tr style=\"text-align: right;\">\n",
       "      <th></th>\n",
       "      <th>C</th>\n",
       "      <th>D</th>\n",
       "    </tr>\n",
       "  </thead>\n",
       "  <tbody>\n",
       "    <tr>\n",
       "      <td>0</td>\n",
       "      <td>C0</td>\n",
       "      <td>D0</td>\n",
       "    </tr>\n",
       "    <tr>\n",
       "      <td>1</td>\n",
       "      <td>C1</td>\n",
       "      <td>D1</td>\n",
       "    </tr>\n",
       "  </tbody>\n",
       "</table>\n",
       "</div>\n",
       "    </div>\n",
       "<div style=\"float: left; padding: 10px;\">\n",
       "    <p style='font-family:\"Courier New\", Courier, monospace'>pd.concat([df3, df4], axis=1)</p><div>\n",
       "<style scoped>\n",
       "    .dataframe tbody tr th:only-of-type {\n",
       "        vertical-align: middle;\n",
       "    }\n",
       "\n",
       "    .dataframe tbody tr th {\n",
       "        vertical-align: top;\n",
       "    }\n",
       "\n",
       "    .dataframe thead th {\n",
       "        text-align: right;\n",
       "    }\n",
       "</style>\n",
       "<table border=\"1\" class=\"dataframe\">\n",
       "  <thead>\n",
       "    <tr style=\"text-align: right;\">\n",
       "      <th></th>\n",
       "      <th>A</th>\n",
       "      <th>B</th>\n",
       "      <th>C</th>\n",
       "      <th>D</th>\n",
       "    </tr>\n",
       "  </thead>\n",
       "  <tbody>\n",
       "    <tr>\n",
       "      <td>0</td>\n",
       "      <td>A0</td>\n",
       "      <td>B0</td>\n",
       "      <td>C0</td>\n",
       "      <td>D0</td>\n",
       "    </tr>\n",
       "    <tr>\n",
       "      <td>1</td>\n",
       "      <td>A1</td>\n",
       "      <td>B1</td>\n",
       "      <td>C1</td>\n",
       "      <td>D1</td>\n",
       "    </tr>\n",
       "  </tbody>\n",
       "</table>\n",
       "</div>\n",
       "    </div>"
      ],
      "text/plain": [
       "df3\n",
       "    A   B\n",
       "1  A1  B1\n",
       "0  A0  B0\n",
       "\n",
       "df4\n",
       "    C   D\n",
       "0  C0  D0\n",
       "1  C1  D1\n",
       "\n",
       "pd.concat([df3, df4], axis=1)\n",
       "    A   B   C   D\n",
       "0  A0  B0  C0  D0\n",
       "1  A1  B1  C1  D1"
      ]
     },
     "execution_count": 132,
     "metadata": {},
     "output_type": "execute_result"
    }
   ],
   "source": [
    "df3 = make_df('AB', [1, 0])\n",
    "df4 = make_df('CD', [0, 1])\n",
    "display('df3', 'df4', \"pd.concat([df3, df4], axis=1)\")"
   ]
  },
  {
   "cell_type": "markdown",
   "metadata": {},
   "source": [
    "## Duplicate Indices"
   ]
  },
  {
   "cell_type": "code",
   "execution_count": 133,
   "metadata": {},
   "outputs": [
    {
     "data": {
      "text/html": [
       "<div style=\"float: left; padding: 10px;\">\n",
       "    <p style='font-family:\"Courier New\", Courier, monospace'>x</p><div>\n",
       "<style scoped>\n",
       "    .dataframe tbody tr th:only-of-type {\n",
       "        vertical-align: middle;\n",
       "    }\n",
       "\n",
       "    .dataframe tbody tr th {\n",
       "        vertical-align: top;\n",
       "    }\n",
       "\n",
       "    .dataframe thead th {\n",
       "        text-align: right;\n",
       "    }\n",
       "</style>\n",
       "<table border=\"1\" class=\"dataframe\">\n",
       "  <thead>\n",
       "    <tr style=\"text-align: right;\">\n",
       "      <th></th>\n",
       "      <th>A</th>\n",
       "      <th>B</th>\n",
       "    </tr>\n",
       "  </thead>\n",
       "  <tbody>\n",
       "    <tr>\n",
       "      <td>0</td>\n",
       "      <td>A0</td>\n",
       "      <td>B0</td>\n",
       "    </tr>\n",
       "    <tr>\n",
       "      <td>1</td>\n",
       "      <td>A1</td>\n",
       "      <td>B1</td>\n",
       "    </tr>\n",
       "  </tbody>\n",
       "</table>\n",
       "</div>\n",
       "    </div>\n",
       "<div style=\"float: left; padding: 10px;\">\n",
       "    <p style='font-family:\"Courier New\", Courier, monospace'>y</p><div>\n",
       "<style scoped>\n",
       "    .dataframe tbody tr th:only-of-type {\n",
       "        vertical-align: middle;\n",
       "    }\n",
       "\n",
       "    .dataframe tbody tr th {\n",
       "        vertical-align: top;\n",
       "    }\n",
       "\n",
       "    .dataframe thead th {\n",
       "        text-align: right;\n",
       "    }\n",
       "</style>\n",
       "<table border=\"1\" class=\"dataframe\">\n",
       "  <thead>\n",
       "    <tr style=\"text-align: right;\">\n",
       "      <th></th>\n",
       "      <th>A</th>\n",
       "      <th>B</th>\n",
       "    </tr>\n",
       "  </thead>\n",
       "  <tbody>\n",
       "    <tr>\n",
       "      <td>0</td>\n",
       "      <td>A2</td>\n",
       "      <td>B2</td>\n",
       "    </tr>\n",
       "    <tr>\n",
       "      <td>1</td>\n",
       "      <td>A3</td>\n",
       "      <td>B3</td>\n",
       "    </tr>\n",
       "  </tbody>\n",
       "</table>\n",
       "</div>\n",
       "    </div>\n",
       "<div style=\"float: left; padding: 10px;\">\n",
       "    <p style='font-family:\"Courier New\", Courier, monospace'>pd.concat([x, y])</p><div>\n",
       "<style scoped>\n",
       "    .dataframe tbody tr th:only-of-type {\n",
       "        vertical-align: middle;\n",
       "    }\n",
       "\n",
       "    .dataframe tbody tr th {\n",
       "        vertical-align: top;\n",
       "    }\n",
       "\n",
       "    .dataframe thead th {\n",
       "        text-align: right;\n",
       "    }\n",
       "</style>\n",
       "<table border=\"1\" class=\"dataframe\">\n",
       "  <thead>\n",
       "    <tr style=\"text-align: right;\">\n",
       "      <th></th>\n",
       "      <th>A</th>\n",
       "      <th>B</th>\n",
       "    </tr>\n",
       "  </thead>\n",
       "  <tbody>\n",
       "    <tr>\n",
       "      <td>0</td>\n",
       "      <td>A0</td>\n",
       "      <td>B0</td>\n",
       "    </tr>\n",
       "    <tr>\n",
       "      <td>1</td>\n",
       "      <td>A1</td>\n",
       "      <td>B1</td>\n",
       "    </tr>\n",
       "    <tr>\n",
       "      <td>0</td>\n",
       "      <td>A2</td>\n",
       "      <td>B2</td>\n",
       "    </tr>\n",
       "    <tr>\n",
       "      <td>1</td>\n",
       "      <td>A3</td>\n",
       "      <td>B3</td>\n",
       "    </tr>\n",
       "  </tbody>\n",
       "</table>\n",
       "</div>\n",
       "    </div>"
      ],
      "text/plain": [
       "x\n",
       "    A   B\n",
       "0  A0  B0\n",
       "1  A1  B1\n",
       "\n",
       "y\n",
       "    A   B\n",
       "0  A2  B2\n",
       "1  A3  B3\n",
       "\n",
       "pd.concat([x, y])\n",
       "    A   B\n",
       "0  A0  B0\n",
       "1  A1  B1\n",
       "0  A2  B2\n",
       "1  A3  B3"
      ]
     },
     "execution_count": 133,
     "metadata": {},
     "output_type": "execute_result"
    }
   ],
   "source": [
    "x = make_df('AB', [0, 1])\n",
    "y = make_df('AB', [2, 3])\n",
    "y.index = x.index  # make duplicate indices!\n",
    "display('x', 'y', 'pd.concat([x, y])')"
   ]
  },
  {
   "cell_type": "markdown",
   "metadata": {},
   "source": [
    "### Catching the repeats as an error"
   ]
  },
  {
   "cell_type": "code",
   "execution_count": 135,
   "metadata": {},
   "outputs": [
    {
     "name": "stdout",
     "output_type": "stream",
     "text": [
      "ValueError: Indexes have overlapping values: Int64Index([0, 1], dtype='int64')\n"
     ]
    }
   ],
   "source": [
    "try:\n",
    "    pd.concat([x, y], verify_integrity=True)\n",
    "except ValueError as e:\n",
    "    print(\"ValueError:\", e)"
   ]
  },
  {
   "cell_type": "markdown",
   "metadata": {},
   "source": [
    "### Ignoring the index"
   ]
  },
  {
   "cell_type": "code",
   "execution_count": 136,
   "metadata": {},
   "outputs": [
    {
     "data": {
      "text/html": [
       "<div style=\"float: left; padding: 10px;\">\n",
       "    <p style='font-family:\"Courier New\", Courier, monospace'>x</p><div>\n",
       "<style scoped>\n",
       "    .dataframe tbody tr th:only-of-type {\n",
       "        vertical-align: middle;\n",
       "    }\n",
       "\n",
       "    .dataframe tbody tr th {\n",
       "        vertical-align: top;\n",
       "    }\n",
       "\n",
       "    .dataframe thead th {\n",
       "        text-align: right;\n",
       "    }\n",
       "</style>\n",
       "<table border=\"1\" class=\"dataframe\">\n",
       "  <thead>\n",
       "    <tr style=\"text-align: right;\">\n",
       "      <th></th>\n",
       "      <th>A</th>\n",
       "      <th>B</th>\n",
       "    </tr>\n",
       "  </thead>\n",
       "  <tbody>\n",
       "    <tr>\n",
       "      <td>0</td>\n",
       "      <td>A0</td>\n",
       "      <td>B0</td>\n",
       "    </tr>\n",
       "    <tr>\n",
       "      <td>1</td>\n",
       "      <td>A1</td>\n",
       "      <td>B1</td>\n",
       "    </tr>\n",
       "  </tbody>\n",
       "</table>\n",
       "</div>\n",
       "    </div>\n",
       "<div style=\"float: left; padding: 10px;\">\n",
       "    <p style='font-family:\"Courier New\", Courier, monospace'>y</p><div>\n",
       "<style scoped>\n",
       "    .dataframe tbody tr th:only-of-type {\n",
       "        vertical-align: middle;\n",
       "    }\n",
       "\n",
       "    .dataframe tbody tr th {\n",
       "        vertical-align: top;\n",
       "    }\n",
       "\n",
       "    .dataframe thead th {\n",
       "        text-align: right;\n",
       "    }\n",
       "</style>\n",
       "<table border=\"1\" class=\"dataframe\">\n",
       "  <thead>\n",
       "    <tr style=\"text-align: right;\">\n",
       "      <th></th>\n",
       "      <th>A</th>\n",
       "      <th>B</th>\n",
       "    </tr>\n",
       "  </thead>\n",
       "  <tbody>\n",
       "    <tr>\n",
       "      <td>0</td>\n",
       "      <td>A2</td>\n",
       "      <td>B2</td>\n",
       "    </tr>\n",
       "    <tr>\n",
       "      <td>1</td>\n",
       "      <td>A3</td>\n",
       "      <td>B3</td>\n",
       "    </tr>\n",
       "  </tbody>\n",
       "</table>\n",
       "</div>\n",
       "    </div>\n",
       "<div style=\"float: left; padding: 10px;\">\n",
       "    <p style='font-family:\"Courier New\", Courier, monospace'>pd.concat([x, y], ignore_index=True)</p><div>\n",
       "<style scoped>\n",
       "    .dataframe tbody tr th:only-of-type {\n",
       "        vertical-align: middle;\n",
       "    }\n",
       "\n",
       "    .dataframe tbody tr th {\n",
       "        vertical-align: top;\n",
       "    }\n",
       "\n",
       "    .dataframe thead th {\n",
       "        text-align: right;\n",
       "    }\n",
       "</style>\n",
       "<table border=\"1\" class=\"dataframe\">\n",
       "  <thead>\n",
       "    <tr style=\"text-align: right;\">\n",
       "      <th></th>\n",
       "      <th>A</th>\n",
       "      <th>B</th>\n",
       "    </tr>\n",
       "  </thead>\n",
       "  <tbody>\n",
       "    <tr>\n",
       "      <td>0</td>\n",
       "      <td>A0</td>\n",
       "      <td>B0</td>\n",
       "    </tr>\n",
       "    <tr>\n",
       "      <td>1</td>\n",
       "      <td>A1</td>\n",
       "      <td>B1</td>\n",
       "    </tr>\n",
       "    <tr>\n",
       "      <td>2</td>\n",
       "      <td>A2</td>\n",
       "      <td>B2</td>\n",
       "    </tr>\n",
       "    <tr>\n",
       "      <td>3</td>\n",
       "      <td>A3</td>\n",
       "      <td>B3</td>\n",
       "    </tr>\n",
       "  </tbody>\n",
       "</table>\n",
       "</div>\n",
       "    </div>"
      ],
      "text/plain": [
       "x\n",
       "    A   B\n",
       "0  A0  B0\n",
       "1  A1  B1\n",
       "\n",
       "y\n",
       "    A   B\n",
       "0  A2  B2\n",
       "1  A3  B3\n",
       "\n",
       "pd.concat([x, y], ignore_index=True)\n",
       "    A   B\n",
       "0  A0  B0\n",
       "1  A1  B1\n",
       "2  A2  B2\n",
       "3  A3  B3"
      ]
     },
     "execution_count": 136,
     "metadata": {},
     "output_type": "execute_result"
    }
   ],
   "source": [
    "display('x', 'y', 'pd.concat([x, y], ignore_index=True)')"
   ]
  },
  {
   "cell_type": "markdown",
   "metadata": {},
   "source": [
    "### Adding MultiIndex Keys"
   ]
  },
  {
   "cell_type": "code",
   "execution_count": 138,
   "metadata": {},
   "outputs": [
    {
     "data": {
      "text/html": [
       "<div style=\"float: left; padding: 10px;\">\n",
       "    <p style='font-family:\"Courier New\", Courier, monospace'>x</p><div>\n",
       "<style scoped>\n",
       "    .dataframe tbody tr th:only-of-type {\n",
       "        vertical-align: middle;\n",
       "    }\n",
       "\n",
       "    .dataframe tbody tr th {\n",
       "        vertical-align: top;\n",
       "    }\n",
       "\n",
       "    .dataframe thead th {\n",
       "        text-align: right;\n",
       "    }\n",
       "</style>\n",
       "<table border=\"1\" class=\"dataframe\">\n",
       "  <thead>\n",
       "    <tr style=\"text-align: right;\">\n",
       "      <th></th>\n",
       "      <th>A</th>\n",
       "      <th>B</th>\n",
       "    </tr>\n",
       "  </thead>\n",
       "  <tbody>\n",
       "    <tr>\n",
       "      <td>0</td>\n",
       "      <td>A0</td>\n",
       "      <td>B0</td>\n",
       "    </tr>\n",
       "    <tr>\n",
       "      <td>1</td>\n",
       "      <td>A1</td>\n",
       "      <td>B1</td>\n",
       "    </tr>\n",
       "  </tbody>\n",
       "</table>\n",
       "</div>\n",
       "    </div>\n",
       "<div style=\"float: left; padding: 10px;\">\n",
       "    <p style='font-family:\"Courier New\", Courier, monospace'>y</p><div>\n",
       "<style scoped>\n",
       "    .dataframe tbody tr th:only-of-type {\n",
       "        vertical-align: middle;\n",
       "    }\n",
       "\n",
       "    .dataframe tbody tr th {\n",
       "        vertical-align: top;\n",
       "    }\n",
       "\n",
       "    .dataframe thead th {\n",
       "        text-align: right;\n",
       "    }\n",
       "</style>\n",
       "<table border=\"1\" class=\"dataframe\">\n",
       "  <thead>\n",
       "    <tr style=\"text-align: right;\">\n",
       "      <th></th>\n",
       "      <th>A</th>\n",
       "      <th>B</th>\n",
       "    </tr>\n",
       "  </thead>\n",
       "  <tbody>\n",
       "    <tr>\n",
       "      <td>0</td>\n",
       "      <td>A2</td>\n",
       "      <td>B2</td>\n",
       "    </tr>\n",
       "    <tr>\n",
       "      <td>1</td>\n",
       "      <td>A3</td>\n",
       "      <td>B3</td>\n",
       "    </tr>\n",
       "  </tbody>\n",
       "</table>\n",
       "</div>\n",
       "    </div>\n",
       "<div style=\"float: left; padding: 10px;\">\n",
       "    <p style='font-family:\"Courier New\", Courier, monospace'>pd.concat([x, y], keys=['x', 'y'])</p><div>\n",
       "<style scoped>\n",
       "    .dataframe tbody tr th:only-of-type {\n",
       "        vertical-align: middle;\n",
       "    }\n",
       "\n",
       "    .dataframe tbody tr th {\n",
       "        vertical-align: top;\n",
       "    }\n",
       "\n",
       "    .dataframe thead th {\n",
       "        text-align: right;\n",
       "    }\n",
       "</style>\n",
       "<table border=\"1\" class=\"dataframe\">\n",
       "  <thead>\n",
       "    <tr style=\"text-align: right;\">\n",
       "      <th></th>\n",
       "      <th></th>\n",
       "      <th>A</th>\n",
       "      <th>B</th>\n",
       "    </tr>\n",
       "  </thead>\n",
       "  <tbody>\n",
       "    <tr>\n",
       "      <td rowspan=\"2\" valign=\"top\">x</td>\n",
       "      <td>0</td>\n",
       "      <td>A0</td>\n",
       "      <td>B0</td>\n",
       "    </tr>\n",
       "    <tr>\n",
       "      <td>1</td>\n",
       "      <td>A1</td>\n",
       "      <td>B1</td>\n",
       "    </tr>\n",
       "    <tr>\n",
       "      <td rowspan=\"2\" valign=\"top\">y</td>\n",
       "      <td>0</td>\n",
       "      <td>A2</td>\n",
       "      <td>B2</td>\n",
       "    </tr>\n",
       "    <tr>\n",
       "      <td>1</td>\n",
       "      <td>A3</td>\n",
       "      <td>B3</td>\n",
       "    </tr>\n",
       "  </tbody>\n",
       "</table>\n",
       "</div>\n",
       "    </div>"
      ],
      "text/plain": [
       "x\n",
       "    A   B\n",
       "0  A0  B0\n",
       "1  A1  B1\n",
       "\n",
       "y\n",
       "    A   B\n",
       "0  A2  B2\n",
       "1  A3  B3\n",
       "\n",
       "pd.concat([x, y], keys=['x', 'y'])\n",
       "      A   B\n",
       "x 0  A0  B0\n",
       "  1  A1  B1\n",
       "y 0  A2  B2\n",
       "  1  A3  B3"
      ]
     },
     "execution_count": 138,
     "metadata": {},
     "output_type": "execute_result"
    }
   ],
   "source": [
    "display('x', 'y', \"pd.concat([x, y], keys=['x', 'y'])\")"
   ]
  },
  {
   "cell_type": "markdown",
   "metadata": {},
   "source": [
    "## Concatenation with joins"
   ]
  },
  {
   "cell_type": "code",
   "execution_count": 143,
   "metadata": {},
   "outputs": [
    {
     "name": "stderr",
     "output_type": "stream",
     "text": [
      "C:\\Users\\52477\\AppData\\Local\\Continuum\\anaconda3\\lib\\site-packages\\ipykernel_launcher.py:1: FutureWarning: Sorting because non-concatenation axis is not aligned. A future version\n",
      "of pandas will change to not sort by default.\n",
      "\n",
      "To accept the future behavior, pass 'sort=False'.\n",
      "\n",
      "To retain the current behavior and silence the warning, pass 'sort=True'.\n",
      "\n",
      "  \"\"\"Entry point for launching an IPython kernel.\n"
     ]
    },
    {
     "data": {
      "text/html": [
       "<div style=\"float: left; padding: 10px;\">\n",
       "    <p style='font-family:\"Courier New\", Courier, monospace'>df5</p><div>\n",
       "<style scoped>\n",
       "    .dataframe tbody tr th:only-of-type {\n",
       "        vertical-align: middle;\n",
       "    }\n",
       "\n",
       "    .dataframe tbody tr th {\n",
       "        vertical-align: top;\n",
       "    }\n",
       "\n",
       "    .dataframe thead th {\n",
       "        text-align: right;\n",
       "    }\n",
       "</style>\n",
       "<table border=\"1\" class=\"dataframe\">\n",
       "  <thead>\n",
       "    <tr style=\"text-align: right;\">\n",
       "      <th></th>\n",
       "      <th>A</th>\n",
       "      <th>B</th>\n",
       "      <th>C</th>\n",
       "    </tr>\n",
       "  </thead>\n",
       "  <tbody>\n",
       "    <tr>\n",
       "      <td>1</td>\n",
       "      <td>A1</td>\n",
       "      <td>B1</td>\n",
       "      <td>C1</td>\n",
       "    </tr>\n",
       "    <tr>\n",
       "      <td>2</td>\n",
       "      <td>A2</td>\n",
       "      <td>B2</td>\n",
       "      <td>C2</td>\n",
       "    </tr>\n",
       "  </tbody>\n",
       "</table>\n",
       "</div>\n",
       "    </div>\n",
       "<div style=\"float: left; padding: 10px;\">\n",
       "    <p style='font-family:\"Courier New\", Courier, monospace'>df6</p><div>\n",
       "<style scoped>\n",
       "    .dataframe tbody tr th:only-of-type {\n",
       "        vertical-align: middle;\n",
       "    }\n",
       "\n",
       "    .dataframe tbody tr th {\n",
       "        vertical-align: top;\n",
       "    }\n",
       "\n",
       "    .dataframe thead th {\n",
       "        text-align: right;\n",
       "    }\n",
       "</style>\n",
       "<table border=\"1\" class=\"dataframe\">\n",
       "  <thead>\n",
       "    <tr style=\"text-align: right;\">\n",
       "      <th></th>\n",
       "      <th>B</th>\n",
       "      <th>C</th>\n",
       "      <th>D</th>\n",
       "    </tr>\n",
       "  </thead>\n",
       "  <tbody>\n",
       "    <tr>\n",
       "      <td>3</td>\n",
       "      <td>B3</td>\n",
       "      <td>C3</td>\n",
       "      <td>D3</td>\n",
       "    </tr>\n",
       "    <tr>\n",
       "      <td>4</td>\n",
       "      <td>B4</td>\n",
       "      <td>C4</td>\n",
       "      <td>D4</td>\n",
       "    </tr>\n",
       "  </tbody>\n",
       "</table>\n",
       "</div>\n",
       "    </div>\n",
       "<div style=\"float: left; padding: 10px;\">\n",
       "    <p style='font-family:\"Courier New\", Courier, monospace'>pd.concat([df5, df6])</p><div>\n",
       "<style scoped>\n",
       "    .dataframe tbody tr th:only-of-type {\n",
       "        vertical-align: middle;\n",
       "    }\n",
       "\n",
       "    .dataframe tbody tr th {\n",
       "        vertical-align: top;\n",
       "    }\n",
       "\n",
       "    .dataframe thead th {\n",
       "        text-align: right;\n",
       "    }\n",
       "</style>\n",
       "<table border=\"1\" class=\"dataframe\">\n",
       "  <thead>\n",
       "    <tr style=\"text-align: right;\">\n",
       "      <th></th>\n",
       "      <th>A</th>\n",
       "      <th>B</th>\n",
       "      <th>C</th>\n",
       "      <th>D</th>\n",
       "    </tr>\n",
       "  </thead>\n",
       "  <tbody>\n",
       "    <tr>\n",
       "      <td>1</td>\n",
       "      <td>A1</td>\n",
       "      <td>B1</td>\n",
       "      <td>C1</td>\n",
       "      <td>NaN</td>\n",
       "    </tr>\n",
       "    <tr>\n",
       "      <td>2</td>\n",
       "      <td>A2</td>\n",
       "      <td>B2</td>\n",
       "      <td>C2</td>\n",
       "      <td>NaN</td>\n",
       "    </tr>\n",
       "    <tr>\n",
       "      <td>3</td>\n",
       "      <td>NaN</td>\n",
       "      <td>B3</td>\n",
       "      <td>C3</td>\n",
       "      <td>D3</td>\n",
       "    </tr>\n",
       "    <tr>\n",
       "      <td>4</td>\n",
       "      <td>NaN</td>\n",
       "      <td>B4</td>\n",
       "      <td>C4</td>\n",
       "      <td>D4</td>\n",
       "    </tr>\n",
       "  </tbody>\n",
       "</table>\n",
       "</div>\n",
       "    </div>"
      ],
      "text/plain": [
       "df5\n",
       "    A   B   C\n",
       "1  A1  B1  C1\n",
       "2  A2  B2  C2\n",
       "\n",
       "df6\n",
       "    B   C   D\n",
       "3  B3  C3  D3\n",
       "4  B4  C4  D4\n",
       "\n",
       "pd.concat([df5, df6])\n",
       "     A   B   C    D\n",
       "1   A1  B1  C1  NaN\n",
       "2   A2  B2  C2  NaN\n",
       "3  NaN  B3  C3   D3\n",
       "4  NaN  B4  C4   D4"
      ]
     },
     "execution_count": 143,
     "metadata": {},
     "output_type": "execute_result"
    }
   ],
   "source": [
    "df5 = make_df('ABC', [1, 2])\n",
    "df6 = make_df('BCD', [3, 4])\n",
    "display('df5', 'df6', 'pd.concat([df5, df6])')"
   ]
  },
  {
   "cell_type": "code",
   "execution_count": 145,
   "metadata": {},
   "outputs": [
    {
     "data": {
      "text/html": [
       "<div style=\"float: left; padding: 10px;\">\n",
       "    <p style='font-family:\"Courier New\", Courier, monospace'>df5</p><div>\n",
       "<style scoped>\n",
       "    .dataframe tbody tr th:only-of-type {\n",
       "        vertical-align: middle;\n",
       "    }\n",
       "\n",
       "    .dataframe tbody tr th {\n",
       "        vertical-align: top;\n",
       "    }\n",
       "\n",
       "    .dataframe thead th {\n",
       "        text-align: right;\n",
       "    }\n",
       "</style>\n",
       "<table border=\"1\" class=\"dataframe\">\n",
       "  <thead>\n",
       "    <tr style=\"text-align: right;\">\n",
       "      <th></th>\n",
       "      <th>A</th>\n",
       "      <th>B</th>\n",
       "      <th>C</th>\n",
       "    </tr>\n",
       "  </thead>\n",
       "  <tbody>\n",
       "    <tr>\n",
       "      <td>1</td>\n",
       "      <td>A1</td>\n",
       "      <td>B1</td>\n",
       "      <td>C1</td>\n",
       "    </tr>\n",
       "    <tr>\n",
       "      <td>2</td>\n",
       "      <td>A2</td>\n",
       "      <td>B2</td>\n",
       "      <td>C2</td>\n",
       "    </tr>\n",
       "  </tbody>\n",
       "</table>\n",
       "</div>\n",
       "    </div>\n",
       "<div style=\"float: left; padding: 10px;\">\n",
       "    <p style='font-family:\"Courier New\", Courier, monospace'>df6</p><div>\n",
       "<style scoped>\n",
       "    .dataframe tbody tr th:only-of-type {\n",
       "        vertical-align: middle;\n",
       "    }\n",
       "\n",
       "    .dataframe tbody tr th {\n",
       "        vertical-align: top;\n",
       "    }\n",
       "\n",
       "    .dataframe thead th {\n",
       "        text-align: right;\n",
       "    }\n",
       "</style>\n",
       "<table border=\"1\" class=\"dataframe\">\n",
       "  <thead>\n",
       "    <tr style=\"text-align: right;\">\n",
       "      <th></th>\n",
       "      <th>B</th>\n",
       "      <th>C</th>\n",
       "      <th>D</th>\n",
       "    </tr>\n",
       "  </thead>\n",
       "  <tbody>\n",
       "    <tr>\n",
       "      <td>3</td>\n",
       "      <td>B3</td>\n",
       "      <td>C3</td>\n",
       "      <td>D3</td>\n",
       "    </tr>\n",
       "    <tr>\n",
       "      <td>4</td>\n",
       "      <td>B4</td>\n",
       "      <td>C4</td>\n",
       "      <td>D4</td>\n",
       "    </tr>\n",
       "  </tbody>\n",
       "</table>\n",
       "</div>\n",
       "    </div>\n",
       "<div style=\"float: left; padding: 10px;\">\n",
       "    <p style='font-family:\"Courier New\", Courier, monospace'>pd.concat([df5, df6], join='inner')</p><div>\n",
       "<style scoped>\n",
       "    .dataframe tbody tr th:only-of-type {\n",
       "        vertical-align: middle;\n",
       "    }\n",
       "\n",
       "    .dataframe tbody tr th {\n",
       "        vertical-align: top;\n",
       "    }\n",
       "\n",
       "    .dataframe thead th {\n",
       "        text-align: right;\n",
       "    }\n",
       "</style>\n",
       "<table border=\"1\" class=\"dataframe\">\n",
       "  <thead>\n",
       "    <tr style=\"text-align: right;\">\n",
       "      <th></th>\n",
       "      <th>B</th>\n",
       "      <th>C</th>\n",
       "    </tr>\n",
       "  </thead>\n",
       "  <tbody>\n",
       "    <tr>\n",
       "      <td>1</td>\n",
       "      <td>B1</td>\n",
       "      <td>C1</td>\n",
       "    </tr>\n",
       "    <tr>\n",
       "      <td>2</td>\n",
       "      <td>B2</td>\n",
       "      <td>C2</td>\n",
       "    </tr>\n",
       "    <tr>\n",
       "      <td>3</td>\n",
       "      <td>B3</td>\n",
       "      <td>C3</td>\n",
       "    </tr>\n",
       "    <tr>\n",
       "      <td>4</td>\n",
       "      <td>B4</td>\n",
       "      <td>C4</td>\n",
       "    </tr>\n",
       "  </tbody>\n",
       "</table>\n",
       "</div>\n",
       "    </div>"
      ],
      "text/plain": [
       "df5\n",
       "    A   B   C\n",
       "1  A1  B1  C1\n",
       "2  A2  B2  C2\n",
       "\n",
       "df6\n",
       "    B   C   D\n",
       "3  B3  C3  D3\n",
       "4  B4  C4  D4\n",
       "\n",
       "pd.concat([df5, df6], join='inner')\n",
       "    B   C\n",
       "1  B1  C1\n",
       "2  B2  C2\n",
       "3  B3  C3\n",
       "4  B4  C4"
      ]
     },
     "execution_count": 145,
     "metadata": {},
     "output_type": "execute_result"
    }
   ],
   "source": [
    "display('df5', 'df6', \"pd.concat([df5, df6], join='inner')\")"
   ]
  },
  {
   "cell_type": "code",
   "execution_count": 146,
   "metadata": {},
   "outputs": [
    {
     "name": "stderr",
     "output_type": "stream",
     "text": [
      "C:\\Users\\52477\\AppData\\Local\\Continuum\\anaconda3\\lib\\site-packages\\ipykernel_launcher.py:1: FutureWarning: The join_axes-keyword is deprecated. Use .reindex or .reindex_like on the result to achieve the same functionality.\n",
      "  \"\"\"Entry point for launching an IPython kernel.\n"
     ]
    },
    {
     "data": {
      "text/html": [
       "<div style=\"float: left; padding: 10px;\">\n",
       "    <p style='font-family:\"Courier New\", Courier, monospace'>df5</p><div>\n",
       "<style scoped>\n",
       "    .dataframe tbody tr th:only-of-type {\n",
       "        vertical-align: middle;\n",
       "    }\n",
       "\n",
       "    .dataframe tbody tr th {\n",
       "        vertical-align: top;\n",
       "    }\n",
       "\n",
       "    .dataframe thead th {\n",
       "        text-align: right;\n",
       "    }\n",
       "</style>\n",
       "<table border=\"1\" class=\"dataframe\">\n",
       "  <thead>\n",
       "    <tr style=\"text-align: right;\">\n",
       "      <th></th>\n",
       "      <th>A</th>\n",
       "      <th>B</th>\n",
       "      <th>C</th>\n",
       "    </tr>\n",
       "  </thead>\n",
       "  <tbody>\n",
       "    <tr>\n",
       "      <td>1</td>\n",
       "      <td>A1</td>\n",
       "      <td>B1</td>\n",
       "      <td>C1</td>\n",
       "    </tr>\n",
       "    <tr>\n",
       "      <td>2</td>\n",
       "      <td>A2</td>\n",
       "      <td>B2</td>\n",
       "      <td>C2</td>\n",
       "    </tr>\n",
       "  </tbody>\n",
       "</table>\n",
       "</div>\n",
       "    </div>\n",
       "<div style=\"float: left; padding: 10px;\">\n",
       "    <p style='font-family:\"Courier New\", Courier, monospace'>df6</p><div>\n",
       "<style scoped>\n",
       "    .dataframe tbody tr th:only-of-type {\n",
       "        vertical-align: middle;\n",
       "    }\n",
       "\n",
       "    .dataframe tbody tr th {\n",
       "        vertical-align: top;\n",
       "    }\n",
       "\n",
       "    .dataframe thead th {\n",
       "        text-align: right;\n",
       "    }\n",
       "</style>\n",
       "<table border=\"1\" class=\"dataframe\">\n",
       "  <thead>\n",
       "    <tr style=\"text-align: right;\">\n",
       "      <th></th>\n",
       "      <th>B</th>\n",
       "      <th>C</th>\n",
       "      <th>D</th>\n",
       "    </tr>\n",
       "  </thead>\n",
       "  <tbody>\n",
       "    <tr>\n",
       "      <td>3</td>\n",
       "      <td>B3</td>\n",
       "      <td>C3</td>\n",
       "      <td>D3</td>\n",
       "    </tr>\n",
       "    <tr>\n",
       "      <td>4</td>\n",
       "      <td>B4</td>\n",
       "      <td>C4</td>\n",
       "      <td>D4</td>\n",
       "    </tr>\n",
       "  </tbody>\n",
       "</table>\n",
       "</div>\n",
       "    </div>\n",
       "<div style=\"float: left; padding: 10px;\">\n",
       "    <p style='font-family:\"Courier New\", Courier, monospace'>pd.concat([df5, df6], join_axes=[df5.columns])</p><div>\n",
       "<style scoped>\n",
       "    .dataframe tbody tr th:only-of-type {\n",
       "        vertical-align: middle;\n",
       "    }\n",
       "\n",
       "    .dataframe tbody tr th {\n",
       "        vertical-align: top;\n",
       "    }\n",
       "\n",
       "    .dataframe thead th {\n",
       "        text-align: right;\n",
       "    }\n",
       "</style>\n",
       "<table border=\"1\" class=\"dataframe\">\n",
       "  <thead>\n",
       "    <tr style=\"text-align: right;\">\n",
       "      <th></th>\n",
       "      <th>A</th>\n",
       "      <th>B</th>\n",
       "      <th>C</th>\n",
       "    </tr>\n",
       "  </thead>\n",
       "  <tbody>\n",
       "    <tr>\n",
       "      <td>1</td>\n",
       "      <td>A1</td>\n",
       "      <td>B1</td>\n",
       "      <td>C1</td>\n",
       "    </tr>\n",
       "    <tr>\n",
       "      <td>2</td>\n",
       "      <td>A2</td>\n",
       "      <td>B2</td>\n",
       "      <td>C2</td>\n",
       "    </tr>\n",
       "    <tr>\n",
       "      <td>3</td>\n",
       "      <td>NaN</td>\n",
       "      <td>B3</td>\n",
       "      <td>C3</td>\n",
       "    </tr>\n",
       "    <tr>\n",
       "      <td>4</td>\n",
       "      <td>NaN</td>\n",
       "      <td>B4</td>\n",
       "      <td>C4</td>\n",
       "    </tr>\n",
       "  </tbody>\n",
       "</table>\n",
       "</div>\n",
       "    </div>"
      ],
      "text/plain": [
       "df5\n",
       "    A   B   C\n",
       "1  A1  B1  C1\n",
       "2  A2  B2  C2\n",
       "\n",
       "df6\n",
       "    B   C   D\n",
       "3  B3  C3  D3\n",
       "4  B4  C4  D4\n",
       "\n",
       "pd.concat([df5, df6], join_axes=[df5.columns])\n",
       "     A   B   C\n",
       "1   A1  B1  C1\n",
       "2   A2  B2  C2\n",
       "3  NaN  B3  C3\n",
       "4  NaN  B4  C4"
      ]
     },
     "execution_count": 146,
     "metadata": {},
     "output_type": "execute_result"
    }
   ],
   "source": [
    "display('df5', 'df6',\n",
    "        \"pd.concat([df5, df6], join_axes=[df5.columns])\")"
   ]
  },
  {
   "cell_type": "markdown",
   "metadata": {},
   "source": [
    "## The .append() method"
   ]
  },
  {
   "cell_type": "code",
   "execution_count": 147,
   "metadata": {},
   "outputs": [
    {
     "data": {
      "text/html": [
       "<div style=\"float: left; padding: 10px;\">\n",
       "    <p style='font-family:\"Courier New\", Courier, monospace'>df1</p><div>\n",
       "<style scoped>\n",
       "    .dataframe tbody tr th:only-of-type {\n",
       "        vertical-align: middle;\n",
       "    }\n",
       "\n",
       "    .dataframe tbody tr th {\n",
       "        vertical-align: top;\n",
       "    }\n",
       "\n",
       "    .dataframe thead th {\n",
       "        text-align: right;\n",
       "    }\n",
       "</style>\n",
       "<table border=\"1\" class=\"dataframe\">\n",
       "  <thead>\n",
       "    <tr style=\"text-align: right;\">\n",
       "      <th></th>\n",
       "      <th>A</th>\n",
       "      <th>B</th>\n",
       "    </tr>\n",
       "  </thead>\n",
       "  <tbody>\n",
       "    <tr>\n",
       "      <td>1</td>\n",
       "      <td>A1</td>\n",
       "      <td>B1</td>\n",
       "    </tr>\n",
       "    <tr>\n",
       "      <td>2</td>\n",
       "      <td>A2</td>\n",
       "      <td>B2</td>\n",
       "    </tr>\n",
       "  </tbody>\n",
       "</table>\n",
       "</div>\n",
       "    </div>\n",
       "<div style=\"float: left; padding: 10px;\">\n",
       "    <p style='font-family:\"Courier New\", Courier, monospace'>df2</p><div>\n",
       "<style scoped>\n",
       "    .dataframe tbody tr th:only-of-type {\n",
       "        vertical-align: middle;\n",
       "    }\n",
       "\n",
       "    .dataframe tbody tr th {\n",
       "        vertical-align: top;\n",
       "    }\n",
       "\n",
       "    .dataframe thead th {\n",
       "        text-align: right;\n",
       "    }\n",
       "</style>\n",
       "<table border=\"1\" class=\"dataframe\">\n",
       "  <thead>\n",
       "    <tr style=\"text-align: right;\">\n",
       "      <th></th>\n",
       "      <th>A</th>\n",
       "      <th>B</th>\n",
       "    </tr>\n",
       "  </thead>\n",
       "  <tbody>\n",
       "    <tr>\n",
       "      <td>3</td>\n",
       "      <td>A3</td>\n",
       "      <td>B3</td>\n",
       "    </tr>\n",
       "    <tr>\n",
       "      <td>4</td>\n",
       "      <td>A4</td>\n",
       "      <td>B4</td>\n",
       "    </tr>\n",
       "  </tbody>\n",
       "</table>\n",
       "</div>\n",
       "    </div>\n",
       "<div style=\"float: left; padding: 10px;\">\n",
       "    <p style='font-family:\"Courier New\", Courier, monospace'>df1.append(df2)</p><div>\n",
       "<style scoped>\n",
       "    .dataframe tbody tr th:only-of-type {\n",
       "        vertical-align: middle;\n",
       "    }\n",
       "\n",
       "    .dataframe tbody tr th {\n",
       "        vertical-align: top;\n",
       "    }\n",
       "\n",
       "    .dataframe thead th {\n",
       "        text-align: right;\n",
       "    }\n",
       "</style>\n",
       "<table border=\"1\" class=\"dataframe\">\n",
       "  <thead>\n",
       "    <tr style=\"text-align: right;\">\n",
       "      <th></th>\n",
       "      <th>A</th>\n",
       "      <th>B</th>\n",
       "    </tr>\n",
       "  </thead>\n",
       "  <tbody>\n",
       "    <tr>\n",
       "      <td>1</td>\n",
       "      <td>A1</td>\n",
       "      <td>B1</td>\n",
       "    </tr>\n",
       "    <tr>\n",
       "      <td>2</td>\n",
       "      <td>A2</td>\n",
       "      <td>B2</td>\n",
       "    </tr>\n",
       "    <tr>\n",
       "      <td>3</td>\n",
       "      <td>A3</td>\n",
       "      <td>B3</td>\n",
       "    </tr>\n",
       "    <tr>\n",
       "      <td>4</td>\n",
       "      <td>A4</td>\n",
       "      <td>B4</td>\n",
       "    </tr>\n",
       "  </tbody>\n",
       "</table>\n",
       "</div>\n",
       "    </div>"
      ],
      "text/plain": [
       "df1\n",
       "    A   B\n",
       "1  A1  B1\n",
       "2  A2  B2\n",
       "\n",
       "df2\n",
       "    A   B\n",
       "3  A3  B3\n",
       "4  A4  B4\n",
       "\n",
       "df1.append(df2)\n",
       "    A   B\n",
       "1  A1  B1\n",
       "2  A2  B2\n",
       "3  A3  B3\n",
       "4  A4  B4"
      ]
     },
     "execution_count": 147,
     "metadata": {},
     "output_type": "execute_result"
    }
   ],
   "source": [
    "display('df1', 'df2', 'df1.append(df2)')"
   ]
  },
  {
   "cell_type": "markdown",
   "metadata": {},
   "source": [
    "# Combining Datasets: Merge and Join"
   ]
  },
  {
   "cell_type": "code",
   "execution_count": 1,
   "metadata": {},
   "outputs": [],
   "source": [
    "import pandas as pd\n",
    "import numpy as np\n",
    "\n",
    "class display(object):\n",
    "    \"\"\"Display HTML representation of multiple objects\"\"\"\n",
    "    template = \"\"\"<div style=\"float: left; padding: 10px;\">\n",
    "    <p style='font-family:\"Courier New\", Courier, monospace'>{0}</p>{1}\n",
    "    </div>\"\"\"\n",
    "    def __init__(self, *args):\n",
    "        self.args = args\n",
    "        \n",
    "    def _repr_html_(self):\n",
    "        return '\\n'.join(self.template.format(a, eval(a)._repr_html_())\n",
    "                         for a in self.args)\n",
    "    \n",
    "    def __repr__(self):\n",
    "        return '\\n\\n'.join(a + '\\n' + repr(eval(a))\n",
    "                           for a in self.args)"
   ]
  },
  {
   "cell_type": "markdown",
   "metadata": {},
   "source": [
    "## Relational Algebra: Categories of Joins\n",
    "### One-to-one Joins"
   ]
  },
  {
   "cell_type": "code",
   "execution_count": 40,
   "metadata": {},
   "outputs": [
    {
     "data": {
      "text/html": [
       "<div>\n",
       "<style scoped>\n",
       "    .dataframe tbody tr th:only-of-type {\n",
       "        vertical-align: middle;\n",
       "    }\n",
       "\n",
       "    .dataframe tbody tr th {\n",
       "        vertical-align: top;\n",
       "    }\n",
       "\n",
       "    .dataframe thead th {\n",
       "        text-align: right;\n",
       "    }\n",
       "</style>\n",
       "<table border=\"1\" class=\"dataframe\">\n",
       "  <thead>\n",
       "    <tr style=\"text-align: right;\">\n",
       "      <th></th>\n",
       "      <th>LL 2018</th>\n",
       "      <th>2019</th>\n",
       "    </tr>\n",
       "    <tr>\n",
       "      <th>NOMBRE</th>\n",
       "      <th></th>\n",
       "      <th></th>\n",
       "    </tr>\n",
       "  </thead>\n",
       "  <tbody>\n",
       "    <tr>\n",
       "      <td>Aguascalientes, Ags.</td>\n",
       "      <td>25.8</td>\n",
       "      <td>6.61</td>\n",
       "    </tr>\n",
       "    <tr>\n",
       "      <td>Cincuenta Aniversario, Ags.</td>\n",
       "      <td>58.6</td>\n",
       "      <td>10.60</td>\n",
       "    </tr>\n",
       "    <tr>\n",
       "      <td>Calvillo, Ags. SMN*</td>\n",
       "      <td>56.0</td>\n",
       "      <td>10.50</td>\n",
       "    </tr>\n",
       "    <tr>\n",
       "      <td>La Codorniz, Ags.</td>\n",
       "      <td>50.0</td>\n",
       "      <td>18.17</td>\n",
       "    </tr>\n",
       "    <tr>\n",
       "      <td>Cañada Honda, Ags.</td>\n",
       "      <td>17.2</td>\n",
       "      <td>16.70</td>\n",
       "    </tr>\n",
       "    <tr>\n",
       "      <td>Calvillito, Ags.</td>\n",
       "      <td>13.5</td>\n",
       "      <td>17.30</td>\n",
       "    </tr>\n",
       "    <tr>\n",
       "      <td>Los Conos, Ags.</td>\n",
       "      <td>51.5</td>\n",
       "      <td>9.20</td>\n",
       "    </tr>\n",
       "    <tr>\n",
       "      <td>Cosio, Ags.</td>\n",
       "      <td>35.5</td>\n",
       "      <td>13.20</td>\n",
       "    </tr>\n",
       "    <tr>\n",
       "      <td>Media Luna, Ags.</td>\n",
       "      <td>48.9</td>\n",
       "      <td>7.20</td>\n",
       "    </tr>\n",
       "    <tr>\n",
       "      <td>El Niagara, Ags.</td>\n",
       "      <td>25.4</td>\n",
       "      <td>6.30</td>\n",
       "    </tr>\n",
       "    <tr>\n",
       "      <td>Observatorio, Ags.</td>\n",
       "      <td>20.9</td>\n",
       "      <td>24.30</td>\n",
       "    </tr>\n",
       "    <tr>\n",
       "      <td>Presa 50 Aniversario, Ags. SMN*</td>\n",
       "      <td>57.2</td>\n",
       "      <td>5.51</td>\n",
       "    </tr>\n",
       "    <tr>\n",
       "      <td>Palo Alto, Ags.</td>\n",
       "      <td>19.0</td>\n",
       "      <td>15.50</td>\n",
       "    </tr>\n",
       "    <tr>\n",
       "      <td>Pabellón, Ags.</td>\n",
       "      <td>22.0</td>\n",
       "      <td>8.71</td>\n",
       "    </tr>\n",
       "    <tr>\n",
       "      <td>Calles, Ags.</td>\n",
       "      <td>50.0</td>\n",
       "      <td>10.40</td>\n",
       "    </tr>\n",
       "  </tbody>\n",
       "</table>\n",
       "</div>"
      ],
      "text/plain": [
       "                                 LL 2018   2019\n",
       "NOMBRE                                         \n",
       "Aguascalientes, Ags.                25.8   6.61\n",
       "Cincuenta Aniversario, Ags.         58.6  10.60\n",
       "Calvillo, Ags. SMN*                 56.0  10.50\n",
       "La Codorniz, Ags.                   50.0  18.17\n",
       "Cañada Honda, Ags.                  17.2  16.70\n",
       "Calvillito, Ags.                    13.5  17.30\n",
       "Los Conos, Ags.                     51.5   9.20\n",
       "Cosio, Ags.                         35.5  13.20\n",
       "Media Luna, Ags.                    48.9   7.20\n",
       "El Niagara, Ags.                    25.4   6.30\n",
       "Observatorio, Ags.                  20.9  24.30\n",
       "Presa 50 Aniversario, Ags. SMN*     57.2   5.51\n",
       "Palo Alto, Ags.                     19.0  15.50\n",
       "Pabellón, Ags.                      22.0   8.71\n",
       "Calles, Ags.                        50.0  10.40"
      ]
     },
     "execution_count": 40,
     "metadata": {},
     "output_type": "execute_result"
    }
   ],
   "source": [
    "rainSer8 = pd.Series(rains2018.ENE[0:15])\n",
    "rainSer8.index = rains2018.NOMBRE[0:15]\n",
    "\n",
    "rainSer9 = pd.Series(rains2019.ENE[0:15])\n",
    "rainSer9.index = rains2018.NOMBRE[0:15]\n",
    "\n",
    "rainDf = pd.DataFrame({'LL 2018': rainSer8, '2019': rainSer9})\n",
    "rainDf"
   ]
  },
  {
   "cell_type": "code",
   "execution_count": 41,
   "metadata": {},
   "outputs": [
    {
     "data": {
      "text/html": [
       "<div>\n",
       "<style scoped>\n",
       "    .dataframe tbody tr th:only-of-type {\n",
       "        vertical-align: middle;\n",
       "    }\n",
       "\n",
       "    .dataframe tbody tr th {\n",
       "        vertical-align: top;\n",
       "    }\n",
       "\n",
       "    .dataframe thead th {\n",
       "        text-align: right;\n",
       "    }\n",
       "</style>\n",
       "<table border=\"1\" class=\"dataframe\">\n",
       "  <thead>\n",
       "    <tr style=\"text-align: right;\">\n",
       "      <th></th>\n",
       "      <th>AT 2018</th>\n",
       "      <th>2019</th>\n",
       "    </tr>\n",
       "    <tr>\n",
       "      <th>NOMBRE</th>\n",
       "      <th></th>\n",
       "      <th></th>\n",
       "    </tr>\n",
       "  </thead>\n",
       "  <tbody>\n",
       "    <tr>\n",
       "      <td>Aguascalientes, Ags.</td>\n",
       "      <td>16.2</td>\n",
       "      <td>27.441935</td>\n",
       "    </tr>\n",
       "    <tr>\n",
       "      <td>Cincuenta Aniversario, Ags.</td>\n",
       "      <td>15.0</td>\n",
       "      <td>13.462069</td>\n",
       "    </tr>\n",
       "    <tr>\n",
       "      <td>Calvillo, Ags. SMN*</td>\n",
       "      <td>16.7</td>\n",
       "      <td>28.088710</td>\n",
       "    </tr>\n",
       "    <tr>\n",
       "      <td>La Codorniz, Ags.</td>\n",
       "      <td>12.3</td>\n",
       "      <td>23.374074</td>\n",
       "    </tr>\n",
       "    <tr>\n",
       "      <td>Cañada Honda, Ags.</td>\n",
       "      <td>21.2</td>\n",
       "      <td>17.987097</td>\n",
       "    </tr>\n",
       "    <tr>\n",
       "      <td>Calvillito, Ags.</td>\n",
       "      <td>15.0</td>\n",
       "      <td>14.730357</td>\n",
       "    </tr>\n",
       "    <tr>\n",
       "      <td>Los Conos, Ags.</td>\n",
       "      <td>27.2</td>\n",
       "      <td>16.614000</td>\n",
       "    </tr>\n",
       "    <tr>\n",
       "      <td>Cosio, Ags.</td>\n",
       "      <td>25.4</td>\n",
       "      <td>15.850000</td>\n",
       "    </tr>\n",
       "    <tr>\n",
       "      <td>Media Luna, Ags.</td>\n",
       "      <td>12.8</td>\n",
       "      <td>24.151613</td>\n",
       "    </tr>\n",
       "    <tr>\n",
       "      <td>El Niagara, Ags.</td>\n",
       "      <td>12.8</td>\n",
       "      <td>11.682258</td>\n",
       "    </tr>\n",
       "    <tr>\n",
       "      <td>Observatorio, Ags.</td>\n",
       "      <td>14.8</td>\n",
       "      <td>16.250000</td>\n",
       "    </tr>\n",
       "    <tr>\n",
       "      <td>Presa 50 Aniversario, Ags. SMN*</td>\n",
       "      <td>13.3</td>\n",
       "      <td>23.260000</td>\n",
       "    </tr>\n",
       "    <tr>\n",
       "      <td>Palo Alto, Ags.</td>\n",
       "      <td>20.0</td>\n",
       "      <td>17.741935</td>\n",
       "    </tr>\n",
       "    <tr>\n",
       "      <td>Pabellón, Ags.</td>\n",
       "      <td>20.1</td>\n",
       "      <td>18.038889</td>\n",
       "    </tr>\n",
       "    <tr>\n",
       "      <td>Calles, Ags.</td>\n",
       "      <td>21.3</td>\n",
       "      <td>14.440323</td>\n",
       "    </tr>\n",
       "  </tbody>\n",
       "</table>\n",
       "</div>"
      ],
      "text/plain": [
       "                                 AT 2018       2019\n",
       "NOMBRE                                             \n",
       "Aguascalientes, Ags.                16.2  27.441935\n",
       "Cincuenta Aniversario, Ags.         15.0  13.462069\n",
       "Calvillo, Ags. SMN*                 16.7  28.088710\n",
       "La Codorniz, Ags.                   12.3  23.374074\n",
       "Cañada Honda, Ags.                  21.2  17.987097\n",
       "Calvillito, Ags.                    15.0  14.730357\n",
       "Los Conos, Ags.                     27.2  16.614000\n",
       "Cosio, Ags.                         25.4  15.850000\n",
       "Media Luna, Ags.                    12.8  24.151613\n",
       "El Niagara, Ags.                    12.8  11.682258\n",
       "Observatorio, Ags.                  14.8  16.250000\n",
       "Presa 50 Aniversario, Ags. SMN*     13.3  23.260000\n",
       "Palo Alto, Ags.                     20.0  17.741935\n",
       "Pabellón, Ags.                      20.1  18.038889\n",
       "Calles, Ags.                        21.3  14.440323"
      ]
     },
     "execution_count": 41,
     "metadata": {},
     "output_type": "execute_result"
    }
   ],
   "source": [
    "avgTempSer8 = pd.Series(avgtemp2018.Tmed[0:15])\n",
    "avgTempSer8.index = rains2018.NOMBRE[0:15]\n",
    "\n",
    "avgTempSer9 = pd.Series(avgtemp2019.Tmed[0:15])\n",
    "avgTempSer9.index = rains2018.NOMBRE[0:15]\n",
    "\n",
    "avgTempDf = pd.DataFrame({'AT 2018': avgTempSer8, '2019': avgTempSer9})\n",
    "avgTempDf"
   ]
  },
  {
   "cell_type": "code",
   "execution_count": 42,
   "metadata": {},
   "outputs": [
    {
     "data": {
      "text/html": [
       "<div style=\"float: left; padding: 10px;\">\n",
       "    <p style='font-family:\"Courier New\", Courier, monospace'>rainDf</p><div>\n",
       "<style scoped>\n",
       "    .dataframe tbody tr th:only-of-type {\n",
       "        vertical-align: middle;\n",
       "    }\n",
       "\n",
       "    .dataframe tbody tr th {\n",
       "        vertical-align: top;\n",
       "    }\n",
       "\n",
       "    .dataframe thead th {\n",
       "        text-align: right;\n",
       "    }\n",
       "</style>\n",
       "<table border=\"1\" class=\"dataframe\">\n",
       "  <thead>\n",
       "    <tr style=\"text-align: right;\">\n",
       "      <th></th>\n",
       "      <th>LL 2018</th>\n",
       "      <th>2019</th>\n",
       "    </tr>\n",
       "    <tr>\n",
       "      <th>NOMBRE</th>\n",
       "      <th></th>\n",
       "      <th></th>\n",
       "    </tr>\n",
       "  </thead>\n",
       "  <tbody>\n",
       "    <tr>\n",
       "      <td>Aguascalientes, Ags.</td>\n",
       "      <td>25.8</td>\n",
       "      <td>6.61</td>\n",
       "    </tr>\n",
       "    <tr>\n",
       "      <td>Cincuenta Aniversario, Ags.</td>\n",
       "      <td>58.6</td>\n",
       "      <td>10.60</td>\n",
       "    </tr>\n",
       "    <tr>\n",
       "      <td>Calvillo, Ags. SMN*</td>\n",
       "      <td>56.0</td>\n",
       "      <td>10.50</td>\n",
       "    </tr>\n",
       "    <tr>\n",
       "      <td>La Codorniz, Ags.</td>\n",
       "      <td>50.0</td>\n",
       "      <td>18.17</td>\n",
       "    </tr>\n",
       "    <tr>\n",
       "      <td>Cañada Honda, Ags.</td>\n",
       "      <td>17.2</td>\n",
       "      <td>16.70</td>\n",
       "    </tr>\n",
       "    <tr>\n",
       "      <td>Calvillito, Ags.</td>\n",
       "      <td>13.5</td>\n",
       "      <td>17.30</td>\n",
       "    </tr>\n",
       "    <tr>\n",
       "      <td>Los Conos, Ags.</td>\n",
       "      <td>51.5</td>\n",
       "      <td>9.20</td>\n",
       "    </tr>\n",
       "    <tr>\n",
       "      <td>Cosio, Ags.</td>\n",
       "      <td>35.5</td>\n",
       "      <td>13.20</td>\n",
       "    </tr>\n",
       "    <tr>\n",
       "      <td>Media Luna, Ags.</td>\n",
       "      <td>48.9</td>\n",
       "      <td>7.20</td>\n",
       "    </tr>\n",
       "    <tr>\n",
       "      <td>El Niagara, Ags.</td>\n",
       "      <td>25.4</td>\n",
       "      <td>6.30</td>\n",
       "    </tr>\n",
       "    <tr>\n",
       "      <td>Observatorio, Ags.</td>\n",
       "      <td>20.9</td>\n",
       "      <td>24.30</td>\n",
       "    </tr>\n",
       "    <tr>\n",
       "      <td>Presa 50 Aniversario, Ags. SMN*</td>\n",
       "      <td>57.2</td>\n",
       "      <td>5.51</td>\n",
       "    </tr>\n",
       "    <tr>\n",
       "      <td>Palo Alto, Ags.</td>\n",
       "      <td>19.0</td>\n",
       "      <td>15.50</td>\n",
       "    </tr>\n",
       "    <tr>\n",
       "      <td>Pabellón, Ags.</td>\n",
       "      <td>22.0</td>\n",
       "      <td>8.71</td>\n",
       "    </tr>\n",
       "    <tr>\n",
       "      <td>Calles, Ags.</td>\n",
       "      <td>50.0</td>\n",
       "      <td>10.40</td>\n",
       "    </tr>\n",
       "  </tbody>\n",
       "</table>\n",
       "</div>\n",
       "    </div>\n",
       "<div style=\"float: left; padding: 10px;\">\n",
       "    <p style='font-family:\"Courier New\", Courier, monospace'>avgTempDf</p><div>\n",
       "<style scoped>\n",
       "    .dataframe tbody tr th:only-of-type {\n",
       "        vertical-align: middle;\n",
       "    }\n",
       "\n",
       "    .dataframe tbody tr th {\n",
       "        vertical-align: top;\n",
       "    }\n",
       "\n",
       "    .dataframe thead th {\n",
       "        text-align: right;\n",
       "    }\n",
       "</style>\n",
       "<table border=\"1\" class=\"dataframe\">\n",
       "  <thead>\n",
       "    <tr style=\"text-align: right;\">\n",
       "      <th></th>\n",
       "      <th>AT 2018</th>\n",
       "      <th>2019</th>\n",
       "    </tr>\n",
       "    <tr>\n",
       "      <th>NOMBRE</th>\n",
       "      <th></th>\n",
       "      <th></th>\n",
       "    </tr>\n",
       "  </thead>\n",
       "  <tbody>\n",
       "    <tr>\n",
       "      <td>Aguascalientes, Ags.</td>\n",
       "      <td>16.2</td>\n",
       "      <td>27.441935</td>\n",
       "    </tr>\n",
       "    <tr>\n",
       "      <td>Cincuenta Aniversario, Ags.</td>\n",
       "      <td>15.0</td>\n",
       "      <td>13.462069</td>\n",
       "    </tr>\n",
       "    <tr>\n",
       "      <td>Calvillo, Ags. SMN*</td>\n",
       "      <td>16.7</td>\n",
       "      <td>28.088710</td>\n",
       "    </tr>\n",
       "    <tr>\n",
       "      <td>La Codorniz, Ags.</td>\n",
       "      <td>12.3</td>\n",
       "      <td>23.374074</td>\n",
       "    </tr>\n",
       "    <tr>\n",
       "      <td>Cañada Honda, Ags.</td>\n",
       "      <td>21.2</td>\n",
       "      <td>17.987097</td>\n",
       "    </tr>\n",
       "    <tr>\n",
       "      <td>Calvillito, Ags.</td>\n",
       "      <td>15.0</td>\n",
       "      <td>14.730357</td>\n",
       "    </tr>\n",
       "    <tr>\n",
       "      <td>Los Conos, Ags.</td>\n",
       "      <td>27.2</td>\n",
       "      <td>16.614000</td>\n",
       "    </tr>\n",
       "    <tr>\n",
       "      <td>Cosio, Ags.</td>\n",
       "      <td>25.4</td>\n",
       "      <td>15.850000</td>\n",
       "    </tr>\n",
       "    <tr>\n",
       "      <td>Media Luna, Ags.</td>\n",
       "      <td>12.8</td>\n",
       "      <td>24.151613</td>\n",
       "    </tr>\n",
       "    <tr>\n",
       "      <td>El Niagara, Ags.</td>\n",
       "      <td>12.8</td>\n",
       "      <td>11.682258</td>\n",
       "    </tr>\n",
       "    <tr>\n",
       "      <td>Observatorio, Ags.</td>\n",
       "      <td>14.8</td>\n",
       "      <td>16.250000</td>\n",
       "    </tr>\n",
       "    <tr>\n",
       "      <td>Presa 50 Aniversario, Ags. SMN*</td>\n",
       "      <td>13.3</td>\n",
       "      <td>23.260000</td>\n",
       "    </tr>\n",
       "    <tr>\n",
       "      <td>Palo Alto, Ags.</td>\n",
       "      <td>20.0</td>\n",
       "      <td>17.741935</td>\n",
       "    </tr>\n",
       "    <tr>\n",
       "      <td>Pabellón, Ags.</td>\n",
       "      <td>20.1</td>\n",
       "      <td>18.038889</td>\n",
       "    </tr>\n",
       "    <tr>\n",
       "      <td>Calles, Ags.</td>\n",
       "      <td>21.3</td>\n",
       "      <td>14.440323</td>\n",
       "    </tr>\n",
       "  </tbody>\n",
       "</table>\n",
       "</div>\n",
       "    </div>"
      ],
      "text/plain": [
       "rainDf\n",
       "                                 LL 2018   2019\n",
       "NOMBRE                                         \n",
       "Aguascalientes, Ags.                25.8   6.61\n",
       "Cincuenta Aniversario, Ags.         58.6  10.60\n",
       "Calvillo, Ags. SMN*                 56.0  10.50\n",
       "La Codorniz, Ags.                   50.0  18.17\n",
       "Cañada Honda, Ags.                  17.2  16.70\n",
       "Calvillito, Ags.                    13.5  17.30\n",
       "Los Conos, Ags.                     51.5   9.20\n",
       "Cosio, Ags.                         35.5  13.20\n",
       "Media Luna, Ags.                    48.9   7.20\n",
       "El Niagara, Ags.                    25.4   6.30\n",
       "Observatorio, Ags.                  20.9  24.30\n",
       "Presa 50 Aniversario, Ags. SMN*     57.2   5.51\n",
       "Palo Alto, Ags.                     19.0  15.50\n",
       "Pabellón, Ags.                      22.0   8.71\n",
       "Calles, Ags.                        50.0  10.40\n",
       "\n",
       "avgTempDf\n",
       "                                 AT 2018       2019\n",
       "NOMBRE                                             \n",
       "Aguascalientes, Ags.                16.2  27.441935\n",
       "Cincuenta Aniversario, Ags.         15.0  13.462069\n",
       "Calvillo, Ags. SMN*                 16.7  28.088710\n",
       "La Codorniz, Ags.                   12.3  23.374074\n",
       "Cañada Honda, Ags.                  21.2  17.987097\n",
       "Calvillito, Ags.                    15.0  14.730357\n",
       "Los Conos, Ags.                     27.2  16.614000\n",
       "Cosio, Ags.                         25.4  15.850000\n",
       "Media Luna, Ags.                    12.8  24.151613\n",
       "El Niagara, Ags.                    12.8  11.682258\n",
       "Observatorio, Ags.                  14.8  16.250000\n",
       "Presa 50 Aniversario, Ags. SMN*     13.3  23.260000\n",
       "Palo Alto, Ags.                     20.0  17.741935\n",
       "Pabellón, Ags.                      20.1  18.038889\n",
       "Calles, Ags.                        21.3  14.440323"
      ]
     },
     "execution_count": 42,
     "metadata": {},
     "output_type": "execute_result"
    }
   ],
   "source": [
    "display('rainDf', 'avgTempDf')"
   ]
  },
  {
   "cell_type": "code",
   "execution_count": 48,
   "metadata": {},
   "outputs": [
    {
     "data": {
      "text/html": [
       "<div style=\"float: left; padding: 10px;\">\n",
       "    <p style='font-family:\"Courier New\", Courier, monospace'>rainDf</p><div>\n",
       "<style scoped>\n",
       "    .dataframe tbody tr th:only-of-type {\n",
       "        vertical-align: middle;\n",
       "    }\n",
       "\n",
       "    .dataframe tbody tr th {\n",
       "        vertical-align: top;\n",
       "    }\n",
       "\n",
       "    .dataframe thead th {\n",
       "        text-align: right;\n",
       "    }\n",
       "</style>\n",
       "<table border=\"1\" class=\"dataframe\">\n",
       "  <thead>\n",
       "    <tr style=\"text-align: right;\">\n",
       "      <th></th>\n",
       "      <th>LL 2018</th>\n",
       "      <th>2019</th>\n",
       "    </tr>\n",
       "    <tr>\n",
       "      <th>NOMBRE</th>\n",
       "      <th></th>\n",
       "      <th></th>\n",
       "    </tr>\n",
       "  </thead>\n",
       "  <tbody>\n",
       "    <tr>\n",
       "      <td>Aguascalientes, Ags.</td>\n",
       "      <td>25.8</td>\n",
       "      <td>6.61</td>\n",
       "    </tr>\n",
       "    <tr>\n",
       "      <td>Cincuenta Aniversario, Ags.</td>\n",
       "      <td>58.6</td>\n",
       "      <td>10.60</td>\n",
       "    </tr>\n",
       "    <tr>\n",
       "      <td>Calvillo, Ags. SMN*</td>\n",
       "      <td>56.0</td>\n",
       "      <td>10.50</td>\n",
       "    </tr>\n",
       "    <tr>\n",
       "      <td>La Codorniz, Ags.</td>\n",
       "      <td>50.0</td>\n",
       "      <td>18.17</td>\n",
       "    </tr>\n",
       "    <tr>\n",
       "      <td>Cañada Honda, Ags.</td>\n",
       "      <td>17.2</td>\n",
       "      <td>16.70</td>\n",
       "    </tr>\n",
       "    <tr>\n",
       "      <td>Calvillito, Ags.</td>\n",
       "      <td>13.5</td>\n",
       "      <td>17.30</td>\n",
       "    </tr>\n",
       "    <tr>\n",
       "      <td>Los Conos, Ags.</td>\n",
       "      <td>51.5</td>\n",
       "      <td>9.20</td>\n",
       "    </tr>\n",
       "    <tr>\n",
       "      <td>Cosio, Ags.</td>\n",
       "      <td>35.5</td>\n",
       "      <td>13.20</td>\n",
       "    </tr>\n",
       "    <tr>\n",
       "      <td>Media Luna, Ags.</td>\n",
       "      <td>48.9</td>\n",
       "      <td>7.20</td>\n",
       "    </tr>\n",
       "    <tr>\n",
       "      <td>El Niagara, Ags.</td>\n",
       "      <td>25.4</td>\n",
       "      <td>6.30</td>\n",
       "    </tr>\n",
       "    <tr>\n",
       "      <td>Observatorio, Ags.</td>\n",
       "      <td>20.9</td>\n",
       "      <td>24.30</td>\n",
       "    </tr>\n",
       "    <tr>\n",
       "      <td>Presa 50 Aniversario, Ags. SMN*</td>\n",
       "      <td>57.2</td>\n",
       "      <td>5.51</td>\n",
       "    </tr>\n",
       "    <tr>\n",
       "      <td>Palo Alto, Ags.</td>\n",
       "      <td>19.0</td>\n",
       "      <td>15.50</td>\n",
       "    </tr>\n",
       "    <tr>\n",
       "      <td>Pabellón, Ags.</td>\n",
       "      <td>22.0</td>\n",
       "      <td>8.71</td>\n",
       "    </tr>\n",
       "    <tr>\n",
       "      <td>Calles, Ags.</td>\n",
       "      <td>50.0</td>\n",
       "      <td>10.40</td>\n",
       "    </tr>\n",
       "  </tbody>\n",
       "</table>\n",
       "</div>\n",
       "    </div>\n",
       "<div style=\"float: left; padding: 10px;\">\n",
       "    <p style='font-family:\"Courier New\", Courier, monospace'>avgTempDf</p><div>\n",
       "<style scoped>\n",
       "    .dataframe tbody tr th:only-of-type {\n",
       "        vertical-align: middle;\n",
       "    }\n",
       "\n",
       "    .dataframe tbody tr th {\n",
       "        vertical-align: top;\n",
       "    }\n",
       "\n",
       "    .dataframe thead th {\n",
       "        text-align: right;\n",
       "    }\n",
       "</style>\n",
       "<table border=\"1\" class=\"dataframe\">\n",
       "  <thead>\n",
       "    <tr style=\"text-align: right;\">\n",
       "      <th></th>\n",
       "      <th>AT 2018</th>\n",
       "      <th>2019</th>\n",
       "    </tr>\n",
       "    <tr>\n",
       "      <th>NOMBRE</th>\n",
       "      <th></th>\n",
       "      <th></th>\n",
       "    </tr>\n",
       "  </thead>\n",
       "  <tbody>\n",
       "    <tr>\n",
       "      <td>Aguascalientes, Ags.</td>\n",
       "      <td>16.2</td>\n",
       "      <td>27.441935</td>\n",
       "    </tr>\n",
       "    <tr>\n",
       "      <td>Cincuenta Aniversario, Ags.</td>\n",
       "      <td>15.0</td>\n",
       "      <td>13.462069</td>\n",
       "    </tr>\n",
       "    <tr>\n",
       "      <td>Calvillo, Ags. SMN*</td>\n",
       "      <td>16.7</td>\n",
       "      <td>28.088710</td>\n",
       "    </tr>\n",
       "    <tr>\n",
       "      <td>La Codorniz, Ags.</td>\n",
       "      <td>12.3</td>\n",
       "      <td>23.374074</td>\n",
       "    </tr>\n",
       "    <tr>\n",
       "      <td>Cañada Honda, Ags.</td>\n",
       "      <td>21.2</td>\n",
       "      <td>17.987097</td>\n",
       "    </tr>\n",
       "    <tr>\n",
       "      <td>Calvillito, Ags.</td>\n",
       "      <td>15.0</td>\n",
       "      <td>14.730357</td>\n",
       "    </tr>\n",
       "    <tr>\n",
       "      <td>Los Conos, Ags.</td>\n",
       "      <td>27.2</td>\n",
       "      <td>16.614000</td>\n",
       "    </tr>\n",
       "    <tr>\n",
       "      <td>Cosio, Ags.</td>\n",
       "      <td>25.4</td>\n",
       "      <td>15.850000</td>\n",
       "    </tr>\n",
       "    <tr>\n",
       "      <td>Media Luna, Ags.</td>\n",
       "      <td>12.8</td>\n",
       "      <td>24.151613</td>\n",
       "    </tr>\n",
       "    <tr>\n",
       "      <td>El Niagara, Ags.</td>\n",
       "      <td>12.8</td>\n",
       "      <td>11.682258</td>\n",
       "    </tr>\n",
       "    <tr>\n",
       "      <td>Observatorio, Ags.</td>\n",
       "      <td>14.8</td>\n",
       "      <td>16.250000</td>\n",
       "    </tr>\n",
       "    <tr>\n",
       "      <td>Presa 50 Aniversario, Ags. SMN*</td>\n",
       "      <td>13.3</td>\n",
       "      <td>23.260000</td>\n",
       "    </tr>\n",
       "    <tr>\n",
       "      <td>Palo Alto, Ags.</td>\n",
       "      <td>20.0</td>\n",
       "      <td>17.741935</td>\n",
       "    </tr>\n",
       "    <tr>\n",
       "      <td>Pabellón, Ags.</td>\n",
       "      <td>20.1</td>\n",
       "      <td>18.038889</td>\n",
       "    </tr>\n",
       "    <tr>\n",
       "      <td>Calles, Ags.</td>\n",
       "      <td>21.3</td>\n",
       "      <td>14.440323</td>\n",
       "    </tr>\n",
       "  </tbody>\n",
       "</table>\n",
       "</div>\n",
       "    </div>\n",
       "<div style=\"float: left; padding: 10px;\">\n",
       "    <p style='font-family:\"Courier New\", Courier, monospace'>pd.merge(rainDf, avgTempDf, on='2019')</p><div>\n",
       "<style scoped>\n",
       "    .dataframe tbody tr th:only-of-type {\n",
       "        vertical-align: middle;\n",
       "    }\n",
       "\n",
       "    .dataframe tbody tr th {\n",
       "        vertical-align: top;\n",
       "    }\n",
       "\n",
       "    .dataframe thead th {\n",
       "        text-align: right;\n",
       "    }\n",
       "</style>\n",
       "<table border=\"1\" class=\"dataframe\">\n",
       "  <thead>\n",
       "    <tr style=\"text-align: right;\">\n",
       "      <th></th>\n",
       "      <th>LL 2018</th>\n",
       "      <th>2019</th>\n",
       "      <th>AT 2018</th>\n",
       "    </tr>\n",
       "  </thead>\n",
       "  <tbody>\n",
       "  </tbody>\n",
       "</table>\n",
       "</div>\n",
       "    </div>"
      ],
      "text/plain": [
       "rainDf\n",
       "                                 LL 2018   2019\n",
       "NOMBRE                                         \n",
       "Aguascalientes, Ags.                25.8   6.61\n",
       "Cincuenta Aniversario, Ags.         58.6  10.60\n",
       "Calvillo, Ags. SMN*                 56.0  10.50\n",
       "La Codorniz, Ags.                   50.0  18.17\n",
       "Cañada Honda, Ags.                  17.2  16.70\n",
       "Calvillito, Ags.                    13.5  17.30\n",
       "Los Conos, Ags.                     51.5   9.20\n",
       "Cosio, Ags.                         35.5  13.20\n",
       "Media Luna, Ags.                    48.9   7.20\n",
       "El Niagara, Ags.                    25.4   6.30\n",
       "Observatorio, Ags.                  20.9  24.30\n",
       "Presa 50 Aniversario, Ags. SMN*     57.2   5.51\n",
       "Palo Alto, Ags.                     19.0  15.50\n",
       "Pabellón, Ags.                      22.0   8.71\n",
       "Calles, Ags.                        50.0  10.40\n",
       "\n",
       "avgTempDf\n",
       "                                 AT 2018       2019\n",
       "NOMBRE                                             \n",
       "Aguascalientes, Ags.                16.2  27.441935\n",
       "Cincuenta Aniversario, Ags.         15.0  13.462069\n",
       "Calvillo, Ags. SMN*                 16.7  28.088710\n",
       "La Codorniz, Ags.                   12.3  23.374074\n",
       "Cañada Honda, Ags.                  21.2  17.987097\n",
       "Calvillito, Ags.                    15.0  14.730357\n",
       "Los Conos, Ags.                     27.2  16.614000\n",
       "Cosio, Ags.                         25.4  15.850000\n",
       "Media Luna, Ags.                    12.8  24.151613\n",
       "El Niagara, Ags.                    12.8  11.682258\n",
       "Observatorio, Ags.                  14.8  16.250000\n",
       "Presa 50 Aniversario, Ags. SMN*     13.3  23.260000\n",
       "Palo Alto, Ags.                     20.0  17.741935\n",
       "Pabellón, Ags.                      20.1  18.038889\n",
       "Calles, Ags.                        21.3  14.440323\n",
       "\n",
       "pd.merge(rainDf, avgTempDf, on='2019')\n",
       "Empty DataFrame\n",
       "Columns: [LL 2018, 2019, AT 2018]\n",
       "Index: []"
      ]
     },
     "execution_count": 48,
     "metadata": {},
     "output_type": "execute_result"
    }
   ],
   "source": [
    "display('rainDf', 'avgTempDf', \"pd.merge(rainDf, avgTempDf, on='2019')\")"
   ]
  }
 ],
 "metadata": {
  "kernelspec": {
   "display_name": "Python 3",
   "language": "python",
   "name": "python3"
  },
  "language_info": {
   "codemirror_mode": {
    "name": "ipython",
    "version": 3
   },
   "file_extension": ".py",
   "mimetype": "text/x-python",
   "name": "python",
   "nbconvert_exporter": "python",
   "pygments_lexer": "ipython3",
   "version": "3.7.4"
  }
 },
 "nbformat": 4,
 "nbformat_minor": 2
}
